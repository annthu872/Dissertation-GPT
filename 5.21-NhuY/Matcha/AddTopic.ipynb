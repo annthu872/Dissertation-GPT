{
 "cells": [
  {
   "cell_type": "code",
   "execution_count": 6,
   "metadata": {},
   "outputs": [],
   "source": [
    "from openai import OpenAI\n",
    "import json\n",
    "import os\n",
    "\n",
    "GPT_MODEL_4 = \"gpt-4-0125-preview\"\n",
    "OPEN_API_KEY = os.getenv(\"OPENAI_API_KEY\")\n",
    "\n",
    "client = OpenAI()\n",
    "model = GPT_MODEL_4\n",
    "\n",
    "def ask(prompt, client, model, temperature = 0):\n",
    "    response = None\n",
    "    \n",
    "    response = client.chat.completions.create(\n",
    "      model=model,\n",
    "      messages=prompt,\n",
    "      temperature=temperature,\n",
    "      response_format={ \"type\": \"json_object\" },\n",
    "    )\n",
    "\n",
    "    return response.choices[0].message.content"
   ]
  },
  {
   "cell_type": "code",
   "execution_count": 7,
   "metadata": {},
   "outputs": [],
   "source": [
    "SYSTEM_PROMPT_8=\"\"\"\n",
    "I want you to act as a software tester.\n",
    "Your task is to read the test scenario's name and the corresponding use case specification to base on those information for generateing test steps for test cases and their following expected result.\n",
    "Return the test cases in json format.\n",
    "The JSON format should follow the following structure:\n",
    "{\n",
    "  \"Test Case 1\":[\n",
    "    \"testCaseName\": \"Clear name of the test case so tester know what to test when they first read\",\n",
    "    \"objective\": \"Verify who doing what action or function in the test case and the summary of the final result of the test case\",\n",
    "    \"testSteps\": [\n",
    "      \"Step 1: Describe the step.\",\n",
    "      \"Step 2: Describe the step.\",\n",
    "      \"Step 3: Describe the step.\"\n",
    "    ],\n",
    "    \"expectedResult\": \"You inform the tester what should they see after doing all the steps\",\n",
    "    \"explanation\": \"Why do you create this test case? How does this test case related to the test scenario inputed?\",\n",
    "  ],\n",
    "}\n",
    "If there are more than one test case for this scenario, continue writing other test case in this form.\n",
    "\n",
    "Rules for generating test steps:\n",
    "- Describe the test step clearly to make sure each test case is independent, tester do not need to read other information (example: other test case, use case specification) to know how to do that step.\n",
    "- Avoid references to other test cases or instructions like \"do as mentioned.\"\n",
    "- If the test case need to be repeated to test with different order, data or case, seperate them to be distinct test cases.\n",
    "- If the scenario is about testing the displation and there is no flow directly cover that scenario, use only the basic (or main) flow to test it.\n",
    "- If there are use cases mentioned in extended or included use case, create test case combine use cases, Try to find the connection point of use cases for combination. \n",
    "- For test scenarios mentioning navigation in the name, only produce test cases related to the specified navigation method. \n",
    "(Example: \"Scenario: User navigates to a page by navbar\", only produce a test case of user navigates to that page by navbar even though the use case description has many way to navigate to that page)\n",
    "- For test scenarios not mentioning navigation in the name, do not include any navigation test cases.\n",
    "- Generate test cases that directly match the scenario name. Choose only one flow to cover the scenario.\n",
    "- Ensure all actions and objectives match the scenario name.\n",
    "\"\"\""
   ]
  },
  {
   "cell_type": "code",
   "execution_count": 8,
   "metadata": {},
   "outputs": [],
   "source": [
    "prompt=\"\"\"\n",
    "Scenario: Successful Topic Creation\n",
    "\n",
    "use case id: U17\n",
    "use case name: adding new topic\n",
    "objective: This use case allows administrator to add a new english learning topic.\n",
    "actor: administrator\n",
    "\n",
    "basic flow:\n",
    "step 1: Administrator selects \"Add new topic\" tab on the navigation bar.\n",
    "step 2: The system redirects Administrator to the adding topic viewing page.\n",
    "step 3: Administrator adds the name of the topic in the name field.\n",
    "step 4: Administrator adds the description of the topic in the description field.\n",
    "step 5: Administrator selects \"Save\" to create a new topic.\n",
    "\n",
    "Alternative flow: Administrator adds an already used name for the topic.\n",
    "At step 3 of the basic flow: Administrator adds a name that is already used in the existed topics in the name field.\n",
    "step 4: Administrator adds the description of the topic in the description field.\n",
    "step 5: Administrator selects \"Save\" to create a new topic.\n",
    "step 6: The system shows notification that the name is already used, prompting Administrator to add another name in the name field.\n",
    "step 7: Administrator adds a new name in the name field.\n",
    "step 8: Administrator selects \"Save\" to create a new topic.\n",
    "\n",
    "Exception flow:\n",
    "At step 3 of the basic flow: Administrator can select \"Cancel\" to stop adding a new topic at anytime.\n",
    "\n",
    "Preconditions:\n",
    "Administrator must be logged into the application.\n",
    "Administrator is allowed to add new topic. \n",
    "\n",
    "Postconditions:\n",
    "After successfully adding new topic, the system will redirect Administrator to the adding vocabulary to new topic section.\n",
    "New topic will appear in the topic list.\n",
    "\"\"\""
   ]
  },
  {
   "cell_type": "code",
   "execution_count": 9,
   "metadata": {},
   "outputs": [
    {
     "name": "stdout",
     "output_type": "stream",
     "text": [
      "{\n",
      "  \"Test Case 1\": {\n",
      "    \"testCaseName\": \"Successful New Topic Creation\",\n",
      "    \"objective\": \"Verify that an administrator can successfully add a new English learning topic.\",\n",
      "    \"testSteps\": [\n",
      "      \"Step 1: Log in as an administrator.\",\n",
      "      \"Step 2: Select the 'Add new topic' tab on the navigation bar.\",\n",
      "      \"Step 3: Enter a unique name for the topic in the name field.\",\n",
      "      \"Step 4: Enter a description for the topic in the description field.\",\n",
      "      \"Step 5: Select 'Save' to create the new topic.\"\n",
      "    ],\n",
      "    \"expectedResult\": \"The system redirects the administrator to the adding vocabulary to new topic section, and the new topic appears in the topic list.\",\n",
      "    \"explanation\": \"This test case ensures that the basic flow of adding a new topic by an administrator is functioning as expected, aligning with the use case objective.\"\n",
      "  },\n",
      "  \"Test Case 2\": {\n",
      "    \"testCaseName\": \"Attempt to Add Topic with Duplicate Name\",\n",
      "    \"objective\": \"Verify that the system prevents the creation of a new topic with a name that is already used.\",\n",
      "    \"testSteps\": [\n",
      "      \"Step 1: Log in as an administrator.\",\n",
      "      \"Step 2: Select the 'Add new topic' tab on the navigation bar.\",\n",
      "      \"Step 3: Enter a name for the topic that is already used in the existing topics.\",\n",
      "      \"Step 4: Enter a description for the topic in the description field.\",\n",
      "      \"Step 5: Select 'Save' to attempt to create the new topic.\",\n",
      "      \"Step 6: Observe the notification and enter a new, unique name in the name field.\",\n",
      "      \"Step 7: Select 'Save' again to create the topic.\"\n",
      "    ],\n",
      "    \"expectedResult\": \"The system shows a notification that the name is already used and prompts for a new name. After entering a new name, the topic is successfully created.\",\n",
      "    \"explanation\": \"This test case verifies the alternative flow where an administrator attempts to add a new topic with a duplicate name and ensures the system handles it correctly.\"\n",
      "  },\n",
      "  \"Test Case 3\": {\n",
      "    \"testCaseName\": \"Cancel Topic Creation\",\n",
      "    \"objective\": \"Verify that an administrator can cancel the creation of a new topic at any point before saving.\",\n",
      "    \"testSteps\": [\n",
      "      \"Step 1: Log in as an administrator.\",\n",
      "      \"Step 2: Select the 'Add new topic' tab on the navigation bar.\",\n",
      "      \"Step 3: Begin to enter details for the new topic.\",\n",
      "      \"Step 4: Select 'Cancel' to stop adding the new topic.\"\n",
      "    ],\n",
      "    \"expectedResult\": \"The action of adding a new topic is cancelled, and no new topic is added to the system.\",\n",
      "    \"explanation\": \"This test case checks the exception flow, ensuring that administrators can cancel the process of adding a new topic at any time before it is finalized.\"\n",
      "  }\n",
      "}\n"
     ]
    }
   ],
   "source": [
    "promptTestCase = [\n",
    "    { \"role\": \"system\", \"content\": SYSTEM_PROMPT_8},\n",
    "    { \"role\": \"user\", \"content\": prompt}\n",
    "  ]\n",
    "gpt_response = ask(promptTestCase, client, model)\n",
    "print(gpt_response)"
   ]
  },
  {
   "cell_type": "code",
   "execution_count": 10,
   "metadata": {},
   "outputs": [
    {
     "name": "stdout",
     "output_type": "stream",
     "text": [
      "{\n",
      "  \"Test Case 1\": {\n",
      "    \"testCaseName\": \"Successful New Topic Creation\",\n",
      "    \"objective\": \"Verify that an administrator can successfully add a new English learning topic.\",\n",
      "    \"testSteps\": [\n",
      "      \"Step 1: Log in as an administrator.\",\n",
      "      \"Step 2: Select the 'Add new topic' tab on the navigation bar.\",\n",
      "      \"Step 3: Enter a unique name for the topic in the name field.\",\n",
      "      \"Step 4: Enter a description for the topic in the description field.\",\n",
      "      \"Step 5: Select 'Save' to create the new topic.\"\n",
      "    ],\n",
      "    \"expectedResult\": \"The system redirects the administrator to the adding vocabulary to new topic section, and the new topic appears in the topic list.\",\n",
      "    \"explanation\": \"This test case ensures that the basic flow of adding a new topic by an administrator is functioning as expected, directly matching the scenario name.\"\n",
      "  },\n",
      "  \"Test Case 2\": {\n",
      "    \"testCaseName\": \"Attempt to Add Topic with Duplicate Name\",\n",
      "    \"objective\": \"Verify that the system prevents the creation of a new topic with a name that is already used.\",\n",
      "    \"testSteps\": [\n",
      "      \"Step 1: Log in as an administrator.\",\n",
      "      \"Step 2: Select the 'Add new topic' tab on the navigation bar.\",\n",
      "      \"Step 3: Enter a name for the topic that is already used in the existing topics.\",\n",
      "      \"Step 4: Enter a description for the topic in the description field.\",\n",
      "      \"Step 5: Select 'Save' to attempt to create the new topic.\",\n",
      "      \"Step 6: Observe the notification and enter a new, unique name in the name field.\",\n",
      "      \"Step 7: Select 'Save' again to create the topic.\"\n",
      "    ],\n",
      "    \"expectedResult\": \"The system shows a notification that the name is already used and prompts for a new name. After entering a new name, the topic is successfully created.\",\n",
      "    \"explanation\": \"This test case validates the alternative flow where an administrator attempts to add a new topic with a duplicate name and ensures the system handles it correctly.\"\n",
      "  },\n",
      "  \"Test Case 3\": {\n",
      "    \"testCaseName\": \"Cancel Topic Creation\",\n",
      "    \"objective\": \"Verify that an administrator can cancel the process of adding a new topic at any time.\",\n",
      "    \"testSteps\": [\n",
      "      \"Step 1: Log in as an administrator.\",\n",
      "      \"Step 2: Select the 'Add new topic' tab on the navigation bar.\",\n",
      "      \"Step 3: Begin to enter details for the new topic.\",\n",
      "      \"Step 4: Select 'Cancel' to stop adding the new topic.\"\n",
      "    ],\n",
      "    \"expectedResult\": \"The process of adding a new topic is cancelled, and no new topic is added to the system.\",\n",
      "    \"explanation\": \"This test case checks the exception flow, ensuring that administrators can cancel the process of adding a new topic at any point.\"\n",
      "  }\n",
      "}\n"
     ]
    }
   ],
   "source": [
    "promptTestCase = [\n",
    "    { \"role\": \"system\", \"content\": SYSTEM_PROMPT_8},\n",
    "    { \"role\": \"user\", \"content\": prompt}\n",
    "  ]\n",
    "gpt_response = ask(promptTestCase, client, model)\n",
    "print(gpt_response)"
   ]
  },
  {
   "cell_type": "code",
   "execution_count": 11,
   "metadata": {},
   "outputs": [
    {
     "name": "stdout",
     "output_type": "stream",
     "text": [
      "{\n",
      "  \"Test Case 1\": {\n",
      "    \"testCaseName\": \"Successful Topic Creation\",\n",
      "    \"objective\": \"Verify that the administrator can successfully add a new English learning topic.\",\n",
      "    \"testSteps\": [\n",
      "      \"Step 1: Log in as an administrator.\",\n",
      "      \"Step 2: Select the 'Add new topic' tab on the navigation bar.\",\n",
      "      \"Step 3: Enter a unique name for the topic in the name field.\",\n",
      "      \"Step 4: Enter a description for the topic in the description field.\",\n",
      "      \"Step 5: Select 'Save' to create the new topic.\"\n",
      "    ],\n",
      "    \"expectedResult\": \"The system should redirect the administrator to the adding vocabulary to new topic section, and the new topic should appear in the topic list.\",\n",
      "    \"explanation\": \"This test case ensures that the basic flow of adding a new topic by an administrator is functioning as expected, directly matching the scenario name.\"\n",
      "  },\n",
      "  \"Test Case 2\": {\n",
      "    \"testCaseName\": \"Attempt to Add Topic with Duplicate Name\",\n",
      "    \"objective\": \"Verify that the system prevents the creation of a new topic with a name that is already used.\",\n",
      "    \"testSteps\": [\n",
      "      \"Step 1: Log in as an administrator.\",\n",
      "      \"Step 2: Select the 'Add new topic' tab on the navigation bar.\",\n",
      "      \"Step 3: Enter a name for the topic that is already used in the existing topics.\",\n",
      "      \"Step 4: Enter a description for the topic in the description field.\",\n",
      "      \"Step 5: Select 'Save' to attempt to create the new topic.\",\n",
      "      \"Step 6: Observe the notification and enter a new, unique name in the name field.\",\n",
      "      \"Step 7: Select 'Save' again to create the topic.\"\n",
      "    ],\n",
      "    \"expectedResult\": \"The system should display a notification that the name is already used and prompt the administrator to add another name. After entering a new name, the topic should be successfully created.\",\n",
      "    \"explanation\": \"This test case verifies the alternative flow where an administrator attempts to add a new topic with a duplicate name and ensures the system handles it appropriately.\"\n",
      "  },\n",
      "  \"Test Case 3\": {\n",
      "    \"testCaseName\": \"Cancel Topic Creation\",\n",
      "    \"objective\": \"Verify that the administrator can cancel the process of adding a new topic at any time.\",\n",
      "    \"testSteps\": [\n",
      "      \"Step 1: Log in as an administrator.\",\n",
      "      \"Step 2: Select the 'Add new topic' tab on the navigation bar.\",\n",
      "      \"Step 3: Begin to enter a name and description for the new topic.\",\n",
      "      \"Step 4: Select 'Cancel' to stop the process of adding a new topic.\"\n",
      "    ],\n",
      "    \"expectedResult\": \"The system should cancel the topic creation process and not add any new topic to the topic list.\",\n",
      "    \"explanation\": \"This test case checks the exception flow, ensuring that administrators have the option to cancel the topic creation process at any point.\"\n",
      "  }\n",
      "}\n"
     ]
    }
   ],
   "source": [
    "promptTestCase = [\n",
    "    { \"role\": \"system\", \"content\": SYSTEM_PROMPT_8},\n",
    "    { \"role\": \"user\", \"content\": prompt}\n",
    "  ]\n",
    "gpt_response = ask(promptTestCase, client, model)\n",
    "print(gpt_response)"
   ]
  },
  {
   "cell_type": "code",
   "execution_count": 12,
   "metadata": {},
   "outputs": [],
   "source": [
    "prompt=\"\"\"\n",
    "Scenario: Topic Creation with Missing Name\n",
    "\n",
    "use case id: U17\n",
    "use case name: adding new topic\n",
    "objective: This use case allows administrator to add a new english learning topic.\n",
    "actor: administrator\n",
    "\n",
    "basic flow:\n",
    "step 1: Administrator selects \"Add new topic\" tab on the navigation bar.\n",
    "step 2: The system redirects Administrator to the adding topic viewing page.\n",
    "step 3: Administrator adds the name of the topic in the name field.\n",
    "step 4: Administrator adds the description of the topic in the description field.\n",
    "step 5: Administrator selects \"Save\" to create a new topic.\n",
    "\n",
    "Alternative flow: Administrator adds an already used name for the topic.\n",
    "At step 3 of the basic flow: Administrator adds a name that is already used in the existed topics in the name field.\n",
    "step 4: Administrator adds the description of the topic in the description field.\n",
    "step 5: Administrator selects \"Save\" to create a new topic.\n",
    "step 6: The system shows notification that the name is already used, prompting Administrator to add another name in the name field.\n",
    "step 7: Administrator adds a new name in the name field.\n",
    "step 8: Administrator selects \"Save\" to create a new topic.\n",
    "\n",
    "Exception flow:\n",
    "At step 3 of the basic flow: Administrator can select \"Cancel\" to stop adding a new topic at anytime.\n",
    "\n",
    "Preconditions:\n",
    "Administrator must be logged into the application.\n",
    "Administrator is allowed to add new topic. \n",
    "\n",
    "Postconditions:\n",
    "After successfully adding new topic, the system will redirect Administrator to the adding vocabulary to new topic section.\n",
    "New topic will appear in the topic list.\n",
    "\"\"\""
   ]
  },
  {
   "cell_type": "code",
   "execution_count": 13,
   "metadata": {},
   "outputs": [
    {
     "name": "stdout",
     "output_type": "stream",
     "text": [
      "{\n",
      "  \"Test Case 1\": {\n",
      "    \"testCaseName\": \"Topic Creation with Missing Name\",\n",
      "    \"objective\": \"Verify that the system prevents the creation of a new topic without a name and prompts for a name to be entered\",\n",
      "    \"testSteps\": [\n",
      "      \"Step 1: Log in as an administrator.\",\n",
      "      \"Step 2: Select the 'Add new topic' tab on the navigation bar.\",\n",
      "      \"Step 3: Leave the name field empty.\",\n",
      "      \"Step 4: Add a description for the topic in the description field.\",\n",
      "      \"Step 5: Select 'Save' to attempt creating a new topic.\"\n",
      "    ],\n",
      "    \"expectedResult\": \"The system should display an error message or notification indicating that the name field is required and prevent the creation of the topic until a name is entered.\",\n",
      "    \"explanation\": \"This test case is designed to ensure that the system enforces the requirement for a topic name during the creation process, preventing the addition of unnamed topics. It directly addresses the scenario of attempting topic creation with a missing name by following the basic flow but intentionally omitting the name to trigger the expected validation.\"\n",
      "  }\n",
      "}\n"
     ]
    }
   ],
   "source": [
    "promptTestCase = [\n",
    "    { \"role\": \"system\", \"content\": SYSTEM_PROMPT_8},\n",
    "    { \"role\": \"user\", \"content\": prompt}\n",
    "  ]\n",
    "gpt_response = ask(promptTestCase, client, model)\n",
    "print(gpt_response)"
   ]
  },
  {
   "cell_type": "code",
   "execution_count": 14,
   "metadata": {},
   "outputs": [
    {
     "name": "stdout",
     "output_type": "stream",
     "text": [
      "{\n",
      "  \"Test Case 1\": {\n",
      "    \"testCaseName\": \"Topic Creation with Missing Name\",\n",
      "    \"objective\": \"Verify that the system prevents the creation of a new topic without a name and provides appropriate feedback to the administrator.\",\n",
      "    \"testSteps\": [\n",
      "      \"Step 1: Log in to the application as an administrator.\",\n",
      "      \"Step 2: Navigate to the 'Add new topic' tab on the navigation bar.\",\n",
      "      \"Step 3: Leave the name field empty.\",\n",
      "      \"Step 4: Fill in the description field with a valid description of the topic.\",\n",
      "      \"Step 5: Select 'Save' to attempt creating a new topic.\"\n",
      "    ],\n",
      "    \"expectedResult\": \"The system should display an error message or notification indicating that the name field is required and the topic cannot be created without a name.\",\n",
      "    \"explanation\": \"This test case is created to ensure that the system enforces the requirement for a topic name during the topic creation process, as per the scenario 'Topic Creation with Missing Name'. It directly tests the system's response to an attempt to create a topic without providing a name, which is a crucial part of the use case 'adding new topic'.\"\n",
      "  }\n",
      "}\n"
     ]
    }
   ],
   "source": [
    "promptTestCase = [\n",
    "    { \"role\": \"system\", \"content\": SYSTEM_PROMPT_8},\n",
    "    { \"role\": \"user\", \"content\": prompt}\n",
    "  ]\n",
    "gpt_response = ask(promptTestCase, client, model)\n",
    "print(gpt_response)"
   ]
  },
  {
   "cell_type": "code",
   "execution_count": 15,
   "metadata": {},
   "outputs": [
    {
     "name": "stdout",
     "output_type": "stream",
     "text": [
      "{\n",
      "  \"Test Case 1\": [\n",
      "    \"testCaseName\"   \t]\t\t,\n",
      "    \"objective\": \"Verify that the system prevents topic creation without a name and prompts for a name to be entered\",\n",
      "    \"testSteps\": [\n",
      "      \"Step 1: Log in as an administrator.\",\n",
      "      \"Step 2: Navigate to the 'Add new topic' tab on the navigation bar.\",\n",
      "      \"Step 3: Leave the name field empty.\",\n",
      "      \"Step 4: Fill in the description field with a valid description.\",\n",
      "      \"Step 5: Select 'Save' to attempt creating a new topic.\"\n",
      "    ],\n",
      "    \"expectedResult\": \"The system should display an error message indicating that the name field is required and prevent the creation of the topic without a name.\",\n",
      "    \"explanation\": \"This test case is designed to ensure that the system enforces the requirement for a topic name during the topic creation process, as per the scenario 'Topic Creation with Missing Name'. It directly tests the system's response to an attempt to create a topic without providing a name, which is a critical validation step in the use case.\"\n",
      "  }\n",
      "  \n",
      " \n"
     ]
    }
   ],
   "source": [
    "promptTestCase = [\n",
    "    { \"role\": \"system\", \"content\": SYSTEM_PROMPT_8},\n",
    "    { \"role\": \"user\", \"content\": prompt}\n",
    "  ]\n",
    "gpt_response = ask(promptTestCase, client, model)\n",
    "print(gpt_response)"
   ]
  },
  {
   "cell_type": "code",
   "execution_count": 16,
   "metadata": {},
   "outputs": [],
   "source": [
    "prompt=\"\"\"\n",
    "Scenario: Topic Creation with Missing Description\n",
    "\n",
    "use case id: U17\n",
    "use case name: adding new topic\n",
    "objective: This use case allows administrator to add a new english learning topic.\n",
    "actor: administrator\n",
    "\n",
    "basic flow:\n",
    "step 1: Administrator selects \"Add new topic\" tab on the navigation bar.\n",
    "step 2: The system redirects Administrator to the adding topic viewing page.\n",
    "step 3: Administrator adds the name of the topic in the name field.\n",
    "step 4: Administrator adds the description of the topic in the description field.\n",
    "step 5: Administrator selects \"Save\" to create a new topic.\n",
    "\n",
    "Alternative flow: Administrator adds an already used name for the topic.\n",
    "At step 3 of the basic flow: Administrator adds a name that is already used in the existed topics in the name field.\n",
    "step 4: Administrator adds the description of the topic in the description field.\n",
    "step 5: Administrator selects \"Save\" to create a new topic.\n",
    "step 6: The system shows notification that the name is already used, prompting Administrator to add another name in the name field.\n",
    "step 7: Administrator adds a new name in the name field.\n",
    "step 8: Administrator selects \"Save\" to create a new topic.\n",
    "\n",
    "Exception flow:\n",
    "At step 3 of the basic flow: Administrator can select \"Cancel\" to stop adding a new topic at anytime.\n",
    "\n",
    "Preconditions:\n",
    "Administrator must be logged into the application.\n",
    "Administrator is allowed to add new topic. \n",
    "\n",
    "Postconditions:\n",
    "After successfully adding new topic, the system will redirect Administrator to the adding vocabulary to new topic section.\n",
    "New topic will appear in the topic list.\n",
    "\"\"\""
   ]
  },
  {
   "cell_type": "code",
   "execution_count": 17,
   "metadata": {},
   "outputs": [
    {
     "name": "stdout",
     "output_type": "stream",
     "text": [
      "{\n",
      "  \"Test Case 1\": {\n",
      "    \"testCaseName\": \"Topic Creation with Missing Description\",\n",
      "    \"objective\": \"Verify that the system prevents the creation of a new topic when the description field is left empty by the administrator.\",\n",
      "    \"testSteps\": [\n",
      "      \"Step 1: Log in to the application as an administrator.\",\n",
      "      \"Step 2: Navigate to the 'Add new topic' tab on the navigation bar.\",\n",
      "      \"Step 3: Enter a unique name for the topic in the name field.\",\n",
      "      \"Step 4: Leave the description field empty.\",\n",
      "      \"Step 5: Click on 'Save' to attempt creating a new topic.\"\n",
      "    ],\n",
      "    \"expectedResult\": \"The system should display an error message indicating that the description field cannot be left empty and the topic should not be created.\",\n",
      "    \"explanation\": \"This test case is designed to ensure that the system enforces the requirement for a description when creating a new topic, which is a deviation from the basic flow where both name and description are provided.\"\n",
      "  }\n",
      "}\n"
     ]
    }
   ],
   "source": [
    "promptTestCase = [\n",
    "    { \"role\": \"system\", \"content\": SYSTEM_PROMPT_8},\n",
    "    { \"role\": \"user\", \"content\": prompt}\n",
    "  ]\n",
    "gpt_response = ask(promptTestCase, client, model)\n",
    "print(gpt_response)"
   ]
  },
  {
   "cell_type": "code",
   "execution_count": 18,
   "metadata": {},
   "outputs": [
    {
     "name": "stdout",
     "output_type": "stream",
     "text": [
      "{\n",
      "  \"Test Case 1\": {\n",
      "    \"testCaseName\": \"Topic Creation with Missing Description\",\n",
      "    \"objective\": \"Verify that the system prevents the creation of a new topic without a description\",\n",
      "    \"testSteps\": [\n",
      "      \"Step 1: Log in as an administrator.\",\n",
      "      \"Step 2: Navigate to the 'Add new topic' tab on the navigation bar.\",\n",
      "      \"Step 3: Enter a unique name for the topic in the name field.\",\n",
      "      \"Step 4: Leave the description field empty.\",\n",
      "      \"Step 5: Click on 'Save' to attempt creating a new topic.\"\n",
      "    ],\n",
      "    \"expectedResult\": \"The system should display an error message indicating that the description field cannot be empty and the topic should not be created.\",\n",
      "    \"explanation\": \"This test case is created to ensure that the system enforces the requirement for a description when creating a new topic, which is directly related to the scenario of topic creation with missing description.\"\n",
      "  }\n",
      "}\n"
     ]
    }
   ],
   "source": [
    "promptTestCase = [\n",
    "    { \"role\": \"system\", \"content\": SYSTEM_PROMPT_8},\n",
    "    { \"role\": \"user\", \"content\": prompt}\n",
    "  ]\n",
    "gpt_response = ask(promptTestCase, client, model)\n",
    "print(gpt_response)"
   ]
  },
  {
   "cell_type": "code",
   "execution_count": 19,
   "metadata": {},
   "outputs": [
    {
     "name": "stdout",
     "output_type": "stream",
     "text": [
      "{\n",
      "  \"Test Case 1\": {\n",
      "    \"testCaseName\": \"Topic Creation with Missing Description\",\n",
      "    \"objective\": \"Verify that the system prevents the creation of a new topic without a description\",\n",
      "    \"testSteps\": [\n",
      "      \"Step 1: Log in as an administrator.\",\n",
      "      \"Step 2: Navigate to the 'Add new topic' tab on the navigation bar.\",\n",
      "      \"Step 3: Enter a unique name for the topic in the name field.\",\n",
      "      \"Step 4: Leave the description field empty.\",\n",
      "      \"Step 5: Select 'Save' to attempt creating a new topic.\"\n",
      "    ],\n",
      "    \"expectedResult\": \"The system should display an error message indicating that the description field cannot be empty and the topic should not be created.\",\n",
      "    \"explanation\": \"This test case is designed to ensure that the system enforces the requirement for a description when creating a new topic, which is a deviation from the basic flow where both name and description are provided.\"\n",
      "  }\n",
      "}\n"
     ]
    }
   ],
   "source": [
    "promptTestCase = [\n",
    "    { \"role\": \"system\", \"content\": SYSTEM_PROMPT_8},\n",
    "    { \"role\": \"user\", \"content\": prompt}\n",
    "  ]\n",
    "gpt_response = ask(promptTestCase, client, model)\n",
    "print(gpt_response)"
   ]
  },
  {
   "cell_type": "code",
   "execution_count": 20,
   "metadata": {},
   "outputs": [],
   "source": [
    "prompt=\"\"\"\n",
    "Scenario: Topic Creation with Duplicate Name\n",
    "\n",
    "use case id: U17\n",
    "use case name: adding new topic\n",
    "objective: This use case allows administrator to add a new english learning topic.\n",
    "actor: administrator\n",
    "\n",
    "basic flow:\n",
    "step 1: Administrator selects \"Add new topic\" tab on the navigation bar.\n",
    "step 2: The system redirects Administrator to the adding topic viewing page.\n",
    "step 3: Administrator adds the name of the topic in the name field.\n",
    "step 4: Administrator adds the description of the topic in the description field.\n",
    "step 5: Administrator selects \"Save\" to create a new topic.\n",
    "\n",
    "Alternative flow: Administrator adds an already used name for the topic.\n",
    "At step 3 of the basic flow: Administrator adds a name that is already used in the existed topics in the name field.\n",
    "step 4: Administrator adds the description of the topic in the description field.\n",
    "step 5: Administrator selects \"Save\" to create a new topic.\n",
    "step 6: The system shows notification that the name is already used, prompting Administrator to add another name in the name field.\n",
    "step 7: Administrator adds a new name in the name field.\n",
    "step 8: Administrator selects \"Save\" to create a new topic.\n",
    "\n",
    "Exception flow:\n",
    "At step 3 of the basic flow: Administrator can select \"Cancel\" to stop adding a new topic at anytime.\n",
    "\n",
    "Preconditions:\n",
    "Administrator must be logged into the application.\n",
    "Administrator is allowed to add new topic. \n",
    "\n",
    "Postconditions:\n",
    "After successfully adding new topic, the system will redirect Administrator to the adding vocabulary to new topic section.\n",
    "New topic will appear in the topic list.\n",
    "\"\"\""
   ]
  },
  {
   "cell_type": "code",
   "execution_count": 21,
   "metadata": {},
   "outputs": [
    {
     "name": "stdout",
     "output_type": "stream",
     "text": [
      "{\n",
      "  \"Test Case 1\": {\n",
      "    \"testCaseName\": \"Verify Topic Creation with Unique Name\",\n",
      "    \"objective\": \"Ensure that the administrator can successfully add a new topic with a unique name and navigate to the adding vocabulary section.\",\n",
      "    \"testSteps\": [\n",
      "      \"Step 1: Log in as an administrator.\",\n",
      "      \"Step 2: Select the 'Add new topic' tab on the navigation bar.\",\n",
      "      \"Step 3: Enter a unique name in the name field.\",\n",
      "      \"Step 4: Enter a description for the topic in the description field.\",\n",
      "      \"Step 5: Select 'Save' to create the new topic.\"\n",
      "    ],\n",
      "    \"expectedResult\": \"The system should redirect the administrator to the adding vocabulary to new topic section, and the new topic should appear in the topic list.\",\n",
      "    \"explanation\": \"This test case verifies that the basic flow of adding a new topic works as expected when a unique name is provided.\"\n",
      "  },\n",
      "  \"Test Case 2\": {\n",
      "    \"testCaseName\": \"Verify Topic Creation with Duplicate Name\",\n",
      "    \"objective\": \"Ensure that the system prevents the creation of a new topic with a name that is already used and prompts the administrator to use a different name.\",\n",
      "    \"testSteps\": [\n",
      "      \"Step 1: Log in as an administrator.\",\n",
      "      \"Step 2: Select the 'Add new topic' tab on the navigation bar.\",\n",
      "      \"Step 3: Enter a name that is already used by an existing topic in the name field.\",\n",
      "      \"Step 4: Enter a description for the topic in the description field.\",\n",
      "      \"Step 5: Select 'Save' to attempt to create the new topic.\",\n",
      "      \"Step 6: Observe the notification about the name being already used.\",\n",
      "      \"Step 7: Enter a new, unique name in the name field.\",\n",
      "      \"Step 8: Select 'Save' again to create the topic.\"\n",
      "    ],\n",
      "    \"expectedResult\": \"The system should display a notification about the duplicate name and prompt for a new name. After entering a new name, the topic should be successfully created, and the administrator should be redirected to the adding vocabulary section. The new topic should appear in the topic list.\",\n",
      "    \"explanation\": \"This test case ensures that the alternative flow is handled correctly, preventing duplicate topic names and guiding the administrator to correct the issue.\"\n",
      "  }\n",
      "}\n"
     ]
    }
   ],
   "source": [
    "promptTestCase = [\n",
    "    { \"role\": \"system\", \"content\": SYSTEM_PROMPT_8},\n",
    "    { \"role\": \"user\", \"content\": prompt}\n",
    "  ]\n",
    "gpt_response = ask(promptTestCase, client, model)\n",
    "print(gpt_response)"
   ]
  },
  {
   "cell_type": "code",
   "execution_count": 22,
   "metadata": {},
   "outputs": [
    {
     "name": "stdout",
     "output_type": "stream",
     "text": [
      "{\n",
      "  \"Test Case 1\": {\n",
      "    \"testCaseName\": \"Verify Topic Creation with Unique Name\",\n",
      "    \"objective\": \"Ensure that the system allows the creation of a new topic with a unique name and redirects to the adding vocabulary section.\",\n",
      "    \"testSteps\": [\n",
      "      \"Step 1: Log in as an administrator.\",\n",
      "      \"Step 2: Select the 'Add new topic' tab on the navigation bar.\",\n",
      "      \"Step 3: Enter a unique name in the name field.\",\n",
      "      \"Step 4: Enter a description for the topic in the description field.\",\n",
      "      \"Step 5: Select 'Save' to create the new topic.\"\n",
      "    ],\n",
      "    \"expectedResult\": \"The system should successfully create the new topic and redirect the administrator to the adding vocabulary to new topic section. The new topic should appear in the topic list.\",\n",
      "    \"explanation\": \"This test case verifies that the system functions correctly when an administrator adds a new topic with a unique name, following the basic flow of the use case.\"\n",
      "  },\n",
      "  \"Test Case 2\": {\n",
      "    \"testCaseName\": \"Verify Topic Creation with Duplicate Name\",\n",
      "    \"objective\": \"Ensure that the system prevents the creation of a new topic with a name that is already used and prompts for a new name.\",\n",
      "    \"testSteps\": [\n",
      "      \"Step 1: Log in as an administrator.\",\n",
      "      \"Step 2: Select the 'Add new topic' tab on the navigation bar.\",\n",
      "      \"Step 3: Enter a name that is already used for an existing topic in the name field.\",\n",
      "      \"Step 4: Enter a description for the topic in the description field.\",\n",
      "      \"Step 5: Select 'Save' to attempt to create the new topic.\",\n",
      "      \"Step 6: Observe the notification about the name being already used.\",\n",
      "      \"Step 7: Enter a new, unique name in the name field.\",\n",
      "      \"Step 8: Select 'Save' again to create the topic.\"\n",
      "    ],\n",
      "    \"expectedResult\": \"The system should display a notification that the name is already used and prompt the administrator to enter a new name. After entering a new, unique name, the system should create the topic and redirect to the adding vocabulary section. The new topic should appear in the topic list.\",\n",
      "    \"explanation\": \"This test case ensures that the system handles duplicate topic names according to the alternative flow of the use case, by preventing the creation of a topic with a duplicate name and prompting for a new name.\"\n",
      "  }\n",
      "}\n"
     ]
    }
   ],
   "source": [
    "promptTestCase = [\n",
    "    { \"role\": \"system\", \"content\": SYSTEM_PROMPT_8},\n",
    "    { \"role\": \"user\", \"content\": prompt}\n",
    "  ]\n",
    "gpt_response = ask(promptTestCase, client, model)\n",
    "print(gpt_response)"
   ]
  },
  {
   "cell_type": "code",
   "execution_count": 23,
   "metadata": {},
   "outputs": [
    {
     "name": "stdout",
     "output_type": "stream",
     "text": [
      "{\n",
      "  \"Test Case 1\": {\n",
      "    \"testCaseName\": \"Verify Topic Creation with Unique Name\",\n",
      "    \"objective\": \"Ensure that an administrator can successfully add a new topic with a unique name and verify it appears in the topic list.\",\n",
      "    \"testSteps\": [\n",
      "      \"Step 1: Log in as an administrator.\",\n",
      "      \"Step 2: Select the 'Add new topic' tab on the navigation bar.\",\n",
      "      \"Step 3: Enter a unique name in the name field.\",\n",
      "      \"Step 4: Enter a description for the topic in the description field.\",\n",
      "      \"Step 5: Select 'Save' to create the new topic.\"\n",
      "    ],\n",
      "    \"expectedResult\": \"The system should redirect the administrator to the adding vocabulary to new topic section, and the new topic should appear in the topic list.\",\n",
      "    \"explanation\": \"This test case verifies the basic flow of adding a new topic with a unique name, ensuring the system behaves as expected when the topic name does not duplicate existing ones.\"\n",
      "  },\n",
      "  \"Test Case 2\": {\n",
      "    \"testCaseName\": \"Verify Topic Creation with Duplicate Name\",\n",
      "    \"objective\": \"To verify that the system prevents the creation of a new topic with a name that already exists and prompts the administrator for a new name.\",\n",
      "    \"testSteps\": [\n",
      "      \"Step 1: Log in as an administrator.\",\n",
      "      \"Step 2: Select the 'Add new topic' tab on the navigation bar.\",\n",
      "      \"Step 3: Enter a name that is already used by an existing topic in the name field.\",\n",
      "      \"Step 4: Enter a description for the topic in the description field.\",\n",
      "      \"Step 5: Select 'Save' to attempt to create the new topic.\",\n",
      "      \"Step 6: Observe the notification about the name being already used.\",\n",
      "      \"Step 7: Enter a new, unique name in the name field.\",\n",
      "      \"Step 8: Select 'Save' again to create the topic.\"\n",
      "    ],\n",
      "    \"expectedResult\": \"After attempting to save with a duplicate name, the system should show a notification that the name is already used. After entering a new name, the topic should be successfully created and appear in the topic list.\",\n",
      "    \"explanation\": \"This test case follows the alternative flow where an administrator attempts to add a new topic with a duplicate name, ensuring the system correctly handles duplicate names by prompting for a new one.\"\n",
      "  }\n",
      "}\n"
     ]
    }
   ],
   "source": [
    "promptTestCase = [\n",
    "    { \"role\": \"system\", \"content\": SYSTEM_PROMPT_8},\n",
    "    { \"role\": \"user\", \"content\": prompt}\n",
    "  ]\n",
    "gpt_response = ask(promptTestCase, client, model)\n",
    "print(gpt_response)"
   ]
  },
  {
   "cell_type": "code",
   "execution_count": 24,
   "metadata": {},
   "outputs": [],
   "source": [
    "prompt=\"\"\"\n",
    "Scenario: Administrator selects \"Cancel\" while adding the name of the topic.\n",
    "\n",
    "use case id: U17\n",
    "use case name: adding new topic\n",
    "objective: This use case allows administrator to add a new english learning topic.\n",
    "actor: administrator\n",
    "\n",
    "basic flow:\n",
    "step 1: Administrator selects \"Add new topic\" tab on the navigation bar.\n",
    "step 2: The system redirects Administrator to the adding topic viewing page.\n",
    "step 3: Administrator adds the name of the topic in the name field.\n",
    "step 4: Administrator adds the description of the topic in the description field.\n",
    "step 5: Administrator selects \"Save\" to create a new topic.\n",
    "\n",
    "Alternative flow: Administrator adds an already used name for the topic.\n",
    "At step 3 of the basic flow: Administrator adds a name that is already used in the existed topics in the name field.\n",
    "step 4: Administrator adds the description of the topic in the description field.\n",
    "step 5: Administrator selects \"Save\" to create a new topic.\n",
    "step 6: The system shows notification that the name is already used, prompting Administrator to add another name in the name field.\n",
    "step 7: Administrator adds a new name in the name field.\n",
    "step 8: Administrator selects \"Save\" to create a new topic.\n",
    "\n",
    "Exception flow:\n",
    "At step 3 of the basic flow: Administrator can select \"Cancel\" to stop adding a new topic at anytime.\n",
    "\n",
    "Preconditions:\n",
    "Administrator must be logged into the application.\n",
    "Administrator is allowed to add new topic. \n",
    "\n",
    "Postconditions:\n",
    "After successfully adding new topic, the system will redirect Administrator to the adding vocabulary to new topic section.\n",
    "New topic will appear in the topic list.\n",
    "\"\"\""
   ]
  },
  {
   "cell_type": "code",
   "execution_count": 25,
   "metadata": {},
   "outputs": [
    {
     "name": "stdout",
     "output_type": "stream",
     "text": [
      "{\n",
      "  \"Test Case 1\": {\n",
      "    \"testCaseName\": \"Administrator selects 'Cancel' while adding the name of the topic\",\n",
      "    \"objective\": \"Verify that the Administrator can cancel the process of adding a new topic at the step of adding the name of the topic.\",\n",
      "    \"testSteps\": [\n",
      "      \"Step 1: Ensure the Administrator is logged into the application.\",\n",
      "      \"Step 2: Navigate to the 'Add new topic' tab on the navigation bar.\",\n",
      "      \"Step 3: Enter a unique name for the topic in the name field.\",\n",
      "      \"Step 4: Before adding a description, select 'Cancel'.\"\n",
      "    ],\n",
      "    \"expectedResult\": \"The process of adding a new topic is cancelled, and the Administrator is redirected away from the adding topic viewing page without creating a new topic.\",\n",
      "    \"explanation\": \"This test case ensures that the Administrator can successfully cancel the process of adding a new topic at the step of entering the topic's name, which is aligned with the exception flow of the use case specification.\"\n",
      "  }\n",
      "}\n"
     ]
    }
   ],
   "source": [
    "promptTestCase = [\n",
    "    { \"role\": \"system\", \"content\": SYSTEM_PROMPT_8},\n",
    "    { \"role\": \"user\", \"content\": prompt}\n",
    "  ]\n",
    "gpt_response = ask(promptTestCase, client, model)\n",
    "print(gpt_response)"
   ]
  },
  {
   "cell_type": "code",
   "execution_count": 26,
   "metadata": {},
   "outputs": [
    {
     "name": "stdout",
     "output_type": "stream",
     "text": [
      "{\n",
      "  \"Test Case 1\": {\n",
      "    \"testCaseName\": \"Administrator selects 'Cancel' while adding the name of the topic\",\n",
      "    \"objective\": \"Verify that the Administrator can cancel the process of adding a new topic at the step of adding the name of the topic.\",\n",
      "    \"testSteps\": [\n",
      "      \"Step 1: Ensure the Administrator is logged into the application.\",\n",
      "      \"Step 2: Navigate to the 'Add new topic' tab on the navigation bar.\",\n",
      "      \"Step 3: Enter a unique name for the topic in the name field.\",\n",
      "      \"Step 4: Before adding a description, select 'Cancel'.\"\n",
      "    ],\n",
      "    \"expectedResult\": \"The process of adding a new topic is cancelled, and the Administrator remains on the adding topic viewing page without creating a new topic.\",\n",
      "    \"explanation\": \"This test case ensures that the Administrator can cancel the process of adding a new topic at the step of entering the name. It verifies the functionality of the 'Cancel' button in the use case scenario where the Administrator decides not to proceed with adding a new topic after starting the process.\"\n",
      "  }\n",
      "}\n"
     ]
    }
   ],
   "source": [
    "promptTestCase = [\n",
    "    { \"role\": \"system\", \"content\": SYSTEM_PROMPT_8},\n",
    "    { \"role\": \"user\", \"content\": prompt}\n",
    "  ]\n",
    "gpt_response = ask(promptTestCase, client, model)\n",
    "print(gpt_response)"
   ]
  },
  {
   "cell_type": "code",
   "execution_count": 27,
   "metadata": {},
   "outputs": [
    {
     "name": "stdout",
     "output_type": "stream",
     "text": [
      "{\n",
      "  \"Test Case 1\": {\n",
      "    \"testCaseName\": \"Administrator selects 'Cancel' while adding the name of the topic\",\n",
      "    \"objective\": \"Verify that the Administrator can cancel the process of adding a new topic at the step of adding the name of the topic.\",\n",
      "    \"testSteps\": [\n",
      "      \"Step 1: Ensure the Administrator is logged into the application.\",\n",
      "      \"Step 2: Navigate to the 'Add new topic' tab on the navigation bar.\",\n",
      "      \"Step 3: Enter a unique name for the topic in the name field.\",\n",
      "      \"Step 4: Before adding a description, select 'Cancel'.\"\n",
      "    ],\n",
      "    \"expectedResult\": \"The process of adding a new topic is cancelled, and the Administrator is redirected away from the adding topic viewing page without creating a new topic.\",\n",
      "    \"explanation\": \"This test case ensures that the Administrator can successfully cancel the process of adding a new topic at the step of entering the topic's name, which is part of the exception flow in the use case specification.\"\n",
      "  }\n",
      "}\n"
     ]
    }
   ],
   "source": [
    "promptTestCase = [\n",
    "    { \"role\": \"system\", \"content\": SYSTEM_PROMPT_8},\n",
    "    { \"role\": \"user\", \"content\": prompt}\n",
    "  ]\n",
    "gpt_response = ask(promptTestCase, client, model)\n",
    "print(gpt_response)"
   ]
  },
  {
   "cell_type": "code",
   "execution_count": 28,
   "metadata": {},
   "outputs": [],
   "source": [
    "prompt=\"\"\"\n",
    "Scenario: Administrator selects \"Cancel\" after adding the name but before adding the description of the topic.\n",
    "\n",
    "use case id: U17\n",
    "use case name: adding new topic\n",
    "objective: This use case allows administrator to add a new english learning topic.\n",
    "actor: administrator\n",
    "\n",
    "basic flow:\n",
    "step 1: Administrator selects \"Add new topic\" tab on the navigation bar.\n",
    "step 2: The system redirects Administrator to the adding topic viewing page.\n",
    "step 3: Administrator adds the name of the topic in the name field.\n",
    "step 4: Administrator adds the description of the topic in the description field.\n",
    "step 5: Administrator selects \"Save\" to create a new topic.\n",
    "\n",
    "Alternative flow: Administrator adds an already used name for the topic.\n",
    "At step 3 of the basic flow: Administrator adds a name that is already used in the existed topics in the name field.\n",
    "step 4: Administrator adds the description of the topic in the description field.\n",
    "step 5: Administrator selects \"Save\" to create a new topic.\n",
    "step 6: The system shows notification that the name is already used, prompting Administrator to add another name in the name field.\n",
    "step 7: Administrator adds a new name in the name field.\n",
    "step 8: Administrator selects \"Save\" to create a new topic.\n",
    "\n",
    "Exception flow:\n",
    "At step 3 of the basic flow: Administrator can select \"Cancel\" to stop adding a new topic at anytime.\n",
    "\n",
    "Preconditions:\n",
    "Administrator must be logged into the application.\n",
    "Administrator is allowed to add new topic. \n",
    "\n",
    "Postconditions:\n",
    "After successfully adding new topic, the system will redirect Administrator to the adding vocabulary to new topic section.\n",
    "New topic will appear in the topic list.\n",
    "\"\"\""
   ]
  },
  {
   "cell_type": "code",
   "execution_count": 29,
   "metadata": {},
   "outputs": [
    {
     "name": "stdout",
     "output_type": "stream",
     "text": [
      "{\n",
      "  \"Test Case 1\": {\n",
      "    \"testCaseName\": \"Cancel Adding New Topic After Adding Name\",\n",
      "    \"objective\": \"Verify that the Administrator can cancel the process of adding a new topic after adding the name but before adding the description.\",\n",
      "    \"testSteps\": [\n",
      "      \"Step 1: Log in as an Administrator.\",\n",
      "      \"Step 2: Select the 'Add new topic' tab on the navigation bar.\",\n",
      "      \"Step 3: Enter a unique name for the topic in the name field.\",\n",
      "      \"Step 4: Select 'Cancel' to stop the process of adding a new topic.\"\n",
      "    ],\n",
      "    \"expectedResult\": \"The system should cancel the process of adding a new topic and redirect the Administrator to the previous page without creating a new topic.\",\n",
      "    \"explanation\": \"This test case ensures that the Administrator has the flexibility to cancel the process of adding a new topic after entering the name but before entering the description, as outlined in the exception flow of the use case.\"\n",
      "  }\n",
      "}\n"
     ]
    }
   ],
   "source": [
    "promptTestCase = [\n",
    "    { \"role\": \"system\", \"content\": SYSTEM_PROMPT_8},\n",
    "    { \"role\": \"user\", \"content\": prompt}\n",
    "  ]\n",
    "gpt_response = ask(promptTestCase, client, model)\n",
    "print(gpt_response)"
   ]
  },
  {
   "cell_type": "code",
   "execution_count": 30,
   "metadata": {},
   "outputs": [
    {
     "name": "stdout",
     "output_type": "stream",
     "text": [
      "{\n",
      "  \"Test Case 1\": {\n",
      "    \"testCaseName\": \"Cancel adding new topic after adding name\",\n",
      "    \"objective\": \"Verify that the Administrator can cancel the process of adding a new topic after adding the name but before adding the description.\",\n",
      "    \"testSteps\": [\n",
      "      \"Step 1: Log in as an Administrator.\",\n",
      "      \"Step 2: Select the 'Add new topic' tab on the navigation bar.\",\n",
      "      \"Step 3: Input a unique name for the topic in the name field.\",\n",
      "      \"Step 4: Select 'Cancel' to stop the process of adding a new topic.\"\n",
      "    ],\n",
      "    \"expectedResult\": \"The system should cancel the process of adding a new topic and redirect the Administrator back to the previous page or dashboard without creating a new topic.\",\n",
      "    \"explanation\": \"This test case ensures that the Administrator has the flexibility to cancel the process of adding a new topic after entering the name but before entering the description, which is a part of the exception flow in the use case specification.\"\n",
      "  }\n",
      "}\n"
     ]
    }
   ],
   "source": [
    "promptTestCase = [\n",
    "    { \"role\": \"system\", \"content\": SYSTEM_PROMPT_8},\n",
    "    { \"role\": \"user\", \"content\": prompt}\n",
    "  ]\n",
    "gpt_response = ask(promptTestCase, client, model)\n",
    "print(gpt_response)"
   ]
  },
  {
   "cell_type": "code",
   "execution_count": 31,
   "metadata": {},
   "outputs": [
    {
     "name": "stdout",
     "output_type": "stream",
     "text": [
      "{\n",
      "  \"Test Case 1\": {\n",
      "    \"testCaseName\": \"Cancel Adding New Topic After Adding Name\",\n",
      "    \"objective\": \"Verify that the Administrator can cancel the process of adding a new topic after adding the name but before adding the description.\",\n",
      "    \"testSteps\": [\n",
      "      \"Step 1: Log in to the application as an Administrator.\",\n",
      "      \"Step 2: Navigate to the 'Add new topic' tab on the navigation bar.\",\n",
      "      \"Step 3: Enter a unique name for the topic in the name field.\",\n",
      "      \"Step 4: Select 'Cancel' to stop the process of adding a new topic.\"\n",
      "    ],\n",
      "    \"expectedResult\": \"The system should cancel the process of adding a new topic and return the Administrator to the previous page without creating a new topic.\",\n",
      "    \"explanation\": \"This test case ensures that the Administrator can successfully cancel the process of adding a new topic after the name has been entered but before the description is added, as outlined in the exception flow of the use case specification.\"\n",
      "  }\n",
      "}\n"
     ]
    }
   ],
   "source": [
    "promptTestCase = [\n",
    "    { \"role\": \"system\", \"content\": SYSTEM_PROMPT_8},\n",
    "    { \"role\": \"user\", \"content\": prompt}\n",
    "  ]\n",
    "gpt_response = ask(promptTestCase, client, model)\n",
    "print(gpt_response)"
   ]
  },
  {
   "cell_type": "code",
   "execution_count": 32,
   "metadata": {},
   "outputs": [],
   "source": [
    "prompt=\"\"\"\n",
    "Scenario: Administrator selects \"Cancel\" after adding the name but before adding the description of the topic.\n",
    "\n",
    "use case id: U17\n",
    "use case name: adding new topic\n",
    "objective: This use case allows administrator to add a new english learning topic.\n",
    "actor: administrator\n",
    "\n",
    "basic flow:\n",
    "step 1: Administrator selects \"Add new topic\" tab on the navigation bar.\n",
    "step 2: The system redirects Administrator to the adding topic viewing page.\n",
    "step 3: Administrator adds the name of the topic in the name field.\n",
    "step 4: Administrator adds the description of the topic in the description field.\n",
    "step 5: Administrator selects \"Save\" to create a new topic.\n",
    "\n",
    "Alternative flow: Administrator adds an already used name for the topic.\n",
    "At step 3 of the basic flow: Administrator adds a name that is already used in the existed topics in the name field.\n",
    "step 4: Administrator adds the description of the topic in the description field.\n",
    "step 5: Administrator selects \"Save\" to create a new topic.\n",
    "step 6: The system shows notification that the name is already used, prompting Administrator to add another name in the name field.\n",
    "step 7: Administrator adds a new name in the name field.\n",
    "step 8: Administrator selects \"Save\" to create a new topic.\n",
    "\n",
    "Exception flow:\n",
    "At step 3 of the basic flow: Administrator can select \"Cancel\" to stop adding a new topic at anytime.\n",
    "\n",
    "Preconditions:\n",
    "Administrator must be logged into the application.\n",
    "Administrator is allowed to add new topic. \n",
    "\n",
    "Postconditions:\n",
    "After successfully adding new topic, the system will redirect Administrator to the adding vocabulary to new topic section.\n",
    "New topic will appear in the topic list.\n",
    "\"\"\""
   ]
  },
  {
   "cell_type": "code",
   "execution_count": 33,
   "metadata": {},
   "outputs": [
    {
     "name": "stdout",
     "output_type": "stream",
     "text": [
      "{\n",
      "  \"Test Case 1\": {\n",
      "    \"testCaseName\": \"Administrator selects 'Cancel' after adding the name but before adding the description of the topic\",\n",
      "    \"objective\": \"Verify that the Administrator can cancel the process of adding a new topic after entering the name but before entering the description\",\n",
      "    \"testSteps\": [\n",
      "      \"Step 1: Ensure the Administrator is logged into the application.\",\n",
      "      \"Step 2: Navigate to the 'Add new topic' tab on the navigation bar.\",\n",
      "      \"Step 3: Enter a unique name for the topic in the name field.\",\n",
      "      \"Step 4: Select 'Cancel' to stop adding a new topic before entering the description.\"\n",
      "    ],\n",
      "    \"expectedResult\": \"The process of adding a new topic is cancelled, and the Administrator remains on the adding topic viewing page without the new topic being created.\",\n",
      "    \"explanation\": \"This test case ensures that the Administrator can cancel the process of adding a new topic after the name is entered but before the description is added, which is a part of the exception flow in the use case specification.\"\n",
      "  }\n",
      "}\n"
     ]
    }
   ],
   "source": [
    "promptTestCase = [\n",
    "    { \"role\": \"system\", \"content\": SYSTEM_PROMPT_8},\n",
    "    { \"role\": \"user\", \"content\": prompt}\n",
    "  ]\n",
    "gpt_response = ask(promptTestCase, client, model)\n",
    "print(gpt_response)"
   ]
  },
  {
   "cell_type": "code",
   "execution_count": 34,
   "metadata": {},
   "outputs": [
    {
     "name": "stdout",
     "output_type": "stream",
     "text": [
      "{\n",
      "  \"Test Case 1\": {\n",
      "    \"testCaseName\": \"Cancel Adding New Topic After Adding Name\",\n",
      "    \"objective\": \"Verify that the Administrator can cancel the process of adding a new topic after adding the name but before adding the description.\",\n",
      "    \"testSteps\": [\n",
      "      \"Step 1: Log in as an Administrator.\",\n",
      "      \"Step 2: Select the 'Add new topic' tab on the navigation bar.\",\n",
      "      \"Step 3: Enter a unique name for the topic in the name field.\",\n",
      "      \"Step 4: Select 'Cancel' to stop the process of adding a new topic.\"\n",
      "    ],\n",
      "    \"expectedResult\": \"The system should cancel the process of adding a new topic and redirect the Administrator to the previous page or dashboard without creating a new topic.\",\n",
      "    \"explanation\": \"This test case ensures that the Administrator has the flexibility to cancel the process of adding a new topic after entering the name but before completing the process. It directly matches the scenario by testing the functionality of the 'Cancel' button at a specific step in the process.\"\n",
      "  }\n",
      "}\n"
     ]
    }
   ],
   "source": [
    "promptTestCase = [\n",
    "    { \"role\": \"system\", \"content\": SYSTEM_PROMPT_8},\n",
    "    { \"role\": \"user\", \"content\": prompt}\n",
    "  ]\n",
    "gpt_response = ask(promptTestCase, client, model)\n",
    "print(gpt_response)"
   ]
  },
  {
   "cell_type": "code",
   "execution_count": 35,
   "metadata": {},
   "outputs": [
    {
     "name": "stdout",
     "output_type": "stream",
     "text": [
      "{\n",
      "  \"Test Case 1\": {\n",
      "    \"testCaseName\": \"Administrator cancels adding new topic after entering name\",\n",
      "    \"objective\": \"Verify that the Administrator can cancel the process of adding a new topic after entering the topic's name but before adding the description.\",\n",
      "    \"testSteps\": [\n",
      "      \"Step 1: Log in as an Administrator.\",\n",
      "      \"Step 2: Navigate to the 'Add new topic' tab on the navigation bar.\",\n",
      "      \"Step 3: Enter a unique name for the topic in the name field.\",\n",
      "      \"Step 4: Select 'Cancel' to stop the process of adding a new topic.\"\n",
      "    ],\n",
      "    \"expectedResult\": \"The system should cancel the process of adding a new topic and possibly redirect the Administrator to the previous page or the main dashboard without creating a new topic.\",\n",
      "    \"explanation\": \"This test case ensures that the Administrator can successfully cancel the process of adding a new topic after the name is entered but before the description is added, as outlined in the exception flow of the use case. It verifies the system's ability to handle cancellations at this specific step.\"\n",
      "  }\n",
      "}\n"
     ]
    }
   ],
   "source": [
    "promptTestCase = [\n",
    "    { \"role\": \"system\", \"content\": SYSTEM_PROMPT_8},\n",
    "    { \"role\": \"user\", \"content\": prompt}\n",
    "  ]\n",
    "gpt_response = ask(promptTestCase, client, model)\n",
    "print(gpt_response)"
   ]
  },
  {
   "cell_type": "code",
   "execution_count": 36,
   "metadata": {},
   "outputs": [],
   "source": [
    "prompt=\"\"\"\n",
    "Scenario: Administrator selects \"Cancel\" after adding both the name and the description of the topic but before selecting \"Save\".\n",
    "\n",
    "use case id: U17\n",
    "use case name: adding new topic\n",
    "objective: This use case allows administrator to add a new english learning topic.\n",
    "actor: administrator\n",
    "\n",
    "basic flow:\n",
    "step 1: Administrator selects \"Add new topic\" tab on the navigation bar.\n",
    "step 2: The system redirects Administrator to the adding topic viewing page.\n",
    "step 3: Administrator adds the name of the topic in the name field.\n",
    "step 4: Administrator adds the description of the topic in the description field.\n",
    "step 5: Administrator selects \"Save\" to create a new topic.\n",
    "\n",
    "Alternative flow: Administrator adds an already used name for the topic.\n",
    "At step 3 of the basic flow: Administrator adds a name that is already used in the existed topics in the name field.\n",
    "step 4: Administrator adds the description of the topic in the description field.\n",
    "step 5: Administrator selects \"Save\" to create a new topic.\n",
    "step 6: The system shows notification that the name is already used, prompting Administrator to add another name in the name field.\n",
    "step 7: Administrator adds a new name in the name field.\n",
    "step 8: Administrator selects \"Save\" to create a new topic.\n",
    "\n",
    "Exception flow:\n",
    "At step 3 of the basic flow: Administrator can select \"Cancel\" to stop adding a new topic at anytime.\n",
    "\n",
    "Preconditions:\n",
    "Administrator must be logged into the application.\n",
    "Administrator is allowed to add new topic. \n",
    "\n",
    "Postconditions:\n",
    "After successfully adding new topic, the system will redirect Administrator to the adding vocabulary to new topic section.\n",
    "New topic will appear in the topic list.\n",
    "\"\"\""
   ]
  },
  {
   "cell_type": "code",
   "execution_count": 37,
   "metadata": {},
   "outputs": [
    {
     "name": "stdout",
     "output_type": "stream",
     "text": [
      "{\n",
      "  \"Test Case 1\": {\n",
      "    \"testCaseName\": \"Administrator cancels adding new topic after filling details\",\n",
      "    \"objective\": \"Verify that the Administrator can cancel the process of adding a new topic after filling in the name and description but before selecting 'Save'.\",\n",
      "    \"testSteps\": [\n",
      "      \"Step 1: Log in as an Administrator.\",\n",
      "      \"Step 2: Select the 'Add new topic' tab on the navigation bar.\",\n",
      "      \"Step 3: Enter a unique name in the name field.\",\n",
      "      \"Step 4: Enter a description for the topic in the description field.\",\n",
      "      \"Step 5: Select 'Cancel' to stop adding the new topic.\"\n",
      "    ],\n",
      "    \"expectedResult\": \"The system should cancel the process of adding a new topic and possibly redirect the Administrator to the previous page or a main page without creating a new topic.\",\n",
      "    \"explanation\": \"This test case ensures that the Administrator can successfully cancel the process of adding a new topic after entering the necessary details but before finalizing the process with 'Save'. It directly matches the scenario by testing the functionality of the 'Cancel' button in the specific context of adding a new topic.\"\n",
      "  }\n",
      "}\n"
     ]
    }
   ],
   "source": [
    "promptTestCase = [\n",
    "    { \"role\": \"system\", \"content\": SYSTEM_PROMPT_8},\n",
    "    { \"role\": \"user\", \"content\": prompt}\n",
    "  ]\n",
    "gpt_response = ask(promptTestCase, client, model)\n",
    "print(gpt_response)"
   ]
  },
  {
   "cell_type": "code",
   "execution_count": 38,
   "metadata": {},
   "outputs": [
    {
     "name": "stdout",
     "output_type": "stream",
     "text": [
      "{\n",
      "  \"Test Case 1\": {\n",
      "    \"testCaseName\": \"Administrator cancels adding new topic after entering name and description\",\n",
      "    \"objective\": \"Verify that the Administrator can cancel the process of adding a new topic after entering both the name and description but before selecting 'Save'.\",\n",
      "    \"testSteps\": [\n",
      "      \"Step 1: Log in as an Administrator.\",\n",
      "      \"Step 2: Select the 'Add new topic' tab on the navigation bar.\",\n",
      "      \"Step 3: Enter a unique name in the name field.\",\n",
      "      \"Step 4: Enter a description in the description field.\",\n",
      "      \"Step 5: Select 'Cancel' to stop adding the new topic.\"\n",
      "    ],\n",
      "    \"expectedResult\": \"The system should cancel the process of adding a new topic and possibly redirect the Administrator to the previous page or a main/admin page without creating a new topic.\",\n",
      "    \"explanation\": \"This test case ensures that the Administrator has the ability to cancel the process of adding a new topic after filling out the necessary information but before finalizing the process. It directly matches the scenario by testing the functionality of the 'Cancel' button in the specific context of adding a new topic.\"\n",
      "  }\n",
      "}\n"
     ]
    }
   ],
   "source": [
    "promptTestCase = [\n",
    "    { \"role\": \"system\", \"content\": SYSTEM_PROMPT_8},\n",
    "    { \"role\": \"user\", \"content\": prompt}\n",
    "  ]\n",
    "gpt_response = ask(promptTestCase, client, model)\n",
    "print(gpt_response)"
   ]
  },
  {
   "cell_type": "code",
   "execution_count": 39,
   "metadata": {},
   "outputs": [
    {
     "name": "stdout",
     "output_type": "stream",
     "text": [
      "{\n",
      "  \"Test Case 1\": {\n",
      "    \"testCaseName\": \"Verify canceling the add new topic process after filling in details\",\n",
      "    \"objective\": \"Ensure that the administrator can cancel the process of adding a new topic after entering both the name and the description but before selecting 'Save'.\",\n",
      "    \"testSteps\": [\n",
      "      \"Step 1: Log in as an administrator.\",\n",
      "      \"Step 2: Navigate to the 'Add new topic' tab on the navigation bar.\",\n",
      "      \"Step 3: Enter a unique name for the topic in the name field.\",\n",
      "      \"Step 4: Enter a description for the topic in the description field.\",\n",
      "      \"Step 5: Select 'Cancel' to stop the process of adding a new topic.\"\n",
      "    ],\n",
      "    \"expectedResult\": \"The system should cancel the add new topic process and possibly redirect the administrator to the previous page or the main dashboard without creating a new topic.\",\n",
      "    \"explanation\": \"This test case is created to verify the functionality of the 'Cancel' button in the use case of adding a new topic by an administrator. It directly matches the scenario name by testing the action of selecting 'Cancel' after both the name and description of the topic have been entered but before the 'Save' action is performed.\"\n",
      "  }\n",
      "}\n"
     ]
    }
   ],
   "source": [
    "promptTestCase = [\n",
    "    { \"role\": \"system\", \"content\": SYSTEM_PROMPT_8},\n",
    "    { \"role\": \"user\", \"content\": prompt}\n",
    "  ]\n",
    "gpt_response = ask(promptTestCase, client, model)\n",
    "print(gpt_response)"
   ]
  }
 ],
 "metadata": {
  "kernelspec": {
   "display_name": "Python 3",
   "language": "python",
   "name": "python3"
  },
  "language_info": {
   "codemirror_mode": {
    "name": "ipython",
    "version": 3
   },
   "file_extension": ".py",
   "mimetype": "text/x-python",
   "name": "python",
   "nbconvert_exporter": "python",
   "pygments_lexer": "ipython3",
   "version": "3.11.0"
  }
 },
 "nbformat": 4,
 "nbformat_minor": 2
}
