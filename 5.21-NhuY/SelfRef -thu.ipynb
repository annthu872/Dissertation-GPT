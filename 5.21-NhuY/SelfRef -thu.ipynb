{
 "cells": [
  {
   "cell_type": "code",
   "execution_count": 1,
   "metadata": {},
   "outputs": [],
   "source": [
    "from openai import OpenAI\n",
    "import json\n",
    "import os\n",
    "\n",
    "GPT_MODEL_4 = \"gpt-4-0125-preview\"\n",
    "OPEN_API_KEY = os.getenv(\"OPENAI_API_KEY\")\n",
    "\n",
    "client = OpenAI()\n",
    "model = GPT_MODEL_4\n",
    "\n",
    "def ask(prompt, client, model, temperature = 0):\n",
    "    response = None\n",
    "    \n",
    "    response = client.chat.completions.create(\n",
    "      model=model,\n",
    "      messages=prompt,\n",
    "      temperature=temperature,\n",
    "      response_format={ \"type\": \"json_object\" },\n",
    "    )\n",
    "\n",
    "    return response.choices[0].message.content"
   ]
  },
  {
   "cell_type": "code",
   "execution_count": 2,
   "metadata": {},
   "outputs": [],
   "source": [
    "SYSTEM_PROMPT=\"\"\"\n",
    "Given a test scenario and test cases to test that given test scenario.\n",
    "Remove test case that not test the given test scenario, although if it test other use case path or flow, if it is not used to test the given test scenario, remove it. \n",
    "And give reasons why you think the resulted test case reflect the given test scenario only. \n",
    "Your response should keep the format of the inserted test cases.\n",
    "The JSON format should follow the following structure:\n",
    "{\n",
    "  \"Test Case 1\":[\n",
    "    \"testCaseName\": \"Clear name of the test case so tester know what to test when they first read\",\n",
    "    \"objective\": \"Verify who doing what action or function in the test case and the summary of the final result of the test case\",\n",
    "    \"testSteps\": [\n",
    "      \"Step 1: Describe the step.\",\n",
    "      \"Step 2: Describe the step.\",\n",
    "      \"Step 3: Describe the step.\"\n",
    "    ],\n",
    "    \"expectedResult\": \"You inform the tester what should they see after doing all the steps\",\n",
    "    \"explanation\": \"explain why you think this test case reflect the given test scenario\",\n",
    "  ],\n",
    "}\n",
    "\"\"\""
   ]
  },
  {
   "cell_type": "code",
   "execution_count": 3,
   "metadata": {},
   "outputs": [],
   "source": [
    "prompt = \"\"\"\n",
    "Test Scenario: Successful Lesson Creation\n",
    "\n",
    "{\n",
    "  \"Test Case 1\": {\n",
    "    \"testCaseName\": \"Successful New Lesson Creation\",\n",
    "    \"objective\": \"Verify that the administrator can successfully add a new English learning lesson.\",\n",
    "    \"testSteps\": [\n",
    "      \"Step 1: Log in as an administrator.\",\n",
    "      \"Step 2: Press the tab 'Lesson Management' on the navbar.\",\n",
    "      \"Step 3: Select 'Add new Lesson' from the dropdown menu.\",\n",
    "      \"Step 4: Fill in the name of the lesson in the name field.\",\n",
    "      \"Step 5: Fill in the description of the lesson in the description field.\",\n",
    "      \"Step 6: Select 'Save' to create a new lesson.\"\n",
    "    ],\n",
    "    \"expectedResult\": \"The system should redirect the administrator to the adding topic to new lesson section, and the new lesson should appear in the lesson list.\",\n",
    "  },\n",
    "  \"Test Case 2\": {\n",
    "    \"testCaseName\": \"Attempt to Add Lesson with Duplicate Name\",\n",
    "    \"objective\": \"Verify that the system prevents the creation of a new lesson with a name that is already used.\",\n",
    "    \"testSteps\": [\n",
    "      \"Step 1: Log in as an administrator.\",\n",
    "      \"Step 2: Navigate to the 'Add new Lesson' page via the 'Lesson Management' tab on the navbar.\",\n",
    "      \"Step 3: Enter a lesson name that is already used in the name field.\",\n",
    "      \"Step 4: Fill in the description of the lesson in the description field.\",\n",
    "      \"Step 5: Select 'Save' to attempt to create a new lesson.\"\n",
    "    ],\n",
    "    \"expectedResult\": \"The system should show a notification that the name is already used, prompting the administrator to add another name.\",\n",
    "  },\n",
    "  \"Test Case 3\": {\n",
    "    \"testCaseName\": \"Cancel Lesson Creation\",\n",
    "    \"objective\": \"Verify that the administrator can cancel the lesson creation process at any time.\",\n",
    "    \"testSteps\": [\n",
    "      \"Step 1: Log in as an administrator.\",\n",
    "      \"Step 2: Navigate to the 'Add new Lesson' page via the 'Lesson Management' tab on the navbar.\",\n",
    "      \"Step 3: Start filling in the lesson details.\",\n",
    "      \"Step 4: Select 'Cancel' to stop adding a new lesson.\"\n",
    "    ],\n",
    "    \"expectedResult\": \"The system should cancel the lesson creation process and may redirect the administrator to a previous page or a dashboard.\",\n",
    "  }\n",
    "}\n",
    "\"\"\""
   ]
  },
  {
   "cell_type": "code",
   "execution_count": 4,
   "metadata": {},
   "outputs": [
    {
     "name": "stdout",
     "output_type": "stream",
     "text": [
      "{\n",
      "  \"Test Case 1\": {\n",
      "    \"testCaseName\": \"Successful New Lesson Creation\",\n",
      "    \"objective\": \"Verify that the administrator can successfully add a new English learning lesson.\",\n",
      "    \"testSteps\": [\n",
      "      \"Step 1: Log in as an administrator.\",\n",
      "      \"Step 2: Press the tab 'Lesson Management' on the navbar.\",\n",
      "      \"Step 3: Select 'Add new Lesson' from the dropdown menu.\",\n",
      "      \"Step 4: Fill in the name of the lesson in the name field.\",\n",
      "      \"Step 5: Fill in the description of the lesson in the description field.\",\n",
      "      \"Step 6: Select 'Save' to create a new lesson.\"\n",
      "    ],\n",
      "    \"expectedResult\": \"The system should redirect the administrator to the adding topic to new lesson section, and the new lesson should appear in the lesson list.\",\n",
      "    \"explanation\": \"This test case directly reflects the given test scenario, which is 'Successful Lesson Creation', by outlining steps to successfully create a lesson and expecting the lesson to be added, which is the goal of the scenario.\"\n",
      "  }\n",
      "}\n"
     ]
    }
   ],
   "source": [
    "promptTestCase = [\n",
    "    { \"role\": \"system\", \"content\": SYSTEM_PROMPT},\n",
    "    { \"role\": \"user\", \"content\": prompt}\n",
    "  ]\n",
    "gpt_response = ask(promptTestCase, client, model)\n",
    "print(gpt_response)"
   ]
  },
  {
   "cell_type": "code",
   "execution_count": 29,
   "metadata": {},
   "outputs": [
    {
     "name": "stdout",
     "output_type": "stream",
     "text": [
      "{\n",
      "  \"Test Case 1\": {\n",
      "    \"testCaseName\": \"Successful New Lesson Creation\",\n",
      "    \"objective\": \"Verify that the administrator can successfully add a new English learning lesson.\",\n",
      "    \"testSteps\": [\n",
      "      \"Step 1: Log in as an administrator.\",\n",
      "      \"Step 2: Press the tab 'Lesson Management' on the navbar.\",\n",
      "      \"Step 3: Select 'Add new Lesson' from the dropdown menu.\",\n",
      "      \"Step 4: Fill in the name of the lesson in the name field.\",\n",
      "      \"Step 5: Fill in the description of the lesson in the description field.\",\n",
      "      \"Step 6: Select 'Save' to create a new lesson.\"\n",
      "    ],\n",
      "    \"expectedResult\": \"The system should redirect the administrator to the adding topic to new lesson section, and the new lesson should appear in the lesson list.\",\n",
      "    \"explanation\": \"This test case directly reflects the given test scenario, which is 'Successful Lesson Creation'. It outlines a clear path from logging in as an administrator to successfully adding a new lesson, which is the intended outcome of the scenario.\"\n",
      "  }\n",
      "}\n"
     ]
    }
   ],
   "source": [
    "promptTestCase = [\n",
    "    { \"role\": \"system\", \"content\": SYSTEM_PROMPT},\n",
    "    { \"role\": \"user\", \"content\": prompt}\n",
    "  ]\n",
    "gpt_response = ask(promptTestCase, client, model)\n",
    "print(gpt_response)"
   ]
  },
  {
   "cell_type": "code",
   "execution_count": 30,
   "metadata": {},
   "outputs": [
    {
     "name": "stdout",
     "output_type": "stream",
     "text": [
      "{\n",
      "  \"Test Case 1\": {\n",
      "    \"testCaseName\": \"Successful New Lesson Creation\",\n",
      "    \"objective\": \"Verify that the administrator can successfully add a new English learning lesson.\",\n",
      "    \"testSteps\": [\n",
      "      \"Step 1: Log in as an administrator.\",\n",
      "      \"Step 2: Press the tab 'Lesson Management' on the navbar.\",\n",
      "      \"Step 3: Select 'Add new Lesson' from the dropdown menu.\",\n",
      "      \"Step 4: Fill in the name of the lesson in the name field.\",\n",
      "      \"Step 5: Fill in the description of the lesson in the description field.\",\n",
      "      \"Step 6: Select 'Save' to create a new lesson.\"\n",
      "    ],\n",
      "    \"expectedResult\": \"The system should redirect the administrator to the adding topic to new lesson section, and the new lesson should appear in the lesson list.\",\n",
      "    \"explanation\": \"This test case directly reflects the test scenario of successful lesson creation by outlining the steps an administrator would take to add a new lesson, from login to saving the lesson. It verifies the core functionality of adding a lesson, which is the primary objective of the given test scenario.\"\n",
      "  }\n",
      "}\n"
     ]
    }
   ],
   "source": [
    "promptTestCase = [\n",
    "    { \"role\": \"system\", \"content\": SYSTEM_PROMPT},\n",
    "    { \"role\": \"user\", \"content\": prompt}\n",
    "  ]\n",
    "gpt_response = ask(promptTestCase, client, model)\n",
    "print(gpt_response)"
   ]
  }
 ],
 "metadata": {
  "kernelspec": {
   "display_name": "Python 3",
   "language": "python",
   "name": "python3"
  },
  "language_info": {
   "codemirror_mode": {
    "name": "ipython",
    "version": 3
   },
   "file_extension": ".py",
   "mimetype": "text/x-python",
   "name": "python",
   "nbconvert_exporter": "python",
   "pygments_lexer": "ipython3",
   "version": "3.11.0"
  }
 },
 "nbformat": 4,
 "nbformat_minor": 2
}
