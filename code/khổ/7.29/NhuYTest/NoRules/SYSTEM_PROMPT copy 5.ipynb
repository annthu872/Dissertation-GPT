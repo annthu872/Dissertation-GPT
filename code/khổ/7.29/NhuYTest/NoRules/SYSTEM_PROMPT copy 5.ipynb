{
 "cells": [
  {
   "cell_type": "code",
   "execution_count": 1,
   "metadata": {},
   "outputs": [],
   "source": [
    "from openai import OpenAI\n",
    "import json\n",
    "import os\n",
    "\n",
    "GPT_MODEL_4 = \"gpt-4-0125-preview\"\n",
    "OPEN_API_KEY = os.getenv(\"OPENAI_API_KEY\")\n",
    "\n",
    "client = OpenAI()\n",
    "model = GPT_MODEL_4\n",
    "\n",
    "def ask(prompt, client, model, temperature = 0):\n",
    "    response = None\n",
    "    \n",
    "    response = client.chat.completions.create(\n",
    "      model=model,\n",
    "      messages=prompt,\n",
    "      temperature=temperature,\n",
    "    )\n",
    "\n",
    "    return response.choices[0].message.content\n",
    "\n",
    "def askJSON(prompt, client, model, temperature = 0):\n",
    "    response = None\n",
    "    \n",
    "    response = client.chat.completions.create(\n",
    "      model=model,\n",
    "      messages=prompt,\n",
    "      temperature=temperature,\n",
    "      response_format={ \"type\": \"json_object\" },\n",
    "    )\n",
    "\n",
    "    return response.choices[0].message.content"
   ]
  },
  {
   "cell_type": "code",
   "execution_count": 2,
   "metadata": {},
   "outputs": [],
   "source": [
    "import chardet\n",
    "\n",
    "def read_file_content(file_path):\n",
    "    # Detect the encoding\n",
    "    with open(file_path, 'rb') as file:\n",
    "        raw_data = file.read()\n",
    "        result = chardet.detect(raw_data)\n",
    "        encoding = result['encoding']\n",
    "    \n",
    "    # Read the file with the detected encoding\n",
    "    try:\n",
    "        with open(file_path, 'r', encoding=encoding) as file:\n",
    "            content = file.read()\n",
    "        return content\n",
    "    except FileNotFoundError:\n",
    "        return f\"Error: The file at path {file_path} was not found.\"\n",
    "    except UnicodeDecodeError:\n",
    "        return f\"Error: The file at path {file_path} cannot be decoded with the {encoding} encoding.\"\n",
    "    except IOError:\n",
    "        return f\"Error: An I/O error occurred while reading the file at path {file_path}.\"\n"
   ]
  },
  {
   "cell_type": "code",
   "execution_count": 3,
   "metadata": {},
   "outputs": [],
   "source": [
    "def write_string_to_file(filename, content):\n",
    "    try:\n",
    "        with open(filename, 'w') as file:\n",
    "            file.write(content)\n",
    "        print(f\"String has been written to {filename}\")\n",
    "    except IOError as e:\n",
    "        print(f\"An error occurred while writing to the file: {e}\")"
   ]
  },
  {
   "cell_type": "code",
   "execution_count": 4,
   "metadata": {},
   "outputs": [],
   "source": [
    "SYSTEM_PROMPT = \"\"\"\n",
    "I want you to act as software tester.\n",
    "Your task is to read this information about a use case.\n",
    "Then you predict all scenarios that can happen in this use case.\n",
    "\"\"\""
   ]
  },
  {
   "cell_type": "code",
   "execution_count": 5,
   "metadata": {},
   "outputs": [],
   "source": [
    "usecase_path = r\"C:\\Users\\congc\\Desktop\\GPT\\Dissertation-GPT\\dataset\\SpecificationData\\MatchaEnglishWebsite\"\n",
    "# save_path = r\"D:\\Dissertation-GPT\\evaluate\\prove\\Matcha\\ts\""
   ]
  },
  {
   "cell_type": "code",
   "execution_count": 6,
   "metadata": {},
   "outputs": [],
   "source": [
    "usecase_name_list = []\n",
    "project_name = os.path.basename(usecase_path)"
   ]
  },
  {
   "cell_type": "code",
   "execution_count": 7,
   "metadata": {},
   "outputs": [
    {
     "name": "stdout",
     "output_type": "stream",
     "text": [
      "['Add new topic', 'AddLesson', 'AddQuestion ', 'EditTest', 'Flashcard', 'Handbook', 'Learning days history', 'ListenToPronunciation', 'Login', 'Registry', 'Review test', 'WordSortingTest']\n"
     ]
    }
   ],
   "source": [
    "for filename in os.listdir(usecase_path):\n",
    "    usecase_name_list.append (filename.split(\".txt\")[0])\n",
    "print(usecase_name_list)\n",
    "usecase_name_list=[\"AddQuestion \"]"
   ]
  },
  {
   "cell_type": "code",
   "execution_count": 8,
   "metadata": {},
   "outputs": [
    {
     "name": "stdout",
     "output_type": "stream",
     "text": [
      "AddQuestion \n",
      "gpt_response \n",
      "Based on the provided use case, here are the predicted scenarios that can happen:\n",
      "\n",
      "1. **Successful Question Creation**\n",
      "   - Admin follows the main flow steps accurately without skipping any compulsory fields and inputs valid data. The system saves the question successfully, and it is displayed on the \"Word Information\" page.\n",
      "\n",
      "2. **Invalid Sentence Length**\n",
      "   - Admin inputs a sentence in the \"sentence\" field that exceeds 250 characters. The system should display a notification about the sentence length violation and prompt the Admin to correct it.\n",
      "\n",
      "3. **Invalid Characters in Sentence**\n",
      "   - Admin inputs a sentence containing special characters. The system should notify the Admin that the sentence contains invalid characters and needs correction.\n",
      "\n",
      "4. **Duplicate Wrong Answers**\n",
      "   - Admin inputs identical words for 'other option 1', 'other option 2', or 'other option 3'. The system should detect this and prompt the Admin to ensure all wrong answer options are distinct.\n",
      "\n",
      "5. **Correct Answer Matches a Wrong Answer**\n",
      "   - Admin inadvertently inputs a correct answer that matches one of the wrong answers. The system should alert the Admin to this conflict and request a correction.\n",
      "\n",
      "6. **Network/Connectivity Issues During Save**\n",
      "   - Admin presses 'Save', but due to network issues, the question cannot be saved immediately. The system should either retry the save operation or notify the Admin to try again later.\n",
      "\n",
      "7. **Session Timeout**\n",
      "   - Admin takes too long to create a question, leading to a session timeout. The system should warn the Admin before the session expires, allowing them to save their work or extend the session.\n",
      "\n",
      "8. **Browser Compatibility Issues**\n",
      "   - The Admin uses a browser that is not fully compatible with the system, leading to display or functionality issues on the \"Add new question for selection test\" page. The system should ideally be tested across different browsers to minimize such issues.\n",
      "\n",
      "9. **Accidental Navigation Away from Page**\n",
      "   - Admin accidentally navigates away from the \"Add new question for selection test\" page (e.g., by clicking a link or pressing a browser button) before saving. The system could prompt the Admin to confirm navigation if unsaved changes exist.\n",
      "\n",
      "10. **Input Validation for All Fields**\n",
      "    - Besides the 'sentence' field, the system should validate all input fields ('correct answer', 'other option 1', 'other option 2', 'other option 3') for length, special characters, and not being empty to ensure data integrity.\n",
      "\n",
      "11. **Multiple Submissions**\n",
      "    - If the 'Save' button is pressed multiple times quickly, it could lead to duplicate submissions. The system should handle this by disabling the button after the first press until the operation is complete.\n",
      "\n",
      "12. **Cancellation with Unsaved Changes**\n",
      "    - If Admin makes changes and then decides to press 'Cancel', the system should prompt to confirm the cancellation to prevent accidental loss of work.\n",
      "\n",
      "These scenarios encompass a range of possible outcomes and exceptions that could occur during the use case of creating questions for the selection test, ensuring thorough testing for reliability and user satisfaction.\n"
     ]
    }
   ],
   "source": [
    "for usecase_name in usecase_name_list:\n",
    "    print(usecase_name)\n",
    "    usecase_directlink = os.path.join(usecase_path,usecase_name+\".txt\")\n",
    "    prompt_all = read_file_content(usecase_directlink)\n",
    "    promptSYSTEM_PROMPT = [\n",
    "        { \"role\": \"system\", \"content\": SYSTEM_PROMPT},\n",
    "        { \"role\": \"user\", \"content\": prompt_all}\n",
    "    ]\n",
    "    gpt_response = ask(promptSYSTEM_PROMPT, client, model)    \n",
    "    print(\"gpt_response \\n\" +gpt_response)\n",
    "    # write_string_to_file(os.path.join(save_path,f\"{usecase_name}.txt\"), gpt_response)"
   ]
  }
 ],
 "metadata": {
  "kernelspec": {
   "display_name": "Python 3",
   "language": "python",
   "name": "python3"
  },
  "language_info": {
   "codemirror_mode": {
    "name": "ipython",
    "version": 3
   },
   "file_extension": ".py",
   "mimetype": "text/x-python",
   "name": "python",
   "nbconvert_exporter": "python",
   "pygments_lexer": "ipython3",
   "version": "3.11.0"
  }
 },
 "nbformat": 4,
 "nbformat_minor": 2
}
