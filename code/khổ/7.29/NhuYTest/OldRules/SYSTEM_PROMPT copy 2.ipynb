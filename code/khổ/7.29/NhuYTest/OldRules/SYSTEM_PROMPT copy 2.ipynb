{
 "cells": [
  {
   "cell_type": "code",
   "execution_count": 31,
   "metadata": {},
   "outputs": [],
   "source": [
    "from openai import OpenAI\n",
    "import json\n",
    "import os\n",
    "\n",
    "GPT_MODEL_4 = \"gpt-4-0125-preview\"\n",
    "OPEN_API_KEY = os.getenv(\"OPENAI_API_KEY\")\n",
    "\n",
    "client = OpenAI()\n",
    "model = GPT_MODEL_4\n",
    "\n",
    "def ask(prompt, client, model, temperature = 0):\n",
    "    response = None\n",
    "    \n",
    "    response = client.chat.completions.create(\n",
    "      model=model,\n",
    "      messages=prompt,\n",
    "      temperature=temperature,\n",
    "    )\n",
    "\n",
    "    return response.choices[0].message.content\n",
    "\n",
    "def askJSON(prompt, client, model, temperature = 0):\n",
    "    response = None\n",
    "    \n",
    "    response = client.chat.completions.create(\n",
    "      model=model,\n",
    "      messages=prompt,\n",
    "      temperature=temperature,\n",
    "      response_format={ \"type\": \"json_object\" },\n",
    "    )\n",
    "\n",
    "    return response.choices[0].message.content"
   ]
  },
  {
   "cell_type": "code",
   "execution_count": 32,
   "metadata": {},
   "outputs": [],
   "source": [
    "import chardet\n",
    "\n",
    "def read_file_content(file_path):\n",
    "    # Detect the encoding\n",
    "    with open(file_path, 'rb') as file:\n",
    "        raw_data = file.read()\n",
    "        result = chardet.detect(raw_data)\n",
    "        encoding = result['encoding']\n",
    "    \n",
    "    # Read the file with the detected encoding\n",
    "    try:\n",
    "        with open(file_path, 'r', encoding=encoding) as file:\n",
    "            content = file.read()\n",
    "        return content\n",
    "    except FileNotFoundError:\n",
    "        return f\"Error: The file at path {file_path} was not found.\"\n",
    "    except UnicodeDecodeError:\n",
    "        return f\"Error: The file at path {file_path} cannot be decoded with the {encoding} encoding.\"\n",
    "    except IOError:\n",
    "        return f\"Error: An I/O error occurred while reading the file at path {file_path}.\"\n"
   ]
  },
  {
   "cell_type": "code",
   "execution_count": 33,
   "metadata": {},
   "outputs": [],
   "source": [
    "def write_string_to_file(filename, content):\n",
    "    try:\n",
    "        with open(filename, 'w') as file:\n",
    "            file.write(content)\n",
    "        print(f\"String has been written to {filename}\")\n",
    "    except IOError as e:\n",
    "        print(f\"An error occurred while writing to the file: {e}\")"
   ]
  },
  {
   "cell_type": "code",
   "execution_count": 34,
   "metadata": {},
   "outputs": [],
   "source": [
    "SYSTEM_PROMPT = \"\"\"\n",
    "I want you to act as software tester.\n",
    "Your task is to read this information about a use case.\n",
    "Then you predict all scenarios that can happen in this use case.\n",
    "\n",
    "Rules of generating scenarios you should follow:\n",
    "- Generate test scenarios to test described flows.\n",
    "- Scenarios involve executing all steps within a specific flow with varied data or actions.\n",
    "- Scenarios should be independent and require a complete flow to proceed.\n",
    "- A scenario encompasses a whole function, not just verifying individual steps.\n",
    "- Each flow must have at least one test scenario to cover the flow.\n",
    "I only need scenarios's name list for the output, I do not need the steps to go with it.\n",
    "\"\"\""
   ]
  },
  {
   "cell_type": "code",
   "execution_count": 35,
   "metadata": {},
   "outputs": [],
   "source": [
    "usecase_path = r\"D:\\Dissertation-GPT\\dataset\\SpecificationData\\Shopping System\"\n",
    "# save_path = r\"C:\\Users\\congc\\Desktop\\GPT\\Dissertation-GPT\\evaluate\\prove\\Shopping System\\ts\""
   ]
  },
  {
   "cell_type": "code",
   "execution_count": 36,
   "metadata": {},
   "outputs": [],
   "source": [
    "usecase_name_list = []\n",
    "project_name = os.path.basename(usecase_path)"
   ]
  },
  {
   "cell_type": "code",
   "execution_count": 37,
   "metadata": {},
   "outputs": [
    {
     "name": "stdout",
     "output_type": "stream",
     "text": [
      "['add to cart', 'checkout', 'product information display', 'purchase', 'search']\n"
     ]
    }
   ],
   "source": [
    "for filename in os.listdir(usecase_path):\n",
    "    usecase_name_list.append (filename.split(\".txt\")[0])\n",
    "print(usecase_name_list)"
   ]
  },
  {
   "cell_type": "code",
   "execution_count": 38,
   "metadata": {},
   "outputs": [
    {
     "name": "stdout",
     "output_type": "stream",
     "text": [
      "add to cart\n",
      "gpt_response \n",
      "1. Add Single Item Without Options to Cart\n",
      "2. Add Single Item With Options to Cart - Selecting an Option\n",
      "3. Add Multiple Quantities of an Item to Cart\n",
      "4. Add Item to Cart Without Selecting Option - Exception Handling\n",
      "5. Add Item to Cart With Quantity Exceeding Stock - Exception Handling\n",
      "6. Decrease Quantity to Less Than One - Exception Handling\n",
      "7. Add Out of Stock Item to Cart - Exception Handling\n",
      "8. Add Item With Out of Stock Option to Cart - Exception Handling\n",
      "9. Add Multiple Different Items to Cart\n",
      "10. Add Same Item Multiple Times to Increase Quantity in Cart\n",
      "checkout\n",
      "gpt_response \n",
      "1. Successful Checkout with Default Options\n",
      "2. Successful Checkout with Changed Shipping Address\n",
      "3. Successful Checkout with New Shipping Address\n",
      "4. Successful Checkout with Changed Payment Method\n",
      "5. Successful Checkout with Application Voucher Applied\n",
      "6. Successful Checkout with Shop Voucher Applied\n",
      "7. Successful Checkout with Changed Shipping Option\n",
      "8. Successful Checkout with Note for Shop Added\n",
      "9. Checkout with No Default Shipping Address\n",
      "10. Checkout with Adding New Shipping Address with Invalid Full Name\n",
      "11. Checkout with Adding New Shipping Address with Invalid Phone Number\n",
      "12. Checkout with Adding New Shipping Address with Invalid Location Address\n",
      "13. Checkout with Applying Disabled Voucher\n",
      "14. Checkout with Applying Incorrect Voucher Code\n",
      "15. Checkout with Issue in Order Leading to Error Message\n",
      "product information display\n",
      "gpt_response \n",
      "1. Display Product Information from Homepage\n",
      "2. Display Product Information from Search Page\n",
      "3. Display Product Information from Cart Page\n",
      "4. Display Product Information with Multiple Images\n",
      "5. Display Product Information with Video Content\n",
      "6. Display Product Information with All Specifications Listed\n",
      "7. Display Product Information with Discounted Price\n",
      "8. Display Product Information with Out of Stock Status\n",
      "9. Display Product Information with Multiple Delivery Options\n",
      "10. Display Product Information with Seller Profile and High Ratings\n",
      "11. Display Product Information with Direct Seller Contact Option\n",
      "12. Display Product Information with Store Link to Seller's Page\n",
      "13. Display Product Information with High Overall Customer Rating\n",
      "14. Display Product Information with Detailed Customer Reviews and Images\n",
      "15. Display Product Information with Related Products List\n",
      "16. Expand Customer Reviews in Product Information\n",
      "17. Expand Customer Questions in Product Information\n",
      "18. Scroll to View More Related Products in Product Information\n",
      "19. Contact Seller Directly from Product Information\n",
      "20. Visit Seller's Store from Product Information\n",
      "purchase\n",
      "gpt_response \n",
      "1. Purchase Single Item from Product Detail Page\n",
      "2. Purchase Multiple Items from Shopping Cart\n",
      "3. Purchase Items from Multiple Shops in Shopping Cart\n",
      "4. Select All Items from One Store in Shopping Cart\n",
      "5. Adjust Quantity in Product Detail Page Before Adding to Cart\n",
      "6. Checkout with Products Having Multiple Options from Product Detail Page\n",
      "7. Attempt to Purchase Out of Stock Item from Shopping Cart\n",
      "8. Attempt to Purchase Without Selecting Option in Product Detail Page\n",
      "9. Attempt to Purchase with Quantity Exceeding Stock in Product Detail Page\n",
      "10. Attempt to Checkout with Invalid Product Selection\n",
      "search\n",
      "gpt_response \n",
      "1. Basic Search Flow with Exact Keyword Match\n",
      "2. Basic Search Flow with Partial Keyword Match\n",
      "3. Basic Search Flow with Description Match\n",
      "4. Search with Keyword Related to Shop Name\n",
      "5. Search with Keyword Related to Brand Name\n",
      "6. Search with Keyword Not Matching Any Shop or Brand\n",
      "7. Search Result Pagination Test\n",
      "8. Search with No Results Found\n",
      "9. Search and Filter by Most Related Results\n",
      "10. Search and Filter by Newest Products\n",
      "11. Search and Filter by Best Sellers\n",
      "12. Search and Sort by Price Lowest to Highest\n",
      "13. Search and Sort by Price Highest to Lowest\n"
     ]
    }
   ],
   "source": [
    "for usecase_name in usecase_name_list:\n",
    "    print(usecase_name)\n",
    "    usecase_directlink = os.path.join(usecase_path,usecase_name+\".txt\")\n",
    "    prompt_all = read_file_content(usecase_directlink)\n",
    "    promptSYSTEM_PROMPT = [\n",
    "        { \"role\": \"system\", \"content\": SYSTEM_PROMPT},\n",
    "        { \"role\": \"user\", \"content\": prompt_all}\n",
    "    ]\n",
    "    gpt_response = ask(promptSYSTEM_PROMPT, client, model)    \n",
    "    print(\"gpt_response \\n\" +gpt_response)\n",
    "    # write_string_to_file(os.path.join(save_path,f\"{usecase_name}.txt\"), gpt_response)"
   ]
  }
 ],
 "metadata": {
  "kernelspec": {
   "display_name": "Python 3",
   "language": "python",
   "name": "python3"
  },
  "language_info": {
   "codemirror_mode": {
    "name": "ipython",
    "version": 3
   },
   "file_extension": ".py",
   "mimetype": "text/x-python",
   "name": "python",
   "nbconvert_exporter": "python",
   "pygments_lexer": "ipython3",
   "version": "3.10.9"
  }
 },
 "nbformat": 4,
 "nbformat_minor": 2
}
