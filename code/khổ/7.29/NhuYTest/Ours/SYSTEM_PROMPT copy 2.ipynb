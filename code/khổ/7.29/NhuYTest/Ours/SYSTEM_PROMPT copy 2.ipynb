{
 "cells": [
  {
   "cell_type": "code",
   "execution_count": 1,
   "metadata": {},
   "outputs": [],
   "source": [
    "from openai import OpenAI\n",
    "import json\n",
    "import os\n",
    "\n",
    "GPT_MODEL_4 = \"gpt-4-0125-preview\"\n",
    "OPEN_API_KEY = os.getenv(\"OPENAI_API_KEY\")\n",
    "\n",
    "client = OpenAI()\n",
    "model = GPT_MODEL_4\n",
    "\n",
    "def ask(prompt, client, model, temperature = 0):\n",
    "    response = None\n",
    "    \n",
    "    response = client.chat.completions.create(\n",
    "      model=model,\n",
    "      messages=prompt,\n",
    "      temperature=temperature,\n",
    "    )\n",
    "\n",
    "    return response.choices[0].message.content\n",
    "\n",
    "def askJSON(prompt, client, model, temperature = 0):\n",
    "    response = None\n",
    "    \n",
    "    response = client.chat.completions.create(\n",
    "      model=model,\n",
    "      messages=prompt,\n",
    "      temperature=temperature,\n",
    "      response_format={ \"type\": \"json_object\" },\n",
    "    )\n",
    "\n",
    "    return response.choices[0].message.content"
   ]
  },
  {
   "cell_type": "code",
   "execution_count": 2,
   "metadata": {},
   "outputs": [],
   "source": [
    "import chardet\n",
    "\n",
    "def read_file_content(file_path):\n",
    "    # Detect the encoding\n",
    "    with open(file_path, 'rb') as file:\n",
    "        raw_data = file.read()\n",
    "        result = chardet.detect(raw_data)\n",
    "        encoding = result['encoding']\n",
    "    \n",
    "    # Read the file with the detected encoding\n",
    "    try:\n",
    "        with open(file_path, 'r', encoding=encoding) as file:\n",
    "            content = file.read()\n",
    "        return content\n",
    "    except FileNotFoundError:\n",
    "        return f\"Error: The file at path {file_path} was not found.\"\n",
    "    except UnicodeDecodeError:\n",
    "        return f\"Error: The file at path {file_path} cannot be decoded with the {encoding} encoding.\"\n",
    "    except IOError:\n",
    "        return f\"Error: An I/O error occurred while reading the file at path {file_path}.\"\n"
   ]
  },
  {
   "cell_type": "code",
   "execution_count": 3,
   "metadata": {},
   "outputs": [],
   "source": [
    "def write_string_to_file(filename, content):\n",
    "    try:\n",
    "        with open(filename, 'w') as file:\n",
    "            file.write(content)\n",
    "        print(f\"String has been written to {filename}\")\n",
    "    except IOError as e:\n",
    "        print(f\"An error occurred while writing to the file: {e}\")"
   ]
  },
  {
   "cell_type": "code",
   "execution_count": 4,
   "metadata": {},
   "outputs": [],
   "source": [
    "SYSTEM_PROMPT = \"\"\"\n",
    "I want you to act as software tester.\n",
    "Your task is to read this information about a use case.\n",
    "Then you predict all scenarios that can happen in this use case.\n",
    "\n",
    "Rules of generating scenarios you should follow:\n",
    "- Scenarios involve executing all steps within a specific flow with varied data or actions.\n",
    "- Scenarios should be independent and require a complete flow to proceed.\n",
    "- A scenario encompasses a whole function, not just verifying individual steps.\n",
    "- Each flow must have at least one test scenario to cover the flow.\n",
    "- Ensure that the test scenarios cover all the necessary aspects of the use case flow.\n",
    "\n",
    "I only need scenarios's name for the output, I do not need the steps to go with it.\n",
    "\"\"\""
   ]
  },
  {
   "cell_type": "code",
   "execution_count": 5,
   "metadata": {},
   "outputs": [],
   "source": [
    "usecase_path = r\"C:\\Users\\congc\\Desktop\\GPT\\Dissertation-GPT\\dataset\\SpecificationData\\Shopping System\"\n",
    "save_path = r\"C:\\Users\\congc\\Desktop\\GPT\\Dissertation-GPT\\evaluate\\prove\\Shopping System\\ts\""
   ]
  },
  {
   "cell_type": "code",
   "execution_count": 6,
   "metadata": {},
   "outputs": [],
   "source": [
    "usecase_name_list = []\n",
    "project_name = os.path.basename(usecase_path)"
   ]
  },
  {
   "cell_type": "code",
   "execution_count": 7,
   "metadata": {},
   "outputs": [
    {
     "name": "stdout",
     "output_type": "stream",
     "text": [
      "['add to cart', 'checkout', 'product information display', 'purchase', 'search']\n"
     ]
    }
   ],
   "source": [
    "for filename in os.listdir(usecase_path):\n",
    "    usecase_name_list.append (filename.split(\".txt\")[0])\n",
    "print(usecase_name_list)"
   ]
  },
  {
   "cell_type": "code",
   "execution_count": 8,
   "metadata": {},
   "outputs": [
    {
     "name": "stdout",
     "output_type": "stream",
     "text": [
      "add to cart\n",
      "gpt_response \n",
      "1. Successful Item Addition with Default Quantity\n",
      "2. Successful Item Addition with Increased Quantity\n",
      "3. Successful Item Addition with Option Selected\n",
      "4. Attempt to Add Item Without Selecting Option\n",
      "5. Attempt to Add More Items Than Available in Stock\n",
      "6. Attempt to Decrease Quantity Below One\n",
      "7. Attempt to Add Out of Stock Item\n",
      "8. Attempt to Add Item with Out of Stock Option\n",
      "9. Successful Item Addition with Maximum Quantity Based on Stock\n",
      "10. Successful Item Addition and Cart Icon Update\n",
      "String has been written to C:\\Users\\congc\\Desktop\\GPT\\Dissertation-GPT\\evaluate\\prove\\Shopping System\\ts\\add to cart.txt\n",
      "checkout\n",
      "gpt_response \n",
      "1. Successful Checkout with Default Options\n",
      "2. Checkout with Changed Shipping Address\n",
      "3. Checkout with New Shipping Address\n",
      "4. Checkout with Application Voucher Applied\n",
      "5. Checkout with Shop Voucher Applied\n",
      "6. Checkout with Changed Payment Method to Shopee Pay\n",
      "7. Checkout with Changed Payment Method to Google Pay\n",
      "8. Checkout with Changed Payment Method to Credit\n",
      "9. Checkout with Changed Shipping Option\n",
      "10. Checkout with Note for Shop Added\n",
      "11. Checkout with No Default Shipping Address\n",
      "12. Checkout with Incorrect Voucher Code\n",
      "13. Checkout with Disabled Voucher\n",
      "14. Checkout with Invalid Shipping Address\n",
      "15. Checkout with System Error During Order Processing\n",
      "String has been written to C:\\Users\\congc\\Desktop\\GPT\\Dissertation-GPT\\evaluate\\prove\\Shopping System\\ts\\checkout.txt\n",
      "product information display\n",
      "gpt_response \n",
      "1. Successful Product Information Display from Homepage\n",
      "2. Successful Product Information Display from Search Page\n",
      "3. Successful Product Information Display from Cart Page\n",
      "4. Display with Incomplete Product Information\n",
      "5. Display with All Product Information Sections Expanded\n",
      "6. Display with No Stock Available\n",
      "7. Display with Special Pricing and Discounts\n",
      "8. Display with No Customer Reviews and Ratings\n",
      "9. Display with High Volume of Customer Reviews and Ratings\n",
      "10. Display with No Related Products\n",
      "11. Display with Extensive List of Related Products\n",
      "12. User Expands Customer Reviews and Ratings\n",
      "13. User Expands Customer Questions\n",
      "14. User Scrolls Through Related Product Cards\n",
      "15. User Contacts Seller Directly Through Messaging System\n",
      "16. User Visits Seller's Store Page Through Store Link\n",
      "String has been written to C:\\Users\\congc\\Desktop\\GPT\\Dissertation-GPT\\evaluate\\prove\\Shopping System\\ts\\product information display.txt\n",
      "purchase\n",
      "gpt_response \n",
      "1. Successful Purchase from Shopping Cart with Multiple Items from Different Stores\n",
      "2. Successful Purchase from Shopping Cart with Items from the Same Store\n",
      "3. Successful Direct Purchase from Product Detail Page with Default Options\n",
      "4. Successful Direct Purchase from Product Detail Page with Selected Options and Adjusted Quantity\n",
      "5. Attempt to Purchase Out-of-Stock Item from Shopping Cart\n",
      "6. Attempt to Purchase without Selecting Options in Product Detail Page\n",
      "7. Attempt to Purchase with Quantity Exceeding Stock in Product Detail Page\n",
      "8. Attempt to Purchase with Quantity Less Than One in Product Detail Page\n",
      "9. Attempt to Purchase Out-of-Stock Product Directly from Product Detail Page\n",
      "10. Select All Items from One Store in Shopping Cart for Checkout\n",
      "11. Checkout with Disabled Button Due to Invalid Product Selection\n",
      "String has been written to C:\\Users\\congc\\Desktop\\GPT\\Dissertation-GPT\\evaluate\\prove\\Shopping System\\ts\\purchase.txt\n",
      "search\n",
      "gpt_response \n",
      "1. Successful Search with Product Name Keyword\n",
      "2. Successful Search with Product Description Keyword\n",
      "3. Successful Search with Shop Name Keyword\n",
      "4. Successful Search with Brand Name Keyword\n",
      "5. Search with No Matching Products, Shops, or Brands\n",
      "6. Pagination Functionality in Search Results\n",
      "7. Filter Search Results by Most Related\n",
      "8. Filter Search Results by Newest Products\n",
      "9. Filter Search Results by Best Sellers\n",
      "10. Filter Search Results by Price Ascending\n",
      "11. Filter Search Results by Price Descending\n",
      "12. No Search Results Found Scenario\n",
      "String has been written to C:\\Users\\congc\\Desktop\\GPT\\Dissertation-GPT\\evaluate\\prove\\Shopping System\\ts\\search.txt\n"
     ]
    }
   ],
   "source": [
    "for usecase_name in usecase_name_list:\n",
    "    print(usecase_name)\n",
    "    usecase_directlink = os.path.join(usecase_path,usecase_name+\".txt\")\n",
    "    prompt_all = read_file_content(usecase_directlink)\n",
    "    promptSYSTEM_PROMPT = [\n",
    "        { \"role\": \"system\", \"content\": SYSTEM_PROMPT},\n",
    "        { \"role\": \"user\", \"content\": prompt_all}\n",
    "    ]\n",
    "    gpt_response = ask(promptSYSTEM_PROMPT, client, model)    \n",
    "    print(\"gpt_response \\n\" +gpt_response)\n",
    "    write_string_to_file(os.path.join(save_path,f\"{usecase_name}.txt\"), gpt_response)"
   ]
  }
 ],
 "metadata": {
  "kernelspec": {
   "display_name": "Python 3",
   "language": "python",
   "name": "python3"
  },
  "language_info": {
   "codemirror_mode": {
    "name": "ipython",
    "version": 3
   },
   "file_extension": ".py",
   "mimetype": "text/x-python",
   "name": "python",
   "nbconvert_exporter": "python",
   "pygments_lexer": "ipython3",
   "version": "3.11.0"
  }
 },
 "nbformat": 4,
 "nbformat_minor": 2
}
