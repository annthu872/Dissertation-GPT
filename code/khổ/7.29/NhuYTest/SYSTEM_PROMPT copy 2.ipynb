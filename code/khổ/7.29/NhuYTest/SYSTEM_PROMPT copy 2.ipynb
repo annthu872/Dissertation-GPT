{
 "cells": [
  {
   "cell_type": "code",
   "execution_count": 1,
   "metadata": {},
   "outputs": [],
   "source": [
    "from openai import OpenAI\n",
    "import json\n",
    "import os\n",
    "\n",
    "GPT_MODEL_4 = \"gpt-4-0125-preview\"\n",
    "OPEN_API_KEY = os.getenv(\"OPENAI_API_KEY\")\n",
    "\n",
    "client = OpenAI()\n",
    "model = GPT_MODEL_4\n",
    "\n",
    "def ask(prompt, client, model, temperature = 0):\n",
    "    response = None\n",
    "    \n",
    "    response = client.chat.completions.create(\n",
    "      model=model,\n",
    "      messages=prompt,\n",
    "      temperature=temperature,\n",
    "    )\n",
    "\n",
    "    return response.choices[0].message.content\n",
    "\n",
    "def askJSON(prompt, client, model, temperature = 0):\n",
    "    response = None\n",
    "    \n",
    "    response = client.chat.completions.create(\n",
    "      model=model,\n",
    "      messages=prompt,\n",
    "      temperature=temperature,\n",
    "      response_format={ \"type\": \"json_object\" },\n",
    "    )\n",
    "\n",
    "    return response.choices[0].message.content"
   ]
  },
  {
   "cell_type": "code",
   "execution_count": 2,
   "metadata": {},
   "outputs": [],
   "source": [
    "import chardet\n",
    "\n",
    "def read_file_content(file_path):\n",
    "    # Detect the encoding\n",
    "    with open(file_path, 'rb') as file:\n",
    "        raw_data = file.read()\n",
    "        result = chardet.detect(raw_data)\n",
    "        encoding = result['encoding']\n",
    "    \n",
    "    # Read the file with the detected encoding\n",
    "    try:\n",
    "        with open(file_path, 'r', encoding=encoding) as file:\n",
    "            content = file.read()\n",
    "        return content\n",
    "    except FileNotFoundError:\n",
    "        return f\"Error: The file at path {file_path} was not found.\"\n",
    "    except UnicodeDecodeError:\n",
    "        return f\"Error: The file at path {file_path} cannot be decoded with the {encoding} encoding.\"\n",
    "    except IOError:\n",
    "        return f\"Error: An I/O error occurred while reading the file at path {file_path}.\"\n"
   ]
  },
  {
   "cell_type": "code",
   "execution_count": 3,
   "metadata": {},
   "outputs": [],
   "source": [
    "def write_string_to_file(filename, content):\n",
    "    try:\n",
    "        with open(filename, 'w') as file:\n",
    "            file.write(content)\n",
    "        print(f\"String has been written to {filename}\")\n",
    "    except IOError as e:\n",
    "        print(f\"An error occurred while writing to the file: {e}\")"
   ]
  },
  {
   "cell_type": "code",
   "execution_count": 4,
   "metadata": {},
   "outputs": [],
   "source": [
    "SYSTEM_PROMPT = \"\"\"\n",
    "I want you to act as software tester.\n",
    "Your task is to read this information about a use case.\n",
    "Then you predict all scenarios that can happen in this use case.\n",
    "\n",
    "Rules to predict scenarios:\n",
    "- Stay close to the details described in the flow.\n",
    "- Focus on important and likely scenarios, important scenario is the scenario that users are more likely to encounter it. \n",
    "- Minimize the appearance of rare scenarios. \n",
    "- If there is no other action in the flow beside clicking or there is no condition to vary the user's actions, that flow has one scenario only.\n",
    "- A scenario often refers to a specific sequence of events or user actions that could potentially lead to a change in how the application behaves or responds.\n",
    "- Test scenarios should be derived from cohesive sequences of steps that represent meaningful user interactions, rather than isolated steps.\n",
    "- A scenario should cover from the first step to the final step in the flow, the start or the result of the scenario could be different.\n",
    "- You cannot separate parts of a flow to be a scenario (Example: predict multiple scenarios for a flow by dividing steps into parts) because each scenarios should be independent and require a complete flow to proceed.\n",
    "I only need scenarios's name for the output, I do not need the steps to go with it.\n",
    "\"\"\""
   ]
  },
  {
   "cell_type": "code",
   "execution_count": 5,
   "metadata": {},
   "outputs": [],
   "source": [
    "usecase_path = r\"C:\\Users\\congc\\Desktop\\GPT\\Dissertation-GPT\\dataset\\SpecificationData\\Shopping System\"\n",
    "save_path = r\"C:\\Users\\congc\\Desktop\\GPT\\Dissertation-GPT\\evaluate\\prove\\Shopping System\\ts\""
   ]
  },
  {
   "cell_type": "code",
   "execution_count": 6,
   "metadata": {},
   "outputs": [],
   "source": [
    "usecase_name_list = []\n",
    "project_name = os.path.basename(usecase_path)"
   ]
  },
  {
   "cell_type": "code",
   "execution_count": 7,
   "metadata": {},
   "outputs": [
    {
     "name": "stdout",
     "output_type": "stream",
     "text": [
      "['add to cart', 'checkout', 'product information display', 'purchase', 'search']\n"
     ]
    }
   ],
   "source": [
    "for filename in os.listdir(usecase_path):\n",
    "    usecase_name_list.append (filename.split(\".txt\")[0])\n",
    "print(usecase_name_list)"
   ]
  },
  {
   "cell_type": "code",
   "execution_count": 8,
   "metadata": {},
   "outputs": [
    {
     "name": "stdout",
     "output_type": "stream",
     "text": [
      "add to cart\n",
      "gpt_response \n",
      "1. Successful Item Addition to Cart\n",
      "2. Add Item with Options to Cart\n",
      "3. Adjust Quantity Before Adding to Cart\n",
      "4. Prevent Addition Without Selecting Option\n",
      "5. Prevent Addition Over Maximum Stock\n",
      "6. Prevent Quantity Adjustment Below One\n",
      "7. Prevent Addition of Out-of-Stock Item\n",
      "String has been written to C:\\Users\\congc\\Desktop\\GPT\\Dissertation-GPT\\evaluate\\prove\\Shopping System\\ts\\add to cart.txt\n",
      "checkout\n",
      "gpt_response \n",
      "1. Successful Checkout with Default Options\n",
      "2. Checkout with Changed Shipping Address\n",
      "3. Checkout with Newly Added Shipping Address\n",
      "4. Checkout with Application or Shop Voucher Applied\n",
      "5. Checkout with Changed Shipping Option\n",
      "6. Checkout with Note Added for Shop\n",
      "7. Checkout with Error Due to Disabled Voucher\n",
      "8. Checkout with Error Due to Incorrect Voucher Code\n",
      "9. Checkout with Error Due to Invalid Shipping Address Input\n",
      "10. Checkout with Error and Suggested Corrective Actions\n",
      "String has been written to C:\\Users\\congc\\Desktop\\GPT\\Dissertation-GPT\\evaluate\\prove\\Shopping System\\ts\\checkout.txt\n",
      "product information display\n",
      "gpt_response \n",
      "1. Basic Product Information Display\n",
      "2. Viewing Expanded Customer Reviews\n",
      "3. Viewing Expanded Customer Questions\n",
      "4. Scrolling Through Related Products\n",
      "5. Contacting the Seller Directly\n",
      "6. Viewing Seller's Store and Other Products\n",
      "String has been written to C:\\Users\\congc\\Desktop\\GPT\\Dissertation-GPT\\evaluate\\prove\\Shopping System\\ts\\product information display.txt\n",
      "purchase\n",
      "gpt_response \n",
      "1. Successful Purchase from Shopping Cart with Multiple Items from Different Stores\n",
      "2. Successful Purchase from Shopping Cart with Items from a Single Store\n",
      "3. Successful Direct Purchase from Product Detail Page with Single Option\n",
      "4. Successful Direct Purchase from Product Detail Page with Multiple Options Selected\n",
      "5. Attempt to Purchase Out-of-Stock Item from Shopping Cart\n",
      "6. Attempt to Purchase Without Selecting an Option for a Product with Multiple Options\n",
      "7. Attempt to Purchase with Quantity Exceeding Stock from Product Detail Page\n",
      "8. Attempt to Purchase with Quantity Less Than One from Product Detail Page\n",
      "9. Attempt to Purchase Out-of-Stock Product from Product Detail Page\n",
      "String has been written to C:\\Users\\congc\\Desktop\\GPT\\Dissertation-GPT\\evaluate\\prove\\Shopping System\\ts\\purchase.txt\n",
      "search\n",
      "gpt_response \n",
      "1. Successful Product Search with Pagination\n",
      "2. Successful Shop Search with Shop Information and Products\n",
      "3. Successful Brand Search with Shop and Product Information\n",
      "4. Successful Search with No Shop or Brand Match\n",
      "5. Search Result Filtering by Relevance\n",
      "6. Search Result Filtering by Newest Products\n",
      "7. Search Result Filtering by Best Sellers\n",
      "8. Search Result Sorting by Price from Lowest to Highest\n",
      "9. Search Result Sorting by Price from Highest to Lowest\n",
      "10. No Search Results Found with Random Product Display\n",
      "String has been written to C:\\Users\\congc\\Desktop\\GPT\\Dissertation-GPT\\evaluate\\prove\\Shopping System\\ts\\search.txt\n"
     ]
    }
   ],
   "source": [
    "for usecase_name in usecase_name_list:\n",
    "    print(usecase_name)\n",
    "    usecase_directlink = os.path.join(usecase_path,usecase_name+\".txt\")\n",
    "    prompt_all = read_file_content(usecase_directlink)\n",
    "    promptSYSTEM_PROMPT = [\n",
    "        { \"role\": \"system\", \"content\": SYSTEM_PROMPT},\n",
    "        { \"role\": \"user\", \"content\": prompt_all}\n",
    "    ]\n",
    "    gpt_response = ask(promptSYSTEM_PROMPT, client, model)    \n",
    "    print(\"gpt_response \\n\" +gpt_response)\n",
    "    write_string_to_file(os.path.join(save_path,f\"{usecase_name}.txt\"), gpt_response)"
   ]
  }
 ],
 "metadata": {
  "kernelspec": {
   "display_name": "Python 3",
   "language": "python",
   "name": "python3"
  },
  "language_info": {
   "codemirror_mode": {
    "name": "ipython",
    "version": 3
   },
   "file_extension": ".py",
   "mimetype": "text/x-python",
   "name": "python",
   "nbconvert_exporter": "python",
   "pygments_lexer": "ipython3",
   "version": "3.11.0"
  }
 },
 "nbformat": 4,
 "nbformat_minor": 2
}
