{
 "cells": [
  {
   "cell_type": "code",
   "execution_count": 9,
   "metadata": {},
   "outputs": [],
   "source": [
    "from openai import OpenAI\n",
    "import json\n",
    "import os\n",
    "\n",
    "GPT_MODEL_4 = \"gpt-4-0125-preview\"\n",
    "OPEN_API_KEY = os.getenv(\"OPENAI_API_KEY\")\n",
    "\n",
    "client = OpenAI()\n",
    "model = GPT_MODEL_4\n",
    "\n",
    "def ask(prompt, client, model, temperature = 0):\n",
    "    response = None\n",
    "    \n",
    "    response = client.chat.completions.create(\n",
    "      model=model,\n",
    "      messages=prompt,\n",
    "      temperature=temperature,\n",
    "    )\n",
    "\n",
    "    return response.choices[0].message.content\n",
    "\n",
    "def askJSON(prompt, client, model, temperature = 0):\n",
    "    response = None\n",
    "    \n",
    "    response = client.chat.completions.create(\n",
    "      model=model,\n",
    "      messages=prompt,\n",
    "      temperature=temperature,\n",
    "      response_format={ \"type\": \"json_object\" },\n",
    "    )\n",
    "\n",
    "    return response.choices[0].message.content"
   ]
  },
  {
   "cell_type": "code",
   "execution_count": 10,
   "metadata": {},
   "outputs": [],
   "source": [
    "import chardet\n",
    "\n",
    "def read_file_content(file_path):\n",
    "    # Detect the encoding\n",
    "    with open(file_path, 'rb') as file:\n",
    "        raw_data = file.read()\n",
    "        result = chardet.detect(raw_data)\n",
    "        encoding = result['encoding']\n",
    "    \n",
    "    # Read the file with the detected encoding\n",
    "    try:\n",
    "        with open(file_path, 'r', encoding=encoding) as file:\n",
    "            content = file.read()\n",
    "        return content\n",
    "    except FileNotFoundError:\n",
    "        return f\"Error: The file at path {file_path} was not found.\"\n",
    "    except UnicodeDecodeError:\n",
    "        return f\"Error: The file at path {file_path} cannot be decoded with the {encoding} encoding.\"\n",
    "    except IOError:\n",
    "        return f\"Error: An I/O error occurred while reading the file at path {file_path}.\"\n"
   ]
  },
  {
   "cell_type": "code",
   "execution_count": 11,
   "metadata": {},
   "outputs": [],
   "source": [
    "def write_string_to_file(filename, content):\n",
    "    try:\n",
    "        with open(filename, 'w') as file:\n",
    "            file.write(content)\n",
    "        print(f\"String has been written to {filename}\")\n",
    "    except IOError as e:\n",
    "        print(f\"An error occurred while writing to the file: {e}\")"
   ]
  },
  {
   "cell_type": "code",
   "execution_count": 12,
   "metadata": {},
   "outputs": [],
   "source": [
    "SYSTEM_PROMPT = \"\"\"\n",
    "Based on the provided use case specification, please generate a set of test scenarios to thoroughly test the functionality described in the use case.\n",
    "Rules to predict scenarios:\n",
    "- Stay close to the details described in the flow.\n",
    "- Focus on important and likely scenarios, important scenario is the scenario that users are more likely to encounter it. \n",
    "- Minimize the appearance of rare scenarios. \n",
    "- Test scenarios should be derived from cohesive sequences of steps that represent meaningful user interactions, rather than isolated steps.\n",
    "- Do not generate scenarios with user analysis. (Example: User accidentally do A and user intentionally do A is the same scenario, so do not consider about \"accidentally\" or \"intentionally\" in scenario)\n",
    "- You cannot separate parts of a flow to be a scenario (Example: predict multiple scenarios for a flow by dividing steps into parts) because each scenarios should be independent and require a complete flow to proceed.\n",
    "I only need scenarios's name for the output, I do not need the steps to go with it.\n",
    "\"\"\""
   ]
  },
  {
   "cell_type": "code",
   "execution_count": 13,
   "metadata": {},
   "outputs": [],
   "source": [
    "usecase_path = r\"C:\\Users\\congc\\Desktop\\GPT\\Dissertation-GPT\\dataset\\SpecificationData\\Shopping System\"\n",
    "save_path = r\"C:\\Users\\congc\\Desktop\\GPT\\Dissertation-GPT\\evaluate\\prove\\Shopping System\\ts\""
   ]
  },
  {
   "cell_type": "code",
   "execution_count": 14,
   "metadata": {},
   "outputs": [],
   "source": [
    "usecase_name_list = []\n",
    "project_name = os.path.basename(usecase_path)"
   ]
  },
  {
   "cell_type": "code",
   "execution_count": 15,
   "metadata": {},
   "outputs": [
    {
     "name": "stdout",
     "output_type": "stream",
     "text": [
      "['add to cart', 'checkout', 'product information display', 'purchase', 'search']\n"
     ]
    }
   ],
   "source": [
    "for filename in os.listdir(usecase_path):\n",
    "    usecase_name_list.append (filename.split(\".txt\")[0])\n",
    "print(usecase_name_list)"
   ]
  },
  {
   "cell_type": "code",
   "execution_count": 16,
   "metadata": {},
   "outputs": [
    {
     "name": "stdout",
     "output_type": "stream",
     "text": [
      "add to cart\n",
      "gpt_response \n",
      "1. Add Single Option Product to Cart\n",
      "2. Add Multi-Option Product to Cart After Selecting an Option\n",
      "3. Adjust Quantity Before Adding Product to Cart\n",
      "4. Prevent Adding Product Without Selecting Option\n",
      "5. Prevent Adding Product Over Maximum Stock\n",
      "6. Prevent Reducing Quantity Below One\n",
      "7. Prevent Adding Out of Stock Product to Cart\n",
      "String has been written to C:\\Users\\congc\\Desktop\\GPT\\Dissertation-GPT\\evaluate\\prove\\Shopping System\\ts\\add to cart.txt\n",
      "checkout\n",
      "gpt_response \n",
      "1. Successful Checkout with Default Options\n",
      "2. Checkout with Changed Shipping Address\n",
      "3. Checkout with New Shipping Address\n",
      "4. Checkout with Changed Payment Method\n",
      "5. Checkout with Application Voucher Applied\n",
      "6. Checkout with Shop Voucher Applied\n",
      "7. Checkout with Changed Shipping Option\n",
      "8. Checkout with Note for Shop Added\n",
      "9. Checkout with No Default Shipping Address\n",
      "10. Checkout with Incorrect Voucher Code\n",
      "11. Checkout with Disabled Voucher\n",
      "12. Checkout with Invalid Shipping Address Input\n",
      "13. Checkout with Order Issue and Corrective Action Suggested\n",
      "String has been written to C:\\Users\\congc\\Desktop\\GPT\\Dissertation-GPT\\evaluate\\prove\\Shopping System\\ts\\checkout.txt\n",
      "product information display\n",
      "gpt_response \n",
      "1. Display Product Information from Homepage\n",
      "2. Display Product Information from Search Page\n",
      "3. Display Product Information from Cart Page\n",
      "4. Expand Customer Reviews and Ratings\n",
      "5. Expand Customer Questions\n",
      "6. Scroll to View More Related Products\n",
      "7. Contact Seller Directly\n",
      "8. View Other Products from Seller via Store Link\n",
      "String has been written to C:\\Users\\congc\\Desktop\\GPT\\Dissertation-GPT\\evaluate\\prove\\Shopping System\\ts\\product information display.txt\n",
      "purchase\n",
      "gpt_response \n",
      "1. Successful Purchase from Shopping Cart with Multiple Items from Different Stores\n",
      "2. Successful Purchase from Shopping Cart with Items from a Single Store\n",
      "3. Successful Direct Purchase from Product Detail Page with Default Options\n",
      "4. Successful Direct Purchase from Product Detail Page with Selected Options and Adjusted Quantity\n",
      "5. Attempt to Purchase an Out-of-Stock Item from Shopping Cart\n",
      "6. Attempt to Direct Purchase Without Selecting Available Options\n",
      "7. Attempt to Direct Purchase with Quantity Exceeding Stock\n",
      "8. Attempt to Direct Purchase with Quantity Less Than One\n",
      "9. Attempt to Direct Purchase an Out-of-Stock Product from Product Detail Page\n",
      "String has been written to C:\\Users\\congc\\Desktop\\GPT\\Dissertation-GPT\\evaluate\\prove\\Shopping System\\ts\\purchase.txt\n",
      "search\n",
      "gpt_response \n",
      "1. Successful Product Search by Keyword\n",
      "2. Successful Shop Search by Keyword\n",
      "3. Successful Brand Search by Keyword\n",
      "4. Search with No Relevant Results\n",
      "5. Pagination in Search Results\n",
      "6. Filter Search Results by Relevance\n",
      "7. Filter Search Results by Newest Products\n",
      "8. Filter Search Results by Best Sellers\n",
      "9. Sort Search Results by Price Ascending\n",
      "10. Sort Search Results by Price Descending\n",
      "String has been written to C:\\Users\\congc\\Desktop\\GPT\\Dissertation-GPT\\evaluate\\prove\\Shopping System\\ts\\search.txt\n"
     ]
    }
   ],
   "source": [
    "for usecase_name in usecase_name_list:\n",
    "    print(usecase_name)\n",
    "    usecase_directlink = os.path.join(usecase_path,usecase_name+\".txt\")\n",
    "    prompt_all = read_file_content(usecase_directlink)\n",
    "    promptSYSTEM_PROMPT = [\n",
    "        { \"role\": \"system\", \"content\": SYSTEM_PROMPT},\n",
    "        { \"role\": \"user\", \"content\": prompt_all}\n",
    "    ]\n",
    "    gpt_response = ask(promptSYSTEM_PROMPT, client, model)    \n",
    "    print(\"gpt_response \\n\" +gpt_response)\n",
    "    write_string_to_file(os.path.join(save_path,f\"{usecase_name}.txt\"), gpt_response)"
   ]
  }
 ],
 "metadata": {
  "kernelspec": {
   "display_name": "Python 3",
   "language": "python",
   "name": "python3"
  },
  "language_info": {
   "codemirror_mode": {
    "name": "ipython",
    "version": 3
   },
   "file_extension": ".py",
   "mimetype": "text/x-python",
   "name": "python",
   "nbconvert_exporter": "python",
   "pygments_lexer": "ipython3",
   "version": "3.11.0"
  }
 },
 "nbformat": 4,
 "nbformat_minor": 2
}
