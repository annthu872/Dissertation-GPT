{
 "cells": [
  {
   "cell_type": "code",
   "execution_count": 1,
   "metadata": {},
   "outputs": [],
   "source": [
    "from openai import OpenAI\n",
    "import json\n",
    "import os\n",
    "\n",
    "GPT_MODEL_4 = \"gpt-4-0125-preview\"\n",
    "OPEN_API_KEY = os.getenv(\"OPENAI_API_KEY\")\n",
    "\n",
    "client = OpenAI()\n",
    "model = GPT_MODEL_4\n",
    "\n",
    "def ask(prompt, client, model, temperature = 0):\n",
    "    response = None\n",
    "    \n",
    "    response = client.chat.completions.create(\n",
    "      model=model,\n",
    "      messages=prompt,\n",
    "      temperature=temperature,\n",
    "    )\n",
    "\n",
    "    return response.choices[0].message.content\n",
    "\n",
    "def askJSON(prompt, client, model, temperature = 0):\n",
    "    response = None\n",
    "    \n",
    "    response = client.chat.completions.create(\n",
    "      model=model,\n",
    "      messages=prompt,\n",
    "      temperature=temperature,\n",
    "      response_format={ \"type\": \"json_object\" },\n",
    "    )\n",
    "\n",
    "    return response.choices[0].message.content"
   ]
  },
  {
   "cell_type": "code",
   "execution_count": 2,
   "metadata": {},
   "outputs": [],
   "source": [
    "import chardet\n",
    "\n",
    "def read_file_content(file_path):\n",
    "    # Detect the encoding\n",
    "    with open(file_path, 'rb') as file:\n",
    "        raw_data = file.read()\n",
    "        result = chardet.detect(raw_data)\n",
    "        encoding = result['encoding']\n",
    "    \n",
    "    # Read the file with the detected encoding\n",
    "    try:\n",
    "        with open(file_path, 'r', encoding=encoding) as file:\n",
    "            content = file.read()\n",
    "        return content\n",
    "    except FileNotFoundError:\n",
    "        return f\"Error: The file at path {file_path} was not found.\"\n",
    "    except UnicodeDecodeError:\n",
    "        return f\"Error: The file at path {file_path} cannot be decoded with the {encoding} encoding.\"\n",
    "    except IOError:\n",
    "        return f\"Error: An I/O error occurred while reading the file at path {file_path}.\"\n"
   ]
  },
  {
   "cell_type": "code",
   "execution_count": 3,
   "metadata": {},
   "outputs": [],
   "source": [
    "def write_string_to_file(filename, content):\n",
    "    try:\n",
    "        with open(filename, 'w') as file:\n",
    "            file.write(content)\n",
    "        print(f\"String has been written to {filename}\")\n",
    "    except IOError as e:\n",
    "        print(f\"An error occurred while writing to the file: {e}\")"
   ]
  },
  {
   "cell_type": "code",
   "execution_count": 4,
   "metadata": {},
   "outputs": [],
   "source": [
    "SYSTEM_PROMPT = \"\"\"\n",
    "Based on the provided use case specification, please generate a set of test scenarios to thoroughly test the functionality described in the use case.\n",
    "Your task is to generate suitable test scenarios that cover all the flows and test the boundaries of conditions, if possible. Each scenario should clearly and specifically describe the situation to be tested.\n",
    "Example for condition: \"a valid username must be over 8 characters and below 30 characters.\" When you meets something like this, make sure to treat each condition as a negative scenario seperately. That means you will have two negative scenario: invalid username with lower than 8 characters and invalid username with higher than 30 characters. \n",
    "Please ensure that your test scenarios cover both the main flow and any alternate flows mentioned in the use case specification. Also, consider potential exception flows to address errors, failures, or unexpected events that could occur during the execution of the use case and encompass negative test scenarios (including edge cases and invalid inputs), and unexpected user behaviors.\n",
    "Keep in mind the agile nature of the application and prioritize scenarios that align closely with the given use case specification and the application's requirements.\n",
    "Return the list of test scenarios name to test the use case\n",
    "Rules to predict scenarios:\n",
    "- Stay close to the details described in the flow.\n",
    "- Focus on important and likely scenarios, important scenario is the scenario that users are more likely to encounter it. \n",
    "- Minimize the appearance of rare scenarios. \n",
    "- Test scenarios should be derived from cohesive sequences of steps that represent meaningful user interactions, rather than isolated steps.\n",
    "- Do not generate scenarios with user analysis. (Example: User accidentally do A and user intentionally do A is the same scenario, so do not consider about \"accidentally\" or \"intentionally\" in scenario)\n",
    "- You cannot separate parts of a flow to be a scenario (Example: predict multiple scenarios for a flow by dividing steps into parts) because each scenarios should be independent and require a complete flow to proceed.\n",
    "I only need scenarios's name for the output, I do not need the steps to go with it.\n",
    "\"\"\""
   ]
  },
  {
   "cell_type": "code",
   "execution_count": 5,
   "metadata": {},
   "outputs": [],
   "source": [
    "usecase_path = r\"D:\\Dissertation-GPT\\dataset\\SpecificationData\\Shopping System\"\n",
    "save_path = r\"D:\\Dissertation-GPT\\evaluate\\prove\\Shopping System\\ts\""
   ]
  },
  {
   "cell_type": "code",
   "execution_count": 6,
   "metadata": {},
   "outputs": [],
   "source": [
    "usecase_name_list = []\n",
    "project_name = os.path.basename(usecase_path)"
   ]
  },
  {
   "cell_type": "code",
   "execution_count": 7,
   "metadata": {},
   "outputs": [
    {
     "name": "stdout",
     "output_type": "stream",
     "text": [
      "['add to cart', 'checkout', 'product information display', 'purchase', 'search']\n"
     ]
    }
   ],
   "source": [
    "for filename in os.listdir(usecase_path):\n",
    "    usecase_name_list.append (filename.split(\".txt\")[0])\n",
    "print(usecase_name_list)"
   ]
  },
  {
   "cell_type": "code",
   "execution_count": 8,
   "metadata": {},
   "outputs": [
    {
     "name": "stdout",
     "output_type": "stream",
     "text": [
      "add to cart\n",
      "gpt_response \n",
      "1. Successful Item Addition to Cart\n",
      "2. Successful Item Addition with Option Selection\n",
      "3. Successful Item Quantity Adjustment Before Adding to Cart\n",
      "4. Attempt to Add Item Without Selecting Option\n",
      "5. Attempt to Increase Quantity Beyond Stock Limit\n",
      "6. Attempt to Decrease Quantity Below Minimum\n",
      "7. Attempt to Add Out of Stock Item to Cart\n",
      "8. Attempt to Add Item with Out of Stock Option\n",
      "9. View Cart After Adding Item\n",
      "10. Add Multiple Different Items to Cart\n",
      "11. Add Multiple Quantities of the Same Item to Cart\n",
      "12. Add Item to Cart with Maximum Stock Quantity\n",
      "String has been written to D:\\Dissertation-GPT\\evaluate\\prove\\Shopping System\\ts\\add to cart.txt\n",
      "checkout\n",
      "gpt_response \n",
      "1. Successful Checkout with Default Settings\n",
      "2. Successful Checkout with Changed Shipping Address\n",
      "3. Successful Checkout with New Shipping Address\n",
      "4. Successful Checkout with Changed Payment Method\n",
      "5. Successful Checkout with Application Voucher Applied\n",
      "6. Successful Checkout with Shop Voucher Applied\n",
      "7. Successful Checkout with Changed Shipping Option\n",
      "8. Successful Checkout with Note for Shop Added\n",
      "9. Checkout with No Default Shipping Address\n",
      "10. Checkout with Invalid Shipping Address Input\n",
      "11. Checkout with Unavailable Location's Address\n",
      "12. Checkout with Invalid Full Name for Shipping Address\n",
      "13. Checkout with Invalid Phone Number Format for Shipping Address\n",
      "14. Checkout with Disabled Voucher Code\n",
      "15. Checkout with Incorrect Voucher Code\n",
      "16. Checkout with Payment Processing Error\n",
      "String has been written to D:\\Dissertation-GPT\\evaluate\\prove\\Shopping System\\ts\\checkout.txt\n",
      "product information display\n",
      "gpt_response \n",
      "1. Display Product Information from Homepage\n",
      "2. Display Product Information from Search Page\n",
      "3. Display Product Information from Cart Page\n",
      "4. Display Product Information with All Details\n",
      "5. Expand Customer Reviews and Ratings\n",
      "6. Expand Customer Questions\n",
      "7. Scroll to View More Related Products\n",
      "8. Contact Seller Directly Through Messaging System\n",
      "9. View Other Products from Seller via Store Link\n",
      "String has been written to D:\\Dissertation-GPT\\evaluate\\prove\\Shopping System\\ts\\product information display.txt\n",
      "purchase\n",
      "gpt_response \n",
      "1. Successful Purchase with Single Item from Product Detail Page\n",
      "2. Successful Purchase with Multiple Items from Shopping Cart\n",
      "3. Successful Purchase with Items from Multiple Stores\n",
      "4. Select All Items from One Store for Checkout\n",
      "5. Adjust Quantity Before Adding to Cart from Product Detail Page\n",
      "6. Purchase Product with Multiple Options by Selecting an Option\n",
      "7. Prevent Purchase of Out of Stock Item from Shopping Cart\n",
      "8. Prevent Purchase Without Selecting an Option for Products with Multiple Options\n",
      "9. Prevent Purchase with Quantity Higher Than Stock from Product Detail Page\n",
      "10. Prevent Purchase with Quantity Lower Than One from Product Detail Page\n",
      "11. Prevent Purchase of Product with No Stock from Product Detail Page\n",
      "12. Checkout Button Disabled for Invalid Product Selection\n",
      "String has been written to D:\\Dissertation-GPT\\evaluate\\prove\\Shopping System\\ts\\purchase.txt\n",
      "search\n",
      "gpt_response \n",
      "1. Successful search with keyword matching product name or description\n",
      "2. Successful search with keyword matching shop name\n",
      "3. Successful search with keyword matching brand name\n",
      "4. Search with keyword not matching any shop, brand, or product\n",
      "5. Pagination functionality in search results\n",
      "6. Search results filtered by most related with the keyword\n",
      "7. Search results filtered by newest product\n",
      "8. Search results filtered by best seller\n",
      "9. Search results sorted by price from lowest to highest\n",
      "10. Search results sorted by price from highest to lowest\n",
      "11. Display of shop information in search results when keyword matches shop name\n",
      "12. Display of best sold shop information when keyword matches brand name\n",
      "13. No search results found and display of random product cards\n",
      "14. Search with empty keyword\n",
      "15. Search with maximum character limit exceeded in keyword\n",
      "16. Search with special characters in keyword\n",
      "String has been written to D:\\Dissertation-GPT\\evaluate\\prove\\Shopping System\\ts\\search.txt\n"
     ]
    }
   ],
   "source": [
    "for usecase_name in usecase_name_list:\n",
    "    print(usecase_name)\n",
    "    usecase_directlink = os.path.join(usecase_path,usecase_name+\".txt\")\n",
    "    prompt_all = read_file_content(usecase_directlink)\n",
    "    promptSYSTEM_PROMPT = [\n",
    "        { \"role\": \"system\", \"content\": SYSTEM_PROMPT},\n",
    "        { \"role\": \"user\", \"content\": prompt_all}\n",
    "    ]\n",
    "    gpt_response = ask(promptSYSTEM_PROMPT, client, model)    \n",
    "    print(\"gpt_response \\n\" +gpt_response)\n",
    "    write_string_to_file(os.path.join(save_path,f\"{usecase_name}.txt\"), gpt_response)"
   ]
  }
 ],
 "metadata": {
  "kernelspec": {
   "display_name": "Python 3",
   "language": "python",
   "name": "python3"
  },
  "language_info": {
   "codemirror_mode": {
    "name": "ipython",
    "version": 3
   },
   "file_extension": ".py",
   "mimetype": "text/x-python",
   "name": "python",
   "nbconvert_exporter": "python",
   "pygments_lexer": "ipython3",
   "version": "3.10.9"
  }
 },
 "nbformat": 4,
 "nbformat_minor": 2
}
