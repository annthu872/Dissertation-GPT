{
 "cells": [
  {
   "cell_type": "code",
   "execution_count": 41,
   "metadata": {},
   "outputs": [],
   "source": [
    "from openai import OpenAI\n",
    "import json\n",
    "import os\n",
    "\n",
    "GPT_MODEL_4 = \"gpt-4-0125-preview\"\n",
    "OPEN_API_KEY = os.getenv(\"OPENAI_API_KEY\")\n",
    "\n",
    "client = OpenAI()\n",
    "model = GPT_MODEL_4\n",
    "\n",
    "def ask(prompt, client, model, temperature = 0):\n",
    "    response = None\n",
    "    \n",
    "    response = client.chat.completions.create(\n",
    "      model=model,\n",
    "      messages=prompt,\n",
    "      temperature=temperature,\n",
    "    )\n",
    "\n",
    "    return response.choices[0].message.content\n",
    "\n",
    "def askJSON(prompt, client, model, temperature = 0):\n",
    "    response = None\n",
    "    \n",
    "    response = client.chat.completions.create(\n",
    "      model=model,\n",
    "      messages=prompt,\n",
    "      temperature=temperature,\n",
    "      response_format={ \"type\": \"json_object\" },\n",
    "    )\n",
    "\n",
    "    return response.choices[0].message.content"
   ]
  },
  {
   "cell_type": "code",
   "execution_count": 42,
   "metadata": {},
   "outputs": [],
   "source": [
    "import chardet\n",
    "\n",
    "def read_file_content(file_path):\n",
    "    # Detect the encoding\n",
    "    with open(file_path, 'rb') as file:\n",
    "        raw_data = file.read()\n",
    "        result = chardet.detect(raw_data)\n",
    "        encoding = result['encoding']\n",
    "    \n",
    "    # Read the file with the detected encoding\n",
    "    try:\n",
    "        with open(file_path, 'r', encoding=encoding) as file:\n",
    "            content = file.read()\n",
    "        return content\n",
    "    except FileNotFoundError:\n",
    "        return f\"Error: The file at path {file_path} was not found.\"\n",
    "    except UnicodeDecodeError:\n",
    "        return f\"Error: The file at path {file_path} cannot be decoded with the {encoding} encoding.\"\n",
    "    except IOError:\n",
    "        return f\"Error: An I/O error occurred while reading the file at path {file_path}.\"\n"
   ]
  },
  {
   "cell_type": "code",
   "execution_count": 43,
   "metadata": {},
   "outputs": [],
   "source": [
    "def write_string_to_file(filename, content):\n",
    "    try:\n",
    "        with open(filename, 'w') as file:\n",
    "            file.write(content)\n",
    "        print(f\"String has been written to {filename}\")\n",
    "    except IOError as e:\n",
    "        print(f\"An error occurred while writing to the file: {e}\")"
   ]
  },
  {
   "cell_type": "code",
   "execution_count": 44,
   "metadata": {},
   "outputs": [],
   "source": [
    "SYSTEM_PROMPT = \"\"\"\n",
    "Based on the provided use case specification, please generate a set of test scenarios to thoroughly test the functionality described in the use case.\n",
    "Your task is to generate suitable test scenarios that cover all the flows and test the boundaries of conditions, if possible. Each scenario should clearly and specifically describe the situation to be tested.\n",
    "Example for condition: \"a valid username must be over 8 characters and below 30 characters.\" When you meets something like this, make sure to treat each condition as a negative scenario seperately. That means you will have two negative scenario: invalid username with lower than 8 characters and invalid username with higher than 30 characters. \n",
    "Please ensure that your test scenarios cover both the main flow and any alternate flows mentioned in the use case specification. Also, consider potential exception flows to address errors, failures, or unexpected events that could occur during the execution of the use case and encompass negative test scenarios (including edge cases and invalid inputs), and unexpected user behaviors.\n",
    "Keep in mind the agile nature of the application and prioritize scenarios that align closely with the given use case specification and the application's requirements.\n",
    "Return the list of test scenarios name to test the use case\n",
    "Rules to predict scenarios:\n",
    "- Stay close to the details described in the flow.\n",
    "- Focus on important and likely scenarios, important scenario is the scenario that users are more likely to encounter it. \n",
    "- Minimize the appearance of rare scenarios. \n",
    "- Test scenarios should be derived from cohesive sequences of steps that represent meaningful user interactions, rather than isolated steps.\n",
    "- Do not generate scenarios with user analysis. (Example: User accidentally do A and user intentionally do A is the same scenario, so do not consider about \"accidentally\" or \"intentionally\" in scenario)\n",
    "- You cannot separate parts of a flow to be a scenario (Example: predict multiple scenarios for a flow by dividing steps into parts) because each scenarios should be independent and require a complete flow to proceed.\n",
    "I only need scenarios's name for the output, I do not need the steps to go with it.\n",
    "\"\"\""
   ]
  },
  {
   "cell_type": "code",
   "execution_count": 45,
   "metadata": {},
   "outputs": [],
   "source": [
    "usecase_path = r\"D:\\Dissertation-GPT\\dataset\\SpecificationData\\Shopping System\"\n",
    "# save_path = r\"D:\\Dissertation-GPT\\evaluate\\prove\\Matcha\\ts\""
   ]
  },
  {
   "cell_type": "code",
   "execution_count": 46,
   "metadata": {},
   "outputs": [],
   "source": [
    "usecase_name_list = []\n",
    "project_name = os.path.basename(usecase_path)"
   ]
  },
  {
   "cell_type": "code",
   "execution_count": 47,
   "metadata": {},
   "outputs": [
    {
     "name": "stdout",
     "output_type": "stream",
     "text": [
      "['add to cart', 'checkout', 'product information display', 'purchase', 'search']\n"
     ]
    }
   ],
   "source": [
    "for filename in os.listdir(usecase_path):\n",
    "    usecase_name_list.append (filename.split(\".txt\")[0])\n",
    "print(usecase_name_list)\n",
    "# usecase_name_list=[\"AddQuestion \"]"
   ]
  },
  {
   "cell_type": "code",
   "execution_count": 48,
   "metadata": {},
   "outputs": [
    {
     "name": "stdout",
     "output_type": "stream",
     "text": [
      "add to cart\n",
      "gpt_response \n",
      "1. Add Single Option Product to Cart Successfully\n",
      "2. Add Multi-Option Product to Cart Successfully\n",
      "3. Adjust Quantity Before Adding Product to Cart\n",
      "4. Add Product to Cart Without Selecting Option\n",
      "5. Add Product to Cart With Quantity Exceeding Stock\n",
      "6. Decrease Product Quantity Below One\n",
      "7. Add Out of Stock Product to Cart\n",
      "8. Add Product With Out of Stock Option to Cart\n",
      "9. View and Manage Items in Shopping Cart After Addition\n",
      "checkout\n",
      "gpt_response \n",
      "1. Successful Checkout with Default Options\n",
      "2. Checkout with Changed Shipping Address\n",
      "3. Checkout with Added New Shipping Address\n",
      "4. Checkout with Changed Payment Method\n",
      "5. Checkout with Application Voucher Applied\n",
      "6. Checkout with Shop Voucher Applied\n",
      "7. Checkout with Changed Shipping Option\n",
      "8. Checkout with Note Added for Shop\n",
      "9. Checkout with All User Customizations (Address, Payment, Voucher, Shipping Option, Note)\n",
      "10. Checkout with No Default Shipping Address and Adding New One\n",
      "11. Checkout with Incorrect Voucher Code\n",
      "12. Checkout with Disabled Voucher\n",
      "13. Checkout with Invalid Shipping Address Details\n",
      "14. Checkout with Unavailable Location's Address\n",
      "15. Checkout with System Error and Corrective Action Suggested\n",
      "product information display\n",
      "gpt_response \n",
      "1. Display Product Information from Homepage\n",
      "2. Display Product Information from Search Page\n",
      "3. Display Product Information from Cart Page\n",
      "4. Display Product Information with All Details\n",
      "5. Display Product Information with High-Quality Images\n",
      "6. Display Product Information with Videos\n",
      "7. Display Product Information with Specifications\n",
      "8. Display Product Information with Price and Discounts\n",
      "9. Display Product Information with Stock Availability\n",
      "10. Display Product Information with Delivery Options and Shipping Fees\n",
      "11. Display Seller Profile in Product Information\n",
      "12. Contact Seller from Product Information\n",
      "13. Navigate to Seller's Store from Product Information\n",
      "14. Display Customer Reviews and Ratings in Product Information\n",
      "15. Expand Customer Reviews in Product Information\n",
      "16. Expand Customer Questions in Product Information\n",
      "17. Scroll to View More Related Products\n",
      "18. Display Product Information without Discounts (Negative Scenario)\n",
      "19. Display Product Information with Out-of-Stock Status (Negative Scenario)\n",
      "20. Display Product Information with No Customer Reviews (Negative Scenario)\n",
      "21. Display Product Information with No Related Products (Negative Scenario)\n",
      "22. Display Product Information with Missing Images or Videos (Negative Scenario)\n",
      "23. Display Product Information with Incomplete Specifications (Negative Scenario)\n",
      "24. Display Product Information with Delayed Delivery Options (Negative Scenario)\n",
      "25. Display Product Information with Unavailable Seller Contact Option (Negative Scenario)\n",
      "purchase\n",
      "gpt_response \n",
      "1. Successful Purchase with Single Item from Product Detail Page\n",
      "2. Successful Purchase with Multiple Items from Shopping Cart\n",
      "3. Successful Purchase with Items from Multiple Shops\n",
      "4. Select All Items from One Store for Checkout\n",
      "5. Adjust Quantity Before Adding to Cart in Product Detail Page\n",
      "6. Purchase Product with Multiple Options by Selecting One\n",
      "7. Attempt to Purchase Out of Stock Product from Shopping Cart\n",
      "8. Attempt to Purchase Without Selecting Option for Product with Multiple Options\n",
      "9. Attempt to Purchase with Quantity Exceeding Stock\n",
      "10. Attempt to Purchase with Quantity Less Than One\n",
      "11. Attempt to Purchase Product with No Stock from Product Detail Page\n",
      "12. Checkout Button Disabled for Invalid Product Selection\n",
      "search\n",
      "gpt_response \n",
      "1. Successful Search With Keyword Matching Product Name\n",
      "2. Successful Search With Keyword Matching Product Description\n",
      "3. Successful Search With Keyword Matching Shop Name\n",
      "4. Successful Search With Keyword Matching Brand Name\n",
      "5. Search With Keyword Not Matching Any Shop or Brand\n",
      "6. Search Result Pagination Functionality\n",
      "7. Search With Filter By Most Related\n",
      "8. Search With Filter By Newest Product\n",
      "9. Search With Filter By Best Seller\n",
      "10. Search With Filter By Price Lowest to Highest\n",
      "11. Search With Filter By Price Highest to Lowest\n",
      "12. No Search Results Found Scenario\n",
      "13. Search With Empty Keyword\n",
      "14. Search With Special Characters in Keyword\n",
      "15. Search With Numeric Values in Keyword\n",
      "16. Search Result Display Limit of 60 Products Per Page\n",
      "17. Navigation Through Pagination Beyond Available Pages\n"
     ]
    }
   ],
   "source": [
    "for usecase_name in usecase_name_list:\n",
    "    print(usecase_name)\n",
    "    usecase_directlink = os.path.join(usecase_path,usecase_name+\".txt\")\n",
    "    prompt_all = read_file_content(usecase_directlink)\n",
    "    promptSYSTEM_PROMPT = [\n",
    "        { \"role\": \"system\", \"content\": SYSTEM_PROMPT},\n",
    "        { \"role\": \"user\", \"content\": prompt_all}\n",
    "    ]\n",
    "    gpt_response = ask(promptSYSTEM_PROMPT, client, model)    \n",
    "    print(\"gpt_response \\n\" +gpt_response)\n",
    "    # write_string_to_file(os.path.join(save_path,f\"{usecase_name}.txt\"), gpt_response)"
   ]
  }
 ],
 "metadata": {
  "kernelspec": {
   "display_name": "Python 3",
   "language": "python",
   "name": "python3"
  },
  "language_info": {
   "codemirror_mode": {
    "name": "ipython",
    "version": 3
   },
   "file_extension": ".py",
   "mimetype": "text/x-python",
   "name": "python",
   "nbconvert_exporter": "python",
   "pygments_lexer": "ipython3",
   "version": "3.10.9"
  }
 },
 "nbformat": 4,
 "nbformat_minor": 2
}
