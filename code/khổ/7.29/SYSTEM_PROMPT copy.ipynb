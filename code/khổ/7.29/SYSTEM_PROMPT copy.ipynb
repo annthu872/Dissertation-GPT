{
 "cells": [
  {
   "cell_type": "code",
   "execution_count": 1,
   "metadata": {},
   "outputs": [],
   "source": [
    "from openai import OpenAI\n",
    "import json\n",
    "import os\n",
    "\n",
    "GPT_MODEL_4 = \"gpt-4-0125-preview\"\n",
    "OPEN_API_KEY = os.getenv(\"OPENAI_API_KEY\")\n",
    "\n",
    "client = OpenAI()\n",
    "model = GPT_MODEL_4\n",
    "\n",
    "def ask(prompt, client, model, temperature = 0):\n",
    "    response = None\n",
    "    \n",
    "    response = client.chat.completions.create(\n",
    "      model=model,\n",
    "      messages=prompt,\n",
    "      temperature=temperature,\n",
    "    )\n",
    "\n",
    "    return response.choices[0].message.content\n",
    "\n",
    "def askJSON(prompt, client, model, temperature = 0):\n",
    "    response = None\n",
    "    \n",
    "    response = client.chat.completions.create(\n",
    "      model=model,\n",
    "      messages=prompt,\n",
    "      temperature=temperature,\n",
    "      response_format={ \"type\": \"json_object\" },\n",
    "    )\n",
    "\n",
    "    return response.choices[0].message.content"
   ]
  },
  {
   "cell_type": "code",
   "execution_count": 2,
   "metadata": {},
   "outputs": [],
   "source": [
    "import chardet\n",
    "\n",
    "def read_file_content(file_path):\n",
    "    # Detect the encoding\n",
    "    with open(file_path, 'rb') as file:\n",
    "        raw_data = file.read()\n",
    "        result = chardet.detect(raw_data)\n",
    "        encoding = result['encoding']\n",
    "    \n",
    "    # Read the file with the detected encoding\n",
    "    try:\n",
    "        with open(file_path, 'r', encoding=encoding) as file:\n",
    "            content = file.read()\n",
    "        return content\n",
    "    except FileNotFoundError:\n",
    "        return f\"Error: The file at path {file_path} was not found.\"\n",
    "    except UnicodeDecodeError:\n",
    "        return f\"Error: The file at path {file_path} cannot be decoded with the {encoding} encoding.\"\n",
    "    except IOError:\n",
    "        return f\"Error: An I/O error occurred while reading the file at path {file_path}.\"\n"
   ]
  },
  {
   "cell_type": "code",
   "execution_count": 3,
   "metadata": {},
   "outputs": [],
   "source": [
    "def write_string_to_file(filename, content):\n",
    "    try:\n",
    "        with open(filename, 'w') as file:\n",
    "            file.write(content)\n",
    "        print(f\"String has been written to {filename}\")\n",
    "    except IOError as e:\n",
    "        print(f\"An error occurred while writing to the file: {e}\")"
   ]
  },
  {
   "cell_type": "code",
   "execution_count": 4,
   "metadata": {},
   "outputs": [],
   "source": [
    "SYSTEM_PROMPT = \"\"\"\n",
    "Based on the provided use case flow, generate specific test scenarios that effectively cover the functionality defined within that flow. Ensure that the test scenarios are clear, specific, and avoid redundancy to optimize resource utilization. \n",
    "Consider the following rules:\n",
    "Use the provided use case flow as a reference to generate specific test scenarios.\n",
    "Each test scenario should be a sentence that describes a unique situation to be tested.\n",
    "The test scenarios should focus on verifying the correct functioning of the system in specific situations, avoiding overlapping scenarios.\n",
    "Test scenarios must be clear and specific, leaving no room for ambiguity.\n",
    "Ensure that the test scenarios cover all the necessary aspects of the use case flow.\n",
    "Generate test scenarios that adhere to these rules, optimizing resources by avoiding redundant scenarios and focusing on testing the system's correct functioning in unique situations specified in the use case flow.\n",
    "\"\"\"\n",
    "# The test scenario generated has to describe objective of test scenario (what to test), how to perform the test scenario (expected test step)"
   ]
  },
  {
   "cell_type": "code",
   "execution_count": 5,
   "metadata": {},
   "outputs": [],
   "source": [
    "usecase_path = r\"D:\\Dissertation-GPT\\dataset\\SpecificationData\\Shopping System\"\n",
    "# save_path = r\"D:\\Dissertation-GPT\\evaluate\\prove\\Shopping System\\ts\""
   ]
  },
  {
   "cell_type": "code",
   "execution_count": 6,
   "metadata": {},
   "outputs": [],
   "source": [
    "usecase_name_list = []\n",
    "project_name = os.path.basename(usecase_path)"
   ]
  },
  {
   "cell_type": "code",
   "execution_count": 7,
   "metadata": {},
   "outputs": [
    {
     "name": "stdout",
     "output_type": "stream",
     "text": [
      "['add to cart', 'checkout', 'product information display', 'purchase', 'search']\n"
     ]
    }
   ],
   "source": [
    "for filename in os.listdir(usecase_path):\n",
    "    usecase_name_list.append (filename.split(\".txt\")[0])\n",
    "print(usecase_name_list)"
   ]
  },
  {
   "cell_type": "code",
   "execution_count": 8,
   "metadata": {},
   "outputs": [
    {
     "name": "stdout",
     "output_type": "stream",
     "text": [
      "add to cart\n",
      "gpt_response \n",
      "1. Verify that a logged-in user can view a product detail.\n",
      "2. Verify that clicking the \"Add to Cart\" button adds the item to the user's shopping cart.\n",
      "3. Verify that the system confirms the addition of an item to the cart with a notification or message.\n",
      "4. Verify that the cart icon updates to reflect the new number of items in the cart after an item is added.\n",
      "5. Verify that for products with multiple options, the user is prompted to select an option before they can add the item to their cart.\n",
      "6. Verify that the user can adjust the quantity of a product before adding it to the cart using the plus and minus buttons.\n",
      "7. Verify that the system prevents adding a product to the cart without selecting one of its available options if it has multiple options.\n",
      "8. Verify that the system disables the plus button and displays a message when the user tries to add more items to the cart than are available in stock.\n",
      "9. Verify that the minus button is disabled when the quantity is at one to prevent the user from reducing the quantity below one.\n",
      "10. Verify that attempting to add a product with no stock or an out-of-stock option to the cart is prevented by the system.\n",
      "11. Verify that the user can successfully add a product with multiple options to the cart after selecting one of the available options.\n",
      "12. Verify that the system correctly updates the cart's item count when multiple items are added to the cart.\n",
      "13. Verify that the system allows the user to adjust the quantity of a product to the maximum stock available using the plus button.\n",
      "14. Verify that the system prevents adding a product to the cart if the product or selected option is out of stock, displaying an appropriate message to the user.\n",
      "15. Verify that the user can view and manage items in their shopping cart after adding products.\n",
      "checkout\n",
      "gpt_response \n",
      "1. Verify that a logged-in user can initiate the purchase feature.\n",
      "2. Verify that the order summary accurately displays items, quantities, prices, and total cost.\n",
      "3. Verify that the default shipping address is set, and the user can successfully change it.\n",
      "4. Verify that the default payment method is set to COD and can be changed to other options like Shopee Pay, Google Pay, or credit.\n",
      "5. Verify that the user can apply both application and shop vouchers by selecting available ones or entering a voucher code.\n",
      "6. Verify that the default shipping option is set to Standard Express and can be changed by the user.\n",
      "7. Verify that the user can add a note for the shop.\n",
      "8. Verify that the total cost updates accurately based on user changes such as shipping option, address, payment method, and vouchers.\n",
      "9. Verify that clicking the \"Place Order\" button processes the payment and confirms the order.\n",
      "10. Verify that the order confirmation and details are displayed to the user after placing the order.\n",
      "11. Verify that if no default shipping address is set, the system forces the user to add a new shipping address.\n",
      "12. Verify that the user can select a saved shipping address from a list after clicking the change shipping address button.\n",
      "13. Verify that the user can successfully add a new shipping address by filling out the form with valid inputs.\n",
      "14. Verify that applying a correct voucher code successfully adds the voucher to the order and discounts it accordingly.\n",
      "15. Verify that changing the shipping option updates the order details and total cost as expected.\n",
      "16. Verify that the system prevents the addition of a disabled voucher.\n",
      "17. Verify that the system rejects incorrect voucher codes with an appropriate error message.\n",
      "18. Verify that adding a new shipping address with invalid inputs or an unidentifiable location on the map triggers a notification and prevents the addition.\n",
      "19. Verify that any issue with the order (e.g., payment details, shipping address) triggers an error message with corrective actions.\n",
      "product information display\n",
      "gpt_response \n",
      "1. Verify that clicking on a product card from the homepage, search page, or cart page displays the product information page.\n",
      "2. Verify that the product title is displayed prominently on the product information page.\n",
      "3. Verify that a detailed product description, including key features, usage instructions, and benefits, is provided.\n",
      "4. Verify that high-quality images of the product from multiple angles are showcased.\n",
      "5. Verify that videos demonstrating the product's features and usage are included.\n",
      "6. Verify that detailed product specifications (e.g., dimensions, weight, material, color options, etc.) are listed.\n",
      "7. Verify that the current price of the product is displayed.\n",
      "8. Verify that any discounts, offers, or special pricing available are highlighted.\n",
      "9. Verify that real-time stock availability for the product is shown.\n",
      "10. Verify that available shipping methods and estimated delivery times are displayed.\n",
      "11. Verify that shipping fees are clearly mentioned.\n",
      "12. Verify that the seller's profile, including their name, ratings, and reviews, is displayed.\n",
      "13. Verify that an option to contact the seller directly through the platform's messaging system is provided.\n",
      "14. Verify that a link to the seller's store page on the platform, allowing users to view other products from the same seller, is included.\n",
      "15. Verify that the average rating based on customer reviews is displayed under the 'Customer Reviews and Ratings' section.\n",
      "16. Verify that the 3 latest detailed reviews, including ratings, written feedback, and user-uploaded images, are shown.\n",
      "17. Verify that a list of related product cards is displayed at the bottom of the product information page.\n",
      "18. Verify that users can expand the 'Customer Reviews and Ratings' section to view more reviews.\n",
      "19. Verify that users can expand the 'Customer Questions' section to view more questions and seller answers.\n",
      "20. Verify that users can scroll to view more related product cards.\n",
      "21. Verify that clicking on the seller contact option opens the platform's messaging system to contact the seller directly.\n",
      "22. Verify that clicking on the Store Link navigates to the seller's store page on the platform.\n",
      "purchase\n",
      "gpt_response \n",
      "1. Verify that a user can add items to the shopping cart from the product detail page.\n",
      "2. Verify that a user can select individual items for checkout by clicking the checkbox next to each item in the shopping cart.\n",
      "3. Verify that the system correctly displays the summary costs after items are selected for checkout.\n",
      "4. Verify that clicking the \"Checkout\" button redirects the user to a new page showing the orders separated by the shop origin of the products.\n",
      "5. Verify that selecting all items from one store using the checkbox at the head of the store functions correctly.\n",
      "6. Verify that a user can view a product detail, select options (if available), adjust quantity, and proceed to checkout directly from the product detail page.\n",
      "7. Verify that the system correctly processes checkout and shows a single order for a product purchased directly from the product detail page.\n",
      "8. Verify that products out of stock or removed by the seller cannot be selected for purchase in the shopping cart.\n",
      "9. Verify that the system prevents the purchase of a product with options if no option is selected.\n",
      "10. Verify that the system prevents the purchase of a product if the selected quantity exceeds the current stock or is less than one.\n",
      "11. Verify that the \"Checkout\" button is disabled for products that are invalid for purchase due to stock issues or unselected options.\n",
      "12. Verify that products from the same shop are grouped into one order during the checkout process.\n",
      "13. Verify that the system prevents the purchase of a product with no stock or an out-of-stock option when the product has multiple options.\n",
      "14. Verify that the system allows the user to adjust the quantity of a product before adding it to the cart using the minus and plus buttons.\n",
      "15. Verify that the system correctly redirects the user to a page showing new orders after clicking the \"Checkout\" button from the shopping cart page.\n",
      "search\n",
      "gpt_response \n",
      "1. Verify that clicking on the search bar allows the user to type a keyword.\n",
      "2. Test typing a specific keyword related to a product name and pressing enter displays relevant product listings.\n",
      "3. Check that clicking the search icon after typing a keyword displays relevant product listings.\n",
      "4. Ensure that a maximum of 60 product cards are shown per page in the search results.\n",
      "5. Verify that the pagination bar works correctly, allowing the user to navigate to different pages of search results.\n",
      "6. Test searching for a keyword related to a shop name displays the shop's information and products at the top of the search results.\n",
      "7. Ensure that searching for a keyword related to a brand name, where no specific shop is available, displays the most related/best-sold shops that sell that brand.\n",
      "8. Verify that if a keyword does not match any shop or brand, the system displays related product cards based on the keyword.\n",
      "9. Test the filter functionality to ensure the search results can be filtered by the most related results, newest products, best sellers, and price (both lowest to highest and highest to lowest).\n",
      "10. Check that the default filter setting prioritizes exact matches by name, followed by partial matches by name, and then matches by description.\n",
      "11. Verify that if no search results are found, the system displays random product cards instead.\n",
      "12. Test the functionality of the pagination bar's left and right buttons to ensure users can navigate through search result pages.\n",
      "13. Ensure that the search results include a shop's number of items, ratings, response rate, and average response time when a keyword matches a shop name.\n",
      "14. Verify that the system correctly displays related products when a keyword is associated with a brand name but no specific shop is available.\n",
      "15. Test the search functionality with a keyword that is unlikely to match any product, shop, or brand to verify the \"No Search Results Found\" flow.\n"
     ]
    }
   ],
   "source": [
    "for usecase_name in usecase_name_list:\n",
    "    print(usecase_name)\n",
    "    usecase_directlink = os.path.join(usecase_path,usecase_name+\".txt\")\n",
    "    prompt_all = read_file_content(usecase_directlink)\n",
    "    promptSYSTEM_PROMPT = [\n",
    "        { \"role\": \"system\", \"content\": SYSTEM_PROMPT},\n",
    "        { \"role\": \"user\", \"content\": prompt_all}\n",
    "    ]\n",
    "    gpt_response = ask(promptSYSTEM_PROMPT, client, model)    \n",
    "    print(\"gpt_response \\n\" +gpt_response)\n",
    "    # write_string_to_file(os.path.join(save_path,f\"{usecase_name}.txt\"), gpt_response)"
   ]
  }
 ],
 "metadata": {
  "kernelspec": {
   "display_name": "Python 3",
   "language": "python",
   "name": "python3"
  },
  "language_info": {
   "codemirror_mode": {
    "name": "ipython",
    "version": 3
   },
   "file_extension": ".py",
   "mimetype": "text/x-python",
   "name": "python",
   "nbconvert_exporter": "python",
   "pygments_lexer": "ipython3",
   "version": "3.10.9"
  }
 },
 "nbformat": 4,
 "nbformat_minor": 2
}
