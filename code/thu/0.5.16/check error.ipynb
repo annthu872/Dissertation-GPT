{
 "cells": [
  {
   "cell_type": "code",
   "execution_count": 13,
   "metadata": {},
   "outputs": [
    {
     "name": "stdout",
     "output_type": "stream",
     "text": [
      "A: List of cell values that do not match any value in Column B\n",
      "viewing the Last Page of Genres Using 'Next' Button\n",
      "B: List of cell values that do not match any value in Column A\n",
      "Viewing the Last Page of Genres Using 'Next' Button\n"
     ]
    }
   ],
   "source": [
    "import pandas as pd\n",
    "\n",
    "def find_non_matching_values(file_path):\n",
    "    # Read the Excel file\n",
    "    df = pd.read_excel(file_path)\n",
    "\n",
    "    # Get the values of columns 'A' and 'B'\n",
    "    col_A = df.iloc[:, 0].dropna().tolist()\n",
    "    col_B = df.iloc[:, 1].dropna().tolist()\n",
    "\n",
    "    # Find non-matching values\n",
    "    non_matching_A = [value for value in col_A if value not in col_B]\n",
    "    non_matching_B = [value for value in col_B if value not in col_A]\n",
    "\n",
    "    # Print the non-matching values\n",
    "    print(\"A: List of cell values that do not match any value in Column B\")\n",
    "    for i in non_matching_A:\n",
    "        print(i)\n",
    "    print(\"B: List of cell values that do not match any value in Column A\")\n",
    "    # print(non_matching_B)\n",
    "    for i in non_matching_B:\n",
    "        print(i)\n",
    "\n",
    "# Example usage:\n",
    "file_path = 'check.xlsx'\n",
    "find_non_matching_values(file_path)\n"
   ]
  }
 ],
 "metadata": {
  "kernelspec": {
   "display_name": "base",
   "language": "python",
   "name": "python3"
  },
  "language_info": {
   "codemirror_mode": {
    "name": "ipython",
    "version": 3
   },
   "file_extension": ".py",
   "mimetype": "text/x-python",
   "name": "python",
   "nbconvert_exporter": "python",
   "pygments_lexer": "ipython3",
   "version": "3.10.9"
  }
 },
 "nbformat": 4,
 "nbformat_minor": 2
}
