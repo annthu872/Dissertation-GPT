{
 "cells": [
  {
   "cell_type": "code",
   "execution_count": 2,
   "metadata": {},
   "outputs": [
    {
     "ename": "ValueError",
     "evalue": "embedded null character",
     "output_type": "error",
     "traceback": [
      "\u001b[1;31m---------------------------------------------------------------------------\u001b[0m",
      "\u001b[1;31mValueError\u001b[0m                                Traceback (most recent call last)",
      "Cell \u001b[1;32mIn[2], line 4\u001b[0m\n\u001b[0;32m      1\u001b[0m \u001b[38;5;28;01mimport\u001b[39;00m \u001b[38;5;21;01mpandas\u001b[39;00m \u001b[38;5;28;01mas\u001b[39;00m \u001b[38;5;21;01mpd\u001b[39;00m\n\u001b[0;32m      3\u001b[0m \u001b[38;5;66;03m# Load the refined and raw Excel files\u001b[39;00m\n\u001b[1;32m----> 4\u001b[0m refined_df \u001b[38;5;241m=\u001b[39m \u001b[43mpd\u001b[49m\u001b[38;5;241;43m.\u001b[39;49m\u001b[43mread_excel\u001b[49m\u001b[43m(\u001b[49m\u001b[38;5;124;43m\"\u001b[39;49m\u001b[38;5;124;43mD:\u001b[39;49m\u001b[38;5;124;43m\\\u001b[39;49m\u001b[38;5;124;43mDissertation-GPT\u001b[39;49m\u001b[38;5;124;43m\\\u001b[39;49m\u001b[38;5;124;43mcode\u001b[39;49m\u001b[38;5;130;43;01m\\t\u001b[39;49;00m\u001b[38;5;124;43mhu\u001b[39;49m\u001b[38;5;130;43;01m\\0\u001b[39;49;00m\u001b[38;5;124;43m.5.16\u001b[39;49m\u001b[38;5;130;43;01m\\t\u001b[39;49;00m\u001b[38;5;124;43mest_cases.xlsx\u001b[39;49m\u001b[38;5;124;43m\"\u001b[39;49m\u001b[43m)\u001b[49m\n\u001b[0;32m      5\u001b[0m raw_df \u001b[38;5;241m=\u001b[39m pd\u001b[38;5;241m.\u001b[39mread_excel(\u001b[38;5;124m\"\u001b[39m\u001b[38;5;124mD:\u001b[39m\u001b[38;5;124m\\\u001b[39m\u001b[38;5;124mDissertation-GPT\u001b[39m\u001b[38;5;124m\\\u001b[39m\u001b[38;5;124mcode\u001b[39m\u001b[38;5;130;01m\\t\u001b[39;00m\u001b[38;5;124mhu\u001b[39m\u001b[38;5;130;01m\\0\u001b[39;00m\u001b[38;5;124m.5.16\u001b[39m\u001b[38;5;124m\\\u001b[39m\u001b[38;5;124moutput.xlsx\u001b[39m\u001b[38;5;124m\"\u001b[39m)\n\u001b[0;32m      7\u001b[0m \u001b[38;5;66;03m# Define the columns to compare and the assessment columns\u001b[39;00m\n",
      "File \u001b[1;32me:\\ProgramData\\anaconda3\\lib\\site-packages\\pandas\\util\\_decorators.py:211\u001b[0m, in \u001b[0;36mdeprecate_kwarg.<locals>._deprecate_kwarg.<locals>.wrapper\u001b[1;34m(*args, **kwargs)\u001b[0m\n\u001b[0;32m    209\u001b[0m     \u001b[38;5;28;01melse\u001b[39;00m:\n\u001b[0;32m    210\u001b[0m         kwargs[new_arg_name] \u001b[38;5;241m=\u001b[39m new_arg_value\n\u001b[1;32m--> 211\u001b[0m \u001b[38;5;28;01mreturn\u001b[39;00m func(\u001b[38;5;241m*\u001b[39margs, \u001b[38;5;241m*\u001b[39m\u001b[38;5;241m*\u001b[39mkwargs)\n",
      "File \u001b[1;32me:\\ProgramData\\anaconda3\\lib\\site-packages\\pandas\\util\\_decorators.py:331\u001b[0m, in \u001b[0;36mdeprecate_nonkeyword_arguments.<locals>.decorate.<locals>.wrapper\u001b[1;34m(*args, **kwargs)\u001b[0m\n\u001b[0;32m    325\u001b[0m \u001b[38;5;28;01mif\u001b[39;00m \u001b[38;5;28mlen\u001b[39m(args) \u001b[38;5;241m>\u001b[39m num_allow_args:\n\u001b[0;32m    326\u001b[0m     warnings\u001b[38;5;241m.\u001b[39mwarn(\n\u001b[0;32m    327\u001b[0m         msg\u001b[38;5;241m.\u001b[39mformat(arguments\u001b[38;5;241m=\u001b[39m_format_argument_list(allow_args)),\n\u001b[0;32m    328\u001b[0m         \u001b[38;5;167;01mFutureWarning\u001b[39;00m,\n\u001b[0;32m    329\u001b[0m         stacklevel\u001b[38;5;241m=\u001b[39mfind_stack_level(),\n\u001b[0;32m    330\u001b[0m     )\n\u001b[1;32m--> 331\u001b[0m \u001b[38;5;28;01mreturn\u001b[39;00m func(\u001b[38;5;241m*\u001b[39margs, \u001b[38;5;241m*\u001b[39m\u001b[38;5;241m*\u001b[39mkwargs)\n",
      "File \u001b[1;32me:\\ProgramData\\anaconda3\\lib\\site-packages\\pandas\\io\\excel\\_base.py:482\u001b[0m, in \u001b[0;36mread_excel\u001b[1;34m(io, sheet_name, header, names, index_col, usecols, squeeze, dtype, engine, converters, true_values, false_values, skiprows, nrows, na_values, keep_default_na, na_filter, verbose, parse_dates, date_parser, thousands, decimal, comment, skipfooter, convert_float, mangle_dupe_cols, storage_options)\u001b[0m\n\u001b[0;32m    480\u001b[0m \u001b[38;5;28;01mif\u001b[39;00m \u001b[38;5;129;01mnot\u001b[39;00m \u001b[38;5;28misinstance\u001b[39m(io, ExcelFile):\n\u001b[0;32m    481\u001b[0m     should_close \u001b[38;5;241m=\u001b[39m \u001b[38;5;28;01mTrue\u001b[39;00m\n\u001b[1;32m--> 482\u001b[0m     io \u001b[38;5;241m=\u001b[39m \u001b[43mExcelFile\u001b[49m\u001b[43m(\u001b[49m\u001b[43mio\u001b[49m\u001b[43m,\u001b[49m\u001b[43m \u001b[49m\u001b[43mstorage_options\u001b[49m\u001b[38;5;241;43m=\u001b[39;49m\u001b[43mstorage_options\u001b[49m\u001b[43m,\u001b[49m\u001b[43m \u001b[49m\u001b[43mengine\u001b[49m\u001b[38;5;241;43m=\u001b[39;49m\u001b[43mengine\u001b[49m\u001b[43m)\u001b[49m\n\u001b[0;32m    483\u001b[0m \u001b[38;5;28;01melif\u001b[39;00m engine \u001b[38;5;129;01mand\u001b[39;00m engine \u001b[38;5;241m!=\u001b[39m io\u001b[38;5;241m.\u001b[39mengine:\n\u001b[0;32m    484\u001b[0m     \u001b[38;5;28;01mraise\u001b[39;00m \u001b[38;5;167;01mValueError\u001b[39;00m(\n\u001b[0;32m    485\u001b[0m         \u001b[38;5;124m\"\u001b[39m\u001b[38;5;124mEngine should not be specified when passing \u001b[39m\u001b[38;5;124m\"\u001b[39m\n\u001b[0;32m    486\u001b[0m         \u001b[38;5;124m\"\u001b[39m\u001b[38;5;124man ExcelFile - ExcelFile already has the engine set\u001b[39m\u001b[38;5;124m\"\u001b[39m\n\u001b[0;32m    487\u001b[0m     )\n",
      "File \u001b[1;32me:\\ProgramData\\anaconda3\\lib\\site-packages\\pandas\\io\\excel\\_base.py:1652\u001b[0m, in \u001b[0;36mExcelFile.__init__\u001b[1;34m(self, path_or_buffer, engine, storage_options)\u001b[0m\n\u001b[0;32m   1650\u001b[0m     ext \u001b[38;5;241m=\u001b[39m \u001b[38;5;124m\"\u001b[39m\u001b[38;5;124mxls\u001b[39m\u001b[38;5;124m\"\u001b[39m\n\u001b[0;32m   1651\u001b[0m \u001b[38;5;28;01melse\u001b[39;00m:\n\u001b[1;32m-> 1652\u001b[0m     ext \u001b[38;5;241m=\u001b[39m \u001b[43minspect_excel_format\u001b[49m\u001b[43m(\u001b[49m\n\u001b[0;32m   1653\u001b[0m \u001b[43m        \u001b[49m\u001b[43mcontent_or_path\u001b[49m\u001b[38;5;241;43m=\u001b[39;49m\u001b[43mpath_or_buffer\u001b[49m\u001b[43m,\u001b[49m\u001b[43m \u001b[49m\u001b[43mstorage_options\u001b[49m\u001b[38;5;241;43m=\u001b[39;49m\u001b[43mstorage_options\u001b[49m\n\u001b[0;32m   1654\u001b[0m \u001b[43m    \u001b[49m\u001b[43m)\u001b[49m\n\u001b[0;32m   1655\u001b[0m     \u001b[38;5;28;01mif\u001b[39;00m ext \u001b[38;5;129;01mis\u001b[39;00m \u001b[38;5;28;01mNone\u001b[39;00m:\n\u001b[0;32m   1656\u001b[0m         \u001b[38;5;28;01mraise\u001b[39;00m \u001b[38;5;167;01mValueError\u001b[39;00m(\n\u001b[0;32m   1657\u001b[0m             \u001b[38;5;124m\"\u001b[39m\u001b[38;5;124mExcel file format cannot be determined, you must specify \u001b[39m\u001b[38;5;124m\"\u001b[39m\n\u001b[0;32m   1658\u001b[0m             \u001b[38;5;124m\"\u001b[39m\u001b[38;5;124man engine manually.\u001b[39m\u001b[38;5;124m\"\u001b[39m\n\u001b[0;32m   1659\u001b[0m         )\n",
      "File \u001b[1;32me:\\ProgramData\\anaconda3\\lib\\site-packages\\pandas\\io\\excel\\_base.py:1525\u001b[0m, in \u001b[0;36minspect_excel_format\u001b[1;34m(content_or_path, storage_options)\u001b[0m\n\u001b[0;32m   1522\u001b[0m \u001b[38;5;28;01mif\u001b[39;00m \u001b[38;5;28misinstance\u001b[39m(content_or_path, \u001b[38;5;28mbytes\u001b[39m):\n\u001b[0;32m   1523\u001b[0m     content_or_path \u001b[38;5;241m=\u001b[39m BytesIO(content_or_path)\n\u001b[1;32m-> 1525\u001b[0m \u001b[38;5;28;01mwith\u001b[39;00m \u001b[43mget_handle\u001b[49m\u001b[43m(\u001b[49m\n\u001b[0;32m   1526\u001b[0m \u001b[43m    \u001b[49m\u001b[43mcontent_or_path\u001b[49m\u001b[43m,\u001b[49m\u001b[43m \u001b[49m\u001b[38;5;124;43m\"\u001b[39;49m\u001b[38;5;124;43mrb\u001b[39;49m\u001b[38;5;124;43m\"\u001b[39;49m\u001b[43m,\u001b[49m\u001b[43m \u001b[49m\u001b[43mstorage_options\u001b[49m\u001b[38;5;241;43m=\u001b[39;49m\u001b[43mstorage_options\u001b[49m\u001b[43m,\u001b[49m\u001b[43m \u001b[49m\u001b[43mis_text\u001b[49m\u001b[38;5;241;43m=\u001b[39;49m\u001b[38;5;28;43;01mFalse\u001b[39;49;00m\n\u001b[0;32m   1527\u001b[0m \u001b[43m\u001b[49m\u001b[43m)\u001b[49m \u001b[38;5;28;01mas\u001b[39;00m handle:\n\u001b[0;32m   1528\u001b[0m     stream \u001b[38;5;241m=\u001b[39m handle\u001b[38;5;241m.\u001b[39mhandle\n\u001b[0;32m   1529\u001b[0m     stream\u001b[38;5;241m.\u001b[39mseek(\u001b[38;5;241m0\u001b[39m)\n",
      "File \u001b[1;32me:\\ProgramData\\anaconda3\\lib\\site-packages\\pandas\\io\\common.py:865\u001b[0m, in \u001b[0;36mget_handle\u001b[1;34m(path_or_buf, mode, encoding, compression, memory_map, is_text, errors, storage_options)\u001b[0m\n\u001b[0;32m    856\u001b[0m         handle \u001b[38;5;241m=\u001b[39m \u001b[38;5;28mopen\u001b[39m(\n\u001b[0;32m    857\u001b[0m             handle,\n\u001b[0;32m    858\u001b[0m             ioargs\u001b[38;5;241m.\u001b[39mmode,\n\u001b[1;32m   (...)\u001b[0m\n\u001b[0;32m    861\u001b[0m             newline\u001b[38;5;241m=\u001b[39m\u001b[38;5;124m\"\u001b[39m\u001b[38;5;124m\"\u001b[39m,\n\u001b[0;32m    862\u001b[0m         )\n\u001b[0;32m    863\u001b[0m     \u001b[38;5;28;01melse\u001b[39;00m:\n\u001b[0;32m    864\u001b[0m         \u001b[38;5;66;03m# Binary mode\u001b[39;00m\n\u001b[1;32m--> 865\u001b[0m         handle \u001b[38;5;241m=\u001b[39m \u001b[38;5;28;43mopen\u001b[39;49m\u001b[43m(\u001b[49m\u001b[43mhandle\u001b[49m\u001b[43m,\u001b[49m\u001b[43m \u001b[49m\u001b[43mioargs\u001b[49m\u001b[38;5;241;43m.\u001b[39;49m\u001b[43mmode\u001b[49m\u001b[43m)\u001b[49m\n\u001b[0;32m    866\u001b[0m     handles\u001b[38;5;241m.\u001b[39mappend(handle)\n\u001b[0;32m    868\u001b[0m \u001b[38;5;66;03m# Convert BytesIO or file objects passed with an encoding\u001b[39;00m\n",
      "\u001b[1;31mValueError\u001b[0m: embedded null character"
     ]
    }
   ],
   "source": [
    "# import pandas as pd\n",
    "\n",
    "# # Load the refined and raw Excel files\n",
    "# refined_df = pd.read_excel(\"D:\\Dissertation-GPT\\code\\thu\\0.5.16\\test_cases.xlsx\")\n",
    "# raw_df = pd.read_excel(\"D:\\Dissertation-GPT\\code\\thu\\0.5.16\\output.xlsx\")\n",
    "\n",
    "# # Define the columns to compare and the assessment columns\n",
    "# compare_columns = ['Use Case Name', 'Test Scenario Name', 'Test Case Name', 'Objective', 'Test Steps', 'Expected Result']\n",
    "# assessment_columns = ['Valid (Testable)', 'Invalid (untestable)', 'Reflect (with test scenario)', 'Duplicate', 'Suggested Test case']\n",
    "\n",
    "# # Iterate over each row in the refined DataFrame\n",
    "# for index, refined_row in refined_df.iterrows():\n",
    "#     # Create a boolean mask to identify matching rows in the raw DataFrame\n",
    "#     match_mask = (raw_df[compare_columns] == refined_row[compare_columns]).all(axis=1)\n",
    "    \n",
    "#     # If a match is found, update the assessment columns\n",
    "#     if match_mask.any():\n",
    "#         raw_df.loc[match_mask, assessment_columns] = refined_row[assessment_columns].values\n",
    "\n",
    "# # Save the updated raw DataFrame to a new Excel file\n",
    "# raw_df.to_excel('path/to/updated_raw.xlsx', index=False)\n"
   ]
  },
  {
   "cell_type": "code",
   "execution_count": 6,
   "metadata": {},
   "outputs": [],
   "source": [
    "import pandas as pd\n",
    "\n",
    "# Load the refined and raw Excel files\n",
    "refined_file_path = r\"D:\\Dissertation-GPT\\code\\thu\\0.5.16\\test_cases.xlsx\"  # Update with your file path\n",
    "raw_file_path = r\"D:\\Dissertation-GPT\\code\\thu\\0.5.16\\output.xlsx\"  # Update with your file path\n",
    "\n",
    "# Read the Excel files\n",
    "refined_df = pd.read_excel(refined_file_path)\n",
    "raw_df = pd.read_excel(raw_file_path)\n",
    "\n",
    "# Define the columns to compare and the assessment columns\n",
    "compare_columns = ['Use Case Name', 'Test Scenario Name', 'Test Case Name', 'Objective', 'Test Steps', 'Expected Result']\n",
    "assessment_columns = ['Valid (Testable)', 'Invalid (untestable)', 'Reflect (with test scenario)', 'Duplicate', 'Suggested Test case']\n",
    "\n",
    "# Iterate over each row in the refined DataFrame\n",
    "for index, refined_row in refined_df.iterrows():\n",
    "    # Create a boolean mask to identify matching rows in the raw DataFrame\n",
    "    match_mask = (raw_df[compare_columns] == refined_row[compare_columns]).all(axis=1)\n",
    "    \n",
    "    # If a match is found, update the assessment columns\n",
    "    if match_mask.any():\n",
    "        raw_df.loc[match_mask, assessment_columns] = refined_row[assessment_columns].values\n",
    "\n",
    "# Save the updated raw DataFrame to a new Excel file\n",
    "updated_raw_file_path =  r\"D:\\Dissertation-GPT\\code\\thu\\0.5.16\\output.xlsx\" # Update with your desired output path\n",
    "raw_df.to_excel(updated_raw_file_path, index=False)\n"
   ]
  },
  {
   "cell_type": "code",
   "execution_count": 7,
   "metadata": {},
   "outputs": [
    {
     "name": "stdout",
     "output_type": "stream",
     "text": [
      "{'Use Case Name': 'Add Employee', 'Test Scenario Name': '1. Successful Employee Addition', 'Test Case Name': 'Successful Employee Addition', 'Objective': 'Verify that a manager can successfully add an employee to the system and the system generates an ID and password for the new employee.', 'Test Steps': \"- Step 1: Log in to the system with a manager account. - Step 2: Click on the 'Employee' option to navigate to the Employee menu. - Step 3: Fill all the required fields with valid data. - Step 4: Click the 'Add' button to submit the employee details.\", 'Expected Result': 'The system should validate the fields, add the employee to the database, display a message indicating the employee was successfully added, and generate an ID and password for the new employee.'}\n",
      "{'Use Case Name': 'Add Employee', 'Test Scenario Name': '2. Employee Addition with Validation Error', 'Test Case Name': 'Add Employee with All Fields Correctly Filled', 'Objective': 'Verify that a manager can add an employee successfully when all fields are filled correctly', 'Test Steps': \"- Step 1: Log in to the system with a manager account. - Step 2: Click on the 'Employee' option to navigate to the Employee menu. - Step 3: Fill all the fields with valid data. - Step 4: Click on the 'Add' button to submit the employee information.\", 'Expected Result': 'The system should validate the fields, add the employee to the database, display a message that the employee was added successfully, and generate an id and password for the new employee.'}\n",
      "{'Use Case Name': 'Add Employee', 'Test Scenario Name': '2. Employee Addition with Validation Error', 'Test Case Name': 'Add Employee with Missing Fields', 'Objective': 'Verify that the system shows an error message when trying to add an employee with one or more fields left unfilled', 'Test Steps': \"- Step 1: Log in to the system with a manager account. - Step 2: Click on the 'Employee' option to navigate to the Employee menu. - Step 3: Fill some but not all fields, leaving at least one field empty. - Step 4: Click on the 'Add' button to attempt to submit the employee information.\", 'Expected Result': 'The system should display a message indicating that all fields are required.'}\n",
      "{'Use Case Name': 'Add Employee', 'Test Scenario Name': '2. Employee Addition with Validation Error', 'Test Case Name': 'Add Employee with Invalid Field Entry', 'Objective': 'Verify that the system shows an error message when trying to add an employee with invalid data in any field', 'Test Steps': \"- Step 1: Log in to the system with a manager account. - Step 2: Click on the 'Employee' option to navigate to the Employee menu. - Step 3: Fill all the fields, intentionally entering invalid data in at least one field. - Step 4: Click on the 'Add' button to attempt to submit the employee information.\", 'Expected Result': 'The system should display a message indicating that an invalid field was entered.'}\n",
      "{'Use Case Name': 'Add Employee', 'Test Scenario Name': '3. Adding an employee with missing mandatory fields', 'Test Case Name': 'Adding an employee with one mandatory field missing', 'Objective': 'Verify that the system prevents adding an employee when one mandatory field is left unfilled and displays an appropriate error message.', 'Test Steps': \"- Step 1: Log in to the system with a manager account. - Step 2: Navigate to the Employee menu by clicking on the 'Employee' option. - Step 3: Fill in all the mandatory fields except one (leave one field blank). - Step 4: Click on the 'Add' button to attempt adding the employee.\", 'Expected Result': 'The system should display a message indicating that all fields are required and prevent the addition of the employee.'}\n",
      "{'Use Case Name': 'Add Employee', 'Test Scenario Name': '3. Adding an employee with missing mandatory fields', 'Test Case Name': 'Adding an employee with all mandatory fields missing', 'Objective': 'Verify that the system prevents adding an employee when all mandatory fields are left unfilled and displays an appropriate error message.', 'Test Steps': \"- Step 1: Log in to the system with a manager account. - Step 2: Navigate to the Employee menu by clicking on the 'Employee' option. - Step 3: Leave all mandatory fields blank. - Step 4: Click on the 'Add' button to attempt adding the employee.\", 'Expected Result': 'The system should display a message indicating that all fields are required and prevent the addition of the employee.'}\n",
      "{'Use Case Name': 'Add Employee', 'Test Scenario Name': '4. Invalid Field Entry', 'Test Case Name': 'Add Employee with Unfilled Fields', 'Objective': 'Verify that the system shows a message indicating that all fields are required when trying to add an employee with unfilled fields.', 'Test Steps': \"- Step 1: Log in to the system with a manager account. - Step 2: Click on the 'Employee' option to navigate to the Employee menu. - Step 3: Leave one or more fields blank and click on the 'Add' button.\", 'Expected Result': 'The system should display a message indicating that all fields are required.'}\n",
      "{'Use Case Name': 'Add Employee', 'Test Scenario Name': '4. Invalid Field Entry', 'Test Case Name': 'Add Employee with Invalid Field Entry', 'Objective': 'Verify that the system shows a message indicating that an invalid field entry was made when trying to add an employee.', 'Test Steps': \"- Step 1: Log in to the system with a manager account. - Step 2: Click on the 'Employee' option to navigate to the Employee menu. - Step 3: Fill all the fields with one or more fields containing invalid data and click on the 'Add' button.\", 'Expected Result': 'The system should display a message indicating that an invalid field entry was made.'}\n",
      "{'Use Case Name': 'login', 'Test Scenario Name': '7. Account Locked After Multiple Failed Attempts', 'Test Case Name': 'Account Lock After Three Failed Login Attempts', 'Objective': 'Verify that the user account gets locked after three consecutive failed login attempts', 'Test Steps': '- Step 1: Navigate to the login page. - Step 2: Enter incorrect credentials (username and password) and press the submit button. - Step 3: After the error message is displayed, repeat Step 2 for the second time. - Step 4: After the error, message is displayed again, repeat Step 2 for the third time.', 'Expected Result': 'After the third failed login attempt, the user should see a message indicating that their account has been locked due to multiple failed login attempts.'}\n",
      "Rows not found in raw file:\n",
      "{'Use Case Name': 'Add Employee', 'Test Scenario Name': '1. Successful Employee Addition', 'Test Case Name': 'Successful Employee Addition', 'Objective': 'Verify that a manager can successfully add an employee to the system and the system generates an ID and password for the new employee.', 'Test Steps': \"- Step 1: Log in to the system with a manager account. - Step 2: Click on the 'Employee' option to navigate to the Employee menu. - Step 3: Fill all the required fields with valid data. - Step 4: Click the 'Add' button to submit the employee details.\", 'Expected Result': 'The system should validate the fields, add the employee to the database, display a message indicating the employee was successfully added, and generate an ID and password for the new employee.'}\n",
      "{'Use Case Name': 'Add Employee', 'Test Scenario Name': '2. Employee Addition with Validation Error', 'Test Case Name': 'Add Employee with All Fields Correctly Filled', 'Objective': 'Verify that a manager can add an employee successfully when all fields are filled correctly', 'Test Steps': \"- Step 1: Log in to the system with a manager account. - Step 2: Click on the 'Employee' option to navigate to the Employee menu. - Step 3: Fill all the fields with valid data. - Step 4: Click on the 'Add' button to submit the employee information.\", 'Expected Result': 'The system should validate the fields, add the employee to the database, display a message that the employee was added successfully, and generate an id and password for the new employee.'}\n",
      "{'Use Case Name': 'Add Employee', 'Test Scenario Name': '2. Employee Addition with Validation Error', 'Test Case Name': 'Add Employee with Missing Fields', 'Objective': 'Verify that the system shows an error message when trying to add an employee with one or more fields left unfilled', 'Test Steps': \"- Step 1: Log in to the system with a manager account. - Step 2: Click on the 'Employee' option to navigate to the Employee menu. - Step 3: Fill some but not all fields, leaving at least one field empty. - Step 4: Click on the 'Add' button to attempt to submit the employee information.\", 'Expected Result': 'The system should display a message indicating that all fields are required.'}\n",
      "{'Use Case Name': 'Add Employee', 'Test Scenario Name': '2. Employee Addition with Validation Error', 'Test Case Name': 'Add Employee with Invalid Field Entry', 'Objective': 'Verify that the system shows an error message when trying to add an employee with invalid data in any field', 'Test Steps': \"- Step 1: Log in to the system with a manager account. - Step 2: Click on the 'Employee' option to navigate to the Employee menu. - Step 3: Fill all the fields, intentionally entering invalid data in at least one field. - Step 4: Click on the 'Add' button to attempt to submit the employee information.\", 'Expected Result': 'The system should display a message indicating that an invalid field was entered.'}\n",
      "{'Use Case Name': 'Add Employee', 'Test Scenario Name': '3. Adding an employee with missing mandatory fields', 'Test Case Name': 'Adding an employee with one mandatory field missing', 'Objective': 'Verify that the system prevents adding an employee when one mandatory field is left unfilled and displays an appropriate error message.', 'Test Steps': \"- Step 1: Log in to the system with a manager account. - Step 2: Navigate to the Employee menu by clicking on the 'Employee' option. - Step 3: Fill in all the mandatory fields except one (leave one field blank). - Step 4: Click on the 'Add' button to attempt adding the employee.\", 'Expected Result': 'The system should display a message indicating that all fields are required and prevent the addition of the employee.'}\n",
      "{'Use Case Name': 'Add Employee', 'Test Scenario Name': '3. Adding an employee with missing mandatory fields', 'Test Case Name': 'Adding an employee with all mandatory fields missing', 'Objective': 'Verify that the system prevents adding an employee when all mandatory fields are left unfilled and displays an appropriate error message.', 'Test Steps': \"- Step 1: Log in to the system with a manager account. - Step 2: Navigate to the Employee menu by clicking on the 'Employee' option. - Step 3: Leave all mandatory fields blank. - Step 4: Click on the 'Add' button to attempt adding the employee.\", 'Expected Result': 'The system should display a message indicating that all fields are required and prevent the addition of the employee.'}\n",
      "{'Use Case Name': 'Add Employee', 'Test Scenario Name': '4. Invalid Field Entry', 'Test Case Name': 'Add Employee with Unfilled Fields', 'Objective': 'Verify that the system shows a message indicating that all fields are required when trying to add an employee with unfilled fields.', 'Test Steps': \"- Step 1: Log in to the system with a manager account. - Step 2: Click on the 'Employee' option to navigate to the Employee menu. - Step 3: Leave one or more fields blank and click on the 'Add' button.\", 'Expected Result': 'The system should display a message indicating that all fields are required.'}\n",
      "{'Use Case Name': 'Add Employee', 'Test Scenario Name': '4. Invalid Field Entry', 'Test Case Name': 'Add Employee with Invalid Field Entry', 'Objective': 'Verify that the system shows a message indicating that an invalid field entry was made when trying to add an employee.', 'Test Steps': \"- Step 1: Log in to the system with a manager account. - Step 2: Click on the 'Employee' option to navigate to the Employee menu. - Step 3: Fill all the fields with one or more fields containing invalid data and click on the 'Add' button.\", 'Expected Result': 'The system should display a message indicating that an invalid field entry was made.'}\n",
      "{'Use Case Name': 'login', 'Test Scenario Name': '7. Account Locked After Multiple Failed Attempts', 'Test Case Name': 'Account Lock After Three Failed Login Attempts', 'Objective': 'Verify that the user account gets locked after three consecutive failed login attempts', 'Test Steps': '- Step 1: Navigate to the login page. - Step 2: Enter incorrect credentials (username and password) and press the submit button. - Step 3: After the error message is displayed, repeat Step 2 for the second time. - Step 4: After the error, message is displayed again, repeat Step 2 for the third time.', 'Expected Result': 'After the third failed login attempt, the user should see a message indicating that their account has been locked due to multiple failed login attempts.'}\n"
     ]
    }
   ],
   "source": [
    "#compare raw and refined file\n",
    "\n",
    "import pandas as pd\n",
    "\n",
    "# Load the refined and raw Excel files\n",
    "refined_file_path = r\"D:\\Dissertation-GPT\\code\\thu\\0.5.16\\test_cases.xlsx\"  # Update with your file path\n",
    "raw_file_path = r\"D:\\Dissertation-GPT\\code\\thu\\0.5.16\\output.xlsx\"  # Update with your file path\n",
    "\n",
    "# Read the Excel files into DataFrames\n",
    "refined_df = pd.read_excel(refined_file_path)\n",
    "raw_df = pd.read_excel(raw_file_path)\n",
    "\n",
    "# Define the columns to compare\n",
    "compare_columns = ['Use Case Name', 'Test Scenario Name', 'Test Case Name', 'Objective', 'Test Steps', 'Expected Result']\n",
    "\n",
    "# Iterate over each row in the refined DataFrame\n",
    "for index, refined_row in refined_df.iterrows():\n",
    "    # Create a boolean mask to identify matching rows in the raw DataFrame\n",
    "    match_mask = (raw_df[compare_columns] == refined_row[compare_columns]).all(axis=1)\n",
    "    \n",
    "    # If no match is found, print the row\n",
    "    if not match_mask.any():\n",
    "        print(refined_row[compare_columns].to_dict())\n",
    "\n",
    "# Alternatively, you can collect unmatched rows and display them at once\n",
    "unmatched_rows = []\n",
    "\n",
    "for index, refined_row in refined_df.iterrows():\n",
    "    match_mask = (raw_df[compare_columns] == refined_row[compare_columns]).all(axis=1)\n",
    "    if not match_mask.any():\n",
    "        unmatched_rows.append(refined_row[compare_columns].to_dict())\n",
    "\n",
    "# Print all unmatched rows\n",
    "if unmatched_rows:\n",
    "    print(\"Rows not found in raw file:\")\n",
    "    for row in unmatched_rows:\n",
    "        print(row)\n",
    "else:\n",
    "    print(\"All rows in refined file are found in raw file.\")\n"
   ]
  }
 ],
 "metadata": {
  "kernelspec": {
   "display_name": "base",
   "language": "python",
   "name": "python3"
  },
  "language_info": {
   "codemirror_mode": {
    "name": "ipython",
    "version": 3
   },
   "file_extension": ".py",
   "mimetype": "text/x-python",
   "name": "python",
   "nbconvert_exporter": "python",
   "pygments_lexer": "ipython3",
   "version": "3.10.9"
  }
 },
 "nbformat": 4,
 "nbformat_minor": 2
}
