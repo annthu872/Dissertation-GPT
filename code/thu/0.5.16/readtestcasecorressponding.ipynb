{
 "cells": [
  {
   "cell_type": "code",
   "execution_count": 22,
   "metadata": {},
   "outputs": [],
   "source": [
    "import pandas as pd\n",
    "import json\n",
    "import os"
   ]
  },
  {
   "cell_type": "code",
   "execution_count": 23,
   "metadata": {},
   "outputs": [],
   "source": [
    "usecase= \"AddLesson\"\n",
    "path= r\"D:\\Dissertation-GPT\\5.25-NhuY\\Matcha\\summary test case\"\n",
    "json_file = os.path.join(path,usecase)+\"-Raw.json\"\n",
    "excel_file = r\"D:\\Dissertation-GPT\\code\\thu\\5.16\\output.xlsx\""
   ]
  },
  {
   "cell_type": "code",
   "execution_count": 31,
   "metadata": {},
   "outputs": [
    {
     "name": "stdout",
     "output_type": "stream",
     "text": [
      "Successful New Lesson Creation\n",
      "Attempt to Add Lesson with Duplicate Name\n",
      "Cancel Lesson Creation\n",
      "{'Test Case': 'Test Case 4', 'testCaseName': 'Cancel Lesson Creation', 'objective': 'Verify that the administrator can cancel the lesson creation process.', 'testSteps': ['- Step 1: Log in as an administrator.', \"- Step 2: Press the tab 'Lesson Management' on the navbar.\", \"- Step 3: Select 'Add new Lesson' from the dropdown menu.\", '- Step 4: Enter a name for the lesson in the name field.', '- Step 5: Enter a description for the lesson in the description field.', \"- Step 6: Select 'Cancel' to stop adding the new lesson.\"], 'expectedResult': \"The lesson creation process should be canceled, and the administrator should remain on the 'Add new Lesson' page or be redirected to the previous page without creating a new lesson.\", 'explanation': 'This test case checks the functionality of the cancel option during the lesson creation process, as mentioned in the exception flow.'}\n",
      "{'Test Case': 'Test Case 3', 'testCaseName': 'Cancel Lesson Creation', 'objective': 'Verify that an administrator can cancel the creation of a new lesson at any point.', 'testSteps': ['- Step 1: Log in as an administrator.', \"- Step 2: Navigate to the 'Add new Lesson' page via the 'Lesson Management' tab on the navbar.\", '- Step 3: Enter a name for the lesson in the name field.', '- Step 4: Enter a description for the lesson in the description field.', \"- Step 5: Select 'Cancel' to stop the creation of the new lesson.\"], 'expectedResult': \"The action of adding a new lesson should be cancelled, and the administrator should remain on the 'Add new Lesson' page or be redirected to the previous page without creating a new lesson.\", 'explanation': 'This test case verifies the exception flow where the administrator decides to cancel the lesson creation process, ensuring the system properly handles cancellation actions.'}\n",
      "Lesson Creation with Missing Name\n",
      "{'Test Case': 'Test Case 1', 'testCaseName': 'Lesson Creation with Missing Name', 'objective': 'Verify that the system prevents the creation of a new lesson without a lesson name', 'testSteps': ['- Step 1: Log in as an administrator.', \"- Step 2: Press the tab 'Lesson Management' on the navbar.\", \"- Step 3: Select 'Add new Lesson' from the dropdown menu.\", \"- Step 4: Redirected to the 'Add new Lesson' page, leave the name field empty.\", '- Step 5: Fill in the description of the lesson in the description field.', \"- Step 6: Select 'Save' to attempt creating a new lesson.\"], 'expectedResult': 'The system should display an error message indicating that the lesson name is required and prevent the lesson from being created.', 'explanation': 'This test case is created to ensure that the system enforces the requirement for a lesson name during the lesson creation process, which is a critical validation step to avoid creating unnamed lessons.'}\n",
      "{'Test Case': 'Test Case 1', 'testCaseName': 'Lesson Creation with Missing Name', 'objective': 'Verify that the system prevents the creation of a new lesson without a lesson name', 'testSteps': ['- Step 1: Log in as an administrator.', \"- Step 2: Press the tab 'Lesson Management' on the navbar.\", \"- Step 3: Select 'Add new Lesson' from the dropdown menu.\", '- Step 4: Leave the name field empty.', '- Step 5: Add a description for the lesson in the description field.', \"- Step 6: Select 'Save' to attempt creating a new lesson.\"], 'expectedResult': 'The system should display an error message indicating that the lesson name is required and prevent the lesson from being created.', 'explanation': 'This test case is created to ensure that the system enforces the requirement for a lesson name during the lesson creation process. It directly addresses the scenario of attempting to create a lesson without providing a name, which is not covered explicitly in the use case but is a critical validation to ensure data integrity and usability.'}\n",
      "Lesson Creation with Missing Description\n",
      "{'Test Case': 'Test Case 1', 'testCaseName': 'Lesson Creation with Missing Description', 'objective': 'Verify that the system prevents the creation of a new lesson without a description.', 'testSteps': ['- Step 1: Log in as an administrator.', \"- Step 2: Press the tab 'Lesson Management' on the navbar.\", \"- Step 3: Select 'Add new Lesson' from the dropdown menu.\", \"- Step 4: Redirected to the 'Add new Lesson' page, enter a unique name in the name field.\", '- Step 5: Leave the description field empty.', \"- Step 6: Select 'Save' to attempt creating a new lesson.\"], 'expectedResult': 'The system should display an error message indicating that the description field cannot be empty and the lesson is not created.', 'explanation': 'This test case is created to ensure that the system enforces the requirement for a lesson description, which is a critical part of the lesson creation process. It directly addresses the scenario of attempting to create a lesson with a missing description.'}\n",
      "{'Test Case': 'Test Case 1', 'testCaseName': 'Lesson Creation with Missing Description', 'objective': 'Verify that the system prevents the creation of a new lesson without a description', 'testSteps': ['- Step 1: Log in as an administrator.', \"- Step 2: Press the tab 'Lesson Management' on the navbar.\", \"- Step 3: Select 'Add new Lesson' from the dropdown menu.\", '- Step 4: Enter a unique name for the lesson in the name field.', '- Step 5: Leave the description field empty.', \"- Step 6: Select 'Save' to attempt creating a new lesson.\"], 'expectedResult': 'The system should display an error message indicating that the description field cannot be empty and the lesson is not created.', 'explanation': 'This test case is created to ensure that the system enforces the requirement for a lesson description during lesson creation, directly addressing the scenario of attempting to create a lesson with a missing description.'}\n",
      "Verify Lesson Creation with Unique Name\n",
      "Verify Lesson Creation with Duplicate Name\n",
      "{'Test Case': 'Test Case 2', 'testCaseName': 'Verify Lesson Creation with Duplicate Name', 'objective': 'Ensure that the system prevents the creation of a new lesson with a name that is already in use.', 'testSteps': ['- Step 1: Log in as an administrator.', \"- Step 2: Press the tab 'Lesson Management' on the navbar.\", \"- Step 3: Select 'Add new Lesson' from the dropdown menu.\", \"- Step 4: Enter a name that is already used by an existing lesson in the name field on the 'Add new Lesson' page.\", '- Step 5: Enter a description for the lesson in the description field.', \"- Step 6: Select 'Save' to attempt to create the new lesson.\"], 'expectedResult': 'The system should display a notification that the name is already used, prompting the Administrator to add another name.', 'explanation': 'This test case ensures that the system implements a check for duplicate lesson names, preventing the creation of lessons with names that are already in use, as described in the alternative flow 1.'}\n",
      "Navigate to Add New Lesson Page via Navbar\n",
      "{'Test Case': 'Test Case 1', 'testCaseName': 'Navigate to Add New Lesson Page via Navbar', 'objective': \"Verify that the administrator can navigate to the 'Add New Lesson' page using the navbar option.\", 'testSteps': ['- Step 1: Log in to the application as an administrator.', \"- Step 2: Press the tab 'Lesson Management' on the navbar.\", \"- Step 3: From the dropdown menu, select 'Add new Lesson'.\"], 'expectedResult': \"The system should redirect the administrator to the 'Add new Lesson' page.\", 'explanation': \"This test case ensures that the navigation to the 'Add New Lesson' page via the navbar works as expected, aligning with the basic flow and alternative flow 2 of the use case.\"}\n",
      "{'Test Case': 'Test Case 1', 'testCaseName': 'Navigate to Add New Lesson Page via Navbar', 'objective': \"Verify that the administrator can navigate to the 'Add New Lesson' page using the navbar option.\", 'testSteps': ['- Step 1: Log in as an administrator.', \"- Step 2: Press the tab 'Lesson Management' on the navbar.\", \"- Step 3: Select 'Add new Lesson' from the dropdown menu.\"], 'expectedResult': \"The system should redirect the administrator to the 'Add New Lesson' page.\", 'explanation': \"This test case ensures that the navigation to the 'Add New Lesson' page via the navbar works as expected, aligning with the basic flow and alternative flow 2 of the use case.\"}\n",
      "{'Test Case': 'Test Case 1', 'testCaseName': 'Navigate to Add New Lesson Page via Navbar', 'objective': \"Verify that the administrator can navigate to the 'Add New Lesson' page using the navbar option.\", 'testSteps': ['- Step 1: Log in as an administrator.', \"- Step 2: Press the tab 'Lesson Management' on the navbar.\", \"- Step 3: Select 'Add new Lesson' from the dropdown menu.\"], 'expectedResult': \"The system should redirect the administrator to the 'Add new Lesson' page.\", 'explanation': \"This test case ensures that the navigation to the 'Add New Lesson' page via the navbar works as expected, aligning with the basic flow and alternative flow 2 of the use case.\"}\n",
      "Cancel Adding New Lesson Before Entering Name\n",
      "{'Test Case': 'Test Case 1', 'testCaseName': 'Cancel Adding New Lesson Before Entering Name', 'objective': 'Verify that the administrator can cancel the process of adding a new lesson before entering the lesson name.', 'testSteps': ['- Step 1: Log in as an administrator.', \"- Step 2: Press the tab 'Lesson Management' on the navbar.\", \"- Step 3: Select 'Add new Lesson' from the dropdown menu.\", \"- Step 4: On the 'Add new Lesson' page, do not enter any information in the name field.\", \"- Step 5: Select 'Cancel' to stop adding a new lesson.\"], 'expectedResult': 'The system should cancel the process of adding a new lesson and redirect the administrator to the previous page without creating a new lesson.', 'explanation': \"This test case ensures that administrators have the option to cancel the process of adding a new lesson at an early stage, specifically before entering any information for the lesson name. It directly relates to the exception flow mentioned in the use case, providing a way to test the system's ability to handle user changes of mind or mistakes before committing any data.\"}\n",
      "{'Test Case': 'Test Case 1', 'testCaseName': 'Cancel Adding New Lesson Before Entering Name', 'objective': 'Verify that the administrator can cancel the process of adding a new lesson before entering the lesson name.', 'testSteps': ['- Step 1: Log in to the application as an administrator.', \"- Step 2: Press the tab 'Lesson Management' on the navbar.\", \"- Step 3: Select 'Add new Lesson' from the dropdown menu.\", \"- Step 4: On the 'Add new Lesson' page, directly select 'Cancel' without entering any information in the name field.\"], 'expectedResult': 'The system should cancel the process of adding a new lesson and redirect the administrator to the previous page or a relevant page without creating a new lesson.', 'explanation': \"This test case ensures that administrators have the option to cancel the process of adding a new lesson at an early stage without the need to enter any lesson details. It directly relates to the exception flow where the administrator can select 'Cancel' to stop adding a new lesson at any time.\"}\n",
      "{'Test Case': 'Test Case 1', 'testCaseName': 'Cancel Adding New Lesson Before Entering Name', 'objective': 'Verify that the administrator can cancel the process of adding a new lesson before entering the lesson name.', 'testSteps': ['- Step 1: Log in to the application as an administrator.', \"- Step 2: Press the tab 'Lesson Management' on the navbar.\", \"- Step 3: Select 'Add new Lesson' from the dropdown menu.\", \"- Step 4: On the 'Add new Lesson' page, do not enter any information in the name field.\", \"- Step 5: Select 'Cancel' to stop adding a new lesson.\"], 'expectedResult': 'The system should cancel the process of adding a new lesson and redirect the administrator to the previous page without creating a new lesson.', 'explanation': \"This test case ensures that administrators have the option to cancel the process of adding a new lesson at an early stage, specifically before entering any information for the lesson name. It directly relates to the exception flow mentioned in the use case, demonstrating the system's ability to handle user actions that deviate from the main flow of adding a lesson.\"}\n"
     ]
    }
   ],
   "source": [
    "\n",
    "def update_excel_with_json_testcase_data(json_file, excel_file):\n",
    "    # Load JSON data\n",
    "    with open(json_file, 'r') as f:\n",
    "        json_data = json.load(f)\n",
    "    \n",
    "    # Load Excel file\n",
    "    df = pd.read_excel(excel_file)\n",
    "    \n",
    "    # Iterate through each row in the Excel file\n",
    "    for index, row in df.iterrows():\n",
    "        testcase_name = row['Test Case Name']  # Assuming column A is named 'Scenario Name'\n",
    "        print(testcase_name)\n",
    "\n",
    "        # Search for the scenario name in the JSON data\n",
    "        for key, value in json_data.items():\n",
    "            if value.get(\"testCaseName\") == testcase_name:\n",
    "                print(value)\n",
    "                test_steps = json_data[key].get('testSteps', [])\n",
    "                expected_result = json_data[key].get('expectedResult', \"\")\n",
    "                objective = json_data[key].get('objective', [])\n",
    "                test_step_str =  '\\n'.join(test_steps)\n",
    "                combined_info = (\n",
    "                        f\"Test Case Name: {testcase_name}\\n\"\n",
    "                        f\"Objective: {objective}\\n\"\n",
    "                        f\"Test Steps: { test_step_str}\\n\"\n",
    "                        f\"Expected Result: {expected_result}\"\n",
    "                )\n",
    "                # Update the corresponding cells in the DataFrame\n",
    "                df.at[index, 'Test Case'] = combined_info\n",
    "                df.at[index, 'Test Steps'] = test_step_str  # Assuming column B is named 'Test Steps'\n",
    "                df.at[index, 'Expected Result'] = expected_result  # Assuming column C is named 'Expected Result'\n",
    "                df.at[index, 'Objective'] = objective\n",
    "                continue\n",
    "    # Save the updated DataFrame to a new Excel file\n",
    "    df.to_excel(excel_file, index=False)\n",
    "\n",
    "# Define file paths\n",
    "\n",
    "# Call the function\n",
    "update_excel_with_json_testcase_data(json_file, excel_file)"
   ]
  }
 ],
 "metadata": {
  "kernelspec": {
   "display_name": "base",
   "language": "python",
   "name": "python3"
  },
  "language_info": {
   "codemirror_mode": {
    "name": "ipython",
    "version": 3
   },
   "file_extension": ".py",
   "mimetype": "text/x-python",
   "name": "python",
   "nbconvert_exporter": "python",
   "pygments_lexer": "ipython3",
   "version": "3.10.9"
  }
 },
 "nbformat": 4,
 "nbformat_minor": 2
}
