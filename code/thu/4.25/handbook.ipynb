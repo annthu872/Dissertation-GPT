{
 "cells": [
  {
   "cell_type": "code",
   "execution_count": 48,
   "metadata": {},
   "outputs": [],
   "source": [
    "from openai import OpenAI\n",
    "import json\n",
    "import os\n",
    "\n",
    "GPT_MODEL_3_5 = \"gpt-3.5-turbo-1106\"\n",
    "GPT_MODEL_4 = \"gpt-4-0125-preview\"\n",
    "\n",
    "OPEN_API_KEY = os.getenv(\"OPENAI_API_KEY\")\n",
    "\n",
    "client = OpenAI()\n",
    "model = GPT_MODEL_4\n",
    "\n",
    "def ask(prompt, client, model, temperature = 0):\n",
    "    response = None\n",
    "    \n",
    "    response = client.chat.completions.create(\n",
    "      model=model,\n",
    "      messages=prompt,\n",
    "      temperature=temperature,\n",
    "      response_format={ \"type\": \"json_object\" },\n",
    "    )\n",
    "\n",
    "    return (response.choices[0].message.content)\n",
    "\n",
    "no_condition  = False\n",
    "no_non_condition_flow = False\n",
    "filter_flow = []\n",
    "\n",
    "default_flow = \"Basic flow\"\n"
   ]
  },
  {
   "cell_type": "code",
   "execution_count": 49,
   "metadata": {},
   "outputs": [],
   "source": [
    "def read_file_into_string(file_path):\n",
    "    try:\n",
    "        with open(file_path, 'r') as file:\n",
    "            file_content = file.read()\n",
    "        return file_content\n",
    "    except FileNotFoundError:\n",
    "        print(f\"File '{file_path}' not found.\")\n",
    "        return None\n",
    "    except Exception as e:\n",
    "        print(f\"Error reading file: {e}\")\n",
    "        return None\n"
   ]
  },
  {
   "cell_type": "code",
   "execution_count": 50,
   "metadata": {},
   "outputs": [],
   "source": [
    "def write_to_file(filename, s):\n",
    "    try:\n",
    "        with open(filename, 'w') as file:\n",
    "            file.write(s)\n",
    "        print(\"Content has been written to\", filename)\n",
    "    except Exception as e:\n",
    "        print(\"An error occurred:\", e)"
   ]
  },
  {
   "cell_type": "code",
   "execution_count": 51,
   "metadata": {},
   "outputs": [],
   "source": [
    "file_path_list = [\n",
    "\"D:\\GPT-testing\\SpecificationData\\Adventura\\Adventura - view attraction.txt\",\n",
    "\"D:\\GPT-testing\\SpecificationData\\Adventura\\Adventura- Search Attraction.txt\",\n",
    "\"D:\\GPT-testing\\SpecificationData\\Adventura\\Adventura - Filter.txt\",\n",
    "\"D:\\GPT-testing\\SpecificationData\\MatchaEnglishWebsite\\Login.txt\",\n",
    "\"D:\\GPT-testing\\SpecificationData\\MatchaEnglishWebsite\\Registry.txt\",\n",
    "\"D:\\GPT-testing\\SpecificationData\\MatchaEnglishWebsite\\Review test.txt\",\n",
    "\"D:\\GPT-testing\\SpecificationData\\MatchaEnglishWebsite\\AddQuestion .txt\",\n",
    "\"D:\\GPT-testing\\SpecificationData\\MatchaEnglishWebsite\\Handbook.txt\",\n",
    "\"D:\\GPT-testing\\SpecificationData\\MatchaEnglishWebsite\\Flashcard.txt\",\n",
    "\"D:\\GPT-testing\\SpecificationData\\Trello\\create boards.txt\",\n",
    "\"D:\\GPT-testing\\SpecificationData\\Trello\\login.txt\",\n",
    "\"D:\\GPT-testing\\SpecificationData\\Trello\\create workspace.txt\",\n",
    "\"D:\\GPT-testing\\SpecificationData\\ShopeeWeb\\View detail information of a product.txt\",\n",
    "\"D:\\GPT-testing\\SpecificationData\\ShopeeWeb\\Edit personal shopping cart.txt\",\n",
    "\"D:\\GPT-testing\\SpecificationData\\ShopeeWeb\\Buy product.txt\",\n",
    "\"D:\\GPT-testing\\SpecificationData\\ShopeeWeb\\Add a type of product into cart.txt\",\n",
    "\"D:\\GPT-testing\\SpecificationData\\ShopeeWeb\\Track order's status.txt\",\n",
    "\"D:\\GPT-testing\\SpecificationData\\ShopeeWeb\\Rating a product.txt\"\n",
    "]"
   ]
  },
  {
   "cell_type": "code",
   "execution_count": 52,
   "metadata": {},
   "outputs": [
    {
     "name": "stdout",
     "output_type": "stream",
     "text": [
      "D:\\GPT-testing\\SpecificationData\\MatchaEnglishWebsite\\Handbook.txt\n"
     ]
    }
   ],
   "source": [
    "file_path = file_path_list[7]\n",
    "print(file_path)"
   ]
  },
  {
   "cell_type": "code",
   "execution_count": 53,
   "metadata": {},
   "outputs": [
    {
     "name": "stdout",
     "output_type": "stream",
     "text": [
      "Use case: use case id: \n",
      "use case name: handbook\n",
      "objective: This use case allows to see the vocabulary that learner has learned and setup the vocabulary review test.\n",
      "actor: learner \n",
      "Preconditions:\n",
      "Learner must be logged into the application.\n",
      "\n",
      "basic flow:\n",
      "Step 1: Learner selects the \"Handbook\" tab on the navigation bar.\n",
      "Step 2:The system displays a list of leaner's vocabulary list. The list of vocabulary is displayed in vertical rows, each word is a horizontal row displaying the word name, word type, word meaning, memorization level and has a checkbox to mark the appearance of the vocabulary in the review test.\n",
      "Step 3:Learners can scroll the scroll bar to see more vocabulary.\n",
      "\n",
      "Alternative Flows:\n",
      "Alternative flow 1: Learner search vocabulary in Handbook.\n",
      "At step 3 of the basic flow: Learner presses the search bar.\n",
      "Step 4: Learner enters the word to search.\n",
      "Step 5: The system filters vocabulary containing characters entered by learners in the search bar.\n",
      "\n",
      "Alternative flow 2:Learner search a meaningless vocabulary in Handbook.\n",
      "At step 3 of the basic flow: Learner presses the search bar.\n",
      "Step 4: Learner enters a meaningless word to search.\n",
      "Step 5: The system notifies that there are no suitable search results.\n",
      "\n",
      "Alternative flow 3: Learner set up 1 word to not be review in the review daily test\n",
      "At step 3 of the basic flow: Learner untick a checkbox of a vocabulary.\n",
      "Step 4: the system mark that vocabulary will not appear in the daily test review.\n",
      "\n",
      "Alternative flow 4: Learner set up 1 word to be review in the review daily test\n",
      "At step 3 of the basic flow: Learner tick a checkbox of a vocabulary.\n",
      "Step 4: the system mark that vocabulary will appear in the daily test review.\n",
      "\n",
      "Postcondition: \n",
      "None\n",
      "\n",
      "\n",
      "\n",
      "\n"
     ]
    }
   ],
   "source": [
    "# Example usage:\n",
    "# file_path = \"D:\\GPT-testing\\SpecificationData\\Adventura - Flow only\\Adventura - Filter.txt\"\n",
    "usecase = \"Use case: \"+ read_file_into_string(file_path)\n",
    "if usecase is not None:\n",
    "    print(usecase)"
   ]
  },
  {
   "cell_type": "code",
   "execution_count": 54,
   "metadata": {},
   "outputs": [],
   "source": [
    "SYSTEM_PROMPT_extract_flow =\"\"\"\n",
    "Given use case specification flows.\n",
    "Extract all the contents of flows into json format.\n",
    "Return the flows in json format.\n",
    "{\n",
    "\"Flow name\":[ contents of corresponding flow],\n",
    "}\n",
    "For example: \n",
    "{\n",
    "  \"Main flow:\": [\n",
    "    \"Step 1: Learner fills in the username field by a valid username that has been registered\",\n",
    "    \"Step 2: Learner fills in the password field by the correct password for the corresponding username\",\n",
    "    \"Step 3: Learner press \\\"Login\\\" button\",\n",
    "    \"Step 4: System redirects learner to Home page\"\n",
    "  ],\n",
    "  \"Alternative flow 1: Login by email\": [\n",
    "    \"At step 1 of the basic flow: Learner fills in the username field by a valid email that has been registered\",\n",
    "    \"Step 2: Learner fills in the password field by the correct password for the corresponding email\",\n",
    "    \"Go back to step 3 in the basic flow and continue with the steps from step 3\"\n",
    "  ]\n",
    "}\n",
    "\"\"\""
   ]
  },
  {
   "cell_type": "code",
   "execution_count": 55,
   "metadata": {},
   "outputs": [
    {
     "name": "stdout",
     "output_type": "stream",
     "text": [
      "{\n",
      "  \"Basic flow\": [\n",
      "    \"Step 1: Learner selects the \\\"Handbook\\\" tab on the navigation bar.\",\n",
      "    \"Step 2: The system displays a list of learner's vocabulary list. The list of vocabulary is displayed in vertical rows, each word is a horizontal row displaying the word name, word type, word meaning, memorization level and has a checkbox to mark the appearance of the vocabulary in the review test.\",\n",
      "    \"Step 3: Learners can scroll the scroll bar to see more vocabulary.\"\n",
      "  ],\n",
      "  \"Alternative flow 1: Learner search vocabulary in Handbook\": [\n",
      "    \"At step 3 of the basic flow: Learner presses the search bar.\",\n",
      "    \"Step 4: Learner enters the word to search.\",\n",
      "    \"Step 5: The system filters vocabulary containing characters entered by learners in the search bar.\"\n",
      "  ],\n",
      "  \"Alternative flow 2: Learner search a meaningless vocabulary in Handbook\": [\n",
      "    \"At step 3 of the basic flow: Learner presses the search bar.\",\n",
      "    \"Step 4: Learner enters a meaningless word to search.\",\n",
      "    \"Step 5: The system notifies that there are no suitable search results.\"\n",
      "  ],\n",
      "  \"Alternative flow 3: Learner set up 1 word to not be review in the review daily test\": [\n",
      "    \"At step 3 of the basic flow: Learner untick a checkbox of a vocabulary.\",\n",
      "    \"Step 4: The system mark that vocabulary will not appear in the daily test review.\"\n",
      "  ],\n",
      "  \"Alternative flow 4: Learner set up 1 word to be review in the review daily test\": [\n",
      "    \"At step 3 of the basic flow: Learner tick a checkbox of a vocabulary.\",\n",
      "    \"Step 4: The system mark that vocabulary will appear in the daily test review.\"\n",
      "  ]\n",
      "}\n"
     ]
    }
   ],
   "source": [
    "promptExtractCondtition = [\n",
    "    { \"role\": \"system\", \"content\": SYSTEM_PROMPT_extract_flow},\n",
    "    { \"role\": \"user\", \"content\": usecase}\n",
    "]\n",
    "\n",
    "gpt_response = ask(promptExtractCondtition, client, model)\n",
    "print(gpt_response)\n",
    "usecase_flow = json.loads(gpt_response)\n",
    "flows_name = [key for key in usecase_flow]"
   ]
  },
  {
   "cell_type": "code",
   "execution_count": 56,
   "metadata": {},
   "outputs": [
    {
     "name": "stdout",
     "output_type": "stream",
     "text": [
      "Basic flow\n"
     ]
    }
   ],
   "source": [
    "for flow_name in flows_name:\n",
    "    if 'Basic' in flow_name:\n",
    "        default_flow = flow_name\n",
    "    if 'Main' in flow_name:\n",
    "        default_flow = flow_name\n",
    "\n",
    "print(default_flow)"
   ]
  },
  {
   "cell_type": "code",
   "execution_count": 57,
   "metadata": {},
   "outputs": [],
   "source": [
    "SYSTEM_PROMPT_extract_condition =\"\"\"\n",
    "Given use case flows of a feature.\n",
    "Your task is to identify all the interactive elements within the application. \n",
    "For each interactive element:\n",
    "Identify what type of that element (button, icon, card, tab, multiple tabs,scroll, text field, radio buttons, dropdown menu, sliders, switches, dialog, link, form,rating, filter).\n",
    "If element is used to input/enter data, then determine all the condition of that element which to make make the input valid and the conditions that would render it invalid base on the description of the use case specification. Do not arbitrarily create additional conditions that not mention in the use case flow.\n",
    "If element is used to select a value, then determine all the value of the element.\n",
    "Return the element extracted in json format.\n",
    "The JSON format should follow the following structure:\n",
    "{\"Name of interactive element\": {\"condition\": \"condition of that element\", \"value\": \"value of that element\", \"type\": \"element type\"}}\n",
    "Examples of output json format template: \n",
    "{\"Username\": {\"condition\": {\"valid\": \"must be over 8 characters and below 30 characters\", \"invalid\": \"below 8 characters or over 30 character\"}, \"value\": [], \"type\": \"text field\"}}\n",
    "{\"Search button\": {\"condition\": {\"valid\": \"\", \"invalid\": \"\"}, \"value\": [], \"type\": \"button\"}}\n",
    "\"\"\"\n",
    "\n",
    "#có nên đổi cái code lọc fliter_data không????"
   ]
  },
  {
   "cell_type": "code",
   "execution_count": 58,
   "metadata": {},
   "outputs": [
    {
     "name": "stdout",
     "output_type": "stream",
     "text": [
      "{\n",
      "  \"Handbook tab\": {\n",
      "    \"condition\": {\n",
      "      \"valid\": \"\",\n",
      "      \"invalid\": \"\"\n",
      "    },\n",
      "    \"value\": [],\n",
      "    \"type\": \"tab\"\n",
      "  },\n",
      "  \"Scroll bar\": {\n",
      "    \"condition\": {\n",
      "      \"valid\": \"\",\n",
      "      \"invalid\": \"\"\n",
      "    },\n",
      "    \"value\": [],\n",
      "    \"type\": \"scroll\"\n",
      "  },\n",
      "  \"Search bar\": {\n",
      "    \"condition\": {\n",
      "      \"valid\": \"must contain characters\",\n",
      "      \"invalid\": \"empty input\"\n",
      "    },\n",
      "    \"value\": [],\n",
      "    \"type\": \"text field\"\n",
      "  },\n",
      "  \"Vocabulary checkbox\": {\n",
      "    \"condition\": {\n",
      "      \"valid\": \"checkbox can be ticked or unticked\",\n",
      "      \"invalid\": \"\"\n",
      "    },\n",
      "    \"value\": [\"ticked\", \"unticked\"],\n",
      "    \"type\": \"checkbox\"\n",
      "  }\n",
      "}\n"
     ]
    }
   ],
   "source": [
    "promptExtractCondtition = [\n",
    "    { \"role\": \"system\", \"content\": SYSTEM_PROMPT_extract_condition},\n",
    "    { \"role\": \"user\", \"content\": str(usecase_flow) }\n",
    "  ]\n",
    "gpt_response = ask(promptExtractCondtition, client, model)\n",
    "print(gpt_response)\n",
    "full_elements = json.loads(gpt_response)"
   ]
  },
  {
   "cell_type": "code",
   "execution_count": 59,
   "metadata": {},
   "outputs": [],
   "source": [
    "filtered_data = {key: value for key, value in full_elements.items() if value['type'] \n",
    "                 not in ['dialog','button', 'tab', 'card','link','icon','scroll bar','scroll']}"
   ]
  },
  {
   "cell_type": "code",
   "execution_count": 60,
   "metadata": {},
   "outputs": [
    {
     "name": "stdout",
     "output_type": "stream",
     "text": [
      "Search bar\n",
      "{'condition': {'valid': 'must contain characters', 'invalid': 'empty input'}, 'value': [], 'type': 'text field'}\n",
      "Vocabulary checkbox\n",
      "{'condition': {'valid': 'checkbox can be ticked or unticked', 'invalid': ''}, 'value': ['ticked', 'unticked'], 'type': 'checkbox'}\n"
     ]
    }
   ],
   "source": [
    "for key, value in filtered_data.items():\n",
    "    print(key)\n",
    "    print(value)    "
   ]
  },
  {
   "cell_type": "code",
   "execution_count": 61,
   "metadata": {},
   "outputs": [],
   "source": [
    "filter_element_click_only = {key: value for key, value in full_elements.items() \n",
    "                             if (value['type'] in ['dialog','button', 'tab', 'card','link','icon','scroll bar','title'] and not value['value'])}"
   ]
  },
  {
   "cell_type": "code",
   "execution_count": 62,
   "metadata": {},
   "outputs": [],
   "source": [
    "filter_element_select_value = {key: value for key, value in full_elements.items() \n",
    "                             if ( value['value'] and value['type'] not in ['button', 'tab', 'card','link','icon','title','dialog'])}"
   ]
  },
  {
   "cell_type": "code",
   "execution_count": 63,
   "metadata": {},
   "outputs": [
    {
     "name": "stdout",
     "output_type": "stream",
     "text": [
      "Vocabulary checkbox\n",
      "{'condition': {'valid': 'checkbox can be ticked or unticked', 'invalid': ''}, 'value': ['ticked', 'unticked'], 'type': 'checkbox'}\n"
     ]
    }
   ],
   "source": [
    "for key, value in filter_element_select_value.items():\n",
    "    print(key)\n",
    "    print(value)    "
   ]
  },
  {
   "cell_type": "code",
   "execution_count": 64,
   "metadata": {},
   "outputs": [],
   "source": [
    "filter_element_enter_value = {key: value for key, value in full_elements.items() \n",
    "                              if (value['type'] in ['text field','text area'] and value['condition']['valid'] and value['condition']['invalid'] )}\n"
   ]
  },
  {
   "cell_type": "code",
   "execution_count": 65,
   "metadata": {},
   "outputs": [
    {
     "name": "stdout",
     "output_type": "stream",
     "text": [
      "Search bar\n",
      "{'condition': {'valid': 'must contain characters', 'invalid': 'empty input'}, 'value': [], 'type': 'text field'}\n"
     ]
    }
   ],
   "source": [
    "for key, value in filter_element_enter_value.items():\n",
    "    print(key)\n",
    "    print(value)    "
   ]
  },
  {
   "cell_type": "code",
   "execution_count": 66,
   "metadata": {},
   "outputs": [],
   "source": [
    "SYSTEM_PROMPT_get_flow_name =\"\"\"\n",
    "Given use case flows of a feature and a list of interaction elements extracted from that use case flows.\n",
    "For each given interactive element:\n",
    "Identify the flow through which the element is interacted in the use case flow and the type of interaction has with the element and who make that interact.\n",
    "Ignore interactive elements not mentioned in the given list.\n",
    "Return the flows in json format.\n",
    "The JSON format should follow the following structure:\n",
    "{\"Name of interactive element\":[{\"flow 1\":[{\"action\":\"interaction 1\",\"by\":\"actor\",\"at sentence\":\"sentence mention that interaction element\"},{\"action\":\"interaction 2\",\"by\":\"actor\",\"at sentence\":\"sentence mention that interaction element\"}]}]}\n",
    "Examples of output json format template: \n",
    "{\"Username\":[{\"Alternative flow 1: Login by valid username\":[{\"action\":\"enter\",\"by\":\"user\",\"at sentence\":\"Step 4: user enter valid username that above 8 and below 10 characters\"}]},{\"Exception flow 1: Login by invalid username\":[{\"action\":\"fill\",\"by\":\"user\",\"at sentence\":\"Step 4: user enter invalid username below 8 characters\"}]}]}\n",
    "{\"Rating filter\":[{\"Alternative flow 1: User rating order\":[{\"action\":\"skip\",\"by\":\"user\",\"at sentence\":\"Step 3: user skip the rating filter select\"},{\"action\":\"select\",\"by\":\"user\",\"at sentence\":\"Step 10: user rate the order by select the number of star\"}]}]}\n",
    "\"\"\"\n"
   ]
  },
  {
   "cell_type": "code",
   "execution_count": 67,
   "metadata": {},
   "outputs": [
    {
     "name": "stdout",
     "output_type": "stream",
     "text": [
      "Element: Search bar ,Vocabulary checkbox.\n"
     ]
    }
   ],
   "source": [
    "Element = \"Element: \"\n",
    "for key,value in filter_element_enter_value.items():\n",
    "    # print(key)\n",
    "    # print(value)\n",
    "    Element += key+ \" ,\"\n",
    "for key,value in filter_element_select_value.items():\n",
    "    # print(key)\n",
    "    # print(value)\n",
    "    Element += key+ \" ,\"\n",
    "Element = Element[:-2] \n",
    "Element += \".\"\n",
    "print(Element)"
   ]
  },
  {
   "cell_type": "code",
   "execution_count": 68,
   "metadata": {},
   "outputs": [
    {
     "name": "stdout",
     "output_type": "stream",
     "text": [
      "Element: Search bar ,Vocabulary checkbox.\n",
      "Use case flow:{'Basic flow': ['Step 1: Learner selects the \"Handbook\" tab on the navigation bar.', \"Step 2: The system displays a list of learner's vocabulary list. The list of vocabulary is displayed in vertical rows, each word is a horizontal row displaying the word name, word type, word meaning, memorization level and has a checkbox to mark the appearance of the vocabulary in the review test.\", 'Step 3: Learners can scroll the scroll bar to see more vocabulary.'], 'Alternative flow 1: Learner search vocabulary in Handbook': ['At step 3 of the basic flow: Learner presses the search bar.', 'Step 4: Learner enters the word to search.', 'Step 5: The system filters vocabulary containing characters entered by learners in the search bar.'], 'Alternative flow 2: Learner search a meaningless vocabulary in Handbook': ['At step 3 of the basic flow: Learner presses the search bar.', 'Step 4: Learner enters a meaningless word to search.', 'Step 5: The system notifies that there are no suitable search results.'], 'Alternative flow 3: Learner set up 1 word to not be review in the review daily test': ['At step 3 of the basic flow: Learner untick a checkbox of a vocabulary.', 'Step 4: The system mark that vocabulary will not appear in the daily test review.'], 'Alternative flow 4: Learner set up 1 word to be review in the review daily test': ['At step 3 of the basic flow: Learner tick a checkbox of a vocabulary.', 'Step 4: The system mark that vocabulary will appear in the daily test review.']}\n"
     ]
    }
   ],
   "source": [
    "print(Element + \"\\nUse case flow:\" + str(usecase_flow)  )"
   ]
  },
  {
   "cell_type": "code",
   "execution_count": 69,
   "metadata": {},
   "outputs": [
    {
     "name": "stdout",
     "output_type": "stream",
     "text": [
      "{\n",
      "  \"Search bar\": [\n",
      "    {\n",
      "      \"Alternative flow 1: Learner search vocabulary in Handbook\": [\n",
      "        {\n",
      "          \"action\": \"press\",\n",
      "          \"by\": \"learner\",\n",
      "          \"at sentence\": \"At step 3 of the basic flow: Learner presses the search bar.\"\n",
      "        },\n",
      "        {\n",
      "          \"action\": \"enter\",\n",
      "          \"by\": \"learner\",\n",
      "          \"at sentence\": \"Step 4: Learner enters the word to search.\"\n",
      "        },\n",
      "        {\n",
      "          \"action\": \"filter\",\n",
      "          \"by\": \"system\",\n",
      "          \"at sentence\": \"Step 5: The system filters vocabulary containing characters entered by learners in the search bar.\"\n",
      "        }\n",
      "      ]\n",
      "    },\n",
      "    {\n",
      "      \"Alternative flow 2: Learner search a meaningless vocabulary in Handbook\": [\n",
      "        {\n",
      "          \"action\": \"press\",\n",
      "          \"by\": \"learner\",\n",
      "          \"at sentence\": \"At step 3 of the basic flow: Learner presses the search bar.\"\n",
      "        },\n",
      "        {\n",
      "          \"action\": \"enter\",\n",
      "          \"by\": \"learner\",\n",
      "          \"at sentence\": \"Step 4: Learner enters a meaningless word to search.\"\n",
      "        },\n",
      "        {\n",
      "          \"action\": \"notify\",\n",
      "          \"by\": \"system\",\n",
      "          \"at sentence\": \"Step 5: The system notifies that there are no suitable search results.\"\n",
      "        }\n",
      "      ]\n",
      "    }\n",
      "  ],\n",
      "  \"Vocabulary checkbox\": [\n",
      "    {\n",
      "      \"Alternative flow 3: Learner set up 1 word to not be review in the review daily test\": [\n",
      "        {\n",
      "          \"action\": \"untick\",\n",
      "          \"by\": \"learner\",\n",
      "          \"at sentence\": \"At step 3 of the basic flow: Learner untick a checkbox of a vocabulary.\"\n",
      "        },\n",
      "        {\n",
      "          \"action\": \"mark\",\n",
      "          \"by\": \"system\",\n",
      "          \"at sentence\": \"Step 4: The system mark that vocabulary will not appear in the daily test review.\"\n",
      "        }\n",
      "      ]\n",
      "    },\n",
      "    {\n",
      "      \"Alternative flow 4: Learner set up 1 word to be review in the review daily test\": [\n",
      "        {\n",
      "          \"action\": \"tick\",\n",
      "          \"by\": \"learner\",\n",
      "          \"at sentence\": \"At step 3 of the basic flow: Learner tick a checkbox of a vocabulary.\"\n",
      "        },\n",
      "        {\n",
      "          \"action\": \"mark\",\n",
      "          \"by\": \"system\",\n",
      "          \"at sentence\": \"Step 4: The system mark that vocabulary will appear in the daily test review.\"\n",
      "        }\n",
      "      ]\n",
      "    }\n",
      "  ]\n",
      "}\n",
      "{'Search bar': [{'Alternative flow 1: Learner search vocabulary in Handbook': [{'action': 'press', 'by': 'learner', 'at sentence': 'At step 3 of the basic flow: Learner presses the search bar.'}, {'action': 'enter', 'by': 'learner', 'at sentence': 'Step 4: Learner enters the word to search.'}, {'action': 'filter', 'by': 'system', 'at sentence': 'Step 5: The system filters vocabulary containing characters entered by learners in the search bar.'}]}, {'Alternative flow 2: Learner search a meaningless vocabulary in Handbook': [{'action': 'press', 'by': 'learner', 'at sentence': 'At step 3 of the basic flow: Learner presses the search bar.'}, {'action': 'enter', 'by': 'learner', 'at sentence': 'Step 4: Learner enters a meaningless word to search.'}, {'action': 'notify', 'by': 'system', 'at sentence': 'Step 5: The system notifies that there are no suitable search results.'}]}], 'Vocabulary checkbox': [{'Alternative flow 3: Learner set up 1 word to not be review in the review daily test': [{'action': 'untick', 'by': 'learner', 'at sentence': 'At step 3 of the basic flow: Learner untick a checkbox of a vocabulary.'}, {'action': 'mark', 'by': 'system', 'at sentence': 'Step 4: The system mark that vocabulary will not appear in the daily test review.'}]}, {'Alternative flow 4: Learner set up 1 word to be review in the review daily test': [{'action': 'tick', 'by': 'learner', 'at sentence': 'At step 3 of the basic flow: Learner tick a checkbox of a vocabulary.'}, {'action': 'mark', 'by': 'system', 'at sentence': 'Step 4: The system mark that vocabulary will appear in the daily test review.'}]}]}\n"
     ]
    }
   ],
   "source": [
    "if(len(filtered_data) != 0 ):\n",
    "  promptExtractCondtition = [\n",
    "      { \"role\": \"system\", \"content\": SYSTEM_PROMPT_get_flow_name},\n",
    "      { \"role\": \"user\", \"content\":Element + \"\\nUse case flow:\" + str(usecase_flow) }\n",
    "    ]\n",
    "  gpt_response = ask(promptExtractCondtition, client, model)\n",
    "  print(gpt_response)\n",
    "  element_actions_flow = json.loads(gpt_response)\n",
    "  print(element_actions_flow)"
   ]
  },
  {
   "cell_type": "code",
   "execution_count": 70,
   "metadata": {},
   "outputs": [],
   "source": [
    "non_actions = ['display','show']\n",
    "non_actors = ['system','System']"
   ]
  },
  {
   "cell_type": "code",
   "execution_count": 71,
   "metadata": {},
   "outputs": [
    {
     "name": "stdout",
     "output_type": "stream",
     "text": [
      "{\n",
      "  \"Search bar\": [\n",
      "    {\n",
      "      \"Alternative flow 1: Learner search vocabulary in Handbook\": [\n",
      "        {\n",
      "          \"action\": \"press\",\n",
      "          \"by\": \"learner\",\n",
      "          \"at sentence\": \"At step 3 of the basic flow: Learner presses the search bar.\"\n",
      "        },\n",
      "        {\n",
      "          \"action\": \"enter\",\n",
      "          \"by\": \"learner\",\n",
      "          \"at sentence\": \"Step 4: Learner enters the word to search.\"\n",
      "        }\n",
      "      ]\n",
      "    },\n",
      "    {\n",
      "      \"Alternative flow 2: Learner search a meaningless vocabulary in Handbook\": [\n",
      "        {\n",
      "          \"action\": \"press\",\n",
      "          \"by\": \"learner\",\n",
      "          \"at sentence\": \"At step 3 of the basic flow: Learner presses the search bar.\"\n",
      "        },\n",
      "        {\n",
      "          \"action\": \"enter\",\n",
      "          \"by\": \"learner\",\n",
      "          \"at sentence\": \"Step 4: Learner enters a meaningless word to search.\"\n",
      "        }\n",
      "      ]\n",
      "    }\n",
      "  ],\n",
      "  \"Vocabulary checkbox\": [\n",
      "    {\n",
      "      \"Alternative flow 3: Learner set up 1 word to not be review in the review daily test\": [\n",
      "        {\n",
      "          \"action\": \"untick\",\n",
      "          \"by\": \"learner\",\n",
      "          \"at sentence\": \"At step 3 of the basic flow: Learner untick a checkbox of a vocabulary.\"\n",
      "        }\n",
      "      ]\n",
      "    },\n",
      "    {\n",
      "      \"Alternative flow 4: Learner set up 1 word to be review in the review daily test\": [\n",
      "        {\n",
      "          \"action\": \"tick\",\n",
      "          \"by\": \"learner\",\n",
      "          \"at sentence\": \"At step 3 of the basic flow: Learner tick a checkbox of a vocabulary.\"\n",
      "        }\n",
      "      ]\n",
      "    }\n",
      "  ]\n",
      "}\n"
     ]
    }
   ],
   "source": [
    "if(len(filtered_data) != 0 ):\n",
    "\n",
    "    for flow_lists_log in element_actions_flow.values():\n",
    "        for flow_list_element in flow_lists_log:\n",
    "            flows_to_delete = []\n",
    "            for flow_name, actions in flow_list_element.items():\n",
    "                filtered_actions = []\n",
    "                for action in actions:\n",
    "                    if(default_flow in flow_name and 'At step' in action['at sentence'] ):\n",
    "                        continue\n",
    "\n",
    "                    if (action['action'] not in non_actions and action['by'] not in non_actors): \n",
    "                        filtered_actions.append(action)\n",
    "\n",
    "                flow_list_element[flow_name] = filtered_actions\n",
    "                if not filtered_actions:\n",
    "                    flows_to_delete.append(flow_name)\n",
    "            flows_to_delete = list(set(flows_to_delete))\n",
    "            for flow_name in flows_to_delete:\n",
    "                del flow_list_element[flow_name]\n",
    "\n",
    "    # Convert modified data back to JSON\n",
    "    modified_json_content = json.dumps(element_actions_flow, indent=2)\n",
    "    print(modified_json_content)"
   ]
  },
  {
   "cell_type": "code",
   "execution_count": 72,
   "metadata": {},
   "outputs": [],
   "source": [
    "# for select_element in filter_element_select_value:\n",
    "#     if(select_element)"
   ]
  },
  {
   "cell_type": "code",
   "execution_count": 73,
   "metadata": {},
   "outputs": [],
   "source": [
    "# flow_names = []\n",
    "# for obj in data.values():\n",
    "#     for flow_name in obj['flow']:\n",
    "#         flow_names.append(flow_name)\n",
    "\n",
    "# print(flow_names)\n",
    "# filter_flow = list(set(flow_names))"
   ]
  },
  {
   "cell_type": "code",
   "execution_count": 74,
   "metadata": {},
   "outputs": [
    {
     "name": "stdout",
     "output_type": "stream",
     "text": [
      "{'Vocabulary checkbox': {'condition': {'valid': 'checkbox can be ticked or unticked', 'invalid': ''}, 'value': ['ticked', 'unticked'], 'type': 'checkbox'}}\n",
      "{'Search bar': {'condition': {'valid': 'must contain characters', 'invalid': 'empty input'}, 'value': [], 'type': 'text field'}}\n"
     ]
    }
   ],
   "source": [
    "print(filter_element_select_value)\n",
    "print(filter_element_enter_value)\n",
    "filter_element_select_value_flow_list = []\n",
    "filter_element_enter_value_flow_list = []\n",
    "element_flow = element_actions_flow.copy()"
   ]
  },
  {
   "cell_type": "code",
   "execution_count": 75,
   "metadata": {},
   "outputs": [
    {
     "name": "stdout",
     "output_type": "stream",
     "text": [
      "{'Search bar': [{'Alternative flow 1: Learner search vocabulary in Handbook': [{'action': 'press', 'by': 'learner', 'at sentence': 'At step 3 of the basic flow: Learner presses the search bar.'}, {'action': 'enter', 'by': 'learner', 'at sentence': 'Step 4: Learner enters the word to search.'}]}, {'Alternative flow 2: Learner search a meaningless vocabulary in Handbook': [{'action': 'press', 'by': 'learner', 'at sentence': 'At step 3 of the basic flow: Learner presses the search bar.'}, {'action': 'enter', 'by': 'learner', 'at sentence': 'Step 4: Learner enters a meaningless word to search.'}]}], 'Vocabulary checkbox': [{'Alternative flow 3: Learner set up 1 word to not be review in the review daily test': [{'action': 'untick', 'by': 'learner', 'at sentence': 'At step 3 of the basic flow: Learner untick a checkbox of a vocabulary.'}]}, {'Alternative flow 4: Learner set up 1 word to be review in the review daily test': [{'action': 'tick', 'by': 'learner', 'at sentence': 'At step 3 of the basic flow: Learner tick a checkbox of a vocabulary.'}]}]}\n"
     ]
    }
   ],
   "source": [
    "print(element_flow)"
   ]
  },
  {
   "cell_type": "code",
   "execution_count": 76,
   "metadata": {},
   "outputs": [
    {
     "name": "stdout",
     "output_type": "stream",
     "text": [
      "['Alternative flow 3: Learner set up 1 word to not be review in the review daily test', 'Alternative flow 4: Learner set up 1 word to be review in the review daily test']\n"
     ]
    }
   ],
   "source": [
    "for key in filter_element_select_value:\n",
    "    if key in element_flow:\n",
    "        for obj in element_flow[key]:\n",
    "            filter_element_select_value_flow_list.extend(obj.keys())\n",
    "\n",
    "    else:\n",
    "        print(f\"No flow found for '{key}' in element_flow.\")\n",
    "filter_element_select_value_flow_list = list(set(filter_element_select_value_flow_list))\n",
    "print(filter_element_select_value_flow_list)\n"
   ]
  },
  {
   "cell_type": "code",
   "execution_count": 77,
   "metadata": {},
   "outputs": [
    {
     "name": "stdout",
     "output_type": "stream",
     "text": [
      "['Alternative flow 1: Learner search vocabulary in Handbook', 'Alternative flow 2: Learner search a meaningless vocabulary in Handbook']\n"
     ]
    }
   ],
   "source": [
    "for key in filter_element_enter_value:\n",
    "    if key in element_flow:\n",
    "        for obj in element_flow[key]:\n",
    "            filter_element_enter_value_flow_list.extend(obj.keys())\n",
    "\n",
    "    else:\n",
    "        print(f\"No flow found for '{key}' in element_flow.\")\n",
    "\n",
    "filter_element_enter_value_flow_list = list(set(filter_element_enter_value_flow_list))\n",
    "print(filter_element_enter_value_flow_list)"
   ]
  },
  {
   "cell_type": "code",
   "execution_count": 78,
   "metadata": {},
   "outputs": [],
   "source": [
    "# flow with input value\n",
    "\n",
    "\n",
    "click_only_flow_name = [key for key in flows_name if key not in filter_element_enter_value_flow_list]\n",
    "click_only_flow_name = [key for key in click_only_flow_name if key not in filter_element_select_value_flow_list]\n",
    "\n"
   ]
  },
  {
   "cell_type": "code",
   "execution_count": 79,
   "metadata": {},
   "outputs": [
    {
     "name": "stdout",
     "output_type": "stream",
     "text": [
      "['Basic flow', 'Alternative flow 1: Learner search vocabulary in Handbook', 'Alternative flow 2: Learner search a meaningless vocabulary in Handbook', 'Alternative flow 3: Learner set up 1 word to not be review in the review daily test', 'Alternative flow 4: Learner set up 1 word to be review in the review daily test']\n",
      "['Alternative flow 1: Learner search vocabulary in Handbook', 'Alternative flow 2: Learner search a meaningless vocabulary in Handbook']\n",
      "['Alternative flow 3: Learner set up 1 word to not be review in the review daily test', 'Alternative flow 4: Learner set up 1 word to be review in the review daily test']\n",
      "['Basic flow']\n"
     ]
    }
   ],
   "source": [
    "print(flows_name)\n",
    "print(filter_element_enter_value_flow_list)\n",
    "print(filter_element_select_value_flow_list)\n",
    "print(click_only_flow_name)\n"
   ]
  },
  {
   "cell_type": "code",
   "execution_count": 80,
   "metadata": {},
   "outputs": [
    {
     "name": "stdout",
     "output_type": "stream",
     "text": [
      "click_only_flows = {'Basic flow': ['Step 1: Learner selects the \"Handbook\" tab on the navigation bar.', \"Step 2: The system displays a list of learner's vocabulary list. The list of vocabulary is displayed in vertical rows, each word is a horizontal row displaying the word name, word type, word meaning, memorization level and has a checkbox to mark the appearance of the vocabulary in the review test.\", 'Step 3: Learners can scroll the scroll bar to see more vocabulary.']}\n"
     ]
    }
   ],
   "source": [
    "click_only_flows = {}\n",
    "\n",
    "for key,value in usecase_flow.items():\n",
    "    if key in click_only_flow_name:\n",
    "        click_only_flows[key] = value\n",
    "\n",
    "print(\"click_only_flows = \" + str(click_only_flows))\n"
   ]
  },
  {
   "cell_type": "code",
   "execution_count": 81,
   "metadata": {},
   "outputs": [
    {
     "name": "stdout",
     "output_type": "stream",
     "text": [
      "input_flows = {'Alternative flow 1: Learner search vocabulary in Handbook': ['At step 3 of the basic flow: Learner presses the search bar.', 'Step 4: Learner enters the word to search.', 'Step 5: The system filters vocabulary containing characters entered by learners in the search bar.'], 'Alternative flow 2: Learner search a meaningless vocabulary in Handbook': ['At step 3 of the basic flow: Learner presses the search bar.', 'Step 4: Learner enters a meaningless word to search.', 'Step 5: The system notifies that there are no suitable search results.']}\n",
      "dict_keys(['Alternative flow 1: Learner search vocabulary in Handbook', 'Alternative flow 2: Learner search a meaningless vocabulary in Handbook'])\n"
     ]
    }
   ],
   "source": [
    "input_flows = {}\n",
    "\n",
    "for key,value in usecase_flow.items():\n",
    "    if key in filter_element_enter_value_flow_list:\n",
    "        input_flows[key] = value\n",
    "\n",
    "print(\"input_flows = \" + str(input_flows))\n",
    "print(input_flows.keys())\n"
   ]
  },
  {
   "cell_type": "code",
   "execution_count": 82,
   "metadata": {},
   "outputs": [
    {
     "name": "stdout",
     "output_type": "stream",
     "text": [
      "select_flows = {'Alternative flow 3: Learner set up 1 word to not be review in the review daily test': ['At step 3 of the basic flow: Learner untick a checkbox of a vocabulary.', 'Step 4: The system mark that vocabulary will not appear in the daily test review.'], 'Alternative flow 4: Learner set up 1 word to be review in the review daily test': ['At step 3 of the basic flow: Learner tick a checkbox of a vocabulary.', 'Step 4: The system mark that vocabulary will appear in the daily test review.']}\n"
     ]
    }
   ],
   "source": [
    "select_flows = {}\n",
    "\n",
    "for key,value in usecase_flow.items():\n",
    "    if key in filter_element_select_value_flow_list:\n",
    "        select_flows[key] = value\n",
    "\n",
    "print(\"select_flows = \" + str(select_flows))"
   ]
  },
  {
   "cell_type": "code",
   "execution_count": 83,
   "metadata": {},
   "outputs": [],
   "source": [
    "SYSTEM_PROMPT_gen_no_condition_test_scenarios =\"\"\"\n",
    "Given use case specification flows.\n",
    "Your task is to generate one test scenario only to test each given flow.\n",
    "Return the test scenarios generated in json format.\n",
    "The JSON format should follow the following structure:\n",
    "{\n",
    "    \"Test Scenarios\":[ \"name of test scenario\"]\n",
    "  }\n",
    "For example :\n",
    "{\n",
    "  \"Test Scenarios\": [\n",
    "    \"Verify that users can successfully create a new account with valid credentials.\"\n",
    "  ]\n",
    "}\n",
    "\"\"\""
   ]
  },
  {
   "cell_type": "code",
   "execution_count": 84,
   "metadata": {},
   "outputs": [],
   "source": [
    "SYSTEM_PROMPT_gen_test_scenarios_input_element =\"\"\"\n",
    "Given a list of interaction element for input value and their extracted conditions and use case flows that reflect those element.\n",
    "Your task is to generate a comprehensive set of test scenarios that test all the conditions of given elements.\n",
    "The test scenarios generated must have clear conditions descritions and mention conditions is tested but do not need example data. \n",
    "The positive test scenarios generated must verify the combination of valid elements (the combination follow the description in the use case flow). \n",
    "The negative test scenarios generated must verify only one given invalid condition at a time. If there is no invalid condition, you don't need to write negative test scenario.\n",
    "For cases where the invalid condition does not have a corresponding output description, predict the possible outcome to test.\n",
    "\n",
    "Return the test scenarios generated in json format.\n",
    "The JSON format should follow the following structure:\n",
    "{\n",
    "  \"Positive Test Scenarios\": [{ \"positive test scenario description\": {\"conditions\": conditions tested}}],\n",
    "  \"Negative Test Scenarios\": [{ \"negative test scenario description\": {\"conditions\": conditions tested}}]\n",
    "  }\n",
    "An example of a test scenario: \n",
    "{\n",
    "  \"Positive Test Scenarios\": [{ \"Verify that users can successfully create a new account with valid username and valid passowrd.\": {\"conditions\":  username valid and password valid}}],\n",
    "  \"Negative Test Scenarios\": []\n",
    "  }\n",
    "\"\"\""
   ]
  },
  {
   "cell_type": "code",
   "execution_count": 85,
   "metadata": {},
   "outputs": [],
   "source": [
    "SYSTEM_PROMPT_gen_test_scenarios_select_element =\"\"\"\n",
    "Given a list of element for selecting value, their value options and use case flows use given element.\n",
    "For each given element:\n",
    "Generate only one test scenario for each element value options.\n",
    "Generate test scenarios for the condition (valid, invalid) if element mentions.\n",
    "\n",
    "Do not generate test scenario to test element that not mention in the given element list.\n",
    "\n",
    "The JSON format should follow the following structure:\n",
    "{\n",
    "    \"Test Scenarios\":[ \"description of scenario 1\"]\n",
    "  }\n",
    "For example :\n",
    "{\n",
    "  \"Test Scenarios\": [\n",
    "    \"Verify that users can successfully create a new account with valid credentials.\"\n",
    "  ]\n",
    "}\n",
    "\"\"\"\n",
    "# Generate test scenarios to test the selection for each element's value.\n"
   ]
  },
  {
   "cell_type": "code",
   "execution_count": 86,
   "metadata": {},
   "outputs": [],
   "source": [
    "all_test_scenario = []"
   ]
  },
  {
   "cell_type": "code",
   "execution_count": 87,
   "metadata": {},
   "outputs": [
    {
     "name": "stdout",
     "output_type": "stream",
     "text": [
      "{\n",
      "  \"Test Scenarios\": [\n",
      "    \"Verify that learners can view their vocabulary list with all details by selecting the 'Handbook' tab.\"\n",
      "  ]\n",
      "}\n"
     ]
    }
   ],
   "source": [
    "\n",
    "if( len(click_only_flows)!= 0 ):\n",
    "    promptExtractCondtition = [\n",
    "    { \"role\": \"system\", \"content\": SYSTEM_PROMPT_gen_no_condition_test_scenarios},\n",
    "    { \"role\": \"user\", \"content\": str(click_only_flows) }\n",
    "  ]\n",
    "\n",
    "    gpt_response = ask(promptExtractCondtition, client, model)\n",
    "    print(gpt_response)\n",
    "    temp = json.loads(gpt_response)[\"Test Scenarios\"]\n",
    "    all_test_scenario.extend(temp)\n",
    "\n",
    "    "
   ]
  },
  {
   "cell_type": "code",
   "execution_count": 88,
   "metadata": {},
   "outputs": [
    {
     "name": "stdout",
     "output_type": "stream",
     "text": [
      "Element: {'Search bar': {'condition': {'valid': 'must contain characters', 'invalid': 'empty input'}, 'value': [], 'type': 'text field'}}\n",
      "Use case:{'Alternative flow 1: Learner search vocabulary in Handbook': ['At step 3 of the basic flow: Learner presses the search bar.', 'Step 4: Learner enters the word to search.', 'Step 5: The system filters vocabulary containing characters entered by learners in the search bar.'], 'Alternative flow 2: Learner search a meaningless vocabulary in Handbook': ['At step 3 of the basic flow: Learner presses the search bar.', 'Step 4: Learner enters a meaningless word to search.', 'Step 5: The system notifies that there are no suitable search results.']}\n"
     ]
    }
   ],
   "source": [
    "print(\"Element: \"+str(filter_element_enter_value) +\"\\nUse case:\" +str(input_flows) )"
   ]
  },
  {
   "cell_type": "code",
   "execution_count": 89,
   "metadata": {},
   "outputs": [
    {
     "name": "stdout",
     "output_type": "stream",
     "text": [
      "All Test Scenario Names:\n",
      "[\n",
      "  \"Verify that users can successfully search for vocabulary containing specific characters in the Handbook.\",\n",
      "  \"Verify that the system notifies there are no suitable search results when a meaningless word is entered in the search bar.\",\n",
      "  \"Verify that the system does not proceed with the search when the search bar input is empty.\"\n",
      "]\n"
     ]
    }
   ],
   "source": [
    "\n",
    "if( len(filter_element_enter_value)!= 0 ):\n",
    "    promptExtractCondtition = [\n",
    "    { \"role\": \"system\", \"content\": SYSTEM_PROMPT_gen_test_scenarios_input_element},\n",
    "    { \"role\": \"user\", \"content\": \"Element: \"+str(filter_element_enter_value) +\"\\nUse case:\" +str(input_flows)  }\n",
    "  ]\n",
    "\n",
    "    gpt_response = ask(promptExtractCondtition, client, model)\n",
    "    data = json.loads(gpt_response)\n",
    "\n",
    "    # Extract only the test scenario names\n",
    "    all_scenario_names = []\n",
    "    for scenario_type in data:\n",
    "        for scenario in data[scenario_type]:\n",
    "            scenario_desc = list(scenario.keys())[0]\n",
    "            all_scenario_names.append(scenario_desc)\n",
    "\n",
    "    print(\"All Test Scenario Names:\")\n",
    "    print(json.dumps(all_scenario_names, indent=2))\n",
    "    all_test_scenario.extend(all_scenario_names)\n",
    "    \n"
   ]
  },
  {
   "cell_type": "code",
   "execution_count": 90,
   "metadata": {},
   "outputs": [
    {
     "name": "stdout",
     "output_type": "stream",
     "text": [
      "{\n",
      "  \"Test Scenarios\": [\n",
      "    \"Verify that when a learner ticks the vocabulary checkbox, the system marks that vocabulary to appear in the daily test review.\",\n",
      "    \"Verify that when a learner unticks the vocabulary checkbox, the system marks that vocabulary will not appear in the daily test review.\"\n",
      "  ]\n",
      "}\n"
     ]
    }
   ],
   "source": [
    "if( len(filter_element_select_value)!= 0):\n",
    "    promptExtractCondtition = [\n",
    "    { \"role\": \"system\", \"content\": SYSTEM_PROMPT_gen_test_scenarios_select_element},\n",
    "    { \"role\": \"user\", \"content\": str(select_flows) + \"Element: \"+str(filter_element_select_value) }\n",
    "  ]\n",
    "\n",
    "    gpt_response = ask(promptExtractCondtition, client, model)\n",
    "    print(gpt_response)\n",
    "    select_testscenario = json.loads(gpt_response)[\"Test Scenarios\"]\n",
    "    all_test_scenario.extend(select_testscenario)\n",
    "    "
   ]
  },
  {
   "cell_type": "code",
   "execution_count": 91,
   "metadata": {},
   "outputs": [
    {
     "name": "stdout",
     "output_type": "stream",
     "text": [
      "{'Vocabulary checkbox': {'condition': {'valid': 'checkbox can be ticked or unticked', 'invalid': ''}, 'value': ['ticked', 'unticked'], 'type': 'checkbox'}}\n"
     ]
    }
   ],
   "source": [
    "print(filter_element_select_value)\n"
   ]
  },
  {
   "cell_type": "code",
   "execution_count": 92,
   "metadata": {},
   "outputs": [
    {
     "name": "stdout",
     "output_type": "stream",
     "text": [
      "D:\\GPT-testing\\ResultSet\\4.21 - best version\\Propse 1\\\\MatchaEnglishWebsite\\Handbook.txt\n"
     ]
    }
   ],
   "source": [
    "test_scenario_file_path = file_path.replace(\"SpecificationData\", \"ResultSet\\\\4.21 - best version\\\\Propse 1\\\\\")\n",
    "print(test_scenario_file_path)"
   ]
  },
  {
   "cell_type": "code",
   "execution_count": 93,
   "metadata": {},
   "outputs": [
    {
     "name": "stdout",
     "output_type": "stream",
     "text": [
      "Verify that learners can view their vocabulary list with all details by selecting the 'Handbook' tab.\n",
      "Verify that users can successfully search for vocabulary containing specific characters in the Handbook.\n",
      "Verify that the system notifies there are no suitable search results when a meaningless word is entered in the search bar.\n",
      "Verify that the system does not proceed with the search when the search bar input is empty.\n",
      "Verify that when a learner ticks the vocabulary checkbox, the system marks that vocabulary to appear in the daily test review.\n",
      "Verify that when a learner unticks the vocabulary checkbox, the system marks that vocabulary will not appear in the daily test review.\n"
     ]
    }
   ],
   "source": [
    "for i in (all_test_scenario):\n",
    "    print(i)"
   ]
  },
  {
   "cell_type": "code",
   "execution_count": 94,
   "metadata": {},
   "outputs": [],
   "source": [
    "# write_to_file(test_scenario_file_path,\"\")"
   ]
  }
 ],
 "metadata": {
  "kernelspec": {
   "display_name": "Python 3",
   "language": "python",
   "name": "python3"
  },
  "language_info": {
   "codemirror_mode": {
    "name": "ipython",
    "version": 3
   },
   "file_extension": ".py",
   "mimetype": "text/x-python",
   "name": "python",
   "nbconvert_exporter": "python",
   "pygments_lexer": "ipython3",
   "version": "3.10.9"
  }
 },
 "nbformat": 4,
 "nbformat_minor": 2
}
