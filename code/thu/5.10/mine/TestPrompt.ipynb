{
 "cells": [
  {
   "cell_type": "code",
   "execution_count": 12,
   "metadata": {},
   "outputs": [],
   "source": [
    "from openai import OpenAI\n",
    "import json\n",
    "import os\n",
    "\n",
    "GPT_MODEL_4 = \"gpt-4-0125-preview\"\n",
    "OPEN_API_KEY = os.getenv(\"OPENAI_API_KEY\")\n",
    "\n",
    "client = OpenAI()\n",
    "model = GPT_MODEL_4\n",
    "\n",
    "def ask(prompt, client, model, temperature = 0):\n",
    "    response = None\n",
    "    \n",
    "    response = client.chat.completions.create(\n",
    "      model=model,\n",
    "      messages=prompt,\n",
    "      temperature=temperature,\n",
    "    )\n",
    "\n",
    "    return response.choices[0].message.content\n",
    "\n",
    "def askJSON(prompt, client, model, temperature = 0):\n",
    "    response = None\n",
    "    \n",
    "    response = client.chat.completions.create(\n",
    "      model=model,\n",
    "      messages=prompt,\n",
    "      temperature=temperature,\n",
    "      response_format={ \"type\": \"json_object\" },\n",
    "    )\n",
    "\n",
    "    return response.choices[0].message.content"
   ]
  },
  {
   "cell_type": "code",
   "execution_count": 13,
   "metadata": {},
   "outputs": [],
   "source": [
    "EXTRACT_CONDITION_SYSTEM_PROMPT=\"\"\"\n",
    "Given use case flows of a feature.\n",
    "Your task is to identify all the interactive elements within the feature. \n",
    "For each interactive element:\n",
    "Identify what type of that element (button,buttons, icon,scroll, text field,text area, tab, radio buttons, menu, combobox, sliders, switches, dialog, link, form,rating, filter).\n",
    "Identify all the conditions mentioned in the use case of that element that would make the element valid and the conditions that would make the element invalid based on the description of the use case flow.\n",
    "Do not arbitrarily create additional conditions that not mention in the use case flow.\n",
    "\n",
    "Return the element extracted in json format.\n",
    "The JSON format should follow the following structure:\n",
    "{\"Name of interactive element\": {\"condition\": {valid:\"conditions that make element valid\", invalid: \"conditions that make element invalid\"}, \"type\": \"element type\"}}\n",
    "Examples of output json format template: \n",
    "{\"Username\": {\"condition\": {\"valid\": \"must be over 8 characters and below 30 characters, must be entered\", \"invalid\": \"below 8 characters, over 30 character, empty\"}, \"type\": \"text field\"}}\n",
    "{\"Search button\": {\"condition\": {\"valid\": \"\", \"invalid\": \"\"}, \"type\": \"text field\"}}\n",
    "\"\"\"\n",
    "# Identify what type of that element (button,buttons, icon,scroll, text field, radio buttons, menu, menu for navigation,menu for opening dialog or another menu, menu for filter, sliders, switches, dialog, link, form,rating, filter).\n"
   ]
  },
  {
   "cell_type": "code",
   "execution_count": null,
   "metadata": {},
   "outputs": [],
   "source": []
  },
  {
   "cell_type": "code",
   "execution_count": 14,
   "metadata": {},
   "outputs": [],
   "source": [
    "u"
   ]
  },
  {
   "cell_type": "code",
   "execution_count": 15,
   "metadata": {},
   "outputs": [],
   "source": [
    "# promptMainScenario = [\n",
    "#     { \"role\": \"system\", \"content\": MAIN_FLOW_SYSTEM_PROMPT},\n",
    "#     { \"role\": \"user\", \"content\": main_flow_prompt}\n",
    "#   ]\n",
    "# main_gpt_response = ask(promptMainScenario, client, model)\n",
    "\n",
    "# promptSubScenario1 = [\n",
    "#     { \"role\": \"system\", \"content\": SUB_FLOW_SYSTEM_PROMPT},\n",
    "#     { \"role\": \"user\", \"content\": alt_prompt_1}\n",
    "#   ]\n",
    "# sub1_gpt_response = ask(promptSubScenario1, client, model)\n",
    "\n",
    "# promptSubScenario2 = [\n",
    "#     { \"role\": \"system\", \"content\": SUB_FLOW_SYSTEM_PROMPT},\n",
    "#     { \"role\": \"user\", \"content\": alt_prompt_2}\n",
    "#   ]\n",
    "# sub2_gpt_response = ask(promptSubScenario2, client, model)\n",
    "\n",
    "# filtercontent = main_gpt_response + \"/n\" + sub1_gpt_response + \"/n\" + sub2_gpt_response\n",
    "\n"
   ]
  },
  {
   "cell_type": "code",
   "execution_count": 16,
   "metadata": {},
   "outputs": [
    {
     "name": "stdout",
     "output_type": "stream",
     "text": [
      "{\"Create button on navbar\": {\"condition\": {\"valid\": \"\", \"invalid\": \"\"}, \"type\": \"button\"},\n",
      "\"Options button\": {\"condition\": {\"valid\": \"\", \"invalid\": \"\"}, \"type\": \"buttons\"},\n",
      "\"Create board option\": {\"condition\": {\"valid\": \"\", \"invalid\": \"\"}, \"type\": \"button\"},\n",
      "\"Start with a template option\": {\"condition\": {\"valid\": \"\", \"invalid\": \"\"}, \"type\": \"button\"},\n",
      "\"Create workspace option\": {\"condition\": {\"valid\": \"\", \"invalid\": \"\"}, \"type\": \"button\"},\n",
      "\"Board title\": {\"condition\": {\"valid\": \"must be filled\", \"invalid\": \"empty\"}, \"type\": \"text field\"},\n",
      "\"Workspace combo box\": {\"condition\": {\"valid\": \"user's created workspace\", \"invalid\": \"\"}, \"type\": \"combo box\"},\n",
      "\"Visibility combo box\": {\"condition\": {\"valid\": \"Private, Workspace, Public\", \"invalid\": \"\"}, \"type\": \"combo box\"},\n",
      "\"Create button in dropdown\": {\"condition\": {\"valid\": \"'Board title' is filled\", \"invalid\": \"'Board title' is empty\"}, \"type\": \"button\"},\n",
      "\"Use template button\": {\"condition\": {\"valid\": \"\", \"invalid\": \"\"}, \"type\": \"button\"},\n",
      "\"Template list\": {\"condition\": {\"valid\": \"\", \"invalid\": \"\"}, \"type\": \"menu for opening dialog or another menu\"},\n",
      "\"Template option\": {\"condition\": {\"valid\": \"\", \"invalid\": \"\"}, \"type\": \"link\"},\n",
      "\"Templates tab\": {\"condition\": {\"valid\": \"\", \"invalid\": \"\"}, \"type\": \"menu for navigation\"}}\n"
     ]
    }
   ],
   "source": [
    "promptExtractCondition = [\n",
    "    { \"role\": \"system\", \"content\": EXTRACT_CONDITION_SYSTEM_PROMPT},\n",
    "    { \"role\": \"user\", \"content\": prompt_all}\n",
    "  ]\n",
    "gpt_response = askJSON(promptExtractCondition, client, model)\n",
    "print(gpt_response)"
   ]
  },
  {
   "cell_type": "code",
   "execution_count": 17,
   "metadata": {},
   "outputs": [
    {
     "name": "stdout",
     "output_type": "stream",
     "text": [
      "{'Board title': {'condition': {'valid': 'must be filled', 'invalid': 'empty'}, 'type': 'text field'}}\n"
     ]
    }
   ],
   "source": [
    "full_elements = json.loads(gpt_response)\n",
    "condition_element = {key: value for key, value in full_elements.items() \n",
    "                              if (value['type'] in ['text field','text area'] and (value['condition']['valid'] or value['condition']['invalid'] ))}\n",
    "print(condition_element)"
   ]
  },
  {
   "cell_type": "code",
   "execution_count": 18,
   "metadata": {},
   "outputs": [
    {
     "name": "stdout",
     "output_type": "stream",
     "text": [
      "Board title {'condition': {'valid': 'must be filled', 'invalid': 'empty'}, 'type': 'text field'}\n"
     ]
    }
   ],
   "source": [
    "for i,v in condition_element.items():\n",
    "    print (i,v)"
   ]
  },
  {
   "cell_type": "code",
   "execution_count": 19,
   "metadata": {},
   "outputs": [],
   "source": [
    "# full_elements = json.loads(gpt_response)\n",
    "# filter_element_select_value = {key: value for key, value in full_elements.items() \n",
    "#                              if ( value['value'] and value['type'] not in ['button','menu for navigation',' menu for opening dialog or another dropdown',  'tab', 'card','link','icon','title','dialog'])}\n",
    "# filter_element_enter_value = {key: value for key, value in full_elements.items() \n",
    "#                               if (value['type'] in ['text field','text area'] and value['condition']['valid'] or value['condition']['invalid'] )}\n",
    "# combined_json = filter_element_select_value.copy()\n",
    "# combined_json.update(filter_element_enter_value)\n",
    "# # value['type'] in ['text field','text area']"
   ]
  },
  {
   "cell_type": "code",
   "execution_count": 20,
   "metadata": {},
   "outputs": [],
   "source": [
    "# promptFinal = [\n",
    "#     { \"role\": \"system\", \"content\": CHECK_CONDITION_AVAILABLE_PROMPT},\n",
    "#     { \"role\": \"user\", \"content\": filter_gpt_response + '/n' + str(combined_json)}\n",
    "#   ]\n",
    "# final_gpt_response = ask(promptExtractCondition, client, model)\n",
    "# print(final_gpt_response)"
   ]
  },
  {
   "cell_type": "code",
   "execution_count": 21,
   "metadata": {},
   "outputs": [
    {
     "ename": "NameError",
     "evalue": "name 'filtercontent' is not defined",
     "output_type": "error",
     "traceback": [
      "\u001b[1;31m---------------------------------------------------------------------------\u001b[0m",
      "\u001b[1;31mNameError\u001b[0m                                 Traceback (most recent call last)",
      "Cell \u001b[1;32mIn[21], line 3\u001b[0m\n\u001b[0;32m      1\u001b[0m promptFilter \u001b[38;5;241m=\u001b[39m [\n\u001b[0;32m      2\u001b[0m     { \u001b[38;5;124m\"\u001b[39m\u001b[38;5;124mrole\u001b[39m\u001b[38;5;124m\"\u001b[39m: \u001b[38;5;124m\"\u001b[39m\u001b[38;5;124msystem\u001b[39m\u001b[38;5;124m\"\u001b[39m, \u001b[38;5;124m\"\u001b[39m\u001b[38;5;124mcontent\u001b[39m\u001b[38;5;124m\"\u001b[39m: FILTER_SYSTEM_PROMPT},\n\u001b[1;32m----> 3\u001b[0m     { \u001b[38;5;124m\"\u001b[39m\u001b[38;5;124mrole\u001b[39m\u001b[38;5;124m\"\u001b[39m: \u001b[38;5;124m\"\u001b[39m\u001b[38;5;124muser\u001b[39m\u001b[38;5;124m\"\u001b[39m, \u001b[38;5;124m\"\u001b[39m\u001b[38;5;124mcontent\u001b[39m\u001b[38;5;124m\"\u001b[39m: \u001b[43mfiltercontent\u001b[49m}\n\u001b[0;32m      4\u001b[0m   ]\n\u001b[0;32m      5\u001b[0m filter_gpt_response \u001b[38;5;241m=\u001b[39m ask(promptFilter, client, model)\n\u001b[0;32m      6\u001b[0m \u001b[38;5;28mprint\u001b[39m(filter_gpt_response)\n",
      "\u001b[1;31mNameError\u001b[0m: name 'filtercontent' is not defined"
     ]
    }
   ],
   "source": [
    "# promptFilter = [\n",
    "#     { \"role\": \"system\", \"content\": FILTER_SYSTEM_PROMPT},\n",
    "#     { \"role\": \"user\", \"content\": filtercontent}\n",
    "#   ]\n",
    "# filter_gpt_response = ask(promptFilter, client, model)\n",
    "# print(filter_gpt_response)"
   ]
  }
 ],
 "metadata": {
  "kernelspec": {
   "display_name": "Python 3",
   "language": "python",
   "name": "python3"
  },
  "language_info": {
   "codemirror_mode": {
    "name": "ipython",
    "version": 3
   },
   "file_extension": ".py",
   "mimetype": "text/x-python",
   "name": "python",
   "nbconvert_exporter": "python",
   "pygments_lexer": "ipython3",
   "version": "3.10.9"
  }
 },
 "nbformat": 4,
 "nbformat_minor": 2
}
