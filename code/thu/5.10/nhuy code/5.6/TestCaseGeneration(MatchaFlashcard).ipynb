{
 "cells": [
  {
   "cell_type": "code",
   "execution_count": 1,
   "metadata": {},
   "outputs": [],
   "source": [
    "from openai import OpenAI\n",
    "import json\n",
    "import os\n",
    "\n",
    "GPT_MODEL_4 = \"gpt-4-0125-preview\"\n",
    "OPEN_API_KEY = os.getenv(\"OPENAI_API_KEY\")\n",
    "\n",
    "client = OpenAI()\n",
    "model = GPT_MODEL_4\n",
    "\n",
    "def ask(prompt, client, model, temperature = 0):\n",
    "    response = None\n",
    "    \n",
    "    response = client.chat.completions.create(\n",
    "      model=model,\n",
    "      messages=prompt,\n",
    "      temperature=temperature,\n",
    "    )\n",
    "\n",
    "    return response.choices[0].message.content"
   ]
  },
  {
   "cell_type": "code",
   "execution_count": 2,
   "metadata": {},
   "outputs": [],
   "source": [
    "SYSTEM_PROMPT_5=\"\"\"\n",
    "I want you to act as a software tester.\n",
    "Your task is to read the test scenario's name and the corresponding use case specification to predict the goal of the test scenario.\n",
    "Also, generate a test case includes test steps based on those information to cover the test scenario.\n",
    "Rules for generating test case:\n",
    "- If that test case needs login as a specific role to proceed, do not put login at step 1. Instead, put the login as that specific role in the pre condition.\n",
    "- If in the use case specification do not describe how to go to the page to do the test case, do not put it in the step. Instead, tell the tester that they need to be in that page in the pre condition.\n",
    "- If there are navigation steps in the use case specification, keep it. Do not put it in the precondition or combine it with other steps.\n",
    "- If the test case need to be repeated to test with different order, data or case, seperate them to be distinct test cases.\n",
    "- Generate only test cases that the test scenario's name mentioned. Do not try to cover everything in the use case specification if the test scenario's name does not describe it. \n",
    "- Write the test step clearly, do not write something like \"Follow steps from the main flow\".\n",
    "- If the scenario is about testing the displation and there is no flow directly cover that scenario, use only the basic (or main) flow to test it.\n",
    "\"\"\""
   ]
  },
  {
   "cell_type": "code",
   "execution_count": 3,
   "metadata": {},
   "outputs": [],
   "source": [
    "prompt=\"\"\"\n",
    "Scenario: Lesson Selection with No Topics Available\n",
    "\n",
    "use case id: \n",
    "use case name: flashcard\n",
    "objective: This use case allows learners to study vocabulary words through interactive flashcards categorized by topics and lessons. Learners can navigate through different topics within a lesson and flip through flashcards to learn new words and their meanings.\n",
    "actor: learner \n",
    "Preconditions:\n",
    "Learner must be logged into the application.\n",
    "\n",
    "basic flow:\n",
    "Step 1: Learner clicks the \"Learn New Word\" tab on the navigation bar.\n",
    "Step 2:The system displays a list of available lessons.\n",
    "Step 3:Learner selects a lesson from the list.\n",
    "Step 4:The system displays the details of the selected lesson, including the topics associated with it.\n",
    "Step 5:Learner chooses a topic to study.\n",
    "Step 6:The system redirects the learner to the corresponding Flashcard page for the selected topic.\n",
    "Step 7:The system displays the first flashcard of the vocabulary words for the selected topic. The front of the flashcard shows the vocabulary name, pronunciation, and Vietnamese meaning.\n",
    "Step 8:Learner click on the flashcard to flip it and view the back, which contains illustrations and examples of real-life usage.\n",
    "Step 9:Learner click the \"Next\" button to go to the flashcard of the next vocabulary word.\n",
    "Step 10:If there is a flashcard of the previous word, learner click the \"Previous\" button to go back to the previous flashcard.\n",
    "Step 11:Steps 8-11 are repeated for all flashcards in the topic.\n",
    "Step 12:Once all the flashcards have been studied, the 'Next' button on the last flashcard will redirect system to the 'completion notification' page with a congratulatory message and option buttons to 'continue studying' and 'return to the lesson page'.\n",
    "Step 13: learner clicks \"return to the lesson page\" \n",
    "Step 14: the system redirect to the lesson page.\n",
    "\n",
    "Alternative Flows:\n",
    "Alternative flow 1: Learner presses the 'back' button during flashcard study and presses 'stay'.\n",
    "At step 7 of the basic flow: Learner presses the 'back button.\n",
    "Step 8: Exit confirmation dialog box appears, asking \"Are you sure you want to exit?\"\n",
    "Step 9: Learner clicks 'stay'.\n",
    "Go back to step 7 in the basic flow and continue with the steps from step 7.\n",
    "\n",
    "Alternative flow 2:Learner presses the 'continue studying'\n",
    "At step 13 of the basic flow: learner clicks 'continue studying'\n",
    "Step 14: Topic is marked as completed. Vocabulary words are marked as studied.Learner can review completed topics and studied vocabulary later.\n",
    "Step 15: The system redirects the learner to the corresponding Flashcard page for the continuous topic.\n",
    "\n",
    "Alternative flow 3: Continuing from Home Page with incomplete topic displayed on the home page\n",
    "At step 1 of the basic flow: Learner clicks one incomplete topic.\n",
    "Go back to step 6 in the basic flow and continue with the steps from step 6.\n",
    "\n",
    "Alternative flow 4: learner tries to click 'Previous' button when on the first flashcard, the button is disabled.\n",
    "At step 9 of the basic flow: Learner clicks 'Previous' button.\n",
    "Step 10: the system display message 'there is no previous vocabulary to display'.\n",
    "Go back to step 9 in the basic flow and continue with the steps from step 9.\n",
    "\n",
    "Exception flow:\n",
    "Exception flow 1: Learner presses the 'back' button during flashcard study and presses 'exit'.\n",
    "At step 7 of the basic flow: Learner presses the 'back' button.\n",
    "Step 8: Exit confirmation dialog box appears, asking \"Are you sure you want to exit?\"\n",
    "Step 9: Learner clicks 'exit'.\n",
    "Step 10: System returns learner to the topic page and the topic is marked as incomplete topic and be displayed on the home page.\n",
    "Postcondition: \n",
    "Topic is marked as completed. \n",
    "Vocabulary words are marked as studied.\n",
    "Learner can review completed topics and studied vocabulary later.\n",
    "\n",
    "\n",
    "\n",
    "\n",
    "\"\"\""
   ]
  },
  {
   "cell_type": "code",
   "execution_count": 4,
   "metadata": {},
   "outputs": [
    {
     "name": "stdout",
     "output_type": "stream",
     "text": [
      "Given the scenario's name, \"Checkout Process with System Error During Save,\" it seems the goal of this test scenario is to verify the system's behavior when an error occurs during the save operation of the feedback process after checkout. However, the provided use case specification does not directly describe a scenario where a system error occurs during the save operation. Since the test scenario specifically mentions testing the system error during the save, we will focus on creating a test case that simulates or anticipates a system error during the feedback saving process.\n",
      "\n",
      "### Test Case: Simulating System Error During Feedback Save Operation\n",
      "\n",
      "#### Objective:\n",
      "To verify the system's behavior when an error occurs during the save operation of the feedback process after checkout.\n",
      "\n",
      "#### Pre-Conditions:\n",
      "- The tester must have completed the checkout process successfully.\n",
      "- The tester needs to be on the feedback submission page, which is accessible after the checkout process.\n",
      "\n",
      "#### Test Steps:\n",
      "1. Enter valid details into the feedback form as requested by the system.\n",
      "2. Simulate a system error or use a predefined condition that triggers a system error during the save operation. (This step might require backend access or a specific setup to induce a system error, which should be prepared before executing this test case.)\n",
      "3. Attempt to save the entered feedback details by submitting the form.\n",
      "\n",
      "#### Expected Result:\n",
      "- The system should handle the error gracefully, informing the user that an error has occurred and possibly providing instructions on what to do next (e.g., try again later, contact support, etc.).\n",
      "- The feedback should not be sent to the shop owner due to the error during the save operation.\n",
      "\n",
      "#### Notes:\n",
      "- Since the use case specification does not describe how to simulate or handle a system error during the save operation, the test case includes a step to simulate or induce a system error. This might require additional setup or access to the system's backend for testing purposes.\n",
      "- The tester should ensure that all pre-conditions are met before executing the test case, including completing the checkout process and accessing the feedback submission page.\n"
     ]
    }
   ],
   "source": [
    "promptTestCase = [\n",
    "    { \"role\": \"system\", \"content\": SYSTEM_PROMPT_5},\n",
    "    { \"role\": \"user\", \"content\": prompt}\n",
    "  ]\n",
    "gpt_response = ask(promptTestCase, client, model)\n",
    "print(gpt_response)"
   ]
  },
  {
   "cell_type": "code",
   "execution_count": 5,
   "metadata": {},
   "outputs": [
    {
     "name": "stdout",
     "output_type": "stream",
     "text": [
      "### Test Case: System Error During Save in Feedback Process\n",
      "\n",
      "#### Goal:\n",
      "To verify that the system handles errors gracefully during the save operation in the feedback process after checkout.\n",
      "\n",
      "#### Pre-Conditions:\n",
      "- The tester has successfully completed the checkout process.\n",
      "- The tester is on the feedback submission page.\n",
      "\n",
      "#### Test Steps:\n",
      "1. Enter valid details into the feedback form as requested by the system.\n",
      "2. Simulate a system error during the save operation (This step may require coordination with a developer to induce a system error or use a testing environment where errors can be simulated).\n",
      "3. Observe the system's response to the error.\n",
      "\n",
      "#### Expected Result:\n",
      "- The system should display an appropriate error message indicating that the feedback could not be saved due to a system error.\n",
      "- The system should offer the user options to retry saving the feedback or to save the feedback details for later submission.\n",
      "\n",
      "#### Note:\n",
      "This test case focuses on the system's behavior during an error in the save operation of the feedback process. Ensure that the simulation of the system error is done in a controlled manner to accurately assess the system's error handling capabilities.\n"
     ]
    }
   ],
   "source": [
    "promptTestCase = [\n",
    "    { \"role\": \"system\", \"content\": SYSTEM_PROMPT_5},\n",
    "    { \"role\": \"user\", \"content\": prompt}\n",
    "  ]\n",
    "gpt_response = ask(promptTestCase, client, model)\n",
    "print(gpt_response)"
   ]
  },
  {
   "cell_type": "code",
   "execution_count": 6,
   "metadata": {},
   "outputs": [
    {
     "name": "stdout",
     "output_type": "stream",
     "text": [
      "### Test Case: Verify System Error Handling During Feedback Submission After Checkout\n",
      "\n",
      "#### Goal:\n",
      "To ensure that the system gracefully handles and notifies the user of any errors that occur during the feedback submission process after a successful checkout.\n",
      "\n",
      "#### Pre-Conditions:\n",
      "- The tester must have completed the checkout process successfully.\n",
      "- The tester needs to be on the feedback submission page.\n",
      "\n",
      "#### Test Steps:\n",
      "1. Enter valid details into the feedback form as requested by the system.\n",
      "2. Simulate a system error during the save operation (This step may require coordination with a developer to induce a system error or use a testing environment where errors can be simulated).\n",
      "3. Observe the system's response to the error.\n",
      "\n",
      "#### Expected Result:\n",
      "- The system should display a clear and understandable error message indicating that the feedback could not be saved due to a system error.\n",
      "- The system should offer the user options to retry the submission or contact support for further assistance.\n",
      "\n",
      "#### Note:\n",
      "This test case focuses on the system's ability to handle errors during the feedback submission process. It is crucial to simulate the error condition accurately to validate the system's error handling capabilities.\n"
     ]
    }
   ],
   "source": [
    "promptTestCase = [\n",
    "    { \"role\": \"system\", \"content\": SYSTEM_PROMPT_5},\n",
    "    { \"role\": \"user\", \"content\": prompt}\n",
    "  ]\n",
    "gpt_response = ask(promptTestCase, client, model)\n",
    "print(gpt_response)"
   ]
  }
 ],
 "metadata": {
  "kernelspec": {
   "display_name": "Python 3",
   "language": "python",
   "name": "python3"
  },
  "language_info": {
   "codemirror_mode": {
    "name": "ipython",
    "version": 3
   },
   "file_extension": ".py",
   "mimetype": "text/x-python",
   "name": "python",
   "nbconvert_exporter": "python",
   "pygments_lexer": "ipython3",
   "version": "3.11.0"
  }
 },
 "nbformat": 4,
 "nbformat_minor": 2
}
