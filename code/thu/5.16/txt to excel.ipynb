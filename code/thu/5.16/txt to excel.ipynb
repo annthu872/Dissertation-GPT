{
 "cells": [
  {
   "cell_type": "code",
   "execution_count": 1,
   "metadata": {},
   "outputs": [
    {
     "name": "stdout",
     "output_type": "stream",
     "text": [
      "All file contents have been written to output.xlsx\n"
     ]
    }
   ],
   "source": [
    "import os\n",
    "import pandas as pd\n",
    "\n",
    "def read_files_in_folder(folder_path):\n",
    "    all_content = []\n",
    "    for filename in os.listdir(folder_path):\n",
    "        file_path = os.path.join(folder_path, filename)\n",
    "        if os.path.isfile(file_path):\n",
    "            with open(file_path, 'r') as file:\n",
    "                # Add file name\n",
    "                all_content.append(filename)\n",
    "                # Add file contents line by line\n",
    "                lines = file.readlines()\n",
    "                all_content.extend(lines)\n",
    "                # Add a blank line to separate files\n",
    "                all_content.append('')\n",
    "    return all_content\n",
    "\n",
    "def write_content_to_excel(content, excel_file_path):\n",
    "    df = pd.DataFrame(content, columns=[\"Test Scenario\"])\n",
    "    df.to_excel(excel_file_path, index=False, engine='openpyxl')\n",
    "\n",
    "def main():\n",
    "    folder_path = r'D:\\Dissertation-GPT\\evaluate\\ResultSet\\5.23\\0\\MatchaEnglishWebsite'  # Change this to your folder path\n",
    "    excel_file_path = 'output.xlsx'\n",
    "\n",
    "    content = read_files_in_folder(folder_path)\n",
    "    write_content_to_excel(content, excel_file_path)\n",
    "    print(f\"All file contents have been written to {excel_file_path}\")\n",
    "\n",
    "if __name__ == \"__main__\":\n",
    "    main()\n"
   ]
  },
  {
   "cell_type": "code",
   "execution_count": 2,
   "metadata": {},
   "outputs": [],
   "source": [
    "import os\n",
    "import csv\n",
    "\n",
    "# Function to convert txt file content to csv\n",
    "def convert_txt_to_csv(folder_path):\n",
    "    for filename in os.listdir(folder_path):\n",
    "        if filename.endswith(\".txt\"):\n",
    "            txt_file_path = os.path.join(folder_path, filename)\n",
    "            csv_file_path = os.path.join(folder_path, f\"{os.path.splitext(filename)[0]}.csv\")\n",
    "            \n",
    "            # Read the content of the txt file\n",
    "            with open(txt_file_path, 'r') as txt_file:\n",
    "                content = txt_file.readlines()\n",
    "            \n",
    "            # Write the content to a csv file\n",
    "            with open(csv_file_path, 'w', newline='') as csv_file:\n",
    "                csv_writer = csv.writer(csv_file)\n",
    "                \n",
    "                # Write the name of the txt file in the first cell of column A\n",
    "                csv_writer.writerow([filename])\n",
    "                \n",
    "                # Write an empty cell\n",
    "                csv_writer.writerow([\"\"])\n",
    "                \n",
    "                # Write the content of the txt file, each line in a new row\n",
    "                for line in content:\n",
    "                    csv_writer.writerow([line.strip()])\n",
    "\n",
    "# Example usage:\n",
    "folder_path =  r'D:\\Dissertation-GPT\\evaluate\\ResultSet\\5.23\\0\\MatchaEnglishWebsite' # Replace with your folder path\n",
    "convert_txt_to_csv(folder_path)\n"
   ]
  }
 ],
 "metadata": {
  "kernelspec": {
   "display_name": "base",
   "language": "python",
   "name": "python3"
  },
  "language_info": {
   "codemirror_mode": {
    "name": "ipython",
    "version": 3
   },
   "file_extension": ".py",
   "mimetype": "text/x-python",
   "name": "python",
   "nbconvert_exporter": "python",
   "pygments_lexer": "ipython3",
   "version": "3.10.9"
  }
 },
 "nbformat": 4,
 "nbformat_minor": 2
}
