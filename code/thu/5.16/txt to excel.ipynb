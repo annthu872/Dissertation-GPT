{
 "cells": [
  {
   "cell_type": "code",
   "execution_count": 3,
   "metadata": {},
   "outputs": [
    {
     "name": "stdout",
     "output_type": "stream",
     "text": [
      "All file contents have been written to output.xlsx\n"
     ]
    }
   ],
   "source": [
    "import os\n",
    "import pandas as pd\n",
    "\n",
    "def read_files_in_folder(folder_path):\n",
    "    all_content = []\n",
    "    for filename in os.listdir(folder_path):\n",
    "        file_path = os.path.join(folder_path, filename)\n",
    "        if os.path.isfile(file_path):\n",
    "            with open(file_path, 'r') as file:\n",
    "                # Add file name\n",
    "                all_content.append(filename)\n",
    "                # Add file contents line by line\n",
    "                lines = file.readlines()\n",
    "                all_content.extend(lines)\n",
    "                # Add a blank line to separate files\n",
    "                all_content.append('')\n",
    "    return all_content\n",
    "\n",
    "def write_content_to_excel(content, excel_file_path):\n",
    "    df = pd.DataFrame(content, columns=[\"Test Scenario\"])\n",
    "    df.to_excel(excel_file_path, index=False, engine='openpyxl')\n",
    "\n",
    "def main():\n",
    "    folder_path = r'D:\\Dissertation-GPT\\evaluate\\ResultSet\\5.20\\old filter\\best\\ShopeeWeb'  # Change this to your folder path\n",
    "    excel_file_path = 'output.xlsx'\n",
    "\n",
    "    content = read_files_in_folder(folder_path)\n",
    "    write_content_to_excel(content, excel_file_path)\n",
    "    print(f\"All file contents have been written to {excel_file_path}\")\n",
    "\n",
    "if __name__ == \"__main__\":\n",
    "    main()\n"
   ]
  }
 ],
 "metadata": {
  "kernelspec": {
   "display_name": "base",
   "language": "python",
   "name": "python3"
  },
  "language_info": {
   "codemirror_mode": {
    "name": "ipython",
    "version": 3
   },
   "file_extension": ".py",
   "mimetype": "text/x-python",
   "name": "python",
   "nbconvert_exporter": "python",
   "pygments_lexer": "ipython3",
   "version": "3.10.9"
  }
 },
 "nbformat": 4,
 "nbformat_minor": 2
}
