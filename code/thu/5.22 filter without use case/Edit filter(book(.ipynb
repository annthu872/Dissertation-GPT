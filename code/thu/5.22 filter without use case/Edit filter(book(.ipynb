{
 "cells": [
  {
   "cell_type": "code",
   "execution_count": 62,
   "metadata": {},
   "outputs": [],
   "source": [
    "from openai import OpenAI\n",
    "import json\n",
    "import os\n",
    "\n",
    "GPT_MODEL_4 = \"gpt-4-0125-preview\"\n",
    "OPEN_API_KEY = os.getenv(\"OPENAI_API_KEY\")\n",
    "\n",
    "client = OpenAI()\n",
    "model = GPT_MODEL_4\n",
    "\n",
    "def ask(prompt, client, model, temperature = 0):\n",
    "    response = None\n",
    "    \n",
    "    response = client.chat.completions.create(\n",
    "      model=model,\n",
    "      messages=prompt,\n",
    "      temperature=temperature,\n",
    "    )\n",
    "\n",
    "    return response.choices[0].message.content\n",
    "\n",
    "def askJSON(prompt, client, model, temperature = 0):\n",
    "    response = None\n",
    "    \n",
    "    response = client.chat.completions.create(\n",
    "      model=model,\n",
    "      messages=prompt,\n",
    "      temperature=temperature,\n",
    "      response_format={ \"type\": \"json_object\" },\n",
    "    )\n",
    "\n",
    "    return response.choices[0].message.content"
   ]
  },
  {
   "cell_type": "code",
   "execution_count": 63,
   "metadata": {},
   "outputs": [],
   "source": [
    "FILTER_SYSTEM_PROMPT1=\"\"\"\n",
    "You will be provide with a list of test scenario.\n",
    "Based on information in the use case flow, define what test scenario is necessary to test the use case and remove duplicate test scenarios.\n",
    "If test scenarios related with system error: Page Load Failure, System Error, Network Error,Non-Existent Object Selected, interact with Non-Existent object ... but not be mentioned in use case flow, remove these test scenarios.\n",
    "Make sure test scenarios filted cover all the flow of use case and every scenarios in the response is unique.\n",
    "Return scenario name only.\n",
    "\"\"\"\n",
    "# Make sure every scenarios in the response is unique.\n",
    "\n",
    "FILTER_SYSTEM_PROMPT2=\"\"\"\n",
    "You will be provide with a list of test scenario.\n",
    "Based on information in the use case flow, define what test scenario is necessary to test the use case and remove duplicate test scenarios.\n",
    "Remove test case related with system error that not be mentioned in use case such as: Page Load Failure, System Error, Not Found,     Error Loading,... (and use case not mentioned these flow)\n",
    "Remove test case related interact with Non-Existent element.\n",
    "Make sure test scenarios filted cover all the flow of use case and every scenarios in the response is unique.\n",
    "Return scenario name only.\n",
    "\"\"\"\n",
    "FILTER_SYSTEM_PROMPT = FILTER_SYSTEM_PROMPT2"
   ]
  },
  {
   "cell_type": "code",
   "execution_count": 64,
   "metadata": {},
   "outputs": [
    {
     "name": "stdout",
     "output_type": "stream",
     "text": [
      "Display the list of authors\n",
      "\n",
      "Final result:1. Display First Page of Authors\n",
      "2. Navigate to Next Page of Authors\n",
      "3. Navigate to a Specific Page of Authors\n",
      "4. Last Page Display and Navigation Behavior\n",
      "5. Navigation with Insufficient Authors for Further Pagination\n"
     ]
    }
   ],
   "source": [
    "print(\"Display the list of authors\")\n",
    "filtercontent = \"\"\"\n",
    "Flow scenario:\n",
    "1. Display First Page of Authors\n",
    "2. Navigate to Next Page of Authors\n",
    "3. Navigate to a Specific Page of Authors\n",
    "4. Last Page Display and Navigation Behavior\n",
    "5. Navigation with Insufficient Authors for Further Pagination\n",
    "\"\"\"\n",
    "promptFilter = [\n",
    "    { \"role\": \"system\", \"content\": FILTER_SYSTEM_PROMPT},\n",
    "    { \"role\": \"user\", \"content\": filtercontent}\n",
    "  ]\n",
    "filter_gpt_response = ask(promptFilter, client, model)\n",
    "print(\"\\n\" + \"Final result:\" + filter_gpt_response)"
   ]
  },
  {
   "cell_type": "code",
   "execution_count": 65,
   "metadata": {},
   "outputs": [
    {
     "name": "stdout",
     "output_type": "stream",
     "text": [
      "Add a new author\n",
      "\n",
      "Final result:Successful Author Record Creation\n",
      "Incorrect Data Submission\n",
      "Attempt to add a new author with empty Name field\n",
      "Attempt to add a new author with empty Bio field\n",
      "Cancel Operation Before Data Submission\n",
      "Navigation Away Before Data Submission\n"
     ]
    }
   ],
   "source": [
    "print(\"Add a new author\")\n",
    "\n",
    "filtercontent = \"\"\"\n",
    "Conditional scenario:\n",
    "1. Scenario: Attempt to add a new author with empty Name field\n",
    "2. Scenario: Attempt to add a new author with empty Bio field\n",
    "Flow scenario:\n",
    "1. Successful Author Record Creation\n",
    "2. Incorrect Data Submission\n",
    "3. Database Error During Record Creation\n",
    "Based on the provided information, here are the scenarios that can lead the user from the main flow to change to the alternative or exception flow:\n",
    "\n",
    "1. **Cancel Operation Before Data Submission**: This scenario starts with the user clicking the \"Create new\" button and entering data but decides to press the \"Cancel\" button before submitting the data.\n",
    "\n",
    "2. **Navigation Away Before Data Submission**: This scenario involves the user starting to enter data after clicking the \"Create new\" button but then navigates away to another section (e.g., \"Books\", \"Genres\", \"Authors\", \"Home\", or \"API\") before pressing the \"Submit\" button.\n",
    "String has been written to AddAuthor1.csv\n",
    "\n",
    "\"\"\"\n",
    "\n",
    "\n",
    "promptFilter = [\n",
    "    { \"role\": \"system\", \"content\": FILTER_SYSTEM_PROMPT},\n",
    "    { \"role\": \"user\", \"content\": filtercontent}\n",
    "  ]\n",
    "filter_gpt_response = ask(promptFilter, client, model)\n",
    "print(\"\\n\" + \"Final result:\" + filter_gpt_response)"
   ]
  },
  {
   "cell_type": "code",
   "execution_count": 66,
   "metadata": {},
   "outputs": [
    {
     "name": "stdout",
     "output_type": "stream",
     "text": [
      "Add a new book\n",
      "\n",
      "Final result:1. Scenario_TitleEmpty\n",
      "2. Scenario_AuthorEmpty\n",
      "3. Scenario_GenreEmpty\n",
      "4. Scenario_DescriptionEmpty\n",
      "5. Scenario_PublicationDateEmpty\n",
      "6. Successful Book Creation\n",
      "7. Book Creation with Incorrect Data\n",
      "8. Cancel Operation Before Data Entry\n",
      "9. Cancel Operation After Partial Data Entry\n",
      "10. Navigation to Another Section Before Submission\n",
      "11. Cancel Operation After Completing Data Entry\n"
     ]
    }
   ],
   "source": [
    "print(\"Add a new book\")\n",
    "filtercontent = \"\"\"\n",
    "Conditional scenario:\n",
    "1. Scenario_TitleEmpty\n",
    "2. Scenario_AuthorEmpty\n",
    "3. Scenario_GenreEmpty\n",
    "4. Scenario_DescriptionEmpty\n",
    "5. Scenario_PublicationDateEmpty\n",
    "Flow scenario:\n",
    "1. Successful Book Creation\n",
    "2. Book Creation with Incorrect Data\n",
    "3. Book Creation Failure Due to System Error\n",
    "Based on the provided main flow and the alternative or exception flow, here are the scenarios that can lead a user from the main flow to change to the alternative or exception flow:\n",
    "\n",
    "1. **Cancel Operation Before Data Entry**: User initiates the creation of a new book record but decides to cancel before entering any data.\n",
    "2. **Cancel Operation After Partial Data Entry**: User starts entering data for a new book but decides to cancel partway through.\n",
    "3. **Navigation to Another Section Before Submission**: User navigates to \"Books\", \"Genres\", \"Authors\", \"Home\", or \"API\" before submitting the new book data.\n",
    "4. **Cancel Operation After Completing Data Entry**: User completes data entry for a new book but decides to cancel instead of submitting.\n",
    "\"\"\"\n",
    "\n",
    "\n",
    "promptFilter = [\n",
    "    { \"role\": \"system\", \"content\": FILTER_SYSTEM_PROMPT},\n",
    "    { \"role\": \"user\", \"content\": filtercontent}\n",
    "  ]\n",
    "filter_gpt_response = ask(promptFilter, client, model)\n",
    "print(\"\\n\" + \"Final result:\" + filter_gpt_response)"
   ]
  },
  {
   "cell_type": "code",
   "execution_count": 67,
   "metadata": {},
   "outputs": [
    {
     "name": "stdout",
     "output_type": "stream",
     "text": [
      "Display author details\n",
      "\n",
      "Final result:1. Successful Display of Author Details\n"
     ]
    }
   ],
   "source": [
    "print(\"Display author details\")\n",
    "\n",
    "filtercontent = \"\"\"\n",
    "Conditional scenario:\n",
    "Since there are no invalid conditions specified for the elements `id`, `Name`, and `Bio`, there are no test scenarios to generate based on the provided invalid conditions.\n",
    "Flow scenario:\n",
    "1. Successful Display of Author Details\n",
    "2. Author Details Not Found/Error Loading Author Details\n",
    "3. Slow Network Response Leading to Delayed Display of Author Details\n",
    "String has been written to DisplayAuthorDetail1.csv\n",
    "\"\"\"\n",
    "\n",
    "\n",
    "promptFilter = [\n",
    "    { \"role\": \"system\", \"content\": FILTER_SYSTEM_PROMPT},\n",
    "    { \"role\": \"user\", \"content\": filtercontent}\n",
    "  ]\n",
    "filter_gpt_response = ask(promptFilter, client, model)\n",
    "print(\"\\n\" + \"Final result:\" + filter_gpt_response)"
   ]
  },
  {
   "cell_type": "code",
   "execution_count": 68,
   "metadata": {},
   "outputs": [
    {
     "name": "stdout",
     "output_type": "stream",
     "text": [
      "Remove the genre\n",
      "\n",
      "Final result:Successful Genre Deletion\n",
      "User Cancels Deletion\n",
      "Deletion Attempt of Non-Existent Genre\n",
      "Deletion Attempt with Insufficient Permissions\n",
      "Cancel Deletion and Return to Genre List\n",
      "Cancel Deletion and Navigate to Books\n",
      "Cancel Deletion and Navigate to Authors\n",
      "Cancel Deletion and Navigate to Home\n",
      "Cancel Deletion and Navigate to API\n"
     ]
    }
   ],
   "source": [
    "print(\"Remove the genre\")\n",
    "\n",
    "filtercontent = \"\"\"\n",
    "Flow scenario:\n",
    "1. Successful Genre Deletion\n",
    "2. User Cancels Deletion\n",
    "3. Deletion Attempt of Non-Existent Genre\n",
    "4. Deletion Attempt with Insufficient Permissions\n",
    "1. Cancel Deletion and Return to Genre List\n",
    "2. Cancel Deletion and Navigate to Books\n",
    "3. Cancel Deletion and Navigate to Authors\n",
    "4. Cancel Deletion and Navigate to Home\n",
    "5. Cancel Deletion and Navigate to API\n",
    "\n",
    "\"\"\"\n",
    "\n",
    "\n",
    "promptFilter = [\n",
    "    { \"role\": \"system\", \"content\": FILTER_SYSTEM_PROMPT},\n",
    "    { \"role\": \"user\", \"content\": filtercontent}\n",
    "  ]\n",
    "filter_gpt_response = ask(promptFilter, client, model)\n",
    "print(\"\\n\" + \"Final result:\" + filter_gpt_response)"
   ]
  }
 ],
 "metadata": {
  "kernelspec": {
   "display_name": "Python 3",
   "language": "python",
   "name": "python3"
  },
  "language_info": {
   "codemirror_mode": {
    "name": "ipython",
    "version": 3
   },
   "file_extension": ".py",
   "mimetype": "text/x-python",
   "name": "python",
   "nbconvert_exporter": "python",
   "pygments_lexer": "ipython3",
   "version": "3.10.9"
  }
 },
 "nbformat": 4,
 "nbformat_minor": 2
}
