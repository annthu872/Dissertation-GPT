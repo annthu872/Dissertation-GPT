{
 "cells": [
  {
   "cell_type": "code",
   "execution_count": 25,
   "metadata": {},
   "outputs": [],
   "source": [
    "from openai import OpenAI\n",
    "import json\n",
    "import os\n",
    "\n",
    "GPT_MODEL_4 = \"gpt-4-0125-preview\"\n",
    "OPEN_API_KEY = os.getenv(\"OPENAI_API_KEY\")\n",
    "\n",
    "client = OpenAI()\n",
    "model = GPT_MODEL_4\n",
    "\n",
    "def ask(prompt, client, model, temperature = 0):\n",
    "    response = None\n",
    "    \n",
    "    response = client.chat.completions.create(\n",
    "      model=model,\n",
    "      messages=prompt,\n",
    "      temperature=temperature,\n",
    "    )\n",
    "\n",
    "    return response.choices[0].message.content\n",
    "\n",
    "def askJSON(prompt, client, model, temperature = 0):\n",
    "    response = None\n",
    "    \n",
    "    response = client.chat.completions.create(\n",
    "      model=model,\n",
    "      messages=prompt,\n",
    "      temperature=temperature,\n",
    "      response_format={ \"type\": \"json_object\" },\n",
    "    )\n",
    "\n",
    "    return response.choices[0].message.content"
   ]
  },
  {
   "cell_type": "code",
   "execution_count": 26,
   "metadata": {},
   "outputs": [],
   "source": [
    "FILTER_SYSTEM_PROMPT=\"\"\"\n",
    "You will be provide with a use case and a list of test scenario.\n",
    "Based on information in the use case flow, define what test scenario is necessary to test the use case and remove duplicate test scenarios.\n",
    "Remove test case test system load error that not be mentioned in use case such as: Load Failure, System Error, Internet error, ... (and use case not mentioned these flow)\n",
    "Make sure test scenarios filted cover all the flow of use case and every scenarios in the response is unique.\n",
    "Return scenario name only.\n",
    "\"\"\"\n",
    "# Make sure every scenarios in the response is unique.\n"
   ]
  },
  {
   "cell_type": "code",
   "execution_count": 27,
   "metadata": {},
   "outputs": [
    {
     "name": "stdout",
     "output_type": "stream",
     "text": [
      "Shopee- Rating a product\n",
      "\n",
      "Final result:Correct Answer Scenario\n",
      "Incorrect Answer Scenario\n"
     ]
    }
   ],
   "source": [
    "print(\"Shopee- Rating a product\")\n",
    "filtercontent = \"\"\"\n",
    "Use case: \n",
    "basic flow:\n",
    "Step 1: The screen displays a question or the meaning of a vocabulary or an image showing the word and those letters of that vocabulary arranged randomly, not in correct order. \n",
    "Step 2: Learner arrange letters by clicking on letters button in correct order and press enter after finish arranging.\n",
    "Step 3: The system compares user answer and the right English vocabulary for the question.\n",
    "Step 4: If the answer is correct, the pop up screen is green.\n",
    "\n",
    "Alternative flow 1: Learner chooses wrong answer\n",
    "At step 4 of basic flow: If the answer is wrong, the pop up screen is red.\n",
    "\n",
    "Test scenarios:\n",
    "Based on the provided flow, here are the scenarios that can happen:\n",
    "\n",
    "1. Correct Answer Scenario\n",
    "2. Incorrect Answer Scenario\n",
    "3. Partially Correct Answer Scenario (if applicable, depending on system design)\n",
    "4. No Answer Submitted Scenario\n",
    "\n",
    "1. Learner Chooses Wrong Answer Scenario\n",
    "\"\"\"\n",
    "promptFilter = [\n",
    "    { \"role\": \"system\", \"content\": FILTER_SYSTEM_PROMPT},\n",
    "    { \"role\": \"user\", \"content\": filtercontent}\n",
    "  ]\n",
    "filter_gpt_response = ask(promptFilter, client, model)\n",
    "print(\"\\n\" + \"Final result:\" + filter_gpt_response)"
   ]
  },
  {
   "cell_type": "code",
   "execution_count": 28,
   "metadata": {},
   "outputs": [
    {
     "name": "stdout",
     "output_type": "stream",
     "text": [
      "Shopee- Buy product\n",
      "\n",
      "Final result:1. Successful Edit and Save of Vocabulary Exercises\n",
      "2. Edit Vocabulary Exercises with Invalid Inputs\n",
      "3. Cancel Edit of Vocabulary Exercises\n",
      "5. Edit and Save Vocabulary Exercises with No Changes Made\n"
     ]
    }
   ],
   "source": [
    "print(\"Shopee- Buy product\")\n",
    "\n",
    "filtercontent = \"\"\"\n",
    "Use case: basic flow:\n",
    "Step 1: On the home page, administrator select “Topic” on the navbar\n",
    "Step 2: Administrator chooses the topic that has the test needed editing, then select “Edit”\n",
    "Step 3: The system redirects Administrator to the interface of adding, editing vocabulary test appear, displaying the lists of vocabulary in the topic and category of vocabulary exercises. \n",
    "Step 4: Administrator edits the exercises\n",
    "Step 5: Administrator selects “Save”\n",
    "Step 6: System save all edited exercises.\n",
    "\n",
    "Alternative flow :\n",
    "At step 5 of the basic flow: Administrator press the button to exit exercise editing mode.\n",
    "Step 6: The pop up screen appears “Save changes?” with “Save” and “Do not save” options.\n",
    "Step 7: Administrator selects “Save”.\n",
    "Step 8: System save all edited exercises.\n",
    "\n",
    "Exception flow: \n",
    "At step 5 of the basic flow: Administrator press the button to exit exercise editing mode.\n",
    "Step 6: The pop up screen appears “Save changes?” with “Save” and “Do not save” options.\n",
    "Step 7: Administrator selects “Do not save”.\n",
    "Step 6: System deletes and not record the edited exercises\n",
    "\n",
    "Test scenarios:\n",
    "1. Successful Edit and Save of Vocabulary Exercises\n",
    "2. Edit Vocabulary Exercises with Invalid Inputs\n",
    "3. Cancel Edit of Vocabulary Exercises\n",
    "4. Edit Vocabulary Exercises with Network Interruption\n",
    "5. Edit and Save Vocabulary Exercises with No Changes Made\n",
    "\n",
    "Based on the provided information, here are the scenarios that can lead the user from the main flow to the alternative or exception flow:\n",
    "\n",
    "1. Scenario: Administrator decides to exit before saving changes directly.\n",
    "\n",
    "1. Administrator Exits Without Saving Changes\n",
    "\"\"\"\n",
    "\n",
    "\n",
    "promptFilter = [\n",
    "    { \"role\": \"system\", \"content\": FILTER_SYSTEM_PROMPT},\n",
    "    { \"role\": \"user\", \"content\": filtercontent}\n",
    "  ]\n",
    "filter_gpt_response = ask(promptFilter, client, model)\n",
    "print(\"\\n\" + \"Final result:\" + filter_gpt_response)"
   ]
  }
 ],
 "metadata": {
  "kernelspec": {
   "display_name": "Python 3",
   "language": "python",
   "name": "python3"
  },
  "language_info": {
   "codemirror_mode": {
    "name": "ipython",
    "version": 3
   },
   "file_extension": ".py",
   "mimetype": "text/x-python",
   "name": "python",
   "nbconvert_exporter": "python",
   "pygments_lexer": "ipython3",
   "version": "3.10.9"
  }
 },
 "nbformat": 4,
 "nbformat_minor": 2
}
