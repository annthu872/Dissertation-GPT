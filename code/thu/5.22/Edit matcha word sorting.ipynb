{
 "cells": [
  {
   "cell_type": "code",
   "execution_count": 28,
   "metadata": {},
   "outputs": [],
   "source": [
    "from openai import OpenAI\n",
    "import json\n",
    "import os\n",
    "\n",
    "GPT_MODEL_4 = \"gpt-4-0125-preview\"\n",
    "OPEN_API_KEY = os.getenv(\"OPENAI_API_KEY\")\n",
    "\n",
    "client = OpenAI()\n",
    "model = GPT_MODEL_4\n",
    "\n",
    "def ask(prompt, client, model, temperature = 0):\n",
    "    response = None\n",
    "    \n",
    "    response = client.chat.completions.create(\n",
    "      model=model,\n",
    "      messages=prompt,\n",
    "      temperature=temperature,\n",
    "    )\n",
    "\n",
    "    return response.choices[0].message.content\n",
    "\n",
    "def askJSON(prompt, client, model, temperature = 0):\n",
    "    response = None\n",
    "    \n",
    "    response = client.chat.completions.create(\n",
    "      model=model,\n",
    "      messages=prompt,\n",
    "      temperature=temperature,\n",
    "      response_format={ \"type\": \"json_object\" },\n",
    "    )\n",
    "\n",
    "    return response.choices[0].message.content"
   ]
  },
  {
   "cell_type": "code",
   "execution_count": 29,
   "metadata": {},
   "outputs": [],
   "source": [
    "FILTER_SYSTEM_PROMPT=\"\"\"\n",
    "You will be provide with a use case and a list of test scenario.\n",
    "Based on information in the use case flow, define what test scenario is necessary to test the use case and remove duplicate test scenarios.\n",
    "Remove test case related with system error that is not mentioned in use case such as: Page Load Failure, System Error, Network Error,Non-Existent ...\n",
    "Make sure test scenarios filted cover all the flow of use case and every scenarios in the response is unique.\n",
    "Return scenario name only.\n",
    "\"\"\"\n",
    "# Make sure every scenarios in the response is unique.\n"
   ]
  },
  {
   "cell_type": "code",
   "execution_count": 30,
   "metadata": {},
   "outputs": [
    {
     "name": "stdout",
     "output_type": "stream",
     "text": [
      "Display the list of authors\n",
      "\n",
      "Final result:1. Correct Answer Scenario\n",
      "2. Incorrect Answer Scenario\n",
      "3. No Answer Submitted Scenario\n"
     ]
    }
   ],
   "source": [
    "print(\"Display the list of authors\")\n",
    "filtercontent = \"\"\"\n",
    "Use case: \n",
    "use case id: U10\n",
    "use case name: Word sorting test\n",
    "objective: This use case allows learners to take a test of word arranging test with the purpose of testing the users’ vocabulary memorization levels.\n",
    "actor: learner\n",
    "\n",
    "basic flow:\n",
    "Step 1: The screen displays a question or the meaning of a vocabulary or an image showing the word and those letters of that vocabulary arranged randomly, not in correct order. \n",
    "Step 2: Learner arrange letters by clicking on letters button in correct order and press enter after finish arranging.\n",
    "Step 3: The system compares user answer and the right English vocabulary for the question.\n",
    "Step 4: If the answer is correct, the pop up screen is green.\n",
    "\n",
    "Alternative flow 1: Learner chooses wrong answer\n",
    "At step 4 of basic flow: If the answer is wrong, the pop up screen is red.\n",
    "\n",
    "Preconditions:\n",
    "Learner must be logged into the application.\n",
    "\n",
    "Postconditions:\n",
    "Vocabulary words are marked as studied.\n",
    "\n",
    "Test scenarios:\n",
    "Flow scenario:\n",
    "1. Correct Answer Scenario\n",
    "2. Incorrect Answer Scenario\n",
    "3. Partially Correct Answer Scenario\n",
    "4. No Answer Submitted Scenario\n",
    "\"\"\"\n",
    "promptFilter = [\n",
    "    { \"role\": \"system\", \"content\": FILTER_SYSTEM_PROMPT},\n",
    "    { \"role\": \"user\", \"content\": filtercontent}\n",
    "  ]\n",
    "filter_gpt_response = ask(promptFilter, client, model)\n",
    "print(\"\\n\" + \"Final result:\" + filter_gpt_response)"
   ]
  }
 ],
 "metadata": {
  "kernelspec": {
   "display_name": "Python 3",
   "language": "python",
   "name": "python3"
  },
  "language_info": {
   "codemirror_mode": {
    "name": "ipython",
    "version": 3
   },
   "file_extension": ".py",
   "mimetype": "text/x-python",
   "name": "python",
   "nbconvert_exporter": "python",
   "pygments_lexer": "ipython3",
   "version": "3.11.0"
  }
 },
 "nbformat": 4,
 "nbformat_minor": 2
}
