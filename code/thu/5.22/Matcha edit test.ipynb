{
 "cells": [
  {
   "cell_type": "code",
   "execution_count": 1,
   "metadata": {},
   "outputs": [],
   "source": [
    "from openai import OpenAI\n",
    "import json\n",
    "import os\n",
    "\n",
    "GPT_MODEL_4 = \"gpt-4-0125-preview\"\n",
    "OPEN_API_KEY = os.getenv(\"OPENAI_API_KEY\")\n",
    "\n",
    "client = OpenAI()\n",
    "model = GPT_MODEL_4\n",
    "\n",
    "def ask(prompt, client, model, temperature = 0):\n",
    "    response = None\n",
    "    \n",
    "    response = client.chat.completions.create(\n",
    "      model=model,\n",
    "      messages=prompt,\n",
    "      temperature=temperature,\n",
    "    )\n",
    "\n",
    "    return response.choices[0].message.content\n",
    "\n",
    "def askJSON(prompt, client, model, temperature = 0):\n",
    "    response = None\n",
    "    \n",
    "    response = client.chat.completions.create(\n",
    "      model=model,\n",
    "      messages=prompt,\n",
    "      temperature=temperature,\n",
    "      response_format={ \"type\": \"json_object\" },\n",
    "    )\n",
    "\n",
    "    return response.choices[0].message.content"
   ]
  },
  {
   "cell_type": "code",
   "execution_count": 2,
   "metadata": {},
   "outputs": [],
   "source": [
    "FILTER_SYSTEM_PROMPT=\"\"\"\n",
    "You will be provide with a use case and a list of test scenario.\n",
    "Based on information in the use case flow, define what test scenario is necessary to test the use case and remove duplicate test scenarios.\n",
    "Remove test case related with system error that is not mentioned in use case such as: Page Load Failure, System Error, Network Error,Non-Existent ...\n",
    "Make sure test scenarios filted cover all the flow of use case and every scenarios in the response is unique.\n",
    "Return scenario name only.\n",
    "\"\"\"\n",
    "# Make sure every scenarios in the response is unique.\n"
   ]
  },
  {
   "cell_type": "code",
   "execution_count": 3,
   "metadata": {},
   "outputs": [
    {
     "name": "stdout",
     "output_type": "stream",
     "text": [
      "Edit test\n",
      "\n",
      "Final result:1. Successful Edit and Save of Vocabulary Exercises\n",
      "2. Edit Vocabulary Exercises with Invalid Inputs\n",
      "3. Cancel Edit of Vocabulary Exercises\n",
      "5. Edit and Save Vocabulary Exercises with No Changes Made\n",
      "6. Administrator Exits Without Saving Changes\n"
     ]
    }
   ],
   "source": [
    "print(\"Edit test\")\n",
    "filtercontent = \"\"\"\n",
    "Use case: \n",
    "use case id: U27\n",
    "use case name: Edit test\n",
    "objective: This use case allows administrator to edit tests to test users’ vocabulary memorization level.\n",
    "actor: administrators\n",
    "\n",
    "basic flow:\n",
    "Step 1: On the home page, administrator select “Topic” on the navbar\n",
    "Step 2: Administrator chooses the topic that has the test needed editing, then select “Edit”\n",
    "Step 3: The system redirects Administrator to the interface of adding, editing vocabulary test appear, displaying the lists of vocabulary in the topic and category of vocabulary exercises. \n",
    "Step 4: Administrator edits the exercises\n",
    "Step 5: Administrator selects “Save”\n",
    "Step 6: System save all edited exercises.\n",
    "\n",
    "Alternative flow :\n",
    "At step 5 of the basic flow: Administrator press the button to exit exercise editing mode.\n",
    "Step 6: The pop up screen appears “Save changes?” with “Save” and “Do not save” options.\n",
    "Step 7: Administrator selects “Save”.\n",
    "Step 8: System save all edited exercises.\n",
    "\n",
    "Exception flow: \n",
    "At step 5 of the basic flow: Administrator press the button to exit exercise editing mode.\n",
    "Step 6: The pop up screen appears “Save changes?” with “Save” and “Do not save” options.\n",
    "Step 7: Administrator selects “Do not save”.\n",
    "Step 6: System deletes and not record the edited exercises\n",
    "\n",
    "Preconditions:\n",
    "Vocabulary that administrator adds to exercises must existed in the system before.\n",
    "The fill in the blanks in sentences exercises must have existed vocabulary in the system.\n",
    "\n",
    "Postconditions:\n",
    "Edited English vocabulary exercises is updated and recorded in the system.\n",
    "\n",
    "Test scenarios:\n",
    "Flow scenario:\n",
    "1. Successful Edit and Save of Vocabulary Exercises\n",
    "2. Edit Vocabulary Exercises with Invalid Inputs\n",
    "3. Cancel Edit of Vocabulary Exercises\n",
    "4. Edit Vocabulary Exercises with Network Interruption\n",
    "5. Edit and Save Vocabulary Exercises with No Changes Made\n",
    "6. Administrator Exits Without Saving Changes\n",
    "\"\"\"\n",
    "promptFilter = [\n",
    "    { \"role\": \"system\", \"content\": FILTER_SYSTEM_PROMPT},\n",
    "    { \"role\": \"user\", \"content\": filtercontent}\n",
    "  ]\n",
    "filter_gpt_response = ask(promptFilter, client, model)\n",
    "print(\"\\n\" + \"Final result:\" + filter_gpt_response)"
   ]
  }
 ],
 "metadata": {
  "kernelspec": {
   "display_name": "Python 3",
   "language": "python",
   "name": "python3"
  },
  "language_info": {
   "codemirror_mode": {
    "name": "ipython",
    "version": 3
   },
   "file_extension": ".py",
   "mimetype": "text/x-python",
   "name": "python",
   "nbconvert_exporter": "python",
   "pygments_lexer": "ipython3",
   "version": "3.11.0"
  }
 },
 "nbformat": 4,
 "nbformat_minor": 2
}
