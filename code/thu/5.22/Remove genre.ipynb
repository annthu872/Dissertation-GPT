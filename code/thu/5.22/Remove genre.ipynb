{
 "cells": [
  {
   "cell_type": "code",
   "execution_count": 4,
   "metadata": {},
   "outputs": [],
   "source": [
    "from openai import OpenAI\n",
    "import json\n",
    "import os\n",
    "\n",
    "GPT_MODEL_4 = \"gpt-4-0125-preview\"\n",
    "OPEN_API_KEY = os.getenv(\"OPENAI_API_KEY\")\n",
    "\n",
    "client = OpenAI()\n",
    "model = GPT_MODEL_4\n",
    "\n",
    "def ask(prompt, client, model, temperature = 0):\n",
    "    response = None\n",
    "    \n",
    "    response = client.chat.completions.create(\n",
    "      model=model,\n",
    "      messages=prompt,\n",
    "      temperature=temperature,\n",
    "    )\n",
    "\n",
    "    return response.choices[0].message.content\n",
    "\n",
    "def askJSON(prompt, client, model, temperature = 0):\n",
    "    response = None\n",
    "    \n",
    "    response = client.chat.completions.create(\n",
    "      model=model,\n",
    "      messages=prompt,\n",
    "      temperature=temperature,\n",
    "      response_format={ \"type\": \"json_object\" },\n",
    "    )\n",
    "\n",
    "    return response.choices[0].message.content"
   ]
  },
  {
   "cell_type": "code",
   "execution_count": 5,
   "metadata": {},
   "outputs": [],
   "source": [
    "FILTER_SYSTEM_PROMPT=\"\"\"\n",
    "You will be provide with a use case and a list of test scenario.\n",
    "Based on information in the use case flow, define what test scenario is necessary to test the use case and remove duplicate test scenarios.\n",
    "Remove test case related with system error that is not mentioned in use case such as: Page Load Failure, System Error, Network Error,Non-Existent ...\n",
    "Make sure test scenarios filted cover all the flow of use case and every scenarios in the response is unique.\n",
    "Return scenario name only.\n",
    "\"\"\"\n",
    "# Make sure every scenarios in the response is unique."
   ]
  },
  {
   "cell_type": "code",
   "execution_count": 6,
   "metadata": {},
   "outputs": [
    {
     "name": "stdout",
     "output_type": "stream",
     "text": [
      "Display the list of authors\n",
      "\n",
      "Final result:1. Successful Genre Deletion\n",
      "2. User Cancels Deletion\n",
      "4. Deletion Attempt with Insufficient Permissions\n",
      "5. User Navigates Away Using Menu Before Confirming Deletion\n"
     ]
    }
   ],
   "source": [
    "print(\"Display the list of authors\")\n",
    "filtercontent = \"\"\"\n",
    "Use case: \n",
    "Remove the genre\n",
    "Main scenario:\n",
    "User clicks the \"Delete\" button (to the right from the genre he/she wants to delete) on the genre list/details page;\n",
    "Application displays a dialog page to confirm destroying the record for chosen genre;\n",
    "User confirms deletion by pressing \"Confirm\" button.\n",
    "\n",
    "Cancel operation scenario:\n",
    "User clicks the \"Delete\" button (to the right from the genre he/she wants to delete) on the genre list/details page;\n",
    "Application displays a dialog page to confirm destroying the record for chosen genre;\n",
    "User presses “Cancel” button;\n",
    "Data doesn’t delete in the database, then a list of genres records is displayed to the user;\n",
    "If the user selects the menu item \"Books”, \"Genres”, \"Authors\", \"Home\" or \"API\", the data will not be deleted from the database, and the corresponding form with updated data will be opened.\n",
    "\n",
    "Test scenarios:\n",
    "Flow scenario:\n",
    "1. Successful Genre Deletion\n",
    "2. User Cancels Deletion\n",
    "3. Deletion Attempt of Non-Existent Genre\n",
    "4. Deletion Attempt with Insufficient Permissions\n",
    "5. User Navigates Away Using Menu Before Confirming Deletion\n",
    "\"\"\"\n",
    "promptFilter = [\n",
    "    { \"role\": \"system\", \"content\": FILTER_SYSTEM_PROMPT},\n",
    "    { \"role\": \"user\", \"content\": filtercontent}\n",
    "  ]\n",
    "filter_gpt_response = ask(promptFilter, client, model)\n",
    "print(\"\\n\" + \"Final result:\" + filter_gpt_response)"
   ]
  }
 ],
 "metadata": {
  "kernelspec": {
   "display_name": "Python 3",
   "language": "python",
   "name": "python3"
  },
  "language_info": {
   "codemirror_mode": {
    "name": "ipython",
    "version": 3
   },
   "file_extension": ".py",
   "mimetype": "text/x-python",
   "name": "python",
   "nbconvert_exporter": "python",
   "pygments_lexer": "ipython3",
   "version": "3.11.0"
  }
 },
 "nbformat": 4,
 "nbformat_minor": 2
}
