{
 "cells": [
  {
   "cell_type": "code",
   "execution_count": 16,
   "metadata": {},
   "outputs": [],
   "source": [
    "from openai import OpenAI\n",
    "import json\n",
    "import os\n",
    "\n",
    "GPT_MODEL_4 = \"gpt-4-0125-preview\"\n",
    "OPEN_API_KEY = os.getenv(\"OPENAI_API_KEY\")\n",
    "\n",
    "client = OpenAI()\n",
    "model = GPT_MODEL_4\n",
    "\n",
    "def ask(prompt, client, model, temperature = 0):\n",
    "    response = None\n",
    "    \n",
    "    response = client.chat.completions.create(\n",
    "      model=model,\n",
    "      messages=prompt,\n",
    "      temperature=temperature,\n",
    "    )\n",
    "\n",
    "    return response.choices[0].message.content\n",
    "\n",
    "def askJSON(prompt, client, model, temperature = 0):\n",
    "    response = None\n",
    "    \n",
    "    response = client.chat.completions.create(\n",
    "      model=model,\n",
    "      messages=prompt,\n",
    "      temperature=temperature,\n",
    "      response_format={ \"type\": \"json_object\" },\n",
    "    )\n",
    "\n",
    "    return response.choices[0].message.content"
   ]
  },
  {
   "cell_type": "code",
   "execution_count": 17,
   "metadata": {},
   "outputs": [],
   "source": [
    "\n",
    "FILTER_SYSTEM_PROMPT=\"\"\"\n",
    "You will be provide with a use case and a list of test scenario.\n",
    "Based on information in the use case flow, define what test scenario is necessary to test the use case and remove duplicate test scenarios.\n",
    "Remove test case test system load error that not be mentioned in use case such as: Load Failure, System Error,Network Error,Non-Existent ...(and use case not mentioned these flow)\n",
    "Make sure test scenarios filted cover all the flows of use case and every scenarios in the response is unique.\n",
    "Return scenario name only.\n",
    "\"\"\"\n"
   ]
  },
  {
   "cell_type": "code",
   "execution_count": 18,
   "metadata": {},
   "outputs": [],
   "source": [
    "filtercontent1 = \"\"\"\n",
    "Condition Scenario: 1. Scenario: Search with a keyword not matching any shop, brand, or product available\n",
    " Flow cover scenarios: 1. Successful Product Search\n",
    "2. No Results Found\n",
    "3. Partial Match Results\n",
    "Based on the provided main flow and alternative flow, here are the scenarios that can lead a user from the main flow to change to the alternative flow:\n",
    "\n",
    "1. Searching by Brand Name Scenario\n",
    "Based on the provided main flow and alternative flow, here are the scenarios that can lead a user from the main flow to switch to the alternative flow:\n",
    "\n",
    "1. User searches for a shop name instead of a product name.\n",
    "Based on the provided main flow and exception flow, here is the scenario that can lead the user from the main flow to change to the alternative or exception flow:\n",
    "\n",
    "1. Searching for an Unavailable Product\n",
    "1. Scenario: User searches for an unavailable product.\n",
    "1. Search with Unavailable Keyword Scenario\n",
    "\"\"\""
   ]
  },
  {
   "cell_type": "code",
   "execution_count": 19,
   "metadata": {},
   "outputs": [
    {
     "name": "stdout",
     "output_type": "stream",
     "text": [
      "filter_gpt_response 1 \n",
      "1. Successful Product Search\n",
      "2. No Results Found\n",
      "3. Partial Match Results\n",
      "4. User searches for a shop name instead of a product name\n",
      "5. Searching for an Unavailable Product\n",
      "filter_gpt_response 2 \n",
      "Successful Product Search\n",
      "No Results Found\n",
      "Partial Match Results\n",
      "Searching by Brand Name Scenario\n",
      "User searches for a shop name instead of a product name\n",
      "Searching for an Unavailable Product\n",
      "filter_gpt_response 3 \n",
      "1. Successful Product Search\n",
      "2. No Results Found\n",
      "3. Partial Match Results\n",
      "4. Searching by Brand Name\n",
      "5. User searches for a shop name instead of a product name\n",
      "6. Searching for an Unavailable Product\n"
     ]
    }
   ],
   "source": [
    "\n",
    "for i in range(1,4):\n",
    "\n",
    "  promptFilter = [\n",
    "      { \"role\": \"system\", \"content\": FILTER_SYSTEM_PROMPT},\n",
    "      { \"role\": \"user\", \"content\": filtercontent1}\n",
    "    ]\n",
    "  filter_gpt_response = ask(promptFilter, client, model)\n",
    "  print(f\"filter_gpt_response {i} \\n\" +filter_gpt_response)\n"
   ]
  },
  {
   "cell_type": "code",
   "execution_count": 20,
   "metadata": {},
   "outputs": [],
   "source": [
    "filtercontent1 = \"\"\"\n",
    "Condition Scenario: 1. SearchWithUnavailableKeywordNotMatchingAnyShopBrandOrProduct\n",
    " Flow cover scenarios: 1. Successful Product Search\n",
    "2. No Results Found\n",
    "Based on the provided main flow and alternative flow, here are the scenarios that can lead a user from the main flow to change to the alternative flow:\n",
    "\n",
    "1. Searching by Brand Name Scenario\n",
    "Based on the provided main flow and alternative flow, here are the scenarios that can lead a user from the main flow to switch to the alternative flow:\n",
    "\n",
    "1. Searching by Shop Name Scenario\n",
    "Based on the provided main flow and exception flow, here is the scenario that can lead the user from the main flow to change to the alternative or exception flow:\n",
    "\n",
    "1. Searching for an Unavailable Product\n",
    "Based on the provided main flow and exception flow, here are the scenarios that can lead a user from the main flow to change to the alternative or exception flow:\n",
    "\n",
    "1. **Searching for an Unavailable Product** - This scenario occurs when a user searches for a product or brand name that does not exist in the database, leading to the exception flow where the system recommends trying other keywords.\n",
    "1. Search with Unavailable Keyword Scenario\n",
    "\"\"\""
   ]
  },
  {
   "cell_type": "code",
   "execution_count": 21,
   "metadata": {},
   "outputs": [
    {
     "name": "stdout",
     "output_type": "stream",
     "text": [
      "filter_gpt_response 1 \n",
      "1. Successful Product Search\n",
      "2. No Results Found\n",
      "3. Searching by Brand Name Scenario\n",
      "4. Searching by Shop Name Scenario\n",
      "5. Searching for an Unavailable Product\n",
      "filter_gpt_response 2 \n",
      "1. Successful Product Search\n",
      "2. No Results Found\n",
      "3. Searching by Brand Name Scenario\n",
      "4. Searching by Shop Name Scenario\n",
      "5. Searching for an Unavailable Product\n",
      "filter_gpt_response 3 \n",
      "1. Successful Product Search\n",
      "2. No Results Found\n",
      "3. Searching by Brand Name Scenario\n",
      "4. Searching by Shop Name Scenario\n",
      "5. Searching for an Unavailable Product\n"
     ]
    }
   ],
   "source": [
    "\n",
    "for i in range(1,4):\n",
    "\n",
    "  promptFilter = [\n",
    "      { \"role\": \"system\", \"content\": FILTER_SYSTEM_PROMPT},\n",
    "      { \"role\": \"user\", \"content\": filtercontent1}\n",
    "    ]\n",
    "  filter_gpt_response = ask(promptFilter, client, model)\n",
    "  print(f\"filter_gpt_response {i} \\n\" +filter_gpt_response)\n"
   ]
  },
  {
   "cell_type": "code",
   "execution_count": 22,
   "metadata": {},
   "outputs": [],
   "source": [
    "filtercontent1 = \"\"\"\n",
    "Condition Scenario: Scenario 1: Search with Unavailable Keyword Not Matching Any Shop, Brand, or Product\n",
    " Flow cover scenarios: 1. Successful Product Search\n",
    "2. No Results Found\n",
    "3. Partial Match Results\n",
    "1. Search by Brand Name with Official Store\n",
    "2. Search by Brand Name without Official Store\n",
    "Based on the provided main flow and alternative flow, here are the scenarios that can lead a user from the main flow to switch to the alternative flow:\n",
    "\n",
    "1. User searches for a shop name instead of a product name.\n",
    "Based on the provided main flow and exception flow, here are the scenarios that can lead a user from the main flow to change to the alternative or exception flow:\n",
    "\n",
    "1. Searching for an Unavailable Product\n",
    "\n",
    "Based on the provided main and exception flows, here are the scenarios that can lead a user from the main flow to the alternative or exception flow:\n",
    "\n",
    "1. **Search for Unavailable Product** - This scenario occurs when a user searches for a product or brand name that does not exist in the database, leading to the exception flow where the system recommends trying other keywords.\n",
    "Based on the provided main flow and exception flow, here is the scenario that can lead the user from the main flow to change to the alternative or exception flow:\n",
    "\n",
    "1. **Search for Unavailable Product**\n",
    "\"\"\""
   ]
  },
  {
   "cell_type": "code",
   "execution_count": 23,
   "metadata": {},
   "outputs": [
    {
     "name": "stdout",
     "output_type": "stream",
     "text": [
      "filter_gpt_response 1 \n",
      "Successful Product Search\n",
      "No Results Found\n",
      "Partial Match Results\n",
      "Search by Brand Name with Official Store\n",
      "Search by Brand Name without Official Store\n",
      "Search for Unavailable Product\n",
      "filter_gpt_response 2 \n",
      "1. Successful Product Search\n",
      "2. No Results Found\n",
      "3. Partial Match Results\n",
      "4. Search by Brand Name with Official Store\n",
      "5. Search by Brand Name without Official Store\n",
      "6. User searches for a shop name instead of a product name\n",
      "7. Searching for an Unavailable Product\n",
      "filter_gpt_response 3 \n",
      "Successful Product Search\n",
      "No Results Found\n",
      "Partial Match Results\n",
      "Search by Brand Name with Official Store\n",
      "Search by Brand Name without Official Store\n",
      "Search for Unavailable Product\n"
     ]
    }
   ],
   "source": [
    "\n",
    "for i in range(1,4):\n",
    "\n",
    "  promptFilter = [\n",
    "      { \"role\": \"system\", \"content\": FILTER_SYSTEM_PROMPT},\n",
    "      { \"role\": \"user\", \"content\": filtercontent1}\n",
    "    ]\n",
    "  filter_gpt_response = ask(promptFilter, client, model)\n",
    "  print(f\"filter_gpt_response {i} \\n\" +filter_gpt_response)\n"
   ]
  }
 ],
 "metadata": {
  "kernelspec": {
   "display_name": "Python 3",
   "language": "python",
   "name": "python3"
  },
  "language_info": {
   "codemirror_mode": {
    "name": "ipython",
    "version": 3
   },
   "file_extension": ".py",
   "mimetype": "text/x-python",
   "name": "python",
   "nbconvert_exporter": "python",
   "pygments_lexer": "ipython3",
   "version": "3.10.9"
  }
 },
 "nbformat": 4,
 "nbformat_minor": 2
}
