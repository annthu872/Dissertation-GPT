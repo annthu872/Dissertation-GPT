{
 "cells": [
  {
   "cell_type": "code",
   "execution_count": 241,
   "metadata": {},
   "outputs": [],
   "source": [
    "from openai import OpenAI\n",
    "import json\n",
    "import os\n",
    "\n",
    "GPT_MODEL_3_5 = \"gpt-3.5-turbo-1106\"\n",
    "GPT_MODEL_4 = \"gpt-4-0125-preview\"\n",
    "\n",
    "OPEN_API_KEY = os.getenv(\"OPENAI_API_KEY\")\n",
    "\n",
    "client = OpenAI()\n",
    "model = GPT_MODEL_4\n",
    "\n",
    "def ask(prompt, client, model, temperature = 0):\n",
    "    response = None\n",
    "    \n",
    "    response = client.chat.completions.create(\n",
    "      model=model,\n",
    "      messages=prompt,\n",
    "      temperature=temperature,\n",
    "      response_format={ \"type\": \"json_object\" },\n",
    "    )\n",
    "\n",
    "    return (response.choices[0].message.content)\n",
    "\n",
    "no_condition  = False\n",
    "no_non_condition_flow = False\n",
    "filter_flow = []\n",
    "\n",
    "default_flow = \"Basic flow\"\n"
   ]
  },
  {
   "cell_type": "code",
   "execution_count": 242,
   "metadata": {},
   "outputs": [],
   "source": [
    "def read_file_into_string(file_path):\n",
    "    encodings = ['utf-8', 'latin-1', 'utf-16', 'cp1252']\n",
    "    \n",
    "    for encoding in encodings:\n",
    "        try:\n",
    "            with open(file_path, 'r', encoding=encoding) as file:\n",
    "                file_content = file.read()\n",
    "            return file_content\n",
    "        except UnicodeDecodeError:\n",
    "            print(f\"Failed to decode using {encoding} encoding.\")\n",
    "            continue\n",
    "        except FileNotFoundError:\n",
    "            print(f\"File '{file_path}' not found.\")\n",
    "            return None\n",
    "        except Exception as e:\n",
    "            print(f\"Error reading file: {e}\")\n",
    "            return None\n",
    "    \n",
    "    print(\"All tried encodings failed. Unable to read the file.\")\n",
    "    return None"
   ]
  },
  {
   "cell_type": "code",
   "execution_count": 243,
   "metadata": {},
   "outputs": [],
   "source": [
    "def write_to_file(filename, s):\n",
    "    try:\n",
    "        with open(filename, 'w') as file:\n",
    "            file.write(s)\n",
    "        print(\"Content has been written to\", filename)\n",
    "    except Exception as e:\n",
    "        print(\"An error occurred:\", e)"
   ]
  },
  {
   "cell_type": "code",
   "execution_count": 244,
   "metadata": {},
   "outputs": [],
   "source": [
    "file_path_list = [\n",
    "r'D:\\GPT-testing\\SpecificationData\\Adventura\\Adventura - Filter.txt',\n",
    "r'D:\\GPT-testing\\SpecificationData\\Adventura\\Adventura - view attraction.txt',\n",
    "r'D:\\GPT-testing\\SpecificationData\\Adventura\\Adventura- Search Attraction.txt',\n",
    "r'D:\\GPT-testing\\SpecificationData\\Book(Github)\\Add a new author.txt',\n",
    "r'D:\\GPT-testing\\SpecificationData\\Book(Github)\\Add a new book.txt',\n",
    "r'D:\\GPT-testing\\SpecificationData\\Book(Github)\\Add a new genre.txt',\n",
    "r'D:\\GPT-testing\\SpecificationData\\Book(Github)\\Display author details.txt',\n",
    "r'D:\\GPT-testing\\SpecificationData\\Book(Github)\\Display book details.txt',\n",
    "r'D:\\GPT-testing\\SpecificationData\\Book(Github)\\Display genre details.txt',\n",
    "r'D:\\GPT-testing\\SpecificationData\\Book(Github)\\Display the list of authors.txt',\n",
    "r'D:\\GPT-testing\\SpecificationData\\Book(Github)\\Display the list of books.txt',\n",
    "r'D:\\GPT-testing\\SpecificationData\\Book(Github)\\Display the list of genres.txt',\n",
    "r'D:\\GPT-testing\\SpecificationData\\Book(Github)\\Edit the author.txt',\n",
    "r'D:\\GPT-testing\\SpecificationData\\Book(Github)\\Edit the book.txt',\n",
    "r'D:\\GPT-testing\\SpecificationData\\Book(Github)\\Edit the genre.txt',\n",
    "r'D:\\GPT-testing\\SpecificationData\\Book(Github)\\Remove the author.txt',\n",
    "r'D:\\GPT-testing\\SpecificationData\\Book(Github)\\Remove the book.txt',\n",
    "r'D:\\GPT-testing\\SpecificationData\\Book(Github)\\Remove the genre.txt',\n",
    "r'D:\\GPT-testing\\SpecificationData\\Film\\Add a comment.txt',\n",
    "r'D:\\GPT-testing\\SpecificationData\\Film\\Watch a film.txt',\n",
    "r'D:\\GPT-testing\\SpecificationData\\Hotel Management System\\Add Booking.txt',\n",
    "r'D:\\GPT-testing\\SpecificationData\\Hotel Management System\\Add Employee.txt',\n",
    "r'D:\\GPT-testing\\SpecificationData\\Hotel Management System\\Add Room.txt',\n",
    "r'D:\\GPT-testing\\SpecificationData\\Hotel Management System\\Check in.txt',\n",
    "r'D:\\GPT-testing\\SpecificationData\\Hotel Management System\\Check out.txt',\n",
    "r'D:\\GPT-testing\\SpecificationData\\Hotel Management System\\Hotel Owner - Generate Reports.txt',\n",
    "r'D:\\GPT-testing\\SpecificationData\\Hotel Management System\\Hotel Owner - Update Hotel Information.txt',\n",
    "r'D:\\GPT-testing\\SpecificationData\\Hotel Management System\\login.txt',\n",
    "r'D:\\GPT-testing\\SpecificationData\\Hotel Management System\\Request Service.txt',\n",
    "r'D:\\GPT-testing\\SpecificationData\\Hotel Management System\\Update Booking.txt',\n",
    "r'D:\\GPT-testing\\SpecificationData\\Hotel Management System\\Update Employee.txt',\n",
    "r'D:\\GPT-testing\\SpecificationData\\Hotel Management System\\Update Room.txt',\n",
    "r'D:\\GPT-testing\\SpecificationData\\LNLibrary\\Bookmark.txt',\n",
    "r'D:\\GPT-testing\\SpecificationData\\LNLibrary\\Rating a book.txt',\n",
    "r'D:\\GPT-testing\\SpecificationData\\LNLibrary\\Read a chapter.txt',\n",
    "r'D:\\GPT-testing\\SpecificationData\\MatchaEnglishWebsite\\AddQuestion .txt',\n",
    "r'D:\\GPT-testing\\SpecificationData\\MatchaEnglishWebsite\\Flashcard.txt',\n",
    "r'D:\\GPT-testing\\SpecificationData\\MatchaEnglishWebsite\\Handbook.txt',\n",
    "r'D:\\GPT-testing\\SpecificationData\\MatchaEnglishWebsite\\Login.txt',\n",
    "r'D:\\GPT-testing\\SpecificationData\\MatchaEnglishWebsite\\Registry.txt',\n",
    "r'D:\\GPT-testing\\SpecificationData\\MatchaEnglishWebsite\\Review test.txt',\n",
    "r'D:\\GPT-testing\\SpecificationData\\OnlineShoppingSystem\\Add or remove item.txt',\n",
    "r'D:\\GPT-testing\\SpecificationData\\OnlineShoppingSystem\\Buy Items.txt',\n",
    "r'D:\\GPT-testing\\SpecificationData\\OnlineShoppingSystem\\Feedback.txt',\n",
    "r'D:\\GPT-testing\\SpecificationData\\OnlineShoppingSystem\\Login.txt',\n",
    "r'D:\\GPT-testing\\SpecificationData\\OnlineShoppingSystem\\Pay Bill.txt',\n",
    "r'D:\\GPT-testing\\SpecificationData\\OnlineShoppingSystem\\Prepare Bill.txt',\n",
    "r'D:\\GPT-testing\\SpecificationData\\OnlineShoppingSystem\\Register Customer.txt',\n",
    "r'D:\\GPT-testing\\SpecificationData\\OnlineShoppingSystem\\Search items.txt',\n",
    "r'D:\\GPT-testing\\SpecificationData\\OnlineShoppingSystem\\Validate Customer.txt',\n",
    "r'D:\\GPT-testing\\SpecificationData\\ShopeeWeb\\Add a type of product into cart.txt',\n",
    "r'D:\\GPT-testing\\SpecificationData\\ShopeeWeb\\Buy product.txt',\n",
    "r'D:\\GPT-testing\\SpecificationData\\ShopeeWeb\\Edit personal shopping cart.txt',\n",
    "r'D:\\GPT-testing\\SpecificationData\\ShopeeWeb\\Rating a product.txt',\n",
    "r'D:\\GPT-testing\\SpecificationData\\ShopeeWeb\\Search feature.txt',\n",
    "r\"D:\\GPT-testing\\SpecificationData\\ShopeeWeb\\Track order's status.txt\",\n",
    "r\"D:\\GPT-testing\\SpecificationData\\ShopeeWeb\\View detail information of a product.txt\",\n",
    "r\"D:\\GPT-testing\\SpecificationData\\Trello\\create workspace.txt\",\n",
    "r\"D:\\GPT-testing\\SpecificationData\\Trello\\login.txt\",\n",
    "r\"D:\\GPT-testing\\SpecificationData\\Trello\\create boards.txt\"\n",
    "]\n",
    "\n"
   ]
  },
  {
   "cell_type": "code",
   "execution_count": 245,
   "metadata": {},
   "outputs": [
    {
     "name": "stdout",
     "output_type": "stream",
     "text": [
      "D:\\GPT-testing\\SpecificationData\\Adventura\\Adventura - Filter.txt\n"
     ]
    }
   ],
   "source": [
    "file_path = file_path_list[0]\n",
    "print(file_path)"
   ]
  },
  {
   "cell_type": "code",
   "execution_count": 246,
   "metadata": {},
   "outputs": [
    {
     "name": "stdout",
     "output_type": "stream",
     "text": [
      "Use case: use case id: U03\n",
      "use case name: Filter search results.\n",
      "objective: The \"Filter search results\" use case allows users to filter search results to get better results that are closer to what the user is looking for.\n",
      "actor: user \n",
      "Preconditions: The user is on the 'Search' page.\n",
      "Included use case: Search attractions by Attraction's title\n",
      "Extended use case: None\n",
      "Basic flow:\n",
      "Step 1: The system show a list of type of destination included museum, zoo, aquarium, mall, cuisine, hotel.\n",
      "Step 2: User click on a specific type of destination.\n",
      "Step 3: System filter the search result related to selected type of destination.\n",
      "\n",
      "Alternative Flows:\n",
      "Alternative flow 1: System has no suitable result for the filter.\n",
      "At step 3 of the basic flow: The system show message 'there is no suitable result. Please try another keyword or type of destination.'\n",
      "\n",
      "Postcondition: \n",
      "None\n",
      "\n",
      "\n",
      "\n",
      "\n"
     ]
    }
   ],
   "source": [
    "usecase = \"Use case: \"+ read_file_into_string(file_path)\n",
    "if usecase is not None:\n",
    "    print(usecase)"
   ]
  },
  {
   "cell_type": "code",
   "execution_count": 247,
   "metadata": {},
   "outputs": [],
   "source": [
    "SYSTEM_PROMPT_extract_flow =\"\"\"\n",
    "Given use case specification flows.\n",
    "Extract all the contents of flows into json format.\n",
    "Return the flows in json format.\n",
    "{\n",
    "\"Flow name\":[ contents of corresponding flow],\n",
    "}\n",
    "For example: \n",
    "{\n",
    "  \"Main flow:\": [\n",
    "    \"Step 1: Learner fills in the username field by a valid username that has been registered\",\n",
    "    \"Step 2: Learner fills in the password field by the correct password for the corresponding username\",\n",
    "    \"Step 3: Learner press \\\"Login\\\" button\",\n",
    "    \"Step 4: System redirects learner to Home page\"\n",
    "  ],\n",
    "  \"Alternative flow 1: Login by email\": [\n",
    "    \"At step 1 of the basic flow: Learner fills in the username field by a valid email that has been registered\",\n",
    "    \"Step 2: Learner fills in the password field by the correct password for the corresponding email\",\n",
    "    \"Go back to step 3 in the basic flow and continue with the steps from step 3\"\n",
    "  ]\n",
    "}\n",
    "\"\"\""
   ]
  },
  {
   "cell_type": "code",
   "execution_count": 248,
   "metadata": {},
   "outputs": [
    {
     "name": "stdout",
     "output_type": "stream",
     "text": [
      "{\n",
      "  \"Basic flow\": [\n",
      "    \"Step 1: The system show a list of type of destination included museum, zoo, aquarium, mall, cuisine, hotel.\",\n",
      "    \"Step 2: User click on a specific type of destination.\",\n",
      "    \"Step 3: System filter the search result related to selected type of destination.\"\n",
      "  ],\n",
      "  \"Alternative flow 1: System has no suitable result for the filter\": [\n",
      "    \"At step 3 of the basic flow: The system show message 'there is no suitable result. Please try another keyword or type of destination.'\"\n",
      "  ]\n",
      "}\n"
     ]
    }
   ],
   "source": [
    "promptExtractCondtition = [\n",
    "    { \"role\": \"system\", \"content\": SYSTEM_PROMPT_extract_flow},\n",
    "    { \"role\": \"user\", \"content\": usecase}\n",
    "]\n",
    "\n",
    "gpt_response = ask(promptExtractCondtition, client, model)\n",
    "print(gpt_response)\n",
    "usecase_flow = json.loads(gpt_response)\n",
    "flows_name = [key for key in usecase_flow]\n",
    "\n",
    "# usecase_temp = \n",
    "# flows_name = [\"Basic Flow\",\"Alternative flow 1\",\"Alternative flow 2\",\"Alternative flow 3\",\"Alternative flow 4\",\"Alternative flow 5\",\"Alternative flow 6\",\"Alternative flow 7\",\"Alternative flow \" ]\n",
    "# usecase_flow = json.loads(usecase_temp)\n"
   ]
  },
  {
   "cell_type": "code",
   "execution_count": 249,
   "metadata": {},
   "outputs": [
    {
     "name": "stdout",
     "output_type": "stream",
     "text": [
      "Basic flow\n"
     ]
    }
   ],
   "source": [
    "for flow_name in flows_name:\n",
    "    if 'Basic' in flow_name:\n",
    "        default_flow = flow_name\n",
    "    if 'Main' in flow_name:\n",
    "        default_flow = flow_name\n",
    "\n",
    "print(default_flow)"
   ]
  },
  {
   "cell_type": "code",
   "execution_count": 250,
   "metadata": {},
   "outputs": [],
   "source": [
    "SYSTEM_PROMPT_extract_condition =\"\"\"\n",
    "Given use case flows of a feature.\n",
    "Your task is to identify all the interactive elements within the application. \n",
    "For each interactive element:\n",
    "Identify what type of that element (button,icon,scroll,text field,radio buttons,menu,menu for navigation,menu for opening dialog or another menu,menu for filter,option,sliders,switches,dialog,link,form,rating, filter).\n",
    "If element is used to input or enter data, then determine all the condition of that element which to make make the element valid and the conditions that would make the element invalid base on the description of the use case flow. Do not arbitrarily create additional conditions that not mention in the use case flow.\n",
    "If element is used to select a value, then determine all the value of the element. Do not determine any values that haven't already been mentioned in the use case.\n",
    "\n",
    "Try not to generate duplicate element with the same value. \n",
    "Return the element extracted in json format.\n",
    "The JSON format should follow the following structure:\n",
    "{\"Name of interactive element\": {\"condition\": \"condition of that element\", \"value\": \"value of that element\", \"type\": \"element type\"}}\n",
    "Examples of output json format template: \n",
    "{\"Username\": {\"condition\": {\"valid\": \"must be over 8 characters and below 30 characters\", \"invalid\": \"below 8 characters or over 30 character\"}, \"value\": [], \"type\": \"text field\"}}\n",
    "{\"Search button\": {\"condition\": {\"valid\": \"\", \"invalid\": \"\"}, \"value\": [], \"type\": \"button\"}}\n",
    "\"\"\"\n",
    "\n",
    "#có nên đổi cái code lọc fliter_data không????"
   ]
  },
  {
   "cell_type": "code",
   "execution_count": 251,
   "metadata": {},
   "outputs": [
    {
     "name": "stdout",
     "output_type": "stream",
     "text": [
      "{\n",
      "  \"List of type of destination\": {\n",
      "    \"condition\": {\n",
      "      \"valid\": \"\",\n",
      "      \"invalid\": \"\"\n",
      "    },\n",
      "    \"value\": [\"museum\", \"zoo\", \"aquarium\", \"mall\", \"cuisine\", \"hotel\"],\n",
      "    \"type\": \"menu for filter\"\n",
      "  },\n",
      "  \"Specific type of destination\": {\n",
      "    \"condition\": {\n",
      "      \"valid\": \"\",\n",
      "      \"invalid\": \"\"\n",
      "    },\n",
      "    \"value\": [],\n",
      "    \"type\": \"option\"\n",
      "  },\n",
      "  \"Search result filter\": {\n",
      "    \"condition\": {\n",
      "      \"valid\": \"related to selected type of destination\",\n",
      "      \"invalid\": \"no suitable result\"\n",
      "    },\n",
      "    \"value\": [],\n",
      "    \"type\": \"filter\"\n",
      "  },\n",
      "  \"No suitable result message\": {\n",
      "    \"condition\": {\n",
      "      \"valid\": \"\",\n",
      "      \"invalid\": \"\"\n",
      "    },\n",
      "    \"value\": [],\n",
      "    \"type\": \"dialog\"\n",
      "  }\n",
      "}\n"
     ]
    }
   ],
   "source": [
    "promptExtractCondtition = [\n",
    "    { \"role\": \"system\", \"content\": SYSTEM_PROMPT_extract_condition},\n",
    "    { \"role\": \"user\", \"content\": str(usecase_flow) }\n",
    "  ]\n",
    "gpt_response = ask(promptExtractCondtition, client, model)\n",
    "print(gpt_response)\n",
    "full_elements = json.loads(gpt_response)"
   ]
  },
  {
   "cell_type": "code",
   "execution_count": 252,
   "metadata": {},
   "outputs": [],
   "source": [
    "filtered_data = {key: value for key, value in full_elements.items() if value['type'] \n",
    "                 not in ['dialog','button', 'tab', 'card','link','icon','scroll bar','scroll']}"
   ]
  },
  {
   "cell_type": "code",
   "execution_count": 253,
   "metadata": {},
   "outputs": [
    {
     "name": "stdout",
     "output_type": "stream",
     "text": [
      "List of type of destination\n",
      "{'condition': {'valid': '', 'invalid': ''}, 'value': ['museum', 'zoo', 'aquarium', 'mall', 'cuisine', 'hotel'], 'type': 'menu for filter'}\n",
      "Specific type of destination\n",
      "{'condition': {'valid': '', 'invalid': ''}, 'value': [], 'type': 'option'}\n",
      "Search result filter\n",
      "{'condition': {'valid': 'related to selected type of destination', 'invalid': 'no suitable result'}, 'value': [], 'type': 'filter'}\n"
     ]
    }
   ],
   "source": [
    "for key, value in filtered_data.items():\n",
    "    print(key)\n",
    "    print(value)"
   ]
  },
  {
   "cell_type": "code",
   "execution_count": 254,
   "metadata": {},
   "outputs": [],
   "source": [
    "filter_element_click_only = {key: value for key, value in full_elements.items() \n",
    "                             if (value['type'] in ['dialog','button', 'tab', 'card','link','icon','scroll bar','title'] and not value['value'])}"
   ]
  },
  {
   "cell_type": "code",
   "execution_count": 255,
   "metadata": {},
   "outputs": [],
   "source": [
    "filter_element_select_value = {key: value for key, value in full_elements.items() \n",
    "                             if ( value['value'] and value['type'] not in ['button','menu for navigation',' menu for opening dialog or another dropdown',  'tab', 'card','link','icon','title','dialog'])}"
   ]
  },
  {
   "cell_type": "code",
   "execution_count": 256,
   "metadata": {},
   "outputs": [
    {
     "name": "stdout",
     "output_type": "stream",
     "text": [
      "List of type of destination\n",
      "{'condition': {'valid': '', 'invalid': ''}, 'value': ['museum', 'zoo', 'aquarium', 'mall', 'cuisine', 'hotel'], 'type': 'menu for filter'}\n"
     ]
    }
   ],
   "source": [
    "for key, value in filter_element_select_value.items():\n",
    "    print(key)\n",
    "    print(value)    "
   ]
  },
  {
   "cell_type": "code",
   "execution_count": 257,
   "metadata": {},
   "outputs": [],
   "source": [
    "filter_element_enter_value = {key: value for key, value in full_elements.items() \n",
    "                              if (value['type'] in ['text field','text area'] and (value['condition']['valid'] or value['condition']['invalid'] ))}\n",
    "# value['type'] in ['text field','text area']"
   ]
  },
  {
   "cell_type": "code",
   "execution_count": 258,
   "metadata": {},
   "outputs": [],
   "source": [
    "for key, value in filter_element_enter_value.items():\n",
    "    print(key)\n",
    "    print(value)    "
   ]
  },
  {
   "cell_type": "code",
   "execution_count": 259,
   "metadata": {},
   "outputs": [],
   "source": [
    "SYSTEM_PROMPT_get_flow_name =\"\"\"\n",
    "Given use case flows of a feature and a list of interaction elements extracted from that use case flows.\n",
    "For each given interactive element:\n",
    "Identify the flow through which the element is interacted in the use case flow and the type of interaction has with the element and who make that interact.\n",
    "Ignore interactive elements not mentioned in the given list.\n",
    "Return the flows in json format.\n",
    "The JSON format should follow the following structure:\n",
    "{\"Name of interactive element\":[{\"flow 1\":[{\"action\":\"interaction 1\",\"by\":\"actor\",\"at sentence\":\"sentence mention that interaction element\"},{\"action\":\"interaction 2\",\"by\":\"actor\",\"at sentence\":\"sentence mention that interaction element\"}]}]}\n",
    "Examples of output json format template: \n",
    "{\"Username\":[{\"Alternative flow 1: Login by valid username\":[{\"action\":\"enter\",\"by\":\"user\",\"at sentence\":\"Step 4: user enter valid username that above 8 and below 10 characters\"}]},{\"Exception flow 1: Login by invalid username\":[{\"action\":\"fill\",\"by\":\"user\",\"at sentence\":\"Step 4: user enter invalid username below 8 characters\"}]}]}\n",
    "{\"Rating filter\":[{\"Alternative flow 1: User rating order\":[{\"action\":\"skip\",\"by\":\"user\",\"at sentence\":\"Step 3: user skip the rating filter select\"},{\"action\":\"select\",\"by\":\"user\",\"at sentence\":\"Step 10: user rate the order by select the number of star\"}]}]}\n",
    "\"\"\"\n"
   ]
  },
  {
   "cell_type": "code",
   "execution_count": 260,
   "metadata": {},
   "outputs": [
    {
     "name": "stdout",
     "output_type": "stream",
     "text": [
      "Element: List of type of destination.\n"
     ]
    }
   ],
   "source": [
    "Element = \"Element: \"\n",
    "for key,value in filter_element_enter_value.items():\n",
    "    # print(key)\n",
    "    # print(value)\n",
    "    Element += key+ \" ,\"\n",
    "for key,value in filter_element_select_value.items():\n",
    "    # print(key)\n",
    "    # print(value)\n",
    "    Element += key+ \" ,\"\n",
    "Element = Element[:-2] \n",
    "Element += \".\"\n",
    "print(Element)"
   ]
  },
  {
   "cell_type": "code",
   "execution_count": 261,
   "metadata": {},
   "outputs": [
    {
     "name": "stdout",
     "output_type": "stream",
     "text": [
      "Element: List of type of destination.\n",
      "Use case flow:{'Basic flow': ['Step 1: The system show a list of type of destination included museum, zoo, aquarium, mall, cuisine, hotel.', 'Step 2: User click on a specific type of destination.', 'Step 3: System filter the search result related to selected type of destination.'], 'Alternative flow 1: System has no suitable result for the filter': [\"At step 3 of the basic flow: The system show message 'there is no suitable result. Please try another keyword or type of destination.'\"]}\n"
     ]
    }
   ],
   "source": [
    "print(Element + \"\\nUse case flow:\" + str(usecase_flow)  )"
   ]
  },
  {
   "cell_type": "code",
   "execution_count": 262,
   "metadata": {},
   "outputs": [
    {
     "name": "stdout",
     "output_type": "stream",
     "text": [
      "{\"List of type of destination\":[{\"Basic flow\":[{\"action\":\"show\",\"by\":\"system\",\"at sentence\":\"Step 1: The system show a list of type of destination included museum, zoo, aquarium, mall, cuisine, hotel.\"},{\"action\":\"click\",\"by\":\"user\",\"at sentence\":\"Step 2: User click on a specific type of destination.\"},{\"action\":\"filter\",\"by\":\"system\",\"at sentence\":\"Step 3: System filter the search result related to selected type of destination.\"}]}]}\n",
      "{'List of type of destination': [{'Basic flow': [{'action': 'show', 'by': 'system', 'at sentence': 'Step 1: The system show a list of type of destination included museum, zoo, aquarium, mall, cuisine, hotel.'}, {'action': 'click', 'by': 'user', 'at sentence': 'Step 2: User click on a specific type of destination.'}, {'action': 'filter', 'by': 'system', 'at sentence': 'Step 3: System filter the search result related to selected type of destination.'}]}]}\n"
     ]
    }
   ],
   "source": [
    "if(len(filter_element_enter_value) != 0 or len(filter_element_select_value) !=0 ):\n",
    "  promptExtractCondtition = [\n",
    "      { \"role\": \"system\", \"content\": SYSTEM_PROMPT_get_flow_name},\n",
    "      { \"role\": \"user\", \"content\":Element + \"\\nUse case flow:\" + str(usecase_flow) }\n",
    "    ]\n",
    "  gpt_response = ask(promptExtractCondtition, client, model)\n",
    "  print(gpt_response)\n",
    "  element_actions_flow = json.loads(gpt_response)\n",
    "  print(element_actions_flow)"
   ]
  },
  {
   "cell_type": "code",
   "execution_count": 263,
   "metadata": {},
   "outputs": [],
   "source": [
    "non_actions = ['display','show']\n",
    "non_actors = ['system','System']"
   ]
  },
  {
   "cell_type": "code",
   "execution_count": 264,
   "metadata": {},
   "outputs": [
    {
     "name": "stdout",
     "output_type": "stream",
     "text": [
      "{\n",
      "  \"List of type of destination\": [\n",
      "    {\n",
      "      \"Basic flow\": [\n",
      "        {\n",
      "          \"action\": \"click\",\n",
      "          \"by\": \"user\",\n",
      "          \"at sentence\": \"Step 2: User click on a specific type of destination.\"\n",
      "        }\n",
      "      ]\n",
      "    }\n",
      "  ]\n",
      "}\n"
     ]
    }
   ],
   "source": [
    "if(len(filter_element_enter_value) != 0 or len(filter_element_select_value) !=0  ):\n",
    "\n",
    "    for flow_lists_log in element_actions_flow.values():\n",
    "        for flow_list_element in flow_lists_log:\n",
    "            flows_to_delete = []\n",
    "            for flow_name, actions in flow_list_element.items():\n",
    "                filtered_actions = []\n",
    "                for action in actions:\n",
    "                    if(default_flow in flow_name and 'At step' in action['at sentence'] ):\n",
    "                        continue\n",
    "\n",
    "                    if (action['action'] not in non_actions and action['by'] not in non_actors): \n",
    "                        filtered_actions.append(action)\n",
    "\n",
    "                flow_list_element[flow_name] = filtered_actions\n",
    "                if not filtered_actions:\n",
    "                    flows_to_delete.append(flow_name)\n",
    "            flows_to_delete = list(set(flows_to_delete))\n",
    "            for flow_name in flows_to_delete:\n",
    "                del flow_list_element[flow_name]\n",
    "\n",
    "    # Convert modified data back to JSON\n",
    "    modified_json_content = json.dumps(element_actions_flow, indent=2)\n",
    "    print(modified_json_content)\n",
    "    element_flow = element_actions_flow.copy()"
   ]
  },
  {
   "cell_type": "code",
   "execution_count": 265,
   "metadata": {},
   "outputs": [
    {
     "name": "stdout",
     "output_type": "stream",
     "text": [
      "{'List of type of destination': {'condition': {'valid': '', 'invalid': ''}, 'value': ['museum', 'zoo', 'aquarium', 'mall', 'cuisine', 'hotel'], 'type': 'menu for filter'}}\n",
      "{}\n"
     ]
    }
   ],
   "source": [
    "print(filter_element_select_value)\n",
    "print(filter_element_enter_value)\n",
    "filter_element_select_value_flow_list = []\n",
    "filter_element_enter_value_flow_list = []\n"
   ]
  },
  {
   "cell_type": "code",
   "execution_count": 266,
   "metadata": {},
   "outputs": [
    {
     "name": "stdout",
     "output_type": "stream",
     "text": [
      "{'List of type of destination': [{'Basic flow': [{'action': 'click', 'by': 'user', 'at sentence': 'Step 2: User click on a specific type of destination.'}]}]}\n"
     ]
    }
   ],
   "source": [
    "if(len(filter_element_enter_value) != 0 or len(filter_element_select_value) !=0  ):\n",
    "    print(element_flow)"
   ]
  },
  {
   "cell_type": "code",
   "execution_count": 267,
   "metadata": {},
   "outputs": [
    {
     "name": "stdout",
     "output_type": "stream",
     "text": [
      "['Basic flow']\n"
     ]
    }
   ],
   "source": [
    "if(len(filter_element_enter_value) != 0 or len(filter_element_select_value) !=0  ):\n",
    "    for key in filter_element_select_value:\n",
    "        if key in element_flow:\n",
    "            for obj in element_flow[key]:\n",
    "                filter_element_select_value_flow_list.extend(obj.keys())\n",
    "\n",
    "        else:\n",
    "            print(f\"No flow found for '{key}' in element_flow.\")\n",
    "    filter_element_select_value_flow_list = list(set(filter_element_select_value_flow_list))\n",
    "    print(filter_element_select_value_flow_list)\n"
   ]
  },
  {
   "cell_type": "code",
   "execution_count": 268,
   "metadata": {},
   "outputs": [
    {
     "name": "stdout",
     "output_type": "stream",
     "text": [
      "[]\n"
     ]
    }
   ],
   "source": [
    "if(len(filter_element_enter_value) != 0 or len(filter_element_select_value) !=0  ):\n",
    "    for key in filter_element_enter_value:\n",
    "        if key in element_flow:\n",
    "            for obj in element_flow[key]:\n",
    "                filter_element_enter_value_flow_list.extend(obj.keys())\n",
    "\n",
    "        else:\n",
    "            print(f\"No flow found for '{key}' in element_flow.\")\n",
    "\n",
    "    filter_element_enter_value_flow_list = list(set(filter_element_enter_value_flow_list))\n",
    "    print(filter_element_enter_value_flow_list)"
   ]
  },
  {
   "cell_type": "code",
   "execution_count": 269,
   "metadata": {},
   "outputs": [
    {
     "name": "stdout",
     "output_type": "stream",
     "text": [
      "['Basic flow', 'Alternative flow 1: System has no suitable result for the filter']\n",
      "['Alternative flow 1: System has no suitable result for the filter']\n"
     ]
    }
   ],
   "source": [
    "# flow with input value\n",
    "click_only_flow_name = flows_name.copy()\n",
    "print(flows_name)\n",
    "\n",
    "for key in flows_name:\n",
    "     for key_check in filter_element_enter_value_flow_list:\n",
    "        if (key in key_check or key_check in key) and key in click_only_flow_name:\n",
    "            click_only_flow_name.remove(key)\n",
    "        \n",
    "for key in flows_name:\n",
    "    for key_check in filter_element_select_value_flow_list:\n",
    "        if (key in key_check or key_check in key) and key in click_only_flow_name:\n",
    "            click_only_flow_name.remove(key)\n",
    "print(click_only_flow_name)\n",
    "# click_only_flow_name = [key for key in flows_name if key not in filter_element_enter_value_flow_list]\n",
    "# click_only_flow_name = [key for key in click_only_flow_name if key not in filter_element_select_value_flow_list]\n",
    "\n"
   ]
  },
  {
   "cell_type": "code",
   "execution_count": 270,
   "metadata": {},
   "outputs": [
    {
     "name": "stdout",
     "output_type": "stream",
     "text": [
      "['Basic flow', 'Alternative flow 1: System has no suitable result for the filter']\n",
      "[]\n",
      "['Basic flow']\n",
      "['Alternative flow 1: System has no suitable result for the filter']\n"
     ]
    }
   ],
   "source": [
    "print(flows_name)\n",
    "print(filter_element_enter_value_flow_list)\n",
    "print(filter_element_select_value_flow_list)\n",
    "print(click_only_flow_name)\n"
   ]
  },
  {
   "cell_type": "code",
   "execution_count": 271,
   "metadata": {},
   "outputs": [
    {
     "name": "stdout",
     "output_type": "stream",
     "text": [
      "click_only_flows = {'Alternative flow 1: System has no suitable result for the filter': [\"At step 3 of the basic flow: The system show message 'there is no suitable result. Please try another keyword or type of destination.'\"]}\n"
     ]
    }
   ],
   "source": [
    "click_only_flows = {}\n",
    "\n",
    "for key,value in usecase_flow.items():\n",
    "    if key in click_only_flow_name:\n",
    "        click_only_flows[key] = value\n",
    "\n",
    "print(\"click_only_flows = \" + str(click_only_flows))\n"
   ]
  },
  {
   "cell_type": "code",
   "execution_count": 272,
   "metadata": {},
   "outputs": [
    {
     "name": "stdout",
     "output_type": "stream",
     "text": [
      "input_flows = {}\n",
      "dict_keys([])\n"
     ]
    }
   ],
   "source": [
    "input_flows = {}\n",
    "\n",
    "for key,value in usecase_flow.items():\n",
    "    if key in filter_element_enter_value_flow_list:\n",
    "        input_flows[key] = value\n",
    "\n",
    "print(\"input_flows = \" + str(input_flows))\n",
    "print(input_flows.keys())\n"
   ]
  },
  {
   "cell_type": "code",
   "execution_count": 273,
   "metadata": {},
   "outputs": [
    {
     "name": "stdout",
     "output_type": "stream",
     "text": [
      "select_flows = {'Basic flow': ['Step 1: The system show a list of type of destination included museum, zoo, aquarium, mall, cuisine, hotel.', 'Step 2: User click on a specific type of destination.', 'Step 3: System filter the search result related to selected type of destination.']}\n"
     ]
    }
   ],
   "source": [
    "select_flows = {}\n",
    "\n",
    "for key,value in usecase_flow.items():\n",
    "    if key in filter_element_select_value_flow_list:\n",
    "        select_flows[key] = value\n",
    "\n",
    "print(\"select_flows = \" + str(select_flows))"
   ]
  },
  {
   "cell_type": "code",
   "execution_count": 274,
   "metadata": {},
   "outputs": [],
   "source": [
    "SYSTEM_PROMPT_gen_no_condition_test_scenarios =\"\"\"\n",
    "Given use case specification flows.\n",
    "Your task is to generate one test scenario only to test each given flow.\n",
    "Return the test scenarios generated in json format.\n",
    "The JSON format should follow the following structure:\n",
    "{\n",
    "    \"Test Scenarios\":[ \"name of test scenario\"]\n",
    "  }\n",
    "For example :\n",
    "{\n",
    "  \"Test Scenarios\": [\n",
    "    \"Administrator Cancels Adding New Lesson Before Saving\"\n",
    "  ]\n",
    "}\n",
    "\"\"\""
   ]
  },
  {
   "cell_type": "code",
   "execution_count": 275,
   "metadata": {},
   "outputs": [],
   "source": [
    "SYSTEM_PROMPT_gen_test_scenarios_input_element =\"\"\"\n",
    "Given a list of interaction element for input value and their extracted conditions and use case flows that reflect those element.\n",
    "Your task is to generate a comprehensive set of test scenarios that test all given the conditions of given elements.\n",
    "The test scenarios generated must have clear conditions descritions and mention conditions is tested but do not need example data. \n",
    "The positive test scenarios generated must test the combination of valid elements (the combination follow the description in the use case flow). \n",
    "The negative test scenarios generated must test only one given invalid condition at a time. If there is no invalid condition, you don't need to write negative test scenario.\n",
    "For cases where the invalid condition does not have a corresponding output description, predict the possible outcome to test.\n",
    "\n",
    "\n",
    "Do not generate test scenario to test element that not mention in the given element list.\n",
    "\n",
    "Return the test scenarios generated in json format.\n",
    "The JSON format should follow the following structure:\n",
    "{\n",
    "  \"Positive Test Scenarios\": [{ \"name of test scenario\": {\"conditions\": conditions tested}}],\n",
    "  \"Negative Test Scenarios\": [{ \"name of test scenario\": {\"conditions\": conditions tested}}]\n",
    "  }\n",
    "\n",
    "An example of a test scenario: \n",
    "{\n",
    "  \"Positive Test Scenarios\": [{ \"create a new account with valid email and valid passowrd.\": {\"conditions\": login with email}}],\n",
    "  \"Negative Test Scenarios\": [{\" Lesson Creation with Missing Name\": {\"conditions\": lesson name must be entered }}}]\n",
    "  }\n",
    "\"\"\""
   ]
  },
  {
   "cell_type": "code",
   "execution_count": 276,
   "metadata": {},
   "outputs": [],
   "source": [
    "SYSTEM_PROMPT_gen_test_scenarios_select_element =\"\"\"\n",
    "Given a list of element for selecting value, their value options and use case flows use given element.\n",
    "For each given element:\n",
    "Generate only one test scenario to test the selection for each element value options. \n",
    "\n",
    "Do not generate test scenario to test the display of object.\n",
    "Do not generate test scenario to test element that not mention in the given element list.\n",
    "\n",
    "The JSON format should follow the following structure:\n",
    "{\n",
    "    \"Test Scenarios\":[ \"name of test scenario\",\"name of test scenario\"]\n",
    "  }\n",
    "For example :\n",
    "{\n",
    "  \"Test Scenarios\": [\n",
    "    \"create Book with Default Genre value and Default Share value.\",\n",
    "    \"create Book with Genre value 'Adventural'.\"\n",
    "  ]\n",
    "}\n",
    "\"\"\"\n",
    "# Generate test scenarios to test the selection for each element's value.\n",
    "# Generate test scenarios for the condition invalid if element mentions.\n",
    "\n"
   ]
  },
  {
   "cell_type": "code",
   "execution_count": 277,
   "metadata": {},
   "outputs": [],
   "source": [
    "all_test_scenario = []"
   ]
  },
  {
   "cell_type": "code",
   "execution_count": 278,
   "metadata": {},
   "outputs": [
    {
     "name": "stdout",
     "output_type": "stream",
     "text": [
      "{\n",
      "  \"Test Scenarios\": [\n",
      "    \"Filter Search With No Suitable Results\"\n",
      "  ]\n",
      "}\n"
     ]
    }
   ],
   "source": [
    "\n",
    "if( len(click_only_flows)!= 0 ):\n",
    "    promptExtractCondtition = [\n",
    "    { \"role\": \"system\", \"content\": SYSTEM_PROMPT_gen_no_condition_test_scenarios},\n",
    "    { \"role\": \"user\", \"content\": str(click_only_flows) }\n",
    "  ]\n",
    "\n",
    "    gpt_response = ask(promptExtractCondtition, client, model)\n",
    "    print(gpt_response)\n",
    "    temp = json.loads(gpt_response)[\"Test Scenarios\"]\n",
    "    all_test_scenario.extend(temp)\n",
    "\n",
    "    "
   ]
  },
  {
   "cell_type": "code",
   "execution_count": 279,
   "metadata": {},
   "outputs": [
    {
     "name": "stdout",
     "output_type": "stream",
     "text": [
      "Element: {}\n",
      "Use case:{}\n"
     ]
    }
   ],
   "source": [
    "print(\"Element: \"+str(filter_element_enter_value) +\"\\nUse case:\" +str(input_flows) )"
   ]
  },
  {
   "cell_type": "code",
   "execution_count": 280,
   "metadata": {},
   "outputs": [],
   "source": [
    "\n",
    "if( len(filter_element_enter_value)!= 0 ):\n",
    "    promptExtractCondtition = [\n",
    "    { \"role\": \"system\", \"content\": SYSTEM_PROMPT_gen_test_scenarios_input_element},\n",
    "    { \"role\": \"user\", \"content\": \"Element: \"+str(filter_element_enter_value) +\"\\nUse case:\" +str(input_flows)  }\n",
    "  ]\n",
    "\n",
    "    gpt_response = ask(promptExtractCondtition, client, model)\n",
    "    data = json.loads(gpt_response)\n",
    "\n",
    "    all_scenario_names = []\n",
    "    for scenario_type in data:\n",
    "        for scenario in data[scenario_type]:\n",
    "            scenario_desc = list(scenario.keys())[0]\n",
    "            all_scenario_names.append(scenario_desc)\n",
    "\n",
    "    print(\"All Test Scenario Names:\")\n",
    "    print(json.dumps(all_scenario_names, indent=2))\n",
    "    all_test_scenario.extend(all_scenario_names)\n",
    "    \n"
   ]
  },
  {
   "cell_type": "code",
   "execution_count": 281,
   "metadata": {},
   "outputs": [
    {
     "name": "stdout",
     "output_type": "stream",
     "text": [
      "{\n",
      "  \"Test Scenarios\": [\n",
      "    \"filter search result with type of destination value 'museum'.\",\n",
      "    \"filter search result with type of destination value 'zoo'.\",\n",
      "    \"filter search result with type of destination value 'aquarium'.\",\n",
      "    \"filter search result with type of destination value 'mall'.\",\n",
      "    \"filter search result with type of destination value 'cuisine'.\",\n",
      "    \"filter search result with type of destination value 'hotel'.\"\n",
      "  ]\n",
      "}\n"
     ]
    }
   ],
   "source": [
    "if( len(filter_element_select_value)!= 0):\n",
    "    promptExtractCondtition = [\n",
    "    { \"role\": \"system\", \"content\": SYSTEM_PROMPT_gen_test_scenarios_select_element},\n",
    "    { \"role\": \"user\", \"content\": str(select_flows) + \"Element: \"+str(filter_element_select_value) }\n",
    "  ]\n",
    "\n",
    "    gpt_response = ask(promptExtractCondtition, client, model)\n",
    "    print(gpt_response)\n",
    "    select_testscenario = json.loads(gpt_response)[\"Test Scenarios\"]\n",
    "    all_test_scenario.extend(select_testscenario)\n",
    "    "
   ]
  },
  {
   "cell_type": "code",
   "execution_count": 282,
   "metadata": {},
   "outputs": [
    {
     "name": "stdout",
     "output_type": "stream",
     "text": [
      "{'List of type of destination': {'condition': {'valid': '', 'invalid': ''}, 'value': ['museum', 'zoo', 'aquarium', 'mall', 'cuisine', 'hotel'], 'type': 'menu for filter'}}\n"
     ]
    }
   ],
   "source": [
    "print(filter_element_select_value)\n"
   ]
  },
  {
   "cell_type": "code",
   "execution_count": 283,
   "metadata": {},
   "outputs": [],
   "source": [
    "# test_scenario_file_path = file_path.replace(\"SpecificationData\", \"ResultSet\\\\4.21 - best version\\\\Propse 1\\\\\")\n",
    "# print(test_scenario_file_path)"
   ]
  },
  {
   "cell_type": "code",
   "execution_count": 284,
   "metadata": {},
   "outputs": [
    {
     "name": "stdout",
     "output_type": "stream",
     "text": [
      "Filter Search With No Suitable Results\n",
      "filter search result with type of destination value 'museum'.\n",
      "filter search result with type of destination value 'zoo'.\n",
      "filter search result with type of destination value 'aquarium'.\n",
      "filter search result with type of destination value 'mall'.\n",
      "filter search result with type of destination value 'cuisine'.\n",
      "filter search result with type of destination value 'hotel'.\n"
     ]
    }
   ],
   "source": [
    "for i in (all_test_scenario):\n",
    "    print(i)"
   ]
  },
  {
   "cell_type": "code",
   "execution_count": 285,
   "metadata": {},
   "outputs": [],
   "source": [
    "def write_list_to_file(file_path, my_list):\n",
    "    with open(file_path, 'w') as f:\n",
    "        for item in my_list:\n",
    "            f.write(\"%s\\n\" % item)\n",
    "def write_list_to_file_with_numbering(file_path, my_list):\n",
    "    with open(file_path, 'w') as f:\n",
    "        for i, item in enumerate(my_list, start=1):\n",
    "            f.write(f\"{i}. {item}\\n\")"
   ]
  },
  {
   "cell_type": "code",
   "execution_count": 286,
   "metadata": {},
   "outputs": [
    {
     "name": "stdout",
     "output_type": "stream",
     "text": [
      "Filter Search With No Suitable Results\n",
      "filter search result with type of destination value 'museum'.\n",
      "filter search result with type of destination value 'zoo'.\n",
      "filter search result with type of destination value 'aquarium'.\n",
      "filter search result with type of destination value 'mall'.\n",
      "filter search result with type of destination value 'cuisine'.\n",
      "filter search result with type of destination value 'hotel'.\n"
     ]
    }
   ],
   "source": [
    "for i in (all_test_scenario):\n",
    "    print(i)\n",
    "    test_scenario_file_path = file_path.replace(\"SpecificationData\", \"ResultSet\\\\5.5\\\\Propse 1\\\\\")\n",
    "    # directory, filename = os.path.split(test_scenario_file_path)\n",
    "    # name, extension = os.path.splitext(filename)\n",
    "    # new_filename = f\"{name} - {count}{extension}\"\n",
    "    # new_path = os.path.join(directory, new_filename)\n",
    "    # print(new_path)\n",
    "    write_list_to_file_with_numbering(test_scenario_file_path,(all_test_scenario))"
   ]
  },
  {
   "cell_type": "code",
   "execution_count": 287,
   "metadata": {},
   "outputs": [],
   "source": [
    "# write_to_file(test_scenario_file_path,\"\")"
   ]
  },
  {
   "cell_type": "code",
   "execution_count": 288,
   "metadata": {},
   "outputs": [],
   "source": [
    "# import os\n",
    "\n",
    "# def get_file_paths(directory):\n",
    "#     file_paths = []\n",
    "#     for root, _, files in os.walk(directory):\n",
    "#         for file in files:\n",
    "#             file_paths.append(os.path.join(root, file))\n",
    "#     return file_paths\n",
    "\n",
    "# directory = \"D:\\GPT-testing\\SpecificationData\"\n",
    "# file_paths = get_file_paths(directory)\n",
    "# print(\"File paths in directory:\", file_paths)\n",
    "# for i in file_paths:\n",
    "#     print(\"r'\"+i+\"',\")\n"
   ]
  }
 ],
 "metadata": {
  "kernelspec": {
   "display_name": "Python 3",
   "language": "python",
   "name": "python3"
  },
  "language_info": {
   "codemirror_mode": {
    "name": "ipython",
    "version": 3
   },
   "file_extension": ".py",
   "mimetype": "text/x-python",
   "name": "python",
   "nbconvert_exporter": "python",
   "pygments_lexer": "ipython3",
   "version": "3.10.9"
  }
 },
 "nbformat": 4,
 "nbformat_minor": 2
}
