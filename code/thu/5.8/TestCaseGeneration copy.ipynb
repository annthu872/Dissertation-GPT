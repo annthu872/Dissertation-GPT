{
 "cells": [
  {
   "cell_type": "code",
   "execution_count": 1,
   "metadata": {},
   "outputs": [],
   "source": [
    "from openai import OpenAI\n",
    "import json\n",
    "import os\n",
    "\n",
    "GPT_MODEL_4 = \"gpt-4-0125-preview\"\n",
    "OPEN_API_KEY = os.getenv(\"OPENAI_API_KEY\")\n",
    "\n",
    "client = OpenAI()\n",
    "model = GPT_MODEL_4\n",
    "\n",
    "def ask(prompt, client, model, temperature = 0):\n",
    "    response = None\n",
    "    \n",
    "    response = client.chat.completions.create(\n",
    "      model=model,\n",
    "      messages=prompt,\n",
    "      temperature=temperature,\n",
    "    )\n",
    "\n",
    "    return response.choices[0].message.content"
   ]
  },
  {
   "cell_type": "code",
   "execution_count": 2,
   "metadata": {},
   "outputs": [],
   "source": [
    "SYSTEM_PROMPT_5=\"\"\"\n",
    "I want you to act as a software tester.\n",
    "Given a test scenario and the corresponding use case specification.\n",
    "Generating test case to test the given test scenario follow the given use case specification description.\n",
    "When generating test case:\n",
    "- Optional test steps can be skipped if they are not required to be tested from the test scenario description.\n",
    "- If the step interacts with the value selection element, if the element has a default value, skip that step, otherwise, choose any value for that step.\n",
    "The generated test case must follow the following template: \n",
    "\n",
    "Title/Description: {A concise description of the purpose of the test case based on the given test scenario.}\n",
    "Test Objective: {The specific goal or objective of the test.}\n",
    "Preconditions: {Any necessary conditions that must be met before the test is executed which is mentioned in the use case specification.}\n",
    "Test Steps: {A step-by-step sequence of actions to perform during the test follow the step declared in the use case }\n",
    "Expected Results: {The anticipated outcomes or behaviors after executing the given test scenario}\n",
    "\n",
    "\"\"\"\n",
    "\n",
    "# Also, generate a test case includes test steps based on those information to cover the test scenario.\n",
    "# Rules for generating test case:\n",
    "# - If that test case needs login as a specific role to proceed, do not put login at step 1. Instead, put the login as that specific role in the pre condition.\n",
    "# - If in the use case specification do not describe how to go to the page to do the test case, do not put it in the step. Instead, tell the tester that they need to be in that page in the pre condition.\n",
    "# - If there are navigation steps in the use case specification, keep it. Do not put it in the precondition or combine it with other steps.\n",
    "# - If the test case need to be repeated to test with different order, data or case, seperate them to be distinct test cases.\n",
    "# - Generate only test cases that the test scenario's name mentioned. Do not try to cover everything in the use case specification if the test scenario's name does not describe it. \n",
    "# - Write the test step clearly, do not write something like \"Follow steps from the main flow\".\n",
    "# - If the scenario is about testing the displation and there is no flow directly cover that scenario, use only the basic (or main) flow to test it."
   ]
  },
  {
   "cell_type": "code",
   "execution_count": 3,
   "metadata": {},
   "outputs": [],
   "source": [
    "testscenario = \"\"\"Test scenario: \n",
    "Create a new lesson with a unique name.\"\"\""
   ]
  },
  {
   "cell_type": "code",
   "execution_count": 4,
   "metadata": {},
   "outputs": [],
   "source": [
    "usecase=\"\"\"    Use case specification: \n",
    "basic flow:\n",
    "Step 1: Admin presses the tab \"Lesson Management\" on the navbar.\n",
    "Step 2: The system open dropdown menu for Lesson with options: \"Add new Lesson\", \"View list of Lesson\", \"Lesson statistics\".\n",
    "Step 3: Administrator selects \"View list of Lesson\" options.\n",
    "Step 4: The system redirects Admin to the Lesson Management page which show lesson list which admins created.\n",
    "Step 5: Administrator select button \"Add new Lesson\"\n",
    "Step 6: The system redirects Admin to the \"Add new Lesson\" page.\n",
    "Step 7: Administrator adds the name of the lesson in the name field.\n",
    "Step 8: Administrator adds the description of the lesson in the description field.\n",
    "Step 9: Administrator selects \"Save\" to create a new lesson.\n",
    "\n",
    "Alternative flow 1: Administrator adds an already used name for the lesson.\n",
    "At step 3 of the basic flow: Administrator adds a name that is already used in the existed lessons in the name field.\n",
    "step 4: Administrator adds the description of the lesson in the description field.\n",
    "step 5: Administrator selects \"Save\" to create a new lesson.\n",
    "step 6: The system shows notification that the name is already used, prompting Administrator to add another name in the name field.\n",
    "step 7: Administrator adds a new name in the name field.\n",
    "step 8: Administrator selects \"Save\" to create a new lesson.\n",
    "\n",
    "Alternative flow 2: Navigate to Add new lesson page by options in navbar. \n",
    "At step 3 of the basic flow: Administrator selects \"Add new Lesson\".\n",
    "Go back to step 6 in the basic flow and continue with the steps from step 6.\n",
    "\n",
    "Exception flow:\n",
    "At step 3 of the basic flow: Administrator can select \"Cancel\" to stop adding a new lesson at anytime.\n",
    "\n",
    "Preconditions:\n",
    "Administrator must be logged into the application.\n",
    "Administrator is allowed to add new lesson. \n",
    "\n",
    "Postconditions:\n",
    "After successfully adding new lesson, the system will redirect Administrator to the adding topic to new lesson section.\n",
    "New lesson will appear in the lesson list.\n",
    "\"\"\""
   ]
  },
  {
   "cell_type": "code",
   "execution_count": 5,
   "metadata": {},
   "outputs": [
    {
     "name": "stdout",
     "output_type": "stream",
     "text": [
      "Title/Description: Creating a New Lesson with a Unique Name\n",
      "\n",
      "Test Objective: To verify that the Administrator can successfully create a new lesson with a unique name in the system.\n",
      "\n",
      "Preconditions: \n",
      "- Administrator must be logged into the application.\n",
      "- Administrator is allowed to add new lessons.\n",
      "\n",
      "Test Steps:\n",
      "1. Log in as an Administrator.\n",
      "2. Press the tab \"Lesson Management\" on the navbar.\n",
      "3. From the dropdown menu, select \"Add new Lesson\".\n",
      "4. Verify that the system redirects to the \"Add new Lesson\" page.\n",
      "5. In the name field, add a unique name for the lesson.\n",
      "6. In the description field, add a description for the lesson.\n",
      "7. Select \"Save\" to create the new lesson.\n",
      "\n",
      "Expected Results:\n",
      "- After step 3, the system should display the \"Add new Lesson\" page.\n",
      "- After step 7, the system should display a notification or message confirming the successful creation of the new lesson.\n",
      "- The system redirects the Administrator to the adding topic to the new lesson section.\n",
      "- The new lesson should appear in the lesson list, confirming that it has been successfully added to the system.\n"
     ]
    }
   ],
   "source": [
    "promptTestCase = [\n",
    "    { \"role\": \"system\", \"content\": SYSTEM_PROMPT_5},\n",
    "    { \"role\": \"user\", \"content\": testscenario+usecase}\n",
    "  ]\n",
    "gpt_response = ask(promptTestCase, client, model)\n",
    "print(gpt_response)"
   ]
  },
  {
   "cell_type": "code",
   "execution_count": 6,
   "metadata": {},
   "outputs": [
    {
     "name": "stdout",
     "output_type": "stream",
     "text": [
      "Title/Description: Creating a New Lesson with a Unique Name\n",
      "\n",
      "Test Objective: To verify that the Administrator can successfully create a new lesson with a unique name in the system.\n",
      "\n",
      "Preconditions: \n",
      "- Administrator must be logged into the application.\n",
      "- Administrator is allowed to add new lessons.\n",
      "\n",
      "Test Steps:\n",
      "1. Log in as an Administrator.\n",
      "2. Press the tab \"Lesson Management\" on the navbar.\n",
      "3. Select \"Add new Lesson\" from the dropdown menu.\n",
      "4. Verify that the system redirects to the \"Add new Lesson\" page.\n",
      "5. Enter a unique name in the name field.\n",
      "6. Enter a description for the lesson in the description field.\n",
      "7. Select \"Save\" to create the new lesson.\n",
      "\n",
      "Expected Results:\n",
      "- After step 3, the \"Add new Lesson\" page should be displayed.\n",
      "- After step 7, the system should display a confirmation message indicating that the new lesson has been successfully created.\n",
      "- The system redirects the Administrator to the adding topic to the new lesson section.\n",
      "- The new lesson should appear in the lesson list.\n"
     ]
    }
   ],
   "source": [
    "promptTestCase = [\n",
    "    { \"role\": \"system\", \"content\": SYSTEM_PROMPT_5},\n",
    "    { \"role\": \"user\", \"content\": testscenario+usecase}\n",
    "  ]\n",
    "gpt_response = ask(promptTestCase, client, model)\n",
    "print(gpt_response)"
   ]
  },
  {
   "cell_type": "code",
   "execution_count": 7,
   "metadata": {},
   "outputs": [
    {
     "name": "stdout",
     "output_type": "stream",
     "text": [
      "Title/Description: Creating a New Lesson with a Unique Name\n",
      "\n",
      "Test Objective: To verify that an administrator can successfully create a new lesson with a unique name in the system.\n",
      "\n",
      "Preconditions: \n",
      "- Administrator must be logged into the application.\n",
      "- Administrator is allowed to add a new lesson.\n",
      "\n",
      "Test Steps:\n",
      "1. Log in as an administrator.\n",
      "2. Press the tab \"Lesson Management\" on the navbar.\n",
      "3. From the dropdown menu, select \"Add new Lesson\".\n",
      "4. Verify that the system redirects to the \"Add new Lesson\" page.\n",
      "5. In the name field, add a unique name for the lesson.\n",
      "6. In the description field, add a description for the lesson.\n",
      "7. Select \"Save\" to create the new lesson.\n",
      "\n",
      "Expected Results:\n",
      "- After step 3, the system should display the \"Add new Lesson\" page.\n",
      "- After step 7, the system should show a confirmation message that the new lesson has been created.\n",
      "- The system redirects the Administrator to the adding topic to the new lesson section.\n",
      "- The new lesson should appear in the lesson list.\n"
     ]
    }
   ],
   "source": [
    "promptTestCase = [\n",
    "    { \"role\": \"system\", \"content\": SYSTEM_PROMPT_5},\n",
    "    { \"role\": \"user\", \"content\": testscenario+usecase}\n",
    "  ]\n",
    "gpt_response = ask(promptTestCase, client, model)\n",
    "print(gpt_response)"
   ]
  }
 ],
 "metadata": {
  "kernelspec": {
   "display_name": "base",
   "language": "python",
   "name": "python3"
  },
  "language_info": {
   "codemirror_mode": {
    "name": "ipython",
    "version": 3
   },
   "file_extension": ".py",
   "mimetype": "text/x-python",
   "name": "python",
   "nbconvert_exporter": "python",
   "pygments_lexer": "ipython3",
   "version": "3.10.9"
  }
 },
 "nbformat": 4,
 "nbformat_minor": 2
}
