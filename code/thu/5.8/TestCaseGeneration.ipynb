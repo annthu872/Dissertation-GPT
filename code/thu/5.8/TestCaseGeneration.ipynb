{
 "cells": [
  {
   "cell_type": "code",
   "execution_count": 29,
   "metadata": {},
   "outputs": [],
   "source": [
    "from openai import OpenAI\n",
    "import json\n",
    "import os\n",
    "\n",
    "GPT_MODEL_4 = \"gpt-4-0125-preview\"\n",
    "OPEN_API_KEY = os.getenv(\"OPENAI_API_KEY\")\n",
    "\n",
    "client = OpenAI()\n",
    "model = GPT_MODEL_4\n",
    "\n",
    "def ask(prompt, client, model, temperature = 0):\n",
    "    response = None\n",
    "    \n",
    "    response = client.chat.completions.create(\n",
    "      model=model,\n",
    "      messages=prompt,\n",
    "      temperature=temperature,\n",
    "    )\n",
    "\n",
    "    return response.choices[0].message.content"
   ]
  },
  {
   "cell_type": "code",
   "execution_count": 30,
   "metadata": {},
   "outputs": [],
   "source": [
    "SYSTEM_PROMPT_5=\"\"\"\n",
    "I want you to act as a software tester.\n",
    "Given a test scenario and the corresponding use case specification.\n",
    "Generating test case to test the given test scenario follow the given use case specification description.\n",
    "When generating test case:\n",
    "- Optional test steps can be skipped if they are not required to be tested from the test scenario description.\n",
    "- If the step interacts with the value selection element, if the element has a default value, skip that step, otherwise, choose any value for that step.\n",
    "The generated test case must follow the following template: \n",
    "\n",
    "Title/Description: {A concise description of the purpose of the test case based on the given test scenario.}\n",
    "Test Objective: {The specific goal or objective of the test.}\n",
    "Preconditions: {Any necessary conditions that must be met before the test is executed which is mentioned in the use case specification.}\n",
    "Test Steps: {A step-by-step sequence of actions to perform during the test follow the step declared in the use case }\n",
    "Expected Results: {The anticipated outcomes or behaviors after executing the given test scenario}\n",
    "\n",
    "\"\"\"\n",
    "\n",
    "# Also, generate a test case includes test steps based on those information to cover the test scenario.\n",
    "# Rules for generating test case:\n",
    "# - If that test case needs login as a specific role to proceed, do not put login at step 1. Instead, put the login as that specific role in the pre condition.\n",
    "# - If in the use case specification do not describe how to go to the page to do the test case, do not put it in the step. Instead, tell the tester that they need to be in that page in the pre condition.\n",
    "# - If there are navigation steps in the use case specification, keep it. Do not put it in the precondition or combine it with other steps.\n",
    "# - If the test case need to be repeated to test with different order, data or case, seperate them to be distinct test cases.\n",
    "# - Generate only test cases that the test scenario's name mentioned. Do not try to cover everything in the use case specification if the test scenario's name does not describe it. \n",
    "# - Write the test step clearly, do not write something like \"Follow steps from the main flow\".\n",
    "# - If the scenario is about testing the displation and there is no flow directly cover that scenario, use only the basic (or main) flow to test it."
   ]
  },
  {
   "cell_type": "code",
   "execution_count": 31,
   "metadata": {},
   "outputs": [],
   "source": [
    "testscenario = \"\"\"Test scenario: \n",
    "Create board with Visibility value 'Public'\n",
    "\"\"\""
   ]
  },
  {
   "cell_type": "code",
   "execution_count": 32,
   "metadata": {},
   "outputs": [],
   "source": [
    "usecase=\"\"\"    Use case specification: \n",
    "use case name: create a workspace\n",
    "precondition: user has been logged in.\n",
    "main flow: \n",
    "Step 1: User click button 'Create' on the navbar.\n",
    "Step 2: system show up drop down with options: Create board, start with a template, create workspace.\n",
    "Step 3: user click create workspace.\n",
    "Step 4: System open a diaglog 'Build a workspace' with text field 'Workspace name', combo box 'Workspace type' with options: Operations, Human Resources, Engineering, Marketing, Small Bussiness, Sales, Education, Other and text field 'Workspace description'. 'Workspace name' and 'Workspace type' are complusary and 'Workspace description' is optional. The button 'Continue' is disable.\n",
    "Step 5: User input 'Workspace name' is the name of user's company, team or orgainization. \n",
    "Step 5: User select values for 'Workspace type'.\n",
    "Step 6: The button 'Continue' is clickable.\n",
    "Step 7: User input 'Workspace description'.\n",
    "Step 8: User click button 'Continue'.\n",
    "Step 9: System open 'Invite' dialog with text field 'Workspace members', button 'copy link', button 'Invite' with is disable and button 'Do it later'. a valid 'Workspace members' is a name of application's user or is an email. The 'Workspace members' can only invite up to 9 member.\n",
    "Step 10: User click button 'Do it later' to create Workspace without inviting anyone.\n",
    "Step 11: New workspace is created and system redirect user to that new workspace page.\n",
    "\n",
    "Alternative flow:\n",
    "Alternative flow 1: User skip 'Workspace description',\n",
    "At step 7 of the basic flow: User skip the 'Workspace description' field.\n",
    "\n",
    "Alternative flow 2: User invite member by their username.\n",
    "At step 10 of the basic flow: User enter a valid username of application.\n",
    "Step 11: button 'Invite' is clickable.\n",
    "Step 12: User click button 'Invite'.\n",
    "Step 13: New workspace is created and system redirect user to that new workspace page.\n",
    "\n",
    "Alternative flow 3: User invite member by link.\n",
    "At step 10 of the basic flow: User click button 'copy link' .\n",
    "Step 11: The link is copied into clipboard.\n",
    "Step 12: User sent link to one another person on other social media.\n",
    "Step 13: User click button 'Invite'.\n",
    "\n",
    "Alternative flow 4: User invite member by their email.\n",
    "At step 10 of the basic flow: User enter a valid email.\n",
    "Step 11: button 'Invite' is clickable.\n",
    "Step 12: User click button 'Invite'.\n",
    "Step 13:New workspace is created and system redirect user to that new workspace page.\n",
    "\n",
    "\n",
    "Exception flow:\n",
    "Exception flow 1: User invite more than 9 member to \"Workspace members\".\n",
    "At step 10 of the basic flow: User enter 9 valid username/email/member of application to \"Workspace members\".\n",
    "Step 11: System sent notification that can not invite more people.\n",
    "\n",
    "\n",
    "Postcondition: New workspace is created and system redirect user to that new workspace page.\n",
    "\"\"\""
   ]
  },
  {
   "cell_type": "code",
   "execution_count": 33,
   "metadata": {},
   "outputs": [
    {
     "name": "stdout",
     "output_type": "stream",
     "text": [
      "Title/Description: Create a Public Workspace without Inviting Members\n",
      "\n",
      "Test Objective: To verify that a user can successfully create a public workspace without inviting any members.\n",
      "\n",
      "Preconditions: User has been logged in.\n",
      "\n",
      "Test Steps:\n",
      "1. Click the 'Create' button on the navbar.\n",
      "2. From the dropdown, click 'Create workspace'.\n",
      "3. In the 'Build a workspace' dialog, enter a valid 'Workspace name'.\n",
      "4. From the 'Workspace type' combo box, select 'Public'.\n",
      "5. Verify that the 'Continue' button becomes clickable.\n",
      "6. (Optional) Enter a description in the 'Workspace description' field.\n",
      "7. Click the 'Continue' button.\n",
      "8. In the 'Invite' dialog, click the 'Do it later' button.\n",
      "\n",
      "Expected Results: \n",
      "- The system should create the new workspace and redirect the user to the new workspace page without inviting any members.\n",
      "- The workspace should be set with the Visibility value 'Public'.\n"
     ]
    }
   ],
   "source": [
    "promptTestCase = [\n",
    "    { \"role\": \"system\", \"content\": SYSTEM_PROMPT_5},\n",
    "    { \"role\": \"user\", \"content\": testscenario+usecase}\n",
    "  ]\n",
    "gpt_response = ask(promptTestCase, client, model)\n",
    "print(gpt_response)"
   ]
  },
  {
   "cell_type": "code",
   "execution_count": 34,
   "metadata": {},
   "outputs": [
    {
     "name": "stdout",
     "output_type": "stream",
     "text": [
      "Title/Description: Create a Public Workspace without Inviting Members\n",
      "\n",
      "Test Objective: To verify that a user can successfully create a public workspace without inviting any members.\n",
      "\n",
      "Preconditions: User has been logged in.\n",
      "\n",
      "Test Steps:\n",
      "1. Click the 'Create' button on the navbar.\n",
      "2. From the dropdown, click 'Create workspace'.\n",
      "3. In the 'Build a workspace' dialog, enter a valid 'Workspace name'.\n",
      "4. From the 'Workspace type' combo box, select 'Public' (assuming 'Public' is an option, if not, select any available option as the scenario specifies creating a board with Visibility value 'Public', but the use case does not include this step directly).\n",
      "5. Verify the 'Continue' button becomes clickable.\n",
      "6. Click the 'Continue' button.\n",
      "7. In the 'Invite' dialog, click the 'Do it later' button.\n",
      "\n",
      "Expected Results: The system should create the new workspace and redirect the user to the new workspace page without inviting any members.\n"
     ]
    }
   ],
   "source": [
    "promptTestCase = [\n",
    "    { \"role\": \"system\", \"content\": SYSTEM_PROMPT_5},\n",
    "    { \"role\": \"user\", \"content\": testscenario+usecase}\n",
    "  ]\n",
    "gpt_response = ask(promptTestCase, client, model)\n",
    "print(gpt_response)"
   ]
  },
  {
   "cell_type": "code",
   "execution_count": 35,
   "metadata": {},
   "outputs": [
    {
     "name": "stdout",
     "output_type": "stream",
     "text": [
      "Title/Description: Create a Public Workspace without Inviting Members\n",
      "\n",
      "Test Objective: To verify that a user can successfully create a public workspace without inviting any members.\n",
      "\n",
      "Preconditions: User has been logged in.\n",
      "\n",
      "Test Steps:\n",
      "1. Click the 'Create' button on the navbar.\n",
      "2. From the dropdown, click 'Create workspace'.\n",
      "3. In the 'Build a workspace' dialog, enter a valid 'Workspace name'.\n",
      "4. From the 'Workspace type' combo box, select 'Public' (assuming 'Public' is an option, if not, select any available type as the scenario specifies creating a board with Visibility value 'Public', but the use case does not include this step directly).\n",
      "5. Verify the 'Continue' button becomes clickable.\n",
      "6. (Optional) Enter a description in the 'Workspace description' text field.\n",
      "7. Click the 'Continue' button.\n",
      "8. In the 'Invite' dialog, click the 'Do it later' button.\n",
      "\n",
      "Expected Results: A new public workspace is created without inviting any members, and the system redirects the user to the new workspace page.\n"
     ]
    }
   ],
   "source": [
    "promptTestCase = [\n",
    "    { \"role\": \"system\", \"content\": SYSTEM_PROMPT_5},\n",
    "    { \"role\": \"user\", \"content\": testscenario+usecase}\n",
    "  ]\n",
    "gpt_response = ask(promptTestCase, client, model)\n",
    "print(gpt_response)"
   ]
  }
 ],
 "metadata": {
  "kernelspec": {
   "display_name": "base",
   "language": "python",
   "name": "python3"
  },
  "language_info": {
   "codemirror_mode": {
    "name": "ipython",
    "version": 3
   },
   "file_extension": ".py",
   "mimetype": "text/x-python",
   "name": "python",
   "nbconvert_exporter": "python",
   "pygments_lexer": "ipython3",
   "version": "3.10.9"
  }
 },
 "nbformat": 4,
 "nbformat_minor": 2
}
