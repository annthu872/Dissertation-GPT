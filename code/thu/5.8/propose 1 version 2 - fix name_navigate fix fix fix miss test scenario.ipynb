{
 "cells": [
  {
   "cell_type": "code",
   "execution_count": 193,
   "metadata": {},
   "outputs": [],
   "source": [
    "from openai import OpenAI\n",
    "import json\n",
    "import os\n",
    "\n",
    "GPT_MODEL_3_5 = \"gpt-3.5-turbo-1106\"\n",
    "GPT_MODEL_4 = \"gpt-4-0125-preview\"\n",
    "\n",
    "OPEN_API_KEY = os.getenv(\"OPENAI_API_KEY\")\n",
    "\n",
    "client = OpenAI()\n",
    "model = GPT_MODEL_4\n",
    "\n",
    "def ask(prompt, client, model, temperature = 0):\n",
    "    response = None\n",
    "\n",
    "    response = client.chat.completions.create(\n",
    "      model=model,\n",
    "      messages=prompt,\n",
    "      temperature=temperature,\n",
    "      response_format={ \"type\": \"json_object\" },\n",
    "    )\n",
    "\n",
    "    return (response.choices[0].message.content)\n",
    "\n",
    "no_condition  = False\n",
    "no_non_condition_flow = False\n",
    "filter_flow = []\n",
    "\n",
    "default_flow = \"Basic flow\"\n"
   ]
  },
  {
   "cell_type": "code",
   "execution_count": 194,
   "metadata": {},
   "outputs": [],
   "source": [
    "def read_file_into_string(file_path):\n",
    "    encodings = ['utf-8', 'latin-1', 'utf-16', 'cp1252']\n",
    "    \n",
    "    for encoding in encodings:\n",
    "        try:\n",
    "            with open(file_path, 'r', encoding=encoding) as file:\n",
    "                file_content = file.read()\n",
    "            return file_content\n",
    "        except UnicodeDecodeError:\n",
    "            print(f\"Failed to decode using {encoding} encoding.\")\n",
    "            continue\n",
    "        except FileNotFoundError:\n",
    "            print(f\"File '{file_path}' not found.\")\n",
    "            return None\n",
    "        except Exception as e:\n",
    "            print(f\"Error reading file: {e}\")\n",
    "            return None\n",
    "    \n",
    "    print(\"All tried encodings failed. Unable to read the file.\")\n",
    "    return None"
   ]
  },
  {
   "cell_type": "code",
   "execution_count": 195,
   "metadata": {},
   "outputs": [],
   "source": [
    "def write_to_file(filename, s):\n",
    "    try:\n",
    "        with open(filename, 'w') as file:\n",
    "            file.write(s)\n",
    "        print(\"Content has been written to\", filename)\n",
    "    except Exception as e:\n",
    "        print(\"An error occurred:\", e)"
   ]
  },
  {
   "cell_type": "code",
   "execution_count": 196,
   "metadata": {},
   "outputs": [],
   "source": [
    "file_path_list = [\n",
    "r'D:\\GPT-testing\\SpecificationData\\Adventura\\Adventura - Filter.txt',\n",
    "r'D:\\GPT-testing\\SpecificationData\\Adventura\\Adventura - view attraction.txt',\n",
    "r'D:\\GPT-testing\\SpecificationData\\Adventura\\Adventura- Search Attraction.txt',\n",
    "r'D:\\GPT-testing\\SpecificationData\\Book(Github)\\Add a new author.txt',\n",
    "r'D:\\GPT-testing\\SpecificationData\\Book(Github)\\Add a new book.txt',\n",
    "r'D:\\GPT-testing\\SpecificationData\\Book(Github)\\Add a new genre.txt',\n",
    "r'D:\\GPT-testing\\SpecificationData\\Book(Github)\\Display author details.txt',\n",
    "r'D:\\GPT-testing\\SpecificationData\\Book(Github)\\Display book details.txt',\n",
    "r'D:\\GPT-testing\\SpecificationData\\Book(Github)\\Display genre details.txt',\n",
    "r'D:\\GPT-testing\\SpecificationData\\Book(Github)\\Display the list of authors.txt',\n",
    "r'D:\\GPT-testing\\SpecificationData\\Book(Github)\\Display the list of books.txt',\n",
    "r'D:\\GPT-testing\\SpecificationData\\Book(Github)\\Display the list of genres.txt',\n",
    "r'D:\\GPT-testing\\SpecificationData\\Book(Github)\\Edit the author.txt',\n",
    "r'D:\\GPT-testing\\SpecificationData\\Book(Github)\\Edit the book.txt',\n",
    "r'D:\\GPT-testing\\SpecificationData\\Book(Github)\\Edit the genre.txt',\n",
    "r'D:\\GPT-testing\\SpecificationData\\Book(Github)\\Remove the author.txt',\n",
    "r'D:\\GPT-testing\\SpecificationData\\Book(Github)\\Remove the book.txt',\n",
    "r'D:\\GPT-testing\\SpecificationData\\Book(Github)\\Remove the genre.txt',\n",
    "r'D:\\GPT-testing\\SpecificationData\\Film\\Add a comment.txt',\n",
    "r'D:\\GPT-testing\\SpecificationData\\Film\\Watch a film.txt',\n",
    "r'D:\\GPT-testing\\SpecificationData\\Hotel Management System\\Add Booking.txt',\n",
    "r'D:\\GPT-testing\\SpecificationData\\Hotel Management System\\Add Employee.txt',\n",
    "r'D:\\GPT-testing\\SpecificationData\\Hotel Management System\\Add Room.txt',\n",
    "r'D:\\GPT-testing\\SpecificationData\\Hotel Management System\\Check in.txt',\n",
    "r'D:\\GPT-testing\\SpecificationData\\Hotel Management System\\Check out.txt',\n",
    "r'D:\\GPT-testing\\SpecificationData\\Hotel Management System\\Hotel Owner - Generate Reports.txt',\n",
    "r'D:\\GPT-testing\\SpecificationData\\Hotel Management System\\Hotel Owner - Update Hotel Information.txt',\n",
    "r'D:\\GPT-testing\\SpecificationData\\Hotel Management System\\login.txt',\n",
    "r'D:\\GPT-testing\\SpecificationData\\Hotel Management System\\Request Service.txt',\n",
    "r'D:\\GPT-testing\\SpecificationData\\Hotel Management System\\Update Booking.txt',\n",
    "r'D:\\GPT-testing\\SpecificationData\\Hotel Management System\\Update Employee.txt',\n",
    "r'D:\\GPT-testing\\SpecificationData\\Hotel Management System\\Update Room.txt',\n",
    "r'D:\\GPT-testing\\SpecificationData\\LNLibrary\\Bookmark.txt',\n",
    "r'D:\\GPT-testing\\SpecificationData\\LNLibrary\\Rating a book.txt',\n",
    "r'D:\\GPT-testing\\SpecificationData\\LNLibrary\\Read a chapter.txt',\n",
    "r'D:\\GPT-testing\\SpecificationData\\MatchaEnglishWebsite\\AddQuestion .txt',\n",
    "r'D:\\GPT-testing\\SpecificationData\\MatchaEnglishWebsite\\Flashcard.txt',\n",
    "r'D:\\GPT-testing\\SpecificationData\\MatchaEnglishWebsite\\Handbook.txt',\n",
    "r'D:\\GPT-testing\\SpecificationData\\MatchaEnglishWebsite\\Login.txt',\n",
    "r'D:\\GPT-testing\\SpecificationData\\MatchaEnglishWebsite\\Registry.txt',\n",
    "r'D:\\GPT-testing\\SpecificationData\\MatchaEnglishWebsite\\Review test.txt',\n",
    "r'D:\\GPT-testing\\SpecificationData\\OnlineShoppingSystem\\Add or remove item.txt',\n",
    "r'D:\\GPT-testing\\SpecificationData\\OnlineShoppingSystem\\Buy Items.txt',\n",
    "r'D:\\GPT-testing\\SpecificationData\\OnlineShoppingSystem\\Feedback.txt',\n",
    "r'D:\\GPT-testing\\SpecificationData\\OnlineShoppingSystem\\Login.txt',\n",
    "r'D:\\GPT-testing\\SpecificationData\\OnlineShoppingSystem\\Pay Bill.txt',\n",
    "r'D:\\GPT-testing\\SpecificationData\\OnlineShoppingSystem\\Prepare Bill.txt',\n",
    "r'D:\\GPT-testing\\SpecificationData\\OnlineShoppingSystem\\Register Customer.txt',\n",
    "r'D:\\GPT-testing\\SpecificationData\\OnlineShoppingSystem\\Search items.txt',\n",
    "r'D:\\GPT-testing\\SpecificationData\\OnlineShoppingSystem\\Validate Customer.txt',\n",
    "r'D:\\GPT-testing\\SpecificationData\\ShopeeWeb\\Add a type of product into cart.txt',\n",
    "r'D:\\GPT-testing\\SpecificationData\\ShopeeWeb\\Buy product.txt',\n",
    "r'D:\\GPT-testing\\SpecificationData\\ShopeeWeb\\Edit personal shopping cart.txt',\n",
    "r'D:\\GPT-testing\\SpecificationData\\ShopeeWeb\\Rating a product.txt',\n",
    "r'D:\\GPT-testing\\SpecificationData\\ShopeeWeb\\Search feature.txt',\n",
    "r\"D:\\GPT-testing\\SpecificationData\\ShopeeWeb\\Track order's status.txt\",\n",
    "r\"D:\\GPT-testing\\SpecificationData\\ShopeeWeb\\View detail information of a product.txt\",\n",
    "r\"D:\\GPT-testing\\SpecificationData\\Trello\\create workspace.txt\",\n",
    "r\"D:\\GPT-testing\\SpecificationData\\Trello\\login.txt\",\n",
    "r\"D:\\GPT-testing\\SpecificationData\\Trello\\create boards.txt\"\n",
    "]\n",
    "\n"
   ]
  },
  {
   "cell_type": "code",
   "execution_count": 197,
   "metadata": {},
   "outputs": [
    {
     "name": "stdout",
     "output_type": "stream",
     "text": [
      "D:\\GPT-testing\\SpecificationData\\ShopeeWeb\\Buy product.txt\n"
     ]
    }
   ],
   "source": [
    "file_path =r'D:\\GPT-testing\\SpecificationData\\ShopeeWeb\\Buy product.txt'\n",
    "print(file_path)"
   ]
  },
  {
   "cell_type": "code",
   "execution_count": 198,
   "metadata": {},
   "outputs": [
    {
     "name": "stdout",
     "output_type": "stream",
     "text": [
      "Use case: Buy product\n",
      "\n",
      "Objective: This use case helps user to buy product.\n",
      "Actor: Users\n",
      "\n",
      "Preconditions: User must have logged in to be able to access to buy product. User is in the shopping cart page.\n",
      "\n",
      "Main flow:\n",
      "Step 1: User choose what product they want to buy by clicking the tick box at the head of the product's block. \n",
      "Step 2: User clicks the buy button at the right bottom of the screen.\n",
      "Step 3: System redirects user to the payment page. There should be the default deliver location already chosen for the user in the delivery location section, the information section of the product including name, options, quantity, price, which shop sells it, promotion information, the shipping information section, the platform's promotion information section and the payment section with the default payment method.\n",
      "Step 4: User clicks the order button.\n",
      "Step 5: System removes the product from the shopping cart and forms a new order of that product.\n",
      "\n",
      "Alternative flow 1: User choose what store they want to buy from\n",
      "At step 1 of the basic flow: In case all the products they want to buy come from one store, user choose by clicking the tick box at the head of the store.\n",
      "Step 2: System automatically ticks all the product comes from that store in the user's shopping cart.\n",
      "Go back to step 2 in the basic flow and continue with the steps from step 2.\n",
      "\n",
      "Alternative flow 2: User change delivery location to one of the saved location\n",
      "At step 4 of the basic flow: User clicks on Change title in the delivery location section.\n",
      "Step 5: User choose other saved location options.\n",
      "Step 6: System changes the location information in the delivery location section corresponding to what user have chosen.\n",
      "Go back to step 4 in the basic flow and continue with the steps from step 4.\n",
      "\n",
      "Alternative flow 3: User change delivery location to a new location\n",
      "At step 4 of the basic flow: User clicks on Change title in the delivery location section.\n",
      "Step 5: User clicks Add new location button.\n",
      "Step 6: User fills in name, a correct name contains only letter and cannot be less than 2 letters. If user fills in wrong format, a notification will appears under the incorrect field and user cannot add location.\n",
      "Step 7: User fills in phone number, a correct phone number must be in format (+84) xxx xxx xxx with all the x is number. If user fills in wrong format, a notification will appears under the incorrect field and user cannot add location.\n",
      "Step 8: User chooses city by clicking one of the cities provided by the platform.\n",
      "Step 9: User chooses district by clicking one of the districts provided by the platform.\n",
      "Step 10: User chooses ward by clicking one of the wards provided by the platform.\n",
      "Step 11: User fills in the exact location's address. A correct address must be an address available on the map provided by platform, if it cannot be found in the map, a notification will appears under the incorrect field and user cannot add location.\n",
      "Step 12: User choose between two options if the location is their own house or their working place.\n",
      "Step 13: User clicks on Finish button to save the location.\n",
      "Step 14: System changes the location information in the delivery location section corresponding to what user have chosen.\n",
      "Go back to step 4 in the basic flow and continue with the steps from step 4.\n",
      "\n",
      "Alternative flow 4: User adds shop or product's promotion\n",
      "At step 4 of the basic flow: User clicks on Choose voucher in the product's information section.\n",
      "Step 5: System shows a list of available vouchers.\n",
      "Step 6: User chooses one of the available vouchers by clicking on it.\n",
      "Step 7: System applies the voucher and recalculate the product's price.\n",
      "Go back to step 4 in the basic flow and continue with the steps from step 4.\n",
      "\n",
      "Alternative flow 5: User adds platform's promotion\n",
      "At step 4 of the basic flow: User clicks on Choose voucher in the platform's promotion information section.\n",
      "Step 5: System shows a list of available vouchers.\n",
      "Step 6: User chooses one of the available vouchers by clicking on it.\n",
      "Step 7: System applies the voucher and recalculate the order's price.\n",
      "Go back to step 4 in the basic flow and continue with the steps from step 4.\n",
      "\n",
      "Alternative flow 6: User changes shipping option\n",
      "At step 4 of the basic flow: User clicks on Change title in the shipping information section.\n",
      "Step 5: System shows a list of available shipping options.\n",
      "Step 6: User chooses one of the available shipping options by clicking on it.\n",
      "Step 7: System changes shipping method and recalculate the order's price.\n",
      "Go back to step 4 in the basic flow and continue with the steps from step 4.\n",
      "\n",
      "Alternative flow 7: User changes payment method\n",
      "At step 4 of the basic flow: User clicks on Change title in the payment method section.\n",
      "Step 5: System shows a list of available payment methods.\n",
      "Step 6: User chooses one of the available payment methods by clicking on it.\n",
      "Step 7: System changes payment method.\n",
      "Go back to step 4 in the basic flow and continue with the steps from step 4.\n"
     ]
    }
   ],
   "source": [
    "usecase = \"Use case: \"+ read_file_into_string(file_path)\n",
    "if usecase is not None:\n",
    "    print(usecase)"
   ]
  },
  {
   "cell_type": "code",
   "execution_count": 199,
   "metadata": {},
   "outputs": [],
   "source": [
    "SYSTEM_PROMPT_extract_flow =\"\"\"\n",
    "Given use case specification flows.\n",
    "Extract all the contents of flows into json format.\n",
    "Ignore precondition, postcondition and other details.\n",
    "Return the flows in json format.\n",
    "{\n",
    "\"Flow name\":[ contents of corresponding flow],\n",
    "}\n",
    "For example: \n",
    "{\n",
    "  \"Main flow:\": [\n",
    "    \"Step 1: Learner fills in the username field by a valid username that has been registered\",\n",
    "    \"Step 2: Learner fills in the password field by the correct password for the corresponding username\",\n",
    "    \"Step 3: Learner press \\\"Login\\\" button\",\n",
    "    \"Step 4: System redirects learner to Home page\"\n",
    "  ],\n",
    "  \"Alternative flow 1: Login by email\": [\n",
    "    \"At step 1 of the basic flow: Learner fills in the username field by a valid email that has been registered\",\n",
    "    \"Step 2: Learner fills in the password field by the correct password for the corresponding email\",\n",
    "    \"Go back to step 3 in the basic flow and continue with the steps from step 3\"\n",
    "  ]\n",
    "}\n",
    "\"\"\""
   ]
  },
  {
   "cell_type": "code",
   "execution_count": 200,
   "metadata": {},
   "outputs": [
    {
     "name": "stdout",
     "output_type": "stream",
     "text": [
      "{\n",
      "  \"Main flow\": [\n",
      "    \"Step 1: User choose what product they want to buy by clicking the tick box at the head of the product's block.\",\n",
      "    \"Step 2: User clicks the buy button at the right bottom of the screen.\",\n",
      "    \"Step 3: System redirects user to the payment page. There should be the default deliver location already chosen for the user in the delivery location section, the information section of the product including name, options, quantity, price, which shop sells it, promotion information, the shipping information section, the platform's promotion information section and the payment section with the default payment method.\",\n",
      "    \"Step 4: User clicks the order button.\",\n",
      "    \"Step 5: System removes the product from the shopping cart and forms a new order of that product.\"\n",
      "  ],\n",
      "  \"Alternative flow 1: User choose what store they want to buy from\": [\n",
      "    \"At step 1 of the basic flow: In case all the products they want to buy come from one store, user choose by clicking the tick box at the head of the store.\",\n",
      "    \"Step 2: System automatically ticks all the product comes from that store in the user's shopping cart.\",\n",
      "    \"Go back to step 2 in the basic flow and continue with the steps from step 2.\"\n",
      "  ],\n",
      "  \"Alternative flow 2: User change delivery location to one of the saved location\": [\n",
      "    \"At step 4 of the basic flow: User clicks on Change title in the delivery location section.\",\n",
      "    \"Step 5: User choose other saved location options.\",\n",
      "    \"Step 6: System changes the location information in the delivery location section corresponding to what user have chosen.\",\n",
      "    \"Go back to step 4 in the basic flow and continue with the steps from step 4.\"\n",
      "  ],\n",
      "  \"Alternative flow 3: User change delivery location to a new location\": [\n",
      "    \"At step 4 of the basic flow: User clicks on Change title in the delivery location section.\",\n",
      "    \"Step 5: User clicks Add new location button.\",\n",
      "    \"Step 6: User fills in name, a correct name contains only letter and cannot be less than 2 letters. If user fills in wrong format, a notification will appears under the incorrect field and user cannot add location.\",\n",
      "    \"Step 7: User fills in phone number, a correct phone number must be in format (+84) xxx xxx xxx with all the x is number. If user fills in wrong format, a notification will appears under the incorrect field and user cannot add location.\",\n",
      "    \"Step 8: User chooses city by clicking one of the cities provided by the platform.\",\n",
      "    \"Step 9: User chooses district by clicking one of the districts provided by the platform.\",\n",
      "    \"Step 10: User chooses ward by clicking one of the wards provided by the platform.\",\n",
      "    \"Step 11: User fills in the exact location's address. A correct address must be an address available on the map provided by platform, if it cannot be found in the map, a notification will appears under the incorrect field and user cannot add location.\",\n",
      "    \"Step 12: User choose between two options if the location is their own house or their working place.\",\n",
      "    \"Step 13: User clicks on Finish button to save the location.\",\n",
      "    \"Step 14: System changes the location information in the delivery location section corresponding to what user have chosen.\",\n",
      "    \"Go back to step 4 in the basic flow and continue with the steps from step 4.\"\n",
      "  ],\n",
      "  \"Alternative flow 4: User adds shop or product's promotion\": [\n",
      "    \"At step 4 of the basic flow: User clicks on Choose voucher in the product's information section.\",\n",
      "    \"Step 5: System shows a list of available vouchers.\",\n",
      "    \"Step 6: User chooses one of the available vouchers by clicking on it.\",\n",
      "    \"Step 7: System applies the voucher and recalculate the product's price.\",\n",
      "    \"Go back to step 4 in the basic flow and continue with the steps from step 4.\"\n",
      "  ],\n",
      "  \"Alternative flow 5: User adds platform's promotion\": [\n",
      "    \"At step 4 of the basic flow: User clicks on Choose voucher in the platform's promotion information section.\",\n",
      "    \"Step 5: System shows a list of available vouchers.\",\n",
      "    \"Step 6: User chooses one of the available vouchers by clicking on it.\",\n",
      "    \"Step 7: System applies the voucher and recalculate the order's price.\",\n",
      "    \"Go back to step 4 in the basic flow and continue with the steps from step 4.\"\n",
      "  ],\n",
      "  \"Alternative flow 6: User changes shipping option\": [\n",
      "    \"At step 4 of the basic flow: User clicks on Change title in the shipping information section.\",\n",
      "    \"Step 5: System shows a list of available shipping options.\",\n",
      "    \"Step 6: User chooses one of the available shipping options by clicking on it.\",\n",
      "    \"Step 7: System changes shipping method and recalculate the order's price.\",\n",
      "    \"Go back to step 4 in the basic flow and continue with the steps from step 4.\"\n",
      "  ],\n",
      "  \"Alternative flow 7: User changes payment method\": [\n",
      "    \"At step 4 of the basic flow: User clicks on Change title in the payment method section.\",\n",
      "    \"Step 5: System shows a list of available payment methods.\",\n",
      "    \"Step 6: User chooses one of the available payment methods by clicking on it.\",\n",
      "    \"Step 7: System changes payment method.\",\n",
      "    \"Go back to step 4 in the basic flow and continue with the steps from step 4.\"\n",
      "  ]\n",
      "}\n"
     ]
    }
   ],
   "source": [
    "promptExtractCondtition = [\n",
    "    { \"role\": \"system\", \"content\": SYSTEM_PROMPT_extract_flow},\n",
    "    { \"role\": \"user\", \"content\": usecase}\n",
    "]\n",
    "\n",
    "gpt_response = ask(promptExtractCondtition, client, model)\n",
    "print(gpt_response)\n",
    "usecase_flow = json.loads(gpt_response)\n",
    "flows_name = [key for key in usecase_flow]\n",
    "\n",
    "# usecase_temp = \n",
    "# flows_name = [\"Basic Flow\",\"Alternative flow 1\",\"Alternative flow 2\",\"Alternative flow 3\",\"Alternative flow 4\",\"Alternative flow 5\",\"Alternative flow 6\",\"Alternative flow 7\",\"Alternative flow \" ]\n",
    "# usecase_flow = json.loads(usecase_temp)\n"
   ]
  },
  {
   "cell_type": "code",
   "execution_count": 201,
   "metadata": {},
   "outputs": [
    {
     "name": "stdout",
     "output_type": "stream",
     "text": [
      "Main flow\n"
     ]
    }
   ],
   "source": [
    "for flow_name in flows_name:\n",
    "    if 'Basic' in flow_name:\n",
    "        default_flow = flow_name\n",
    "    if 'Main' in flow_name:\n",
    "        default_flow = flow_name\n",
    "\n",
    "print(default_flow)"
   ]
  },
  {
   "cell_type": "code",
   "execution_count": 202,
   "metadata": {},
   "outputs": [],
   "source": [
    "SYSTEM_PROMPT_extract_condition =\"\"\"\n",
    "Given use case flows of a feature.\n",
    "Your task is to identify all the interactive elements within the application. \n",
    "For each interactive element:\n",
    "Identify what type of that element (button,icon,scroll,text field,radio buttons,menu,menu for navigation,menu for opening dialog or another menu,menu for filter,option,sliders,switches,dialog,link,form,rating, filter).\n",
    "If element is used to input or enter data, then determine all the condition of that element which to make make the element valid and the conditions that would make the element invalid base on the description of the use case flow. Do not arbitrarily create additional conditions that not mention in the use case flow.\n",
    "If element is used to select a value, then determine all the value of the element. Do not determine any values that haven't already been mentioned in the use case.\n",
    "\n",
    "Try not to generate duplicate element with the same value. \n",
    "Return the element extracted in json format.\n",
    "The JSON format should follow the following structure:\n",
    "{\"Name of interactive element\": {\"condition\": \"condition of that element\", \"value\": \"value of that element\", \"type\": \"element type\"}}\n",
    "Examples of output json format template: \n",
    "{\"Username\": {\"condition\": {\"valid\": \"must be over 8 characters and below 30 characters\", \"invalid\": \"below 8 characters or over 30 character\"}, \"value\": [], \"type\": \"text field\"}}\n",
    "{\"Search button\": {\"condition\": {\"valid\": \"\", \"invalid\": \"\"}, \"value\": [], \"type\": \"button\"}}\n",
    "\"\"\"\n",
    "\n",
    "#có nên đổi cái code lọc fliter_data không????"
   ]
  },
  {
   "cell_type": "code",
   "execution_count": 203,
   "metadata": {},
   "outputs": [
    {
     "name": "stdout",
     "output_type": "stream",
     "text": [
      "{\n",
      "  \"Product tick box\": {\n",
      "    \"condition\": {\n",
      "      \"valid\": \"\",\n",
      "      \"invalid\": \"\"\n",
      "    },\n",
      "    \"value\": [],\n",
      "    \"type\": \"checkbox\"\n",
      "  },\n",
      "  \"Buy button\": {\n",
      "    \"condition\": {\n",
      "      \"valid\": \"\",\n",
      "      \"invalid\": \"\"\n",
      "    },\n",
      "    \"value\": [],\n",
      "    \"type\": \"button\"\n",
      "  },\n",
      "  \"Order button\": {\n",
      "    \"condition\": {\n",
      "      \"valid\": \"\",\n",
      "      \"invalid\": \"\"\n",
      "    },\n",
      "    \"value\": [],\n",
      "    \"type\": \"button\"\n",
      "  },\n",
      "  \"Store tick box\": {\n",
      "    \"condition\": {\n",
      "      \"valid\": \"\",\n",
      "      \"invalid\": \"\"\n",
      "    },\n",
      "    \"value\": [],\n",
      "    \"type\": \"checkbox\"\n",
      "  },\n",
      "  \"Change delivery location link\": {\n",
      "    \"condition\": {\n",
      "      \"valid\": \"\",\n",
      "      \"invalid\": \"\"\n",
      "    },\n",
      "    \"value\": [],\n",
      "    \"type\": \"link\"\n",
      "  },\n",
      "  \"Saved location options\": {\n",
      "    \"condition\": {\n",
      "      \"valid\": \"\",\n",
      "      \"invalid\": \"\"\n",
      "    },\n",
      "    \"value\": [],\n",
      "    \"type\": \"option\"\n",
      "  },\n",
      "  \"Add new location button\": {\n",
      "    \"condition\": {\n",
      "      \"valid\": \"\",\n",
      "      \"invalid\": \"\"\n",
      "    },\n",
      "    \"value\": [],\n",
      "    \"type\": \"button\"\n",
      "  },\n",
      "  \"Location name\": {\n",
      "    \"condition\": {\n",
      "      \"valid\": \"only letters and cannot be less than 2 letters\",\n",
      "      \"invalid\": \"contains non-letter characters or less than 2 letters\"\n",
      "    },\n",
      "    \"value\": [],\n",
      "    \"type\": \"text field\"\n",
      "  },\n",
      "  \"Phone number\": {\n",
      "    \"condition\": {\n",
      "      \"valid\": \"in format (+84) xxx xxx xxx with all x as number\",\n",
      "      \"invalid\": \"not in format (+84) xxx xxx xxx or contains non-number characters\"\n",
      "    },\n",
      "    \"value\": [],\n",
      "    \"type\": \"text field\"\n",
      "  },\n",
      "  \"City option\": {\n",
      "    \"condition\": {\n",
      "      \"valid\": \"\",\n",
      "      \"invalid\": \"\"\n",
      "    },\n",
      "    \"value\": [],\n",
      "    \"type\": \"option\"\n",
      "  },\n",
      "  \"District option\": {\n",
      "    \"condition\": {\n",
      "      \"valid\": \"\",\n",
      "      \"invalid\": \"\"\n",
      "    },\n",
      "    \"value\": [],\n",
      "    \"type\": \"option\"\n",
      "  },\n",
      "  \"Ward option\": {\n",
      "    \"condition\": {\n",
      "      \"valid\": \"\",\n",
      "      \"invalid\": \"\"\n",
      "    },\n",
      "    \"value\": [],\n",
      "    \"type\": \"option\"\n",
      "  },\n",
      "  \"Exact location address\": {\n",
      "    \"condition\": {\n",
      "      \"valid\": \"must be an address available on the map provided by platform\",\n",
      "      \"invalid\": \"cannot be found in the map\"\n",
      "    },\n",
      "    \"value\": [],\n",
      "    \"type\": \"text field\"\n",
      "  },\n",
      "  \"Location type\": {\n",
      "    \"condition\": {\n",
      "      \"valid\": \"\",\n",
      "      \"invalid\": \"\"\n",
      "    },\n",
      "    \"value\": [\"own house\", \"working place\"],\n",
      "    \"type\": \"option\"\n",
      "  },\n",
      "  \"Finish button\": {\n",
      "    \"condition\": {\n",
      "      \"valid\": \"\",\n",
      "      \"invalid\": \"\"\n",
      "    },\n",
      "    \"value\": [],\n",
      "    \"type\": \"button\"\n",
      "  },\n",
      "  \"Choose voucher link\": {\n",
      "    \"condition\": {\n",
      "      \"valid\": \"\",\n",
      "      \"invalid\": \"\"\n",
      "    },\n",
      "    \"value\": [],\n",
      "    \"type\": \"link\"\n",
      "  },\n",
      "  \"Voucher option\": {\n",
      "    \"condition\": {\n",
      "      \"valid\": \"\",\n",
      "      \"invalid\": \"\"\n",
      "    },\n",
      "    \"value\": [],\n",
      "    \"type\": \"option\"\n",
      "  },\n",
      "  \"Change shipping option link\": {\n",
      "    \"condition\": {\n",
      "      \"valid\": \"\",\n",
      "      \"invalid\": \"\"\n",
      "    },\n",
      "    \"value\": [],\n",
      "    \"type\": \"link\"\n",
      "  },\n",
      "  \"Shipping option\": {\n",
      "    \"condition\": {\n",
      "      \"valid\": \"\",\n",
      "      \"invalid\": \"\"\n",
      "    },\n",
      "    \"value\": [],\n",
      "    \"type\": \"option\"\n",
      "  },\n",
      "  \"Change payment method link\": {\n",
      "    \"condition\": {\n",
      "      \"valid\": \"\",\n",
      "      \"invalid\": \"\"\n",
      "    },\n",
      "    \"value\": [],\n",
      "    \"type\": \"link\"\n",
      "  },\n",
      "  \"Payment method option\": {\n",
      "    \"condition\": {\n",
      "      \"valid\": \"\",\n",
      "      \"invalid\": \"\"\n",
      "    },\n",
      "    \"value\": [],\n",
      "    \"type\": \"option\"\n",
      "  }\n",
      "}\n"
     ]
    }
   ],
   "source": [
    "promptExtractCondtition = [\n",
    "    { \"role\": \"system\", \"content\": SYSTEM_PROMPT_extract_condition},\n",
    "    { \"role\": \"user\", \"content\": str(usecase_flow) }\n",
    "  ]\n",
    "gpt_response = ask(promptExtractCondtition, client, model)\n",
    "print(gpt_response)\n",
    "full_elements = json.loads(gpt_response)"
   ]
  },
  {
   "cell_type": "code",
   "execution_count": 204,
   "metadata": {},
   "outputs": [],
   "source": [
    "filtered_data = {key: value for key, value in full_elements.items() if value['type'] \n",
    "                 not in ['dialog','button', 'tab', 'card','link','icon','scroll bar','scroll']}"
   ]
  },
  {
   "cell_type": "code",
   "execution_count": 205,
   "metadata": {},
   "outputs": [
    {
     "name": "stdout",
     "output_type": "stream",
     "text": [
      "Product tick box\n",
      "{'condition': {'valid': '', 'invalid': ''}, 'value': [], 'type': 'checkbox'}\n",
      "Store tick box\n",
      "{'condition': {'valid': '', 'invalid': ''}, 'value': [], 'type': 'checkbox'}\n",
      "Saved location options\n",
      "{'condition': {'valid': '', 'invalid': ''}, 'value': [], 'type': 'option'}\n",
      "Location name\n",
      "{'condition': {'valid': 'only letters and cannot be less than 2 letters', 'invalid': 'contains non-letter characters or less than 2 letters'}, 'value': [], 'type': 'text field'}\n",
      "Phone number\n",
      "{'condition': {'valid': 'in format (+84) xxx xxx xxx with all x as number', 'invalid': 'not in format (+84) xxx xxx xxx or contains non-number characters'}, 'value': [], 'type': 'text field'}\n",
      "City option\n",
      "{'condition': {'valid': '', 'invalid': ''}, 'value': [], 'type': 'option'}\n",
      "District option\n",
      "{'condition': {'valid': '', 'invalid': ''}, 'value': [], 'type': 'option'}\n",
      "Ward option\n",
      "{'condition': {'valid': '', 'invalid': ''}, 'value': [], 'type': 'option'}\n",
      "Exact location address\n",
      "{'condition': {'valid': 'must be an address available on the map provided by platform', 'invalid': 'cannot be found in the map'}, 'value': [], 'type': 'text field'}\n",
      "Location type\n",
      "{'condition': {'valid': '', 'invalid': ''}, 'value': ['own house', 'working place'], 'type': 'option'}\n",
      "Voucher option\n",
      "{'condition': {'valid': '', 'invalid': ''}, 'value': [], 'type': 'option'}\n",
      "Shipping option\n",
      "{'condition': {'valid': '', 'invalid': ''}, 'value': [], 'type': 'option'}\n",
      "Payment method option\n",
      "{'condition': {'valid': '', 'invalid': ''}, 'value': [], 'type': 'option'}\n"
     ]
    }
   ],
   "source": [
    "for key, value in filtered_data.items():\n",
    "    print(key)\n",
    "    print(value)"
   ]
  },
  {
   "cell_type": "code",
   "execution_count": 206,
   "metadata": {},
   "outputs": [],
   "source": [
    "filter_element_click_only = {key: value for key, value in full_elements.items() \n",
    "                             if (value['type'] in ['dialog','button', 'tab', 'card','link','icon','scroll bar','title'] and not value['value'])}"
   ]
  },
  {
   "cell_type": "code",
   "execution_count": 207,
   "metadata": {},
   "outputs": [],
   "source": [
    "filter_element_select_value = {key: value for key, value in full_elements.items() \n",
    "                             if ( value['value'] and value['type'] not in ['button','menu for navigation',' menu for opening dialog or another dropdown',  'tab', 'card','link','icon','title','dialog'])}"
   ]
  },
  {
   "cell_type": "code",
   "execution_count": 208,
   "metadata": {},
   "outputs": [
    {
     "name": "stdout",
     "output_type": "stream",
     "text": [
      "Location type\n",
      "{'condition': {'valid': '', 'invalid': ''}, 'value': ['own house', 'working place'], 'type': 'option'}\n"
     ]
    }
   ],
   "source": [
    "for key, value in filter_element_select_value.items():\n",
    "    print(key)\n",
    "    print(value)    "
   ]
  },
  {
   "cell_type": "code",
   "execution_count": 209,
   "metadata": {},
   "outputs": [],
   "source": [
    "filter_element_enter_value = {key: value for key, value in full_elements.items() \n",
    "                              if (value['type'] in ['text field','text area'] and (value['condition']['valid'] or value['condition']['invalid'] ))}\n",
    "# value['type'] in ['text field','text area']"
   ]
  },
  {
   "cell_type": "code",
   "execution_count": 210,
   "metadata": {},
   "outputs": [
    {
     "name": "stdout",
     "output_type": "stream",
     "text": [
      "Location name\n",
      "{'condition': {'valid': 'only letters and cannot be less than 2 letters', 'invalid': 'contains non-letter characters or less than 2 letters'}, 'value': [], 'type': 'text field'}\n",
      "Phone number\n",
      "{'condition': {'valid': 'in format (+84) xxx xxx xxx with all x as number', 'invalid': 'not in format (+84) xxx xxx xxx or contains non-number characters'}, 'value': [], 'type': 'text field'}\n",
      "Exact location address\n",
      "{'condition': {'valid': 'must be an address available on the map provided by platform', 'invalid': 'cannot be found in the map'}, 'value': [], 'type': 'text field'}\n"
     ]
    }
   ],
   "source": [
    "for key, value in filter_element_enter_value.items():\n",
    "    print(key)\n",
    "    print(value)    "
   ]
  },
  {
   "cell_type": "code",
   "execution_count": 211,
   "metadata": {},
   "outputs": [],
   "source": [
    "SYSTEM_PROMPT_get_flow_name =\"\"\"\n",
    "Given use case flows of a feature and a list of interaction elements extracted from that use case flows.\n",
    "For each given interactive element:\n",
    "Identify the flow through which the element is interacted in the use case flow and the type of interaction has with the element and who make that interact.\n",
    "Ignore interactive elements not mentioned in the given list.\n",
    "Return the flows in json format.\n",
    "The JSON format should follow the following structure:\n",
    "{\"Name of interactive element\":[{\"flow 1\":[{\"action\":\"interaction 1\",\"by\":\"actor\",\"at sentence\":\"sentence mention that interaction element\"},{\"action\":\"interaction 2\",\"by\":\"actor\",\"at sentence\":\"sentence mention that interaction element\"}]}]}\n",
    "Examples of output json format template: \n",
    "{\"Username\":[{\"Alternative flow 1: Login by valid username\":[{\"action\":\"enter\",\"by\":\"user\",\"at sentence\":\"Step 4: user enter valid username that above 8 and below 10 characters\"}]},{\"Exception flow 1: Login by invalid username\":[{\"action\":\"fill\",\"by\":\"user\",\"at sentence\":\"Step 4: user enter invalid username below 8 characters\"}]}]}\n",
    "{\"Rating filter\":[{\"Alternative flow 1: User rating order\":[{\"action\":\"skip\",\"by\":\"user\",\"at sentence\":\"Step 3: user skip the rating filter select\"},{\"action\":\"select\",\"by\":\"user\",\"at sentence\":\"Step 10: user rate the order by select the number of star\"}]}]}\n",
    "\"\"\"\n"
   ]
  },
  {
   "cell_type": "code",
   "execution_count": 212,
   "metadata": {},
   "outputs": [
    {
     "name": "stdout",
     "output_type": "stream",
     "text": [
      "Element: Location name ,Phone number ,Exact location address ,Location type.\n"
     ]
    }
   ],
   "source": [
    "Element = \"Element: \"\n",
    "for key,value in filter_element_enter_value.items():\n",
    "    # print(key)\n",
    "    # print(value)\n",
    "    Element += key+ \" ,\"\n",
    "for key,value in filter_element_select_value.items():\n",
    "    # print(key)\n",
    "    # print(value)\n",
    "    Element += key+ \" ,\"\n",
    "Element = Element[:-2] \n",
    "Element += \".\"\n",
    "print(Element)"
   ]
  },
  {
   "cell_type": "code",
   "execution_count": 213,
   "metadata": {},
   "outputs": [
    {
     "name": "stdout",
     "output_type": "stream",
     "text": [
      "Element: Location name ,Phone number ,Exact location address ,Location type.\n",
      "Use case flow:{'Main flow': [\"Step 1: User choose what product they want to buy by clicking the tick box at the head of the product's block.\", 'Step 2: User clicks the buy button at the right bottom of the screen.', \"Step 3: System redirects user to the payment page. There should be the default deliver location already chosen for the user in the delivery location section, the information section of the product including name, options, quantity, price, which shop sells it, promotion information, the shipping information section, the platform's promotion information section and the payment section with the default payment method.\", 'Step 4: User clicks the order button.', 'Step 5: System removes the product from the shopping cart and forms a new order of that product.'], 'Alternative flow 1: User choose what store they want to buy from': ['At step 1 of the basic flow: In case all the products they want to buy come from one store, user choose by clicking the tick box at the head of the store.', \"Step 2: System automatically ticks all the product comes from that store in the user's shopping cart.\", 'Go back to step 2 in the basic flow and continue with the steps from step 2.'], 'Alternative flow 2: User change delivery location to one of the saved location': ['At step 4 of the basic flow: User clicks on Change title in the delivery location section.', 'Step 5: User choose other saved location options.', 'Step 6: System changes the location information in the delivery location section corresponding to what user have chosen.', 'Go back to step 4 in the basic flow and continue with the steps from step 4.'], 'Alternative flow 3: User change delivery location to a new location': ['At step 4 of the basic flow: User clicks on Change title in the delivery location section.', 'Step 5: User clicks Add new location button.', 'Step 6: User fills in name, a correct name contains only letter and cannot be less than 2 letters. If user fills in wrong format, a notification will appears under the incorrect field and user cannot add location.', 'Step 7: User fills in phone number, a correct phone number must be in format (+84) xxx xxx xxx with all the x is number. If user fills in wrong format, a notification will appears under the incorrect field and user cannot add location.', 'Step 8: User chooses city by clicking one of the cities provided by the platform.', 'Step 9: User chooses district by clicking one of the districts provided by the platform.', 'Step 10: User chooses ward by clicking one of the wards provided by the platform.', \"Step 11: User fills in the exact location's address. A correct address must be an address available on the map provided by platform, if it cannot be found in the map, a notification will appears under the incorrect field and user cannot add location.\", 'Step 12: User choose between two options if the location is their own house or their working place.', 'Step 13: User clicks on Finish button to save the location.', 'Step 14: System changes the location information in the delivery location section corresponding to what user have chosen.', 'Go back to step 4 in the basic flow and continue with the steps from step 4.'], \"Alternative flow 4: User adds shop or product's promotion\": [\"At step 4 of the basic flow: User clicks on Choose voucher in the product's information section.\", 'Step 5: System shows a list of available vouchers.', 'Step 6: User chooses one of the available vouchers by clicking on it.', \"Step 7: System applies the voucher and recalculate the product's price.\", 'Go back to step 4 in the basic flow and continue with the steps from step 4.'], \"Alternative flow 5: User adds platform's promotion\": [\"At step 4 of the basic flow: User clicks on Choose voucher in the platform's promotion information section.\", 'Step 5: System shows a list of available vouchers.', 'Step 6: User chooses one of the available vouchers by clicking on it.', \"Step 7: System applies the voucher and recalculate the order's price.\", 'Go back to step 4 in the basic flow and continue with the steps from step 4.'], 'Alternative flow 6: User changes shipping option': ['At step 4 of the basic flow: User clicks on Change title in the shipping information section.', 'Step 5: System shows a list of available shipping options.', 'Step 6: User chooses one of the available shipping options by clicking on it.', \"Step 7: System changes shipping method and recalculate the order's price.\", 'Go back to step 4 in the basic flow and continue with the steps from step 4.'], 'Alternative flow 7: User changes payment method': ['At step 4 of the basic flow: User clicks on Change title in the payment method section.', 'Step 5: System shows a list of available payment methods.', 'Step 6: User chooses one of the available payment methods by clicking on it.', 'Step 7: System changes payment method.', 'Go back to step 4 in the basic flow and continue with the steps from step 4.']}\n"
     ]
    }
   ],
   "source": [
    "print(Element + \"\\nUse case flow:\" + str(usecase_flow)  )"
   ]
  },
  {
   "cell_type": "code",
   "execution_count": 214,
   "metadata": {},
   "outputs": [
    {
     "name": "stdout",
     "output_type": "stream",
     "text": [
      "{\n",
      "  \"Location name\": [\n",
      "    {\n",
      "      \"Alternative flow 3: User change delivery location to a new location\": [\n",
      "        {\n",
      "          \"action\": \"fill\",\n",
      "          \"by\": \"user\",\n",
      "          \"at sentence\": \"Step 6: User fills in name, a correct name contains only letter and cannot be less than 2 letters. If user fills in wrong format, a notification will appears under the incorrect field and user cannot add location.\"\n",
      "        }\n",
      "      ]\n",
      "    }\n",
      "  ],\n",
      "  \"Phone number\": [\n",
      "    {\n",
      "      \"Alternative flow 3: User change delivery location to a new location\": [\n",
      "        {\n",
      "          \"action\": \"fill\",\n",
      "          \"by\": \"user\",\n",
      "          \"at sentence\": \"Step 7: User fills in phone number, a correct phone number must be in format (+84) xxx xxx xxx with all the x is number. If user fills in wrong format, a notification will appears under the incorrect field and user cannot add location.\"\n",
      "        }\n",
      "      ]\n",
      "    }\n",
      "  ],\n",
      "  \"Exact location address\": [\n",
      "    {\n",
      "      \"Alternative flow 3: User change delivery location to a new location\": [\n",
      "        {\n",
      "          \"action\": \"fill\",\n",
      "          \"by\": \"user\",\n",
      "          \"at sentence\": \"Step 11: User fills in the exact location's address. A correct address must be an address available on the map provided by platform, if it cannot be found in the map, a notification will appears under the incorrect field and user cannot add location.\"\n",
      "        }\n",
      "      ]\n",
      "    }\n",
      "  ],\n",
      "  \"Location type\": [\n",
      "    {\n",
      "      \"Alternative flow 3: User change delivery location to a new location\": [\n",
      "        {\n",
      "          \"action\": \"choose\",\n",
      "          \"by\": \"user\",\n",
      "          \"at sentence\": \"Step 12: User choose between two options if the location is their own house or their working place.\"\n",
      "        }\n",
      "      ]\n",
      "    }\n",
      "  ]\n",
      "}\n",
      "{'Location name': [{'Alternative flow 3: User change delivery location to a new location': [{'action': 'fill', 'by': 'user', 'at sentence': 'Step 6: User fills in name, a correct name contains only letter and cannot be less than 2 letters. If user fills in wrong format, a notification will appears under the incorrect field and user cannot add location.'}]}], 'Phone number': [{'Alternative flow 3: User change delivery location to a new location': [{'action': 'fill', 'by': 'user', 'at sentence': 'Step 7: User fills in phone number, a correct phone number must be in format (+84) xxx xxx xxx with all the x is number. If user fills in wrong format, a notification will appears under the incorrect field and user cannot add location.'}]}], 'Exact location address': [{'Alternative flow 3: User change delivery location to a new location': [{'action': 'fill', 'by': 'user', 'at sentence': \"Step 11: User fills in the exact location's address. A correct address must be an address available on the map provided by platform, if it cannot be found in the map, a notification will appears under the incorrect field and user cannot add location.\"}]}], 'Location type': [{'Alternative flow 3: User change delivery location to a new location': [{'action': 'choose', 'by': 'user', 'at sentence': 'Step 12: User choose between two options if the location is their own house or their working place.'}]}]}\n"
     ]
    }
   ],
   "source": [
    "if(len(filter_element_enter_value) != 0 or len(filter_element_select_value) !=0 ):\n",
    "  promptExtractCondtition = [\n",
    "      { \"role\": \"system\", \"content\": SYSTEM_PROMPT_get_flow_name},\n",
    "      { \"role\": \"user\", \"content\":Element + \"\\nUse case flow:\" + str(usecase_flow) }\n",
    "    ]\n",
    "  gpt_response = ask(promptExtractCondtition, client, model)\n",
    "  print(gpt_response)\n",
    "  element_actions_flow = json.loads(gpt_response)\n",
    "  print(element_actions_flow)"
   ]
  },
  {
   "cell_type": "code",
   "execution_count": 215,
   "metadata": {},
   "outputs": [],
   "source": [
    "non_actions = ['display','show']\n",
    "non_actors = ['system','System']"
   ]
  },
  {
   "cell_type": "code",
   "execution_count": 216,
   "metadata": {},
   "outputs": [
    {
     "name": "stdout",
     "output_type": "stream",
     "text": [
      "{\n",
      "  \"Location name\": [\n",
      "    {\n",
      "      \"Alternative flow 3: User change delivery location to a new location\": [\n",
      "        {\n",
      "          \"action\": \"fill\",\n",
      "          \"by\": \"user\",\n",
      "          \"at sentence\": \"Step 6: User fills in name, a correct name contains only letter and cannot be less than 2 letters. If user fills in wrong format, a notification will appears under the incorrect field and user cannot add location.\"\n",
      "        }\n",
      "      ]\n",
      "    }\n",
      "  ],\n",
      "  \"Phone number\": [\n",
      "    {\n",
      "      \"Alternative flow 3: User change delivery location to a new location\": [\n",
      "        {\n",
      "          \"action\": \"fill\",\n",
      "          \"by\": \"user\",\n",
      "          \"at sentence\": \"Step 7: User fills in phone number, a correct phone number must be in format (+84) xxx xxx xxx with all the x is number. If user fills in wrong format, a notification will appears under the incorrect field and user cannot add location.\"\n",
      "        }\n",
      "      ]\n",
      "    }\n",
      "  ],\n",
      "  \"Exact location address\": [\n",
      "    {\n",
      "      \"Alternative flow 3: User change delivery location to a new location\": [\n",
      "        {\n",
      "          \"action\": \"fill\",\n",
      "          \"by\": \"user\",\n",
      "          \"at sentence\": \"Step 11: User fills in the exact location's address. A correct address must be an address available on the map provided by platform, if it cannot be found in the map, a notification will appears under the incorrect field and user cannot add location.\"\n",
      "        }\n",
      "      ]\n",
      "    }\n",
      "  ],\n",
      "  \"Location type\": [\n",
      "    {\n",
      "      \"Alternative flow 3: User change delivery location to a new location\": [\n",
      "        {\n",
      "          \"action\": \"choose\",\n",
      "          \"by\": \"user\",\n",
      "          \"at sentence\": \"Step 12: User choose between two options if the location is their own house or their working place.\"\n",
      "        }\n",
      "      ]\n",
      "    }\n",
      "  ]\n",
      "}\n"
     ]
    }
   ],
   "source": [
    "if(len(filter_element_enter_value) != 0 or len(filter_element_select_value) !=0  ):\n",
    "\n",
    "    for flow_lists_log in element_actions_flow.values():\n",
    "        for flow_list_element in flow_lists_log:\n",
    "            flows_to_delete = []\n",
    "            for flow_name, actions in flow_list_element.items():\n",
    "                filtered_actions = []\n",
    "                for action in actions:\n",
    "                    if(default_flow in flow_name and 'At step' in action['at sentence'] ):\n",
    "                        continue\n",
    "\n",
    "                    if (action['action'] not in non_actions and action['by'] not in non_actors): \n",
    "                        filtered_actions.append(action)\n",
    "\n",
    "                flow_list_element[flow_name] = filtered_actions\n",
    "                if not filtered_actions:\n",
    "                    flows_to_delete.append(flow_name)\n",
    "            flows_to_delete = list(set(flows_to_delete))\n",
    "            for flow_name in flows_to_delete:\n",
    "                del flow_list_element[flow_name]\n",
    "\n",
    "    # Convert modified data back to JSON\n",
    "    modified_json_content = json.dumps(element_actions_flow, indent=2)\n",
    "    print(modified_json_content)\n",
    "    element_flow = element_actions_flow.copy()"
   ]
  },
  {
   "cell_type": "code",
   "execution_count": 217,
   "metadata": {},
   "outputs": [
    {
     "name": "stdout",
     "output_type": "stream",
     "text": [
      "{'Location type': {'condition': {'valid': '', 'invalid': ''}, 'value': ['own house', 'working place'], 'type': 'option'}}\n",
      "{'Location name': {'condition': {'valid': 'only letters and cannot be less than 2 letters', 'invalid': 'contains non-letter characters or less than 2 letters'}, 'value': [], 'type': 'text field'}, 'Phone number': {'condition': {'valid': 'in format (+84) xxx xxx xxx with all x as number', 'invalid': 'not in format (+84) xxx xxx xxx or contains non-number characters'}, 'value': [], 'type': 'text field'}, 'Exact location address': {'condition': {'valid': 'must be an address available on the map provided by platform', 'invalid': 'cannot be found in the map'}, 'value': [], 'type': 'text field'}}\n"
     ]
    }
   ],
   "source": [
    "print(filter_element_select_value)\n",
    "print(filter_element_enter_value)\n",
    "filter_element_select_value_flow_list = []\n",
    "filter_element_enter_value_flow_list = []\n"
   ]
  },
  {
   "cell_type": "code",
   "execution_count": 218,
   "metadata": {},
   "outputs": [
    {
     "name": "stdout",
     "output_type": "stream",
     "text": [
      "{'Location name': [{'Alternative flow 3: User change delivery location to a new location': [{'action': 'fill', 'by': 'user', 'at sentence': 'Step 6: User fills in name, a correct name contains only letter and cannot be less than 2 letters. If user fills in wrong format, a notification will appears under the incorrect field and user cannot add location.'}]}], 'Phone number': [{'Alternative flow 3: User change delivery location to a new location': [{'action': 'fill', 'by': 'user', 'at sentence': 'Step 7: User fills in phone number, a correct phone number must be in format (+84) xxx xxx xxx with all the x is number. If user fills in wrong format, a notification will appears under the incorrect field and user cannot add location.'}]}], 'Exact location address': [{'Alternative flow 3: User change delivery location to a new location': [{'action': 'fill', 'by': 'user', 'at sentence': \"Step 11: User fills in the exact location's address. A correct address must be an address available on the map provided by platform, if it cannot be found in the map, a notification will appears under the incorrect field and user cannot add location.\"}]}], 'Location type': [{'Alternative flow 3: User change delivery location to a new location': [{'action': 'choose', 'by': 'user', 'at sentence': 'Step 12: User choose between two options if the location is their own house or their working place.'}]}]}\n"
     ]
    }
   ],
   "source": [
    "if(len(filter_element_enter_value) != 0 or len(filter_element_select_value) !=0  ):\n",
    "    print(element_flow)"
   ]
  },
  {
   "cell_type": "code",
   "execution_count": 219,
   "metadata": {},
   "outputs": [
    {
     "name": "stdout",
     "output_type": "stream",
     "text": [
      "['Alternative flow 3: User change delivery location to a new location']\n"
     ]
    }
   ],
   "source": [
    "if(len(filter_element_enter_value) != 0 or len(filter_element_select_value) !=0  ):\n",
    "    for key in filter_element_select_value:\n",
    "        if key in element_flow:\n",
    "            for obj in element_flow[key]:\n",
    "                filter_element_select_value_flow_list.extend(obj.keys())\n",
    "\n",
    "        else:\n",
    "            print(f\"No flow found for '{key}' in element_flow.\")\n",
    "    filter_element_select_value_flow_list = list(set(filter_element_select_value_flow_list))\n",
    "    print(filter_element_select_value_flow_list)\n"
   ]
  },
  {
   "cell_type": "code",
   "execution_count": 220,
   "metadata": {},
   "outputs": [
    {
     "name": "stdout",
     "output_type": "stream",
     "text": [
      "['Alternative flow 3: User change delivery location to a new location']\n"
     ]
    }
   ],
   "source": [
    "if(len(filter_element_enter_value) != 0 or len(filter_element_select_value) !=0  ):\n",
    "    for key in filter_element_enter_value:\n",
    "        if key in element_flow:\n",
    "            for obj in element_flow[key]:\n",
    "                filter_element_enter_value_flow_list.extend(obj.keys())\n",
    "\n",
    "        else:\n",
    "            print(f\"No flow found for '{key}' in element_flow.\")\n",
    "\n",
    "    filter_element_enter_value_flow_list = list(set(filter_element_enter_value_flow_list))\n",
    "    print(filter_element_enter_value_flow_list)"
   ]
  },
  {
   "cell_type": "code",
   "execution_count": 221,
   "metadata": {},
   "outputs": [
    {
     "name": "stdout",
     "output_type": "stream",
     "text": [
      "['Main flow', 'Alternative flow 1: User choose what store they want to buy from', 'Alternative flow 2: User change delivery location to one of the saved location', 'Alternative flow 3: User change delivery location to a new location', \"Alternative flow 4: User adds shop or product's promotion\", \"Alternative flow 5: User adds platform's promotion\", 'Alternative flow 6: User changes shipping option', 'Alternative flow 7: User changes payment method']\n",
      "['Main flow', 'Alternative flow 1: User choose what store they want to buy from', 'Alternative flow 2: User change delivery location to one of the saved location', \"Alternative flow 4: User adds shop or product's promotion\", \"Alternative flow 5: User adds platform's promotion\", 'Alternative flow 6: User changes shipping option', 'Alternative flow 7: User changes payment method']\n"
     ]
    }
   ],
   "source": [
    "# flow with input value\n",
    "click_only_flow_name = flows_name.copy()\n",
    "print(flows_name)\n",
    "\n",
    "for key in flows_name:\n",
    "     for key_check in filter_element_enter_value_flow_list:\n",
    "        if (key in key_check or key_check in key) and key in click_only_flow_name:\n",
    "            click_only_flow_name.remove(key)\n",
    "        \n",
    "for key in flows_name:\n",
    "    for key_check in filter_element_select_value_flow_list:\n",
    "        if (key in key_check or key_check in key) and key in click_only_flow_name:\n",
    "            click_only_flow_name.remove(key)\n",
    "print(click_only_flow_name)\n",
    "# click_only_flow_name = [key for key in flows_name if key not in filter_element_enter_value_flow_list]\n",
    "# click_only_flow_name = [key for key in click_only_flow_name if key not in filter_element_select_value_flow_list]\n",
    "\n"
   ]
  },
  {
   "cell_type": "code",
   "execution_count": 222,
   "metadata": {},
   "outputs": [
    {
     "name": "stdout",
     "output_type": "stream",
     "text": [
      "['Main flow', 'Alternative flow 1: User choose what store they want to buy from', 'Alternative flow 2: User change delivery location to one of the saved location', 'Alternative flow 3: User change delivery location to a new location', \"Alternative flow 4: User adds shop or product's promotion\", \"Alternative flow 5: User adds platform's promotion\", 'Alternative flow 6: User changes shipping option', 'Alternative flow 7: User changes payment method']\n",
      "['Alternative flow 3: User change delivery location to a new location']\n",
      "['Alternative flow 3: User change delivery location to a new location']\n",
      "['Main flow', 'Alternative flow 1: User choose what store they want to buy from', 'Alternative flow 2: User change delivery location to one of the saved location', \"Alternative flow 4: User adds shop or product's promotion\", \"Alternative flow 5: User adds platform's promotion\", 'Alternative flow 6: User changes shipping option', 'Alternative flow 7: User changes payment method']\n"
     ]
    }
   ],
   "source": [
    "print(flows_name)\n",
    "print(filter_element_enter_value_flow_list)\n",
    "print(filter_element_select_value_flow_list)\n",
    "print(click_only_flow_name)\n"
   ]
  },
  {
   "cell_type": "code",
   "execution_count": 223,
   "metadata": {},
   "outputs": [
    {
     "name": "stdout",
     "output_type": "stream",
     "text": [
      "click_only_flows = {'Main flow': [\"Step 1: User choose what product they want to buy by clicking the tick box at the head of the product's block.\", 'Step 2: User clicks the buy button at the right bottom of the screen.', \"Step 3: System redirects user to the payment page. There should be the default deliver location already chosen for the user in the delivery location section, the information section of the product including name, options, quantity, price, which shop sells it, promotion information, the shipping information section, the platform's promotion information section and the payment section with the default payment method.\", 'Step 4: User clicks the order button.', 'Step 5: System removes the product from the shopping cart and forms a new order of that product.'], 'Alternative flow 1: User choose what store they want to buy from': ['At step 1 of the basic flow: In case all the products they want to buy come from one store, user choose by clicking the tick box at the head of the store.', \"Step 2: System automatically ticks all the product comes from that store in the user's shopping cart.\", 'Go back to step 2 in the basic flow and continue with the steps from step 2.'], 'Alternative flow 2: User change delivery location to one of the saved location': ['At step 4 of the basic flow: User clicks on Change title in the delivery location section.', 'Step 5: User choose other saved location options.', 'Step 6: System changes the location information in the delivery location section corresponding to what user have chosen.', 'Go back to step 4 in the basic flow and continue with the steps from step 4.'], \"Alternative flow 4: User adds shop or product's promotion\": [\"At step 4 of the basic flow: User clicks on Choose voucher in the product's information section.\", 'Step 5: System shows a list of available vouchers.', 'Step 6: User chooses one of the available vouchers by clicking on it.', \"Step 7: System applies the voucher and recalculate the product's price.\", 'Go back to step 4 in the basic flow and continue with the steps from step 4.'], \"Alternative flow 5: User adds platform's promotion\": [\"At step 4 of the basic flow: User clicks on Choose voucher in the platform's promotion information section.\", 'Step 5: System shows a list of available vouchers.', 'Step 6: User chooses one of the available vouchers by clicking on it.', \"Step 7: System applies the voucher and recalculate the order's price.\", 'Go back to step 4 in the basic flow and continue with the steps from step 4.'], 'Alternative flow 6: User changes shipping option': ['At step 4 of the basic flow: User clicks on Change title in the shipping information section.', 'Step 5: System shows a list of available shipping options.', 'Step 6: User chooses one of the available shipping options by clicking on it.', \"Step 7: System changes shipping method and recalculate the order's price.\", 'Go back to step 4 in the basic flow and continue with the steps from step 4.'], 'Alternative flow 7: User changes payment method': ['At step 4 of the basic flow: User clicks on Change title in the payment method section.', 'Step 5: System shows a list of available payment methods.', 'Step 6: User chooses one of the available payment methods by clicking on it.', 'Step 7: System changes payment method.', 'Go back to step 4 in the basic flow and continue with the steps from step 4.']}\n"
     ]
    }
   ],
   "source": [
    "click_only_flows = {}\n",
    "\n",
    "for key,value in usecase_flow.items():\n",
    "    if key in click_only_flow_name:\n",
    "        click_only_flows[key] = value\n",
    "\n",
    "print(\"click_only_flows = \" + str(click_only_flows))\n"
   ]
  },
  {
   "cell_type": "code",
   "execution_count": 224,
   "metadata": {},
   "outputs": [
    {
     "name": "stdout",
     "output_type": "stream",
     "text": [
      "input_flows = {'Alternative flow 3: User change delivery location to a new location': ['At step 4 of the basic flow: User clicks on Change title in the delivery location section.', 'Step 5: User clicks Add new location button.', 'Step 6: User fills in name, a correct name contains only letter and cannot be less than 2 letters. If user fills in wrong format, a notification will appears under the incorrect field and user cannot add location.', 'Step 7: User fills in phone number, a correct phone number must be in format (+84) xxx xxx xxx with all the x is number. If user fills in wrong format, a notification will appears under the incorrect field and user cannot add location.', 'Step 8: User chooses city by clicking one of the cities provided by the platform.', 'Step 9: User chooses district by clicking one of the districts provided by the platform.', 'Step 10: User chooses ward by clicking one of the wards provided by the platform.', \"Step 11: User fills in the exact location's address. A correct address must be an address available on the map provided by platform, if it cannot be found in the map, a notification will appears under the incorrect field and user cannot add location.\", 'Step 12: User choose between two options if the location is their own house or their working place.', 'Step 13: User clicks on Finish button to save the location.', 'Step 14: System changes the location information in the delivery location section corresponding to what user have chosen.', 'Go back to step 4 in the basic flow and continue with the steps from step 4.']}\n",
      "dict_keys(['Alternative flow 3: User change delivery location to a new location'])\n"
     ]
    }
   ],
   "source": [
    "input_flows = {}\n",
    "\n",
    "for key,value in usecase_flow.items():\n",
    "    if key in filter_element_enter_value_flow_list:\n",
    "        input_flows[key] = value\n",
    "\n",
    "print(\"input_flows = \" + str(input_flows))\n",
    "print(input_flows.keys())\n"
   ]
  },
  {
   "cell_type": "code",
   "execution_count": 225,
   "metadata": {},
   "outputs": [
    {
     "name": "stdout",
     "output_type": "stream",
     "text": [
      "select_flows = {'Alternative flow 3: User change delivery location to a new location': ['At step 4 of the basic flow: User clicks on Change title in the delivery location section.', 'Step 5: User clicks Add new location button.', 'Step 6: User fills in name, a correct name contains only letter and cannot be less than 2 letters. If user fills in wrong format, a notification will appears under the incorrect field and user cannot add location.', 'Step 7: User fills in phone number, a correct phone number must be in format (+84) xxx xxx xxx with all the x is number. If user fills in wrong format, a notification will appears under the incorrect field and user cannot add location.', 'Step 8: User chooses city by clicking one of the cities provided by the platform.', 'Step 9: User chooses district by clicking one of the districts provided by the platform.', 'Step 10: User chooses ward by clicking one of the wards provided by the platform.', \"Step 11: User fills in the exact location's address. A correct address must be an address available on the map provided by platform, if it cannot be found in the map, a notification will appears under the incorrect field and user cannot add location.\", 'Step 12: User choose between two options if the location is their own house or their working place.', 'Step 13: User clicks on Finish button to save the location.', 'Step 14: System changes the location information in the delivery location section corresponding to what user have chosen.', 'Go back to step 4 in the basic flow and continue with the steps from step 4.']}\n"
     ]
    }
   ],
   "source": [
    "select_flows = {}\n",
    "\n",
    "for key,value in usecase_flow.items():\n",
    "    if key in filter_element_select_value_flow_list:\n",
    "        select_flows[key] = value\n",
    "\n",
    "print(\"select_flows = \" + str(select_flows))"
   ]
  },
  {
   "cell_type": "code",
   "execution_count": 226,
   "metadata": {},
   "outputs": [],
   "source": [
    "SYSTEM_PROMPT_gen_no_condition_test_scenarios =\"\"\"\n",
    "Given use case specification flows.\n",
    "Your task is to:\n",
    "Generate test scenario to test each given flow.\n",
    "Each given flow must have only one flow to cover.\n",
    "Return the test scenarios generated in json format.\n",
    "The JSON format should follow the following structure:\n",
    "{\n",
    "    \"Test Scenarios\":[ \"name of test scenario\"]\n",
    "  }\n",
    "For example :\n",
    "{\n",
    "  \"Test Scenarios\": [\n",
    "    \"Administrator Cancels Adding New Lesson Before Saving\"\n",
    "  ]\n",
    "}\n",
    "\"\"\""
   ]
  },
  {
   "cell_type": "code",
   "execution_count": 227,
   "metadata": {},
   "outputs": [],
   "source": [
    "SYSTEM_PROMPT_gen_test_scenarios_input_element =\"\"\"\n",
    "Given a list of interaction element for input value and their extracted conditions and use case flows that reflect those element.\n",
    "Your task is to generate a comprehensive set of test scenarios that test all given the conditions of given elements.\n",
    "The test scenarios generated must have clear conditions descritions and mention conditions is tested but do not need example data. \n",
    "The positive test scenarios generated must verify the combination of valid elements (the combination follow the description in the use case flow). \n",
    "The negative test scenarios generated must verify only one given invalid condition at a time. If there is no invalid condition, you don't need to write negative test scenario.\n",
    "For cases where the invalid condition does not have a corresponding output description, predict the possible outcome to test.\n",
    "\n",
    "Return the test scenarios generated in json format.\n",
    "The JSON format should follow the following structure:\n",
    "{\n",
    "  \"Positive Test Scenarios\": [{ \"positive test scenario description\": {\"conditions\": conditions tested}}],\n",
    "  \"Negative Test Scenarios\": [{ \"negative test scenario description\": {\"conditions\": conditions tested}}]\n",
    "  }\n",
    "\n",
    "An example of a test scenario: \n",
    "{\n",
    "  \"Positive Test Scenarios\": [{ \"Successfully create a new account with valid email and valid passowrd.\": {\"conditions\": login with email}}],\n",
    "  \"Negative Test Scenarios\": [{\"Create account with invalid password missing upper character\": {\"conditions\": password must have at least one upper character }}}]\n",
    "  }\n",
    "\"\"\""
   ]
  },
  {
   "cell_type": "code",
   "execution_count": 228,
   "metadata": {},
   "outputs": [],
   "source": [
    "SYSTEM_PROMPT_gen_test_scenarios_select_element =\"\"\"\n",
    "Given a list of element for selecting value, their value options and use case flows use given element.\n",
    "For each given element:\n",
    "Generate only one test scenario to test the selection for each element value options. \n",
    "\n",
    "Do not generate test scenario to test the display of object.\n",
    "Do not generate test scenario to test element that not mention in the given element list.\n",
    "\n",
    "The JSON format should follow the following structure:\n",
    "{\n",
    "    \"Test Scenarios\":[ \"name of test scenario\",\"name of test scenario\"]\n",
    "  }\n",
    "For example :\n",
    "{\n",
    "  \"Test Scenarios\": [\n",
    "    \"create Book with Default Genre value and Default Share value.\",\n",
    "    \"create Book with Genre value 'Adventural'.\"\n",
    "  ]\n",
    "}\n",
    "\"\"\"\n",
    "# Generate test scenarios to test the selection for each element's value.\n",
    "# Generate test scenarios for the condition invalid if element mentions.\n",
    "\n"
   ]
  },
  {
   "cell_type": "code",
   "execution_count": 229,
   "metadata": {},
   "outputs": [],
   "source": [
    "all_test_scenario = []"
   ]
  },
  {
   "cell_type": "code",
   "execution_count": 230,
   "metadata": {},
   "outputs": [
    {
     "name": "stdout",
     "output_type": "stream",
     "text": [
      "{\n",
      "  \"Test Scenarios\": [\n",
      "    \"User Successfully Completes a Purchase\",\n",
      "    \"User Chooses Products from a Single Store and Completes Purchase\",\n",
      "    \"User Changes Delivery Location and Completes Purchase\",\n",
      "    \"User Applies Shop or Product's Promotion and Completes Purchase\",\n",
      "    \"User Applies Platform's Promotion and Completes Purchase\",\n",
      "    \"User Changes Shipping Option and Completes Purchase\",\n",
      "    \"User Changes Payment Method and Completes Purchase\"\n",
      "  ]\n",
      "}\n"
     ]
    }
   ],
   "source": [
    "\n",
    "if( len(click_only_flows)!= 0 ):\n",
    "    promptExtractCondtition = [\n",
    "    { \"role\": \"system\", \"content\": SYSTEM_PROMPT_gen_no_condition_test_scenarios},\n",
    "    { \"role\": \"user\", \"content\": str(click_only_flows) }\n",
    "  ]\n",
    "\n",
    "    gpt_response = ask(promptExtractCondtition, client, model)\n",
    "    print(gpt_response)\n",
    "    temp = json.loads(gpt_response)[\"Test Scenarios\"]\n",
    "    all_test_scenario.extend(temp)\n",
    "\n",
    "    "
   ]
  },
  {
   "cell_type": "code",
   "execution_count": 231,
   "metadata": {},
   "outputs": [
    {
     "name": "stdout",
     "output_type": "stream",
     "text": [
      "Element: {'Location name': {'condition': {'valid': 'only letters and cannot be less than 2 letters', 'invalid': 'contains non-letter characters or less than 2 letters'}, 'value': [], 'type': 'text field'}, 'Phone number': {'condition': {'valid': 'in format (+84) xxx xxx xxx with all x as number', 'invalid': 'not in format (+84) xxx xxx xxx or contains non-number characters'}, 'value': [], 'type': 'text field'}, 'Exact location address': {'condition': {'valid': 'must be an address available on the map provided by platform', 'invalid': 'cannot be found in the map'}, 'value': [], 'type': 'text field'}}\n",
      "Use case:{'Alternative flow 3: User change delivery location to a new location': ['At step 4 of the basic flow: User clicks on Change title in the delivery location section.', 'Step 5: User clicks Add new location button.', 'Step 6: User fills in name, a correct name contains only letter and cannot be less than 2 letters. If user fills in wrong format, a notification will appears under the incorrect field and user cannot add location.', 'Step 7: User fills in phone number, a correct phone number must be in format (+84) xxx xxx xxx with all the x is number. If user fills in wrong format, a notification will appears under the incorrect field and user cannot add location.', 'Step 8: User chooses city by clicking one of the cities provided by the platform.', 'Step 9: User chooses district by clicking one of the districts provided by the platform.', 'Step 10: User chooses ward by clicking one of the wards provided by the platform.', \"Step 11: User fills in the exact location's address. A correct address must be an address available on the map provided by platform, if it cannot be found in the map, a notification will appears under the incorrect field and user cannot add location.\", 'Step 12: User choose between two options if the location is their own house or their working place.', 'Step 13: User clicks on Finish button to save the location.', 'Step 14: System changes the location information in the delivery location section corresponding to what user have chosen.', 'Go back to step 4 in the basic flow and continue with the steps from step 4.']}\n"
     ]
    }
   ],
   "source": [
    "print(\"Element: \"+str(filter_element_enter_value) +\"\\nUse case:\" +str(input_flows) )"
   ]
  },
  {
   "cell_type": "code",
   "execution_count": 232,
   "metadata": {},
   "outputs": [
    {
     "name": "stdout",
     "output_type": "stream",
     "text": [
      "All Test Scenario Names:\n",
      "[\n",
      "  \"Successfully change delivery location with valid location name, phone number, and exact location address\",\n",
      "  \"Change delivery location with location name containing non-letter characters\",\n",
      "  \"Change delivery location with location name less than 2 letters\",\n",
      "  \"Change delivery location with phone number not in format (+84) xxx xxx xxx\",\n",
      "  \"Change delivery location with phone number containing non-number characters\",\n",
      "  \"Change delivery location with exact location address not available on the map\"\n",
      "]\n"
     ]
    }
   ],
   "source": [
    "\n",
    "if( len(filter_element_enter_value)!= 0 ):\n",
    "    promptExtractCondtition = [\n",
    "    { \"role\": \"system\", \"content\": SYSTEM_PROMPT_gen_test_scenarios_input_element},\n",
    "    { \"role\": \"user\", \"content\": \"Element: \"+str(filter_element_enter_value) +\"\\nUse case:\" +str(input_flows)  }\n",
    "  ]\n",
    "\n",
    "    gpt_response = ask(promptExtractCondtition, client, model)\n",
    "    data = json.loads(gpt_response)\n",
    "\n",
    "    all_scenario_names = []\n",
    "    for scenario_type in data:\n",
    "        for scenario in data[scenario_type]:\n",
    "            scenario_desc = list(scenario.keys())[0]\n",
    "            all_scenario_names.append(scenario_desc)\n",
    "\n",
    "    print(\"All Test Scenario Names:\")\n",
    "    print(json.dumps(all_scenario_names, indent=2))\n",
    "    all_test_scenario.extend(all_scenario_names)\n",
    "    \n"
   ]
  },
  {
   "cell_type": "code",
   "execution_count": 233,
   "metadata": {},
   "outputs": [
    {
     "name": "stdout",
     "output_type": "stream",
     "text": [
      "{\n",
      "  \"Test Scenarios\": [\n",
      "    \"change delivery location with Location type value 'own house'.\",\n",
      "    \"change delivery location with Location type value 'working place'.\"\n",
      "  ]\n",
      "}\n"
     ]
    }
   ],
   "source": [
    "if( len(filter_element_select_value)!= 0):\n",
    "    promptExtractCondtition = [\n",
    "    { \"role\": \"system\", \"content\": SYSTEM_PROMPT_gen_test_scenarios_select_element},\n",
    "    { \"role\": \"user\", \"content\": str(select_flows) + \"Element: \"+str(filter_element_select_value) }\n",
    "  ]\n",
    "\n",
    "    gpt_response = ask(promptExtractCondtition, client, model)\n",
    "    print(gpt_response)\n",
    "    select_testscenario = json.loads(gpt_response)[\"Test Scenarios\"]\n",
    "    all_test_scenario.extend(select_testscenario)\n",
    "    "
   ]
  },
  {
   "cell_type": "code",
   "execution_count": 234,
   "metadata": {},
   "outputs": [
    {
     "name": "stdout",
     "output_type": "stream",
     "text": [
      "{'Location type': {'condition': {'valid': '', 'invalid': ''}, 'value': ['own house', 'working place'], 'type': 'option'}}\n"
     ]
    }
   ],
   "source": [
    "print(filter_element_select_value)\n"
   ]
  },
  {
   "cell_type": "code",
   "execution_count": 235,
   "metadata": {},
   "outputs": [],
   "source": [
    "# test_scenario_file_path = file_path.replace(\"SpecificationData\", \"ResultSet\\\\4.21 - best version\\\\Propse 1\\\\\")\n",
    "# print(test_scenario_file_path)"
   ]
  },
  {
   "cell_type": "code",
   "execution_count": 236,
   "metadata": {},
   "outputs": [
    {
     "name": "stdout",
     "output_type": "stream",
     "text": [
      "User Successfully Completes a Purchase\n",
      "User Chooses Products from a Single Store and Completes Purchase\n",
      "User Changes Delivery Location and Completes Purchase\n",
      "User Applies Shop or Product's Promotion and Completes Purchase\n",
      "User Applies Platform's Promotion and Completes Purchase\n",
      "User Changes Shipping Option and Completes Purchase\n",
      "User Changes Payment Method and Completes Purchase\n",
      "Successfully change delivery location with valid location name, phone number, and exact location address\n",
      "Change delivery location with location name containing non-letter characters\n",
      "Change delivery location with location name less than 2 letters\n",
      "Change delivery location with phone number not in format (+84) xxx xxx xxx\n",
      "Change delivery location with phone number containing non-number characters\n",
      "Change delivery location with exact location address not available on the map\n",
      "change delivery location with Location type value 'own house'.\n",
      "change delivery location with Location type value 'working place'.\n"
     ]
    }
   ],
   "source": [
    "for i in (all_test_scenario):\n",
    "    print(i)"
   ]
  },
  {
   "cell_type": "code",
   "execution_count": 237,
   "metadata": {},
   "outputs": [],
   "source": [
    "def write_list_to_file(file_path, my_list):\n",
    "    with open(file_path, 'w') as f:\n",
    "        for item in my_list:\n",
    "            f.write(\"%s\\n\" % item)\n",
    "def write_list_to_file_with_numbering(file_path, my_list):\n",
    "    with open(file_path, 'w') as f:\n",
    "        for i, item in enumerate(my_list, start=1):\n",
    "            f.write(f\"{i}. {item}\\n\")"
   ]
  },
  {
   "cell_type": "code",
   "execution_count": 238,
   "metadata": {},
   "outputs": [
    {
     "name": "stdout",
     "output_type": "stream",
     "text": [
      "User Successfully Completes a Purchase\n",
      "User Chooses Products from a Single Store and Completes Purchase\n",
      "User Changes Delivery Location and Completes Purchase\n",
      "User Applies Shop or Product's Promotion and Completes Purchase\n",
      "User Applies Platform's Promotion and Completes Purchase\n",
      "User Changes Shipping Option and Completes Purchase\n",
      "User Changes Payment Method and Completes Purchase\n",
      "Successfully change delivery location with valid location name, phone number, and exact location address\n",
      "Change delivery location with location name containing non-letter characters\n",
      "Change delivery location with location name less than 2 letters\n",
      "Change delivery location with phone number not in format (+84) xxx xxx xxx\n",
      "Change delivery location with phone number containing non-number characters\n",
      "Change delivery location with exact location address not available on the map\n",
      "change delivery location with Location type value 'own house'.\n",
      "change delivery location with Location type value 'working place'.\n"
     ]
    }
   ],
   "source": [
    "for i in (all_test_scenario):\n",
    "    print(i)\n",
    "    test_scenario_file_path = file_path.replace(\"SpecificationData\", \"ResultSet\\\\5.5\\\\Propse 1\\\\\")\n",
    "    # directory, filename = os.path.split(test_scenario_file_path)\n",
    "    # name, extension = os.path.splitext(filename)\n",
    "    # new_filename = f\"{name} - {count}{extension}\"\n",
    "    # new_path = os.path.join(directory, new_filename)\n",
    "    # print(new_path)\n",
    "    write_list_to_file_with_numbering(test_scenario_file_path,(all_test_scenario))"
   ]
  },
  {
   "cell_type": "code",
   "execution_count": 239,
   "metadata": {},
   "outputs": [],
   "source": [
    "# write_to_file(test_scenario_file_path,\"\")"
   ]
  },
  {
   "cell_type": "code",
   "execution_count": 240,
   "metadata": {},
   "outputs": [],
   "source": [
    "# import os\n",
    "\n",
    "# def get_file_paths(directory):\n",
    "#     file_paths = []\n",
    "#     for root, _, files in os.walk(directory):\n",
    "#         for file in files:\n",
    "#             file_paths.append(os.path.join(root, file))\n",
    "#     return file_paths\n",
    "\n",
    "# directory = \"D:\\GPT-testing\\SpecificationData\"\n",
    "# file_paths = get_file_paths(directory)\n",
    "# print(\"File paths in directory:\", file_paths)\n",
    "# for i in file_paths:\n",
    "#     print(\"r'\"+i+\"',\")\n"
   ]
  }
 ],
 "metadata": {
  "kernelspec": {
   "display_name": "Python 3",
   "language": "python",
   "name": "python3"
  },
  "language_info": {
   "codemirror_mode": {
    "name": "ipython",
    "version": 3
   },
   "file_extension": ".py",
   "mimetype": "text/x-python",
   "name": "python",
   "nbconvert_exporter": "python",
   "pygments_lexer": "ipython3",
   "version": "3.10.9"
  }
 },
 "nbformat": 4,
 "nbformat_minor": 2
}
