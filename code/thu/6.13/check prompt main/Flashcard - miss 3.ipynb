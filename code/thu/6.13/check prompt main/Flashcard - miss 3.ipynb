{
 "cells": [
  {
   "cell_type": "code",
   "execution_count": 6,
   "metadata": {},
   "outputs": [],
   "source": [
    "from openai import OpenAI\n",
    "import json\n",
    "import os\n",
    "\n",
    "GPT_MODEL_4 = \"gpt-4-0125-preview\"\n",
    "OPEN_API_KEY = os.getenv(\"OPENAI_API_KEY\")\n",
    "\n",
    "client = OpenAI()\n",
    "model = GPT_MODEL_4\n",
    "\n",
    "def ask(prompt, client, model, temperature = 0):\n",
    "    response = None\n",
    "    \n",
    "    response = client.chat.completions.create(\n",
    "      model=model,\n",
    "      messages=prompt,\n",
    "      temperature=temperature,\n",
    "    )\n",
    "\n",
    "    return response.choices[0].message.content\n",
    "\n",
    "def askJSON(prompt, client, model, temperature = 0):\n",
    "    response = None\n",
    "    \n",
    "    response = client.chat.completions.create(\n",
    "      model=model,\n",
    "      messages=prompt,\n",
    "      temperature=temperature,\n",
    "      response_format={ \"type\": \"json_object\" },\n",
    "    )\n",
    "\n",
    "    return response.choices[0].message.content"
   ]
  },
  {
   "cell_type": "code",
   "execution_count": 7,
   "metadata": {},
   "outputs": [],
   "source": [
    "def write_string_to_file(filename, content):\n",
    "    try:\n",
    "        with open(filename, 'w') as file:\n",
    "            file.write(content)\n",
    "        print(f\"String has been written to {filename}\")\n",
    "    except IOError as e:\n",
    "        print(f\"An error occurred while writing to the file: {e}\")"
   ]
  },
  {
   "cell_type": "code",
   "execution_count": 8,
   "metadata": {},
   "outputs": [],
   "source": [
    "#Prompt\n",
    "MAIN_FLOW_SYSTEM_PROMPT=\"\"\"\n",
    "I want you to act as software tester.\n",
    "Your task is to read this information about one main flow of a use case.\n",
    "Then you predict all scenarios that can happen in this flow.\n",
    "\n",
    "Rules to predict scenarios:\n",
    "- Stay close to the details described in the flow.\n",
    "- Focus on important and likely scenarios, important scenario is the scenario that users are more likely to encounter it. \n",
    "- Minimize the appearance of rare scenarios. \n",
    "- If there is no other action in the flow beside clicking or there is no condition to vary the user's actions, that flow has one scenario only.\n",
    "- A scenario often refers to a specific sequence of events or user actions that could potentially lead to a change in how the application behaves or responds.\n",
    "- Test scenarios should be derived from cohesive sequences of steps that represent meaningful user interactions, rather than isolated steps.\n",
    "- You cannot separate parts of a flow to be a scenario (Example: predict multiple scenarios for a flow by dividing steps into parts) because each scenarios should be independent and require a complete flow to proceed.\n",
    "I only need scenarios's name for the output, I do not need the steps to go with it.\n",
    "\"\"\"\n"
   ]
  },
  {
   "cell_type": "code",
   "execution_count": 9,
   "metadata": {},
   "outputs": [],
   "source": [
    "usecase_name = \"Flashcard\"\n",
    "project_name = \"ShopeeWeb\"\n",
    "main_flow_prompt = \"\"\"\n",
    "basic flow:\n",
    "Step 1: Learner clicks the \"Learn New Word\" tab on the navigation bar.\n",
    "Step 2:The system displays a list of available lessons.\n",
    "Step 3:Learner selects a lesson from the list.\n",
    "Step 4:The system displays the details of the selected lesson, including the topics associated with it.\n",
    "Step 5:Learner chooses a topic to study.\n",
    "Step 6:The system redirects the learner to the corresponding Flashcard page for the selected topic.\n",
    "Step 7:The system displays the first flashcard of the vocabulary words for the selected topic. The front of the flashcard shows the vocabulary name, pronunciation, and Vietnamese meaning.\n",
    "Step 8:Learner click on the flashcard to flip it and view the back, which contains illustrations and examples of real-life usage.\n",
    "Step 9:Learner click the \"Next\" button to go to the flashcard of the next vocabulary word.\n",
    "Step 10:If there is a flashcard of the previous word, learner click the \"Previous\" button to go back to the previous flashcard.\n",
    "Step 11:Steps 8-11 are repeated for all flashcards in the topic.\n",
    "Step 12:Once all the flashcards have been studied, the 'Next' button on the last flashcard will redirect system to the 'completion notification' page with a congratulatory message and option buttons to 'continue studying' and 'return to the lesson page'.\n",
    "Step 13: learner clicks \"return to the lesson page\" \n",
    "Step 14: the system redirect to the lesson page.\n",
    "\"\"\""
   ]
  },
  {
   "cell_type": "code",
   "execution_count": null,
   "metadata": {},
   "outputs": [],
   "source": []
  },
  {
   "cell_type": "code",
   "execution_count": 10,
   "metadata": {},
   "outputs": [
    {
     "name": "stdout",
     "output_type": "stream",
     "text": [
      "TIME 1\n",
      "1. Successful Lesson and Topic Selection and Flashcard Study Flow\n",
      "TIME 2\n",
      "1. Successful Lesson and Topic Selection and Flashcard Study Flow\n",
      "2. Navigation to Previous Flashcard Scenario\n",
      "3. Completion and Return to Lesson Page Scenario\n",
      "TIME 3\n",
      "1. Successful Lesson and Topic Selection with Flashcard Review\n",
      "2. Navigation to Previous Flashcard\n",
      "3. Completion of Flashcard Set and Return to Lesson Page\n"
     ]
    }
   ],
   "source": [
    "\n",
    "for i in range(1,4):\n",
    "  print(\"TIME \"+str(i))\n",
    "  promptMainScenario = [\n",
    "      { \"role\": \"system\", \"content\": MAIN_FLOW_SYSTEM_PROMPT},\n",
    "      { \"role\": \"user\", \"content\": main_flow_prompt}\n",
    "    ]\n",
    "  main_gpt_response = ask(promptMainScenario, client, model)\n",
    "  print(main_gpt_response)"
   ]
  },
  {
   "cell_type": "code",
   "execution_count": 11,
   "metadata": {},
   "outputs": [
    {
     "name": "stdout",
     "output_type": "stream",
     "text": [
      "TIME 1\n",
      "1. Successful Lesson and Topic Selection with Flashcard Review\n",
      "2. Navigation to Previous Flashcard\n",
      "3. Completion of Flashcard Set and Return to Lesson Page\n",
      "TIME 2\n",
      "1. Successful Lesson and Topic Selection and Flashcard Study Flow\n",
      "2. Navigation to Previous Flashcard Scenario\n",
      "3. Completion and Return to Lesson Page Scenario\n",
      "TIME 3\n",
      "1. Successful Lesson and Topic Selection with Flashcard Review Completion\n",
      "2. Navigation to Previous Flashcard\n",
      "3. Navigation to Next Flashcard After Viewing the Last Flashcard\n"
     ]
    }
   ],
   "source": [
    "\n",
    "for i in range(1,4):\n",
    "  print(\"TIME \"+str(i))\n",
    "  promptMainScenario = [\n",
    "      { \"role\": \"system\", \"content\": MAIN_FLOW_SYSTEM_PROMPT},\n",
    "      { \"role\": \"user\", \"content\": main_flow_prompt}\n",
    "    ]\n",
    "  main_gpt_response = ask(promptMainScenario, client, model)\n",
    "  print(main_gpt_response)"
   ]
  },
  {
   "cell_type": "code",
   "execution_count": 12,
   "metadata": {},
   "outputs": [
    {
     "name": "stdout",
     "output_type": "stream",
     "text": [
      "TIME 1\n",
      "1. Successful Lesson and Topic Selection with Flashcard Review\n",
      "2. Navigation to Previous Flashcard\n",
      "3. Completion of Flashcard Set and Return to Lesson Page\n",
      "TIME 2\n",
      "1. Successful Lesson and Topic Selection\n",
      "2. Successful Flashcard Navigation and Study\n",
      "3. Completion and Return to Lesson Page\n",
      "TIME 3\n",
      "1. Successful Lesson and Topic Selection with Flashcard Review\n",
      "2. Navigation to Previous Flashcard\n",
      "3. Completion of Flashcard Set and Return to Lesson Page\n"
     ]
    }
   ],
   "source": [
    "\n",
    "for i in range(1,4):\n",
    "  print(\"TIME \"+str(i))\n",
    "  promptMainScenario = [\n",
    "      { \"role\": \"system\", \"content\": MAIN_FLOW_SYSTEM_PROMPT},\n",
    "      { \"role\": \"user\", \"content\": main_flow_prompt}\n",
    "    ]\n",
    "  main_gpt_response = ask(promptMainScenario, client, model)\n",
    "  print(main_gpt_response)"
   ]
  }
 ],
 "metadata": {
  "kernelspec": {
   "display_name": "Python 3",
   "language": "python",
   "name": "python3"
  },
  "language_info": {
   "codemirror_mode": {
    "name": "ipython",
    "version": 3
   },
   "file_extension": ".py",
   "mimetype": "text/x-python",
   "name": "python",
   "nbconvert_exporter": "python",
   "pygments_lexer": "ipython3",
   "version": "3.10.9"
  }
 },
 "nbformat": 4,
 "nbformat_minor": 2
}
