{
 "cells": [
  {
   "cell_type": "code",
   "execution_count": 226,
   "metadata": {},
   "outputs": [],
   "source": [
    "from openai import OpenAI\n",
    "import json\n",
    "import os\n",
    "\n",
    "GPT_MODEL_3_5 = \"gpt-3.5-turbo-1106\"\n",
    "GPT_MODEL_4 = \"gpt-4-0125-preview\"\n",
    "\n",
    "OPEN_API_KEY = os.getenv(\"OPENAI_API_KEY\")\n",
    "\n",
    "client = OpenAI()\n",
    "model = GPT_MODEL_4\n",
    "\n",
    "def ask(prompt, client, model, temperature = 0):\n",
    "    response = None\n",
    "    \n",
    "    response = client.chat.completions.create(\n",
    "      model=model,\n",
    "      messages=prompt,\n",
    "      temperature=temperature,\n",
    "      response_format={ \"type\": \"json_object\" },\n",
    "    )\n",
    "\n",
    "    return (response.choices[0].message.content)\n",
    "\n",
    "no_condition  = False\n",
    "no_non_condition_flow = False\n",
    "filter_flow = []\n",
    "\n",
    "default_flow = \"Basic flow\"\n"
   ]
  },
  {
   "cell_type": "code",
   "execution_count": 227,
   "metadata": {},
   "outputs": [],
   "source": [
    "def read_file_into_string(file_path):\n",
    "    try:\n",
    "        with open(file_path, 'r') as file:\n",
    "            file_content = file.read()\n",
    "        return file_content\n",
    "    except FileNotFoundError:\n",
    "        print(f\"File '{file_path}' not found.\")\n",
    "        return None\n",
    "    except Exception as e:\n",
    "        print(f\"Error reading file: {e}\")\n",
    "        return None\n"
   ]
  },
  {
   "cell_type": "code",
   "execution_count": 228,
   "metadata": {},
   "outputs": [],
   "source": [
    "def write_to_file(filename, s):\n",
    "    try:\n",
    "        with open(filename, 'w') as file:\n",
    "            file.write(s)\n",
    "        print(\"Content has been written to\", filename)\n",
    "    except Exception as e:\n",
    "        print(\"An error occurred:\", e)"
   ]
  },
  {
   "cell_type": "code",
   "execution_count": 229,
   "metadata": {},
   "outputs": [],
   "source": [
    "file_path_list = [\n",
    "\"D:\\GPT-testing\\SpecificationData\\Book(Github)\\Display genre details.txt\",\n",
    "\"D:\\GPT-testing\\SpecificationData\\Book(Github)\\Display the list of authors.txt\",\n",
    "\"D:\\GPT-testing\\SpecificationData\\Book(Github)\\Display the list of books.txt\",\n",
    "\"D:\\GPT-testing\\SpecificationData\\Book(Github)\\Display the list of genres.txt\",\n",
    "\"D:\\GPT-testing\\SpecificationData\\Book(Github)\\Edit the author.txt\",\n",
    "\"D:\\GPT-testing\\SpecificationData\\Book(Github)\\Edit the book.txt\",\n",
    "\"D:\\GPT-testing\\SpecificationData\\Book(Github)\\Edit the genre.txt\",\n",
    "\"D:\\GPT-testing\\SpecificationData\\Book(Github)\\Remove the author.txt\",\n",
    "\"D:\\GPT-testing\\SpecificationData\\Book(Github)\\Remove the book.txt\",\n",
    "\"D:\\GPT-testing\\SpecificationData\\Book(Github)\\Remove the genre.txt\",\n",
    "\"D:\\GPT-testing\\SpecificationData\\Book(Github)\\Add a new author.txt\",\n",
    "\"D:\\GPT-testing\\SpecificationData\\Book(Github)\\Add a new book.txt\",\n",
    "\"D:\\GPT-testing\\SpecificationData\\Book(Github)\\Add a new genre.txt\",\n",
    "\"D:\\GPT-testing\\SpecificationData\\Book(Github)\\Display author details.txt\",\n",
    "\"D:\\GPT-testing\\SpecificationData\\Book(Github)\\Display book details.txt\"\n",
    "]\n"
   ]
  },
  {
   "cell_type": "code",
   "execution_count": 230,
   "metadata": {},
   "outputs": [
    {
     "name": "stdout",
     "output_type": "stream",
     "text": [
      "D:\\GPT-testing\\SpecificationData\\Book(Github)\\Edit the book.txt\n"
     ]
    }
   ],
   "source": [
    "file_path = file_path_list[5]\n",
    "print(file_path)"
   ]
  },
  {
   "cell_type": "code",
   "execution_count": 231,
   "metadata": {},
   "outputs": [
    {
     "name": "stdout",
     "output_type": "stream",
     "text": [
      "Use case: Edit the book\n",
      "Description\n",
      "The edit page is designed to edit an existing book record in the database.\n",
      "\n",
      "Main scenario:\n",
      "User clicks the \"Update\" button (to the right from the book he/she wants to update) on the book list/details page;\n",
      "Application displays form to enter book data;\n",
      "User enters book data he/she wants to update and presses \"Submit\" button;\n",
      "If any data is entered incorrectly, incorrect data messages are displayed;\n",
      "If entered data is valid, then the book is updated in the database;\n",
      "If an error occurs, then the error message is displayed;\n",
      "If a new book record is successfully updated, then the list of the books with updated records is displayed.\n",
      "\n",
      "Cancel operation scenario:\n",
      "User clicks the \"Update\" button (to the right from the book he/she wants to update) on the book list/details page;\n",
      "Application displays form to enter book data;\n",
      "User may start entering the data into the form fields;\n",
      "Before pressing \"Submit\" button user presses “Cancel” button;\n",
      "Data doesn’t update in the database, then a list of books records is displayed to the user;\n",
      "If the user selects the menu item \"Books”, \"Genres”, \"Authors\", \"Home\" or \"API\", the data will not be update in the database, and the corresponding form with updated data will be opened.\n",
      "\n",
      "When editing a book, the following details are entered:\n",
      "Title\n",
      "Author\n",
      "Genre\n",
      "Description\n",
      "Publication date\n"
     ]
    }
   ],
   "source": [
    "# Example usage:\n",
    "# file_path = \"D:\\GPT-testing\\SpecificationData\\Adventura - Flow only\\Adventura - Filter.txt\"\n",
    "usecase = \"Use case: \"+ read_file_into_string(file_path)\n",
    "if usecase is not None:\n",
    "    print(usecase)"
   ]
  },
  {
   "cell_type": "code",
   "execution_count": 232,
   "metadata": {},
   "outputs": [],
   "source": [
    "SYSTEM_PROMPT_extract_flow =\"\"\"\n",
    "Given use case specification flows.\n",
    "Extract all the contents of flows into json format.\n",
    "Return the flows in json format.\n",
    "{\n",
    "\"Flow name\":[ contents of corresponding flow],\n",
    "}\n",
    "For example: \n",
    "{\n",
    "  \"Main flow:\": [\n",
    "    \"Step 1: Learner fills in the username field by a valid username that has been registered\",\n",
    "    \"Step 2: Learner fills in the password field by the correct password for the corresponding username\",\n",
    "    \"Step 3: Learner press \\\"Login\\\" button\",\n",
    "    \"Step 4: System redirects learner to Home page\"\n",
    "  ],\n",
    "  \"Alternative flow 1: Login by email\": [\n",
    "    \"At step 1 of the basic flow: Learner fills in the username field by a valid email that has been registered\",\n",
    "    \"Step 2: Learner fills in the password field by the correct password for the corresponding email\",\n",
    "    \"Go back to step 3 in the basic flow and continue with the steps from step 3\"\n",
    "  ]\n",
    "}\n",
    "\"\"\""
   ]
  },
  {
   "cell_type": "code",
   "execution_count": 233,
   "metadata": {},
   "outputs": [
    {
     "name": "stdout",
     "output_type": "stream",
     "text": [
      "{\n",
      "  \"Main scenario:\": [\n",
      "    \"User clicks the \\\"Update\\\" button (to the right from the book he/she wants to update) on the book list/details page\",\n",
      "    \"Application displays form to enter book data\",\n",
      "    \"User enters book data he/she wants to update and presses \\\"Submit\\\" button\",\n",
      "    \"If any data is entered incorrectly, incorrect data messages are displayed\",\n",
      "    \"If entered data is valid, then the book is updated in the database\",\n",
      "    \"If an error occurs, then the error message is displayed\",\n",
      "    \"If a new book record is successfully updated, then the list of the books with updated records is displayed\"\n",
      "  ],\n",
      "  \"Cancel operation scenario:\": [\n",
      "    \"User clicks the \\\"Update\\\" button (to the right from the book he/she wants to update) on the book list/details page\",\n",
      "    \"Application displays form to enter book data\",\n",
      "    \"User may start entering the data into the form fields\",\n",
      "    \"Before pressing \\\"Submit\\\" button user presses “Cancel” button\",\n",
      "    \"Data doesn’t update in the database, then a list of books records is displayed to the user\",\n",
      "    \"If the user selects the menu item \\\"Books”, \\\"Genres”, \\\"Authors\\\", \\\"Home\\\" or \\\"API\\\", the data will not be update in the database, and the corresponding form with updated data will be opened.\"\n",
      "  ],\n",
      "  \"Book details entered during editing:\": [\n",
      "    \"Title\",\n",
      "    \"Author\",\n",
      "    \"Genre\",\n",
      "    \"Description\",\n",
      "    \"Publication date\"\n",
      "  ]\n",
      "}\n"
     ]
    }
   ],
   "source": [
    "promptExtractCondtition = [\n",
    "    { \"role\": \"system\", \"content\": SYSTEM_PROMPT_extract_flow},\n",
    "    { \"role\": \"user\", \"content\": usecase}\n",
    "]\n",
    "\n",
    "gpt_response = ask(promptExtractCondtition, client, model)\n",
    "print(gpt_response)\n",
    "usecase_flow = json.loads(gpt_response)\n",
    "flows_name = [key for key in usecase_flow]"
   ]
  },
  {
   "cell_type": "code",
   "execution_count": 234,
   "metadata": {},
   "outputs": [
    {
     "name": "stdout",
     "output_type": "stream",
     "text": [
      "Main scenario:\n"
     ]
    }
   ],
   "source": [
    "for flow_name in flows_name:\n",
    "    if 'Basic' in flow_name:\n",
    "        default_flow = flow_name\n",
    "    if 'Main' in flow_name:\n",
    "        default_flow = flow_name\n",
    "\n",
    "print(default_flow)"
   ]
  },
  {
   "cell_type": "code",
   "execution_count": 235,
   "metadata": {},
   "outputs": [],
   "source": [
    "SYSTEM_PROMPT_extract_condition =\"\"\"\n",
    "Given use case flows of a feature.\n",
    "Your task is to identify all the interactive elements within the application. \n",
    "For each interactive element:\n",
    "Identify what type of that element (button, icon, card, tab, multiple tabs,scroll, text field, radio buttons, dropdown menu, sliders, switches, dialog, link, form,rating, filter, menu).\n",
    "If element is used to input/enter data, then determine all the condition of that element which to make make the input valid and the conditions that would render it invalid base on the description of the use case specification. Do not arbitrarily create additional conditions that not mention in the use case flow. If there is no description. If there is no clear description of the element's condition but only mentions valid, invalid, correct, incorrect, leave \"condition\": {\"valid\": \"valid\", \"invalid\": \"invalid\"}\n",
    "If element is used to select a value, then determine all the value of the element.\n",
    "Return the element extracted in json format.\n",
    "The JSON format should follow the following structure:\n",
    "{\"Name of interactive element\": {\"condition\": \"condition of that element\", \"value\": \"value of that element\", \"type\": \"element type\"}}\n",
    "Examples of output json format template: \n",
    "{\"Username\": {\"condition\": {\"valid\": \"must be over 8 characters and below 30 characters\", \"invalid\": \"below 8 characters or over 30 character\"}, \"value\": [], \"type\": \"text field\"}}\n",
    "{\"Search button\": {\"condition\": {\"valid\": \"\", \"invalid\": \"\"}, \"value\": [], \"type\": \"button\"}}\n",
    "{\"Menu\": {\"condition\": {\"valid\": \"\", \"invalid\": \"\"}, \"value\": ['Dashboard','Homepage','Account'], \"type\": \"menu\"}}\n",
    "\n",
    "\"\"\"\n",
    "\n",
    "#có nên đổi cái code lọc fliter_data không????"
   ]
  },
  {
   "cell_type": "code",
   "execution_count": 236,
   "metadata": {},
   "outputs": [
    {
     "name": "stdout",
     "output_type": "stream",
     "text": [
      "{\n",
      "  \"Update button\": {\n",
      "    \"condition\": {\n",
      "      \"valid\": \"\",\n",
      "      \"invalid\": \"\"\n",
      "    },\n",
      "    \"value\": [],\n",
      "    \"type\": \"button\"\n",
      "  },\n",
      "  \"Submit button\": {\n",
      "    \"condition\": {\n",
      "      \"valid\": \"\",\n",
      "      \"invalid\": \"\"\n",
      "    },\n",
      "    \"value\": [],\n",
      "    \"type\": \"button\"\n",
      "  },\n",
      "  \"Cancel button\": {\n",
      "    \"condition\": {\n",
      "      \"valid\": \"\",\n",
      "      \"invalid\": \"\"\n",
      "    },\n",
      "    \"value\": [],\n",
      "    \"type\": \"button\"\n",
      "  },\n",
      "  \"Title\": {\n",
      "    \"condition\": {\n",
      "      \"valid\": \"valid\",\n",
      "      \"invalid\": \"invalid\"\n",
      "    },\n",
      "    \"value\": [],\n",
      "    \"type\": \"text field\"\n",
      "  },\n",
      "  \"Author\": {\n",
      "    \"condition\": {\n",
      "      \"valid\": \"valid\",\n",
      "      \"invalid\": \"invalid\"\n",
      "    },\n",
      "    \"value\": [],\n",
      "    \"type\": \"text field\"\n",
      "  },\n",
      "  \"Genre\": {\n",
      "    \"condition\": {\n",
      "      \"valid\": \"valid\",\n",
      "      \"invalid\": \"invalid\"\n",
      "    },\n",
      "    \"value\": [],\n",
      "    \"type\": \"text field\"\n",
      "  },\n",
      "  \"Description\": {\n",
      "    \"condition\": {\n",
      "      \"valid\": \"valid\",\n",
      "      \"invalid\": \"invalid\"\n",
      "    },\n",
      "    \"value\": [],\n",
      "    \"type\": \"text field\"\n",
      "  },\n",
      "  \"Publication date\": {\n",
      "    \"condition\": {\n",
      "      \"valid\": \"valid\",\n",
      "      \"invalid\": \"invalid\"\n",
      "    },\n",
      "    \"value\": [],\n",
      "    \"type\": \"text field\"\n",
      "  },\n",
      "  \"Menu\": {\n",
      "    \"condition\": {\n",
      "      \"valid\": \"\",\n",
      "      \"invalid\": \"\"\n",
      "    },\n",
      "    \"value\": [\"Books\", \"Genres\", \"Authors\", \"Home\", \"API\"],\n",
      "    \"type\": \"menu\"\n",
      "  }\n",
      "}\n"
     ]
    }
   ],
   "source": [
    "promptExtractCondtition = [\n",
    "    { \"role\": \"system\", \"content\": SYSTEM_PROMPT_extract_condition},\n",
    "    { \"role\": \"user\", \"content\": str(usecase_flow) }\n",
    "  ]\n",
    "gpt_response = ask(promptExtractCondtition, client, model)\n",
    "print(gpt_response)\n",
    "full_elements = json.loads(gpt_response)"
   ]
  },
  {
   "cell_type": "code",
   "execution_count": 237,
   "metadata": {},
   "outputs": [],
   "source": [
    "filtered_data = {key: value for key, value in full_elements.items() if value['type'] \n",
    "                 not in ['dialog','button', 'tab', 'card','link','icon','scroll bar','scroll']}"
   ]
  },
  {
   "cell_type": "code",
   "execution_count": 238,
   "metadata": {},
   "outputs": [
    {
     "name": "stdout",
     "output_type": "stream",
     "text": [
      "Title\n",
      "{'condition': {'valid': 'valid', 'invalid': 'invalid'}, 'value': [], 'type': 'text field'}\n",
      "Author\n",
      "{'condition': {'valid': 'valid', 'invalid': 'invalid'}, 'value': [], 'type': 'text field'}\n",
      "Genre\n",
      "{'condition': {'valid': 'valid', 'invalid': 'invalid'}, 'value': [], 'type': 'text field'}\n",
      "Description\n",
      "{'condition': {'valid': 'valid', 'invalid': 'invalid'}, 'value': [], 'type': 'text field'}\n",
      "Publication date\n",
      "{'condition': {'valid': 'valid', 'invalid': 'invalid'}, 'value': [], 'type': 'text field'}\n",
      "Menu\n",
      "{'condition': {'valid': '', 'invalid': ''}, 'value': ['Books', 'Genres', 'Authors', 'Home', 'API'], 'type': 'menu'}\n"
     ]
    }
   ],
   "source": [
    "for key, value in filtered_data.items():\n",
    "    print(key)\n",
    "    print(value)    "
   ]
  },
  {
   "cell_type": "code",
   "execution_count": 239,
   "metadata": {},
   "outputs": [],
   "source": [
    "filter_element_click_only = {key: value for key, value in full_elements.items() \n",
    "                             if (value['type'] in ['dialog','button', 'tab', 'card','link','icon','scroll bar','title'] and not value['value'])}"
   ]
  },
  {
   "cell_type": "code",
   "execution_count": 240,
   "metadata": {},
   "outputs": [],
   "source": [
    "filter_element_select_value = {key: value for key, value in full_elements.items() \n",
    "                             if ( value['value'])}"
   ]
  },
  {
   "cell_type": "code",
   "execution_count": 241,
   "metadata": {},
   "outputs": [
    {
     "name": "stdout",
     "output_type": "stream",
     "text": [
      "Menu\n",
      "{'condition': {'valid': '', 'invalid': ''}, 'value': ['Books', 'Genres', 'Authors', 'Home', 'API'], 'type': 'menu'}\n"
     ]
    }
   ],
   "source": [
    "for key, value in filter_element_select_value.items():\n",
    "    print(key)\n",
    "    print(value)    "
   ]
  },
  {
   "cell_type": "code",
   "execution_count": 242,
   "metadata": {},
   "outputs": [],
   "source": [
    "filter_element_enter_value = {key: value for key, value in full_elements.items() \n",
    "                              if (value['type'] in ['text field','text area'] and value['condition']['valid'] and value['condition']['invalid'] )}\n"
   ]
  },
  {
   "cell_type": "code",
   "execution_count": 243,
   "metadata": {},
   "outputs": [
    {
     "name": "stdout",
     "output_type": "stream",
     "text": [
      "Title\n",
      "{'condition': {'valid': 'valid', 'invalid': 'invalid'}, 'value': [], 'type': 'text field'}\n",
      "Author\n",
      "{'condition': {'valid': 'valid', 'invalid': 'invalid'}, 'value': [], 'type': 'text field'}\n",
      "Genre\n",
      "{'condition': {'valid': 'valid', 'invalid': 'invalid'}, 'value': [], 'type': 'text field'}\n",
      "Description\n",
      "{'condition': {'valid': 'valid', 'invalid': 'invalid'}, 'value': [], 'type': 'text field'}\n",
      "Publication date\n",
      "{'condition': {'valid': 'valid', 'invalid': 'invalid'}, 'value': [], 'type': 'text field'}\n"
     ]
    }
   ],
   "source": [
    "for key, value in filter_element_enter_value.items():\n",
    "    print(key)\n",
    "    print(value)    "
   ]
  },
  {
   "cell_type": "code",
   "execution_count": 244,
   "metadata": {},
   "outputs": [],
   "source": [
    "SYSTEM_PROMPT_get_flow_name =\"\"\"\n",
    "Given use case flows of a feature and a list of interaction elements extracted from that use case flows.\n",
    "For each given interactive element:\n",
    "Identify the flow through which the element is interacted in the use case flow and the type of interaction has with the element and who make that interact.\n",
    "Ignore interactive elements not mentioned in the given list.\n",
    "Return the flows in json format.\n",
    "The JSON format should follow the following structure:\n",
    "{\"Name of interactive element\":[{\"flow 1\":[{\"action\":\"interaction 1\",\"by\":\"actor\",\"at sentence\":\"sentence mention that interaction element\"},{\"action\":\"interaction 2\",\"by\":\"actor\",\"at sentence\":\"sentence mention that interaction element\"}]}]}\n",
    "Examples of output json format template: \n",
    "{\"Username\":[{\"Alternative flow 1: Login by valid username\":[{\"action\":\"enter\",\"by\":\"user\",\"at sentence\":\"Step 4: user enter valid username that above 8 and below 10 characters\"}]},{\"Exception flow 1: Login by invalid username\":[{\"action\":\"fill\",\"by\":\"user\",\"at sentence\":\"Step 4: user enter invalid username below 8 characters\"}]}]}\n",
    "{\"Rating filter\":[{\"Alternative flow 1: User rating order\":[{\"action\":\"skip\",\"by\":\"user\",\"at sentence\":\"Step 3: user skip the rating filter select\"},{\"action\":\"select\",\"by\":\"user\",\"at sentence\":\"Step 10: user rate the order by select the number of star\"}]}]}\n",
    "\"\"\"\n"
   ]
  },
  {
   "cell_type": "code",
   "execution_count": 245,
   "metadata": {},
   "outputs": [
    {
     "name": "stdout",
     "output_type": "stream",
     "text": [
      "Element: Title ,Author ,Genre ,Description ,Publication date ,Menu.\n"
     ]
    }
   ],
   "source": [
    "Element = \"Element: \"\n",
    "for key,value in filter_element_enter_value.items():\n",
    "    # print(key)\n",
    "    # print(value)\n",
    "    Element += key+ \" ,\"\n",
    "for key,value in filter_element_select_value.items():\n",
    "    # print(key)\n",
    "    # print(value)\n",
    "    Element += key+ \" ,\"\n",
    "Element = Element[:-2] \n",
    "Element += \".\"\n",
    "print(Element)"
   ]
  },
  {
   "cell_type": "code",
   "execution_count": 246,
   "metadata": {},
   "outputs": [
    {
     "name": "stdout",
     "output_type": "stream",
     "text": [
      "Element: Title ,Author ,Genre ,Description ,Publication date ,Menu.\n",
      "Use case flow:{'Main scenario:': ['User clicks the \"Update\" button (to the right from the book he/she wants to update) on the book list/details page', 'Application displays form to enter book data', 'User enters book data he/she wants to update and presses \"Submit\" button', 'If any data is entered incorrectly, incorrect data messages are displayed', 'If entered data is valid, then the book is updated in the database', 'If an error occurs, then the error message is displayed', 'If a new book record is successfully updated, then the list of the books with updated records is displayed'], 'Cancel operation scenario:': ['User clicks the \"Update\" button (to the right from the book he/she wants to update) on the book list/details page', 'Application displays form to enter book data', 'User may start entering the data into the form fields', 'Before pressing \"Submit\" button user presses “Cancel” button', 'Data doesn’t update in the database, then a list of books records is displayed to the user', 'If the user selects the menu item \"Books”, \"Genres”, \"Authors\", \"Home\" or \"API\", the data will not be update in the database, and the corresponding form with updated data will be opened.'], 'Book details entered during editing:': ['Title', 'Author', 'Genre', 'Description', 'Publication date']}\n"
     ]
    }
   ],
   "source": [
    "print(Element + \"\\nUse case flow:\" + str(usecase_flow)  )"
   ]
  },
  {
   "cell_type": "code",
   "execution_count": 247,
   "metadata": {},
   "outputs": [
    {
     "name": "stdout",
     "output_type": "stream",
     "text": [
      "{\n",
      "  \"Title\": [\n",
      "    {\n",
      "      \"Main scenario:\": [\n",
      "        {\n",
      "          \"action\": \"enter\",\n",
      "          \"by\": \"user\",\n",
      "          \"at sentence\": \"User enters book data he/she wants to update and presses \\\"Submit\\\" button\"\n",
      "        }\n",
      "      ]\n",
      "    },\n",
      "    {\n",
      "      \"Cancel operation scenario:\": [\n",
      "        {\n",
      "          \"action\": \"start entering\",\n",
      "          \"by\": \"user\",\n",
      "          \"at sentence\": \"User may start entering the data into the form fields\"\n",
      "        }\n",
      "      ]\n",
      "    }\n",
      "  ],\n",
      "  \"Author\": [\n",
      "    {\n",
      "      \"Main scenario:\": [\n",
      "        {\n",
      "          \"action\": \"enter\",\n",
      "          \"by\": \"user\",\n",
      "          \"at sentence\": \"User enters book data he/she wants to update and presses \\\"Submit\\\" button\"\n",
      "        }\n",
      "      ]\n",
      "    },\n",
      "    {\n",
      "      \"Cancel operation scenario:\": [\n",
      "        {\n",
      "          \"action\": \"start entering\",\n",
      "          \"by\": \"user\",\n",
      "          \"at sentence\": \"User may start entering the data into the form fields\"\n",
      "        }\n",
      "      ]\n",
      "    }\n",
      "  ],\n",
      "  \"Genre\": [\n",
      "    {\n",
      "      \"Main scenario:\": [\n",
      "        {\n",
      "          \"action\": \"enter\",\n",
      "          \"by\": \"user\",\n",
      "          \"at sentence\": \"User enters book data he/she wants to update and presses \\\"Submit\\\" button\"\n",
      "        }\n",
      "      ]\n",
      "    },\n",
      "    {\n",
      "      \"Cancel operation scenario:\": [\n",
      "        {\n",
      "          \"action\": \"start entering\",\n",
      "          \"by\": \"user\",\n",
      "          \"at sentence\": \"User may start entering the data into the form fields\"\n",
      "        }\n",
      "      ]\n",
      "    }\n",
      "  ],\n",
      "  \"Description\": [\n",
      "    {\n",
      "      \"Main scenario:\": [\n",
      "        {\n",
      "          \"action\": \"enter\",\n",
      "          \"by\": \"user\",\n",
      "          \"at sentence\": \"User enters book data he/she wants to update and presses \\\"Submit\\\" button\"\n",
      "        }\n",
      "      ]\n",
      "    },\n",
      "    {\n",
      "      \"Cancel operation scenario:\": [\n",
      "        {\n",
      "          \"action\": \"start entering\",\n",
      "          \"by\": \"user\",\n",
      "          \"at sentence\": \"User may start entering the data into the form fields\"\n",
      "        }\n",
      "      ]\n",
      "    }\n",
      "  ],\n",
      "  \"Publication date\": [\n",
      "    {\n",
      "      \"Main scenario:\": [\n",
      "        {\n",
      "          \"action\": \"enter\",\n",
      "          \"by\": \"user\",\n",
      "          \"at sentence\": \"User enters book data he/she wants to update and presses \\\"Submit\\\" button\"\n",
      "        }\n",
      "      ]\n",
      "    },\n",
      "    {\n",
      "      \"Cancel operation scenario:\": [\n",
      "        {\n",
      "          \"action\": \"start entering\",\n",
      "          \"by\": \"user\",\n",
      "          \"at sentence\": \"User may start entering the data into the form fields\"\n",
      "        }\n",
      "      ]\n",
      "    }\n",
      "  ],\n",
      "  \"Menu\": [\n",
      "    {\n",
      "      \"Cancel operation scenario:\": [\n",
      "        {\n",
      "          \"action\": \"select\",\n",
      "          \"by\": \"user\",\n",
      "          \"at sentence\": \"If the user selects the menu item \\\"Books”, \\\"Genres”, \\\"Authors\\\", \\\"Home\\\" or \\\"API\\\", the data will not be update in the database, and the corresponding form with updated data will be opened.\"\n",
      "        }\n",
      "      ]\n",
      "    }\n",
      "  ]\n",
      "}\n",
      "{'Title': [{'Main scenario:': [{'action': 'enter', 'by': 'user', 'at sentence': 'User enters book data he/she wants to update and presses \"Submit\" button'}]}, {'Cancel operation scenario:': [{'action': 'start entering', 'by': 'user', 'at sentence': 'User may start entering the data into the form fields'}]}], 'Author': [{'Main scenario:': [{'action': 'enter', 'by': 'user', 'at sentence': 'User enters book data he/she wants to update and presses \"Submit\" button'}]}, {'Cancel operation scenario:': [{'action': 'start entering', 'by': 'user', 'at sentence': 'User may start entering the data into the form fields'}]}], 'Genre': [{'Main scenario:': [{'action': 'enter', 'by': 'user', 'at sentence': 'User enters book data he/she wants to update and presses \"Submit\" button'}]}, {'Cancel operation scenario:': [{'action': 'start entering', 'by': 'user', 'at sentence': 'User may start entering the data into the form fields'}]}], 'Description': [{'Main scenario:': [{'action': 'enter', 'by': 'user', 'at sentence': 'User enters book data he/she wants to update and presses \"Submit\" button'}]}, {'Cancel operation scenario:': [{'action': 'start entering', 'by': 'user', 'at sentence': 'User may start entering the data into the form fields'}]}], 'Publication date': [{'Main scenario:': [{'action': 'enter', 'by': 'user', 'at sentence': 'User enters book data he/she wants to update and presses \"Submit\" button'}]}, {'Cancel operation scenario:': [{'action': 'start entering', 'by': 'user', 'at sentence': 'User may start entering the data into the form fields'}]}], 'Menu': [{'Cancel operation scenario:': [{'action': 'select', 'by': 'user', 'at sentence': 'If the user selects the menu item \"Books”, \"Genres”, \"Authors\", \"Home\" or \"API\", the data will not be update in the database, and the corresponding form with updated data will be opened.'}]}]}\n"
     ]
    }
   ],
   "source": [
    "if(len(filter_element_enter_value) != 0 or len(filter_element_select_value) !=0 ):\n",
    "  promptExtractCondtition = [\n",
    "      { \"role\": \"system\", \"content\": SYSTEM_PROMPT_get_flow_name},\n",
    "      { \"role\": \"user\", \"content\":Element + \"\\nUse case flow:\" + str(usecase_flow) }\n",
    "    ]\n",
    "  gpt_response = ask(promptExtractCondtition, client, model)\n",
    "  print(gpt_response)\n",
    "  element_actions_flow = json.loads(gpt_response)\n",
    "  print(element_actions_flow)"
   ]
  },
  {
   "cell_type": "code",
   "execution_count": 248,
   "metadata": {},
   "outputs": [],
   "source": [
    "non_actions = ['display','show']\n",
    "non_actors = ['system','System']"
   ]
  },
  {
   "cell_type": "code",
   "execution_count": 249,
   "metadata": {},
   "outputs": [
    {
     "name": "stdout",
     "output_type": "stream",
     "text": [
      "{\n",
      "  \"Title\": [\n",
      "    {\n",
      "      \"Main scenario:\": [\n",
      "        {\n",
      "          \"action\": \"enter\",\n",
      "          \"by\": \"user\",\n",
      "          \"at sentence\": \"User enters book data he/she wants to update and presses \\\"Submit\\\" button\"\n",
      "        }\n",
      "      ]\n",
      "    },\n",
      "    {\n",
      "      \"Cancel operation scenario:\": [\n",
      "        {\n",
      "          \"action\": \"start entering\",\n",
      "          \"by\": \"user\",\n",
      "          \"at sentence\": \"User may start entering the data into the form fields\"\n",
      "        }\n",
      "      ]\n",
      "    }\n",
      "  ],\n",
      "  \"Author\": [\n",
      "    {\n",
      "      \"Main scenario:\": [\n",
      "        {\n",
      "          \"action\": \"enter\",\n",
      "          \"by\": \"user\",\n",
      "          \"at sentence\": \"User enters book data he/she wants to update and presses \\\"Submit\\\" button\"\n",
      "        }\n",
      "      ]\n",
      "    },\n",
      "    {\n",
      "      \"Cancel operation scenario:\": [\n",
      "        {\n",
      "          \"action\": \"start entering\",\n",
      "          \"by\": \"user\",\n",
      "          \"at sentence\": \"User may start entering the data into the form fields\"\n",
      "        }\n",
      "      ]\n",
      "    }\n",
      "  ],\n",
      "  \"Genre\": [\n",
      "    {\n",
      "      \"Main scenario:\": [\n",
      "        {\n",
      "          \"action\": \"enter\",\n",
      "          \"by\": \"user\",\n",
      "          \"at sentence\": \"User enters book data he/she wants to update and presses \\\"Submit\\\" button\"\n",
      "        }\n",
      "      ]\n",
      "    },\n",
      "    {\n",
      "      \"Cancel operation scenario:\": [\n",
      "        {\n",
      "          \"action\": \"start entering\",\n",
      "          \"by\": \"user\",\n",
      "          \"at sentence\": \"User may start entering the data into the form fields\"\n",
      "        }\n",
      "      ]\n",
      "    }\n",
      "  ],\n",
      "  \"Description\": [\n",
      "    {\n",
      "      \"Main scenario:\": [\n",
      "        {\n",
      "          \"action\": \"enter\",\n",
      "          \"by\": \"user\",\n",
      "          \"at sentence\": \"User enters book data he/she wants to update and presses \\\"Submit\\\" button\"\n",
      "        }\n",
      "      ]\n",
      "    },\n",
      "    {\n",
      "      \"Cancel operation scenario:\": [\n",
      "        {\n",
      "          \"action\": \"start entering\",\n",
      "          \"by\": \"user\",\n",
      "          \"at sentence\": \"User may start entering the data into the form fields\"\n",
      "        }\n",
      "      ]\n",
      "    }\n",
      "  ],\n",
      "  \"Publication date\": [\n",
      "    {\n",
      "      \"Main scenario:\": [\n",
      "        {\n",
      "          \"action\": \"enter\",\n",
      "          \"by\": \"user\",\n",
      "          \"at sentence\": \"User enters book data he/she wants to update and presses \\\"Submit\\\" button\"\n",
      "        }\n",
      "      ]\n",
      "    },\n",
      "    {\n",
      "      \"Cancel operation scenario:\": [\n",
      "        {\n",
      "          \"action\": \"start entering\",\n",
      "          \"by\": \"user\",\n",
      "          \"at sentence\": \"User may start entering the data into the form fields\"\n",
      "        }\n",
      "      ]\n",
      "    }\n",
      "  ],\n",
      "  \"Menu\": [\n",
      "    {\n",
      "      \"Cancel operation scenario:\": [\n",
      "        {\n",
      "          \"action\": \"select\",\n",
      "          \"by\": \"user\",\n",
      "          \"at sentence\": \"If the user selects the menu item \\\"Books\\u201d, \\\"Genres\\u201d, \\\"Authors\\\", \\\"Home\\\" or \\\"API\\\", the data will not be update in the database, and the corresponding form with updated data will be opened.\"\n",
      "        }\n",
      "      ]\n",
      "    }\n",
      "  ]\n",
      "}\n"
     ]
    }
   ],
   "source": [
    "if(len(filter_element_enter_value) != 0 or len(filter_element_select_value) !=0  ):\n",
    "\n",
    "    for flow_lists_log in element_actions_flow.values():\n",
    "        for flow_list_element in flow_lists_log:\n",
    "            flows_to_delete = []\n",
    "            for flow_name, actions in flow_list_element.items():\n",
    "                filtered_actions = []\n",
    "                for action in actions:\n",
    "                    if(default_flow in flow_name and 'At step' in action['at sentence'] ):\n",
    "                        continue\n",
    "\n",
    "                    if (action['action'] not in non_actions and action['by'] not in non_actors): \n",
    "                        filtered_actions.append(action)\n",
    "\n",
    "                flow_list_element[flow_name] = filtered_actions\n",
    "                if not filtered_actions:\n",
    "                    flows_to_delete.append(flow_name)\n",
    "            flows_to_delete = list(set(flows_to_delete))\n",
    "            for flow_name in flows_to_delete:\n",
    "                del flow_list_element[flow_name]\n",
    "\n",
    "    # Convert modified data back to JSON\n",
    "    modified_json_content = json.dumps(element_actions_flow, indent=2)\n",
    "    print(modified_json_content)\n",
    "    element_flow = element_actions_flow.copy()"
   ]
  },
  {
   "cell_type": "code",
   "execution_count": 250,
   "metadata": {},
   "outputs": [
    {
     "name": "stdout",
     "output_type": "stream",
     "text": [
      "{'Menu': {'condition': {'valid': '', 'invalid': ''}, 'value': ['Books', 'Genres', 'Authors', 'Home', 'API'], 'type': 'menu'}}\n",
      "{'Title': {'condition': {'valid': 'valid', 'invalid': 'invalid'}, 'value': [], 'type': 'text field'}, 'Author': {'condition': {'valid': 'valid', 'invalid': 'invalid'}, 'value': [], 'type': 'text field'}, 'Genre': {'condition': {'valid': 'valid', 'invalid': 'invalid'}, 'value': [], 'type': 'text field'}, 'Description': {'condition': {'valid': 'valid', 'invalid': 'invalid'}, 'value': [], 'type': 'text field'}, 'Publication date': {'condition': {'valid': 'valid', 'invalid': 'invalid'}, 'value': [], 'type': 'text field'}}\n"
     ]
    }
   ],
   "source": [
    "print(filter_element_select_value)\n",
    "print(filter_element_enter_value)\n",
    "filter_element_select_value_flow_list = []\n",
    "filter_element_enter_value_flow_list = []\n"
   ]
  },
  {
   "cell_type": "code",
   "execution_count": 251,
   "metadata": {},
   "outputs": [
    {
     "name": "stdout",
     "output_type": "stream",
     "text": [
      "{'Title': [{'Main scenario:': [{'action': 'enter', 'by': 'user', 'at sentence': 'User enters book data he/she wants to update and presses \"Submit\" button'}]}, {'Cancel operation scenario:': [{'action': 'start entering', 'by': 'user', 'at sentence': 'User may start entering the data into the form fields'}]}], 'Author': [{'Main scenario:': [{'action': 'enter', 'by': 'user', 'at sentence': 'User enters book data he/she wants to update and presses \"Submit\" button'}]}, {'Cancel operation scenario:': [{'action': 'start entering', 'by': 'user', 'at sentence': 'User may start entering the data into the form fields'}]}], 'Genre': [{'Main scenario:': [{'action': 'enter', 'by': 'user', 'at sentence': 'User enters book data he/she wants to update and presses \"Submit\" button'}]}, {'Cancel operation scenario:': [{'action': 'start entering', 'by': 'user', 'at sentence': 'User may start entering the data into the form fields'}]}], 'Description': [{'Main scenario:': [{'action': 'enter', 'by': 'user', 'at sentence': 'User enters book data he/she wants to update and presses \"Submit\" button'}]}, {'Cancel operation scenario:': [{'action': 'start entering', 'by': 'user', 'at sentence': 'User may start entering the data into the form fields'}]}], 'Publication date': [{'Main scenario:': [{'action': 'enter', 'by': 'user', 'at sentence': 'User enters book data he/she wants to update and presses \"Submit\" button'}]}, {'Cancel operation scenario:': [{'action': 'start entering', 'by': 'user', 'at sentence': 'User may start entering the data into the form fields'}]}], 'Menu': [{'Cancel operation scenario:': [{'action': 'select', 'by': 'user', 'at sentence': 'If the user selects the menu item \"Books”, \"Genres”, \"Authors\", \"Home\" or \"API\", the data will not be update in the database, and the corresponding form with updated data will be opened.'}]}]}\n"
     ]
    }
   ],
   "source": [
    "if(len(filter_element_enter_value) != 0 or len(filter_element_select_value) !=0  ):\n",
    "    print(element_flow)"
   ]
  },
  {
   "cell_type": "code",
   "execution_count": 252,
   "metadata": {},
   "outputs": [
    {
     "name": "stdout",
     "output_type": "stream",
     "text": [
      "['Cancel operation scenario:']\n"
     ]
    }
   ],
   "source": [
    "if(len(filter_element_enter_value) != 0 or len(filter_element_select_value) !=0  ):\n",
    "    for key in filter_element_select_value:\n",
    "        if key in element_flow:\n",
    "            for obj in element_flow[key]:\n",
    "                filter_element_select_value_flow_list.extend(obj.keys())\n",
    "\n",
    "        else:\n",
    "            print(f\"No flow found for '{key}' in element_flow.\")\n",
    "    filter_element_select_value_flow_list = list(set(filter_element_select_value_flow_list))\n",
    "    print(filter_element_select_value_flow_list)\n"
   ]
  },
  {
   "cell_type": "code",
   "execution_count": 253,
   "metadata": {},
   "outputs": [
    {
     "name": "stdout",
     "output_type": "stream",
     "text": [
      "['Cancel operation scenario:', 'Main scenario:']\n"
     ]
    }
   ],
   "source": [
    "if(len(filter_element_enter_value) != 0 or len(filter_element_select_value) !=0  ):\n",
    "    for key in filter_element_enter_value:\n",
    "        if key in element_flow:\n",
    "            for obj in element_flow[key]:\n",
    "                filter_element_enter_value_flow_list.extend(obj.keys())\n",
    "\n",
    "        else:\n",
    "            print(f\"No flow found for '{key}' in element_flow.\")\n",
    "\n",
    "    filter_element_enter_value_flow_list = list(set(filter_element_enter_value_flow_list))\n",
    "    print(filter_element_enter_value_flow_list)"
   ]
  },
  {
   "cell_type": "code",
   "execution_count": 254,
   "metadata": {},
   "outputs": [
    {
     "name": "stdout",
     "output_type": "stream",
     "text": [
      "['Main scenario:', 'Cancel operation scenario:', 'Book details entered during editing:']\n",
      "['Book details entered during editing:']\n"
     ]
    }
   ],
   "source": [
    "# flow with input value\n",
    "click_only_flow_name = flows_name.copy()\n",
    "print(flows_name)\n",
    "\n",
    "for key in flows_name:\n",
    "     for key_check in filter_element_enter_value_flow_list:\n",
    "        if (key in key_check or key_check in key) and key in click_only_flow_name:\n",
    "            click_only_flow_name.remove(key)\n",
    "        \n",
    "for key in flows_name:\n",
    "    for key_check in filter_element_select_value_flow_list:\n",
    "        if (key in key_check or key_check in key) and key in click_only_flow_name:\n",
    "            click_only_flow_name.remove(key)\n",
    "print(click_only_flow_name)\n",
    "# click_only_flow_name = [key for key in flows_name if key not in filter_element_enter_value_flow_list]\n",
    "# click_only_flow_name = [key for key in click_only_flow_name if key not in filter_element_select_value_flow_list]\n",
    "\n"
   ]
  },
  {
   "cell_type": "code",
   "execution_count": 255,
   "metadata": {},
   "outputs": [
    {
     "name": "stdout",
     "output_type": "stream",
     "text": [
      "['Main scenario:', 'Cancel operation scenario:', 'Book details entered during editing:']\n",
      "['Cancel operation scenario:', 'Main scenario:']\n",
      "['Cancel operation scenario:']\n",
      "['Book details entered during editing:']\n"
     ]
    }
   ],
   "source": [
    "print(flows_name)\n",
    "print(filter_element_enter_value_flow_list)\n",
    "print(filter_element_select_value_flow_list)\n",
    "print(click_only_flow_name)\n"
   ]
  },
  {
   "cell_type": "code",
   "execution_count": 256,
   "metadata": {},
   "outputs": [
    {
     "name": "stdout",
     "output_type": "stream",
     "text": [
      "click_only_flows = {'Book details entered during editing:': ['Title', 'Author', 'Genre', 'Description', 'Publication date']}\n"
     ]
    }
   ],
   "source": [
    "click_only_flows = {}\n",
    "\n",
    "for key,value in usecase_flow.items():\n",
    "    if key in click_only_flow_name:\n",
    "        click_only_flows[key] = value\n",
    "\n",
    "print(\"click_only_flows = \" + str(click_only_flows))\n"
   ]
  },
  {
   "cell_type": "code",
   "execution_count": 257,
   "metadata": {},
   "outputs": [
    {
     "name": "stdout",
     "output_type": "stream",
     "text": [
      "input_flows = {'Main scenario:': ['User clicks the \"Update\" button (to the right from the book he/she wants to update) on the book list/details page', 'Application displays form to enter book data', 'User enters book data he/she wants to update and presses \"Submit\" button', 'If any data is entered incorrectly, incorrect data messages are displayed', 'If entered data is valid, then the book is updated in the database', 'If an error occurs, then the error message is displayed', 'If a new book record is successfully updated, then the list of the books with updated records is displayed'], 'Cancel operation scenario:': ['User clicks the \"Update\" button (to the right from the book he/she wants to update) on the book list/details page', 'Application displays form to enter book data', 'User may start entering the data into the form fields', 'Before pressing \"Submit\" button user presses “Cancel” button', 'Data doesn’t update in the database, then a list of books records is displayed to the user', 'If the user selects the menu item \"Books”, \"Genres”, \"Authors\", \"Home\" or \"API\", the data will not be update in the database, and the corresponding form with updated data will be opened.']}\n",
      "dict_keys(['Main scenario:', 'Cancel operation scenario:'])\n"
     ]
    }
   ],
   "source": [
    "input_flows = {}\n",
    "\n",
    "for key,value in usecase_flow.items():\n",
    "    if key in filter_element_enter_value_flow_list:\n",
    "        input_flows[key] = value\n",
    "\n",
    "print(\"input_flows = \" + str(input_flows))\n",
    "print(input_flows.keys())\n"
   ]
  },
  {
   "cell_type": "code",
   "execution_count": 258,
   "metadata": {},
   "outputs": [
    {
     "name": "stdout",
     "output_type": "stream",
     "text": [
      "select_flows = {'Cancel operation scenario:': ['User clicks the \"Update\" button (to the right from the book he/she wants to update) on the book list/details page', 'Application displays form to enter book data', 'User may start entering the data into the form fields', 'Before pressing \"Submit\" button user presses “Cancel” button', 'Data doesn’t update in the database, then a list of books records is displayed to the user', 'If the user selects the menu item \"Books”, \"Genres”, \"Authors\", \"Home\" or \"API\", the data will not be update in the database, and the corresponding form with updated data will be opened.']}\n"
     ]
    }
   ],
   "source": [
    "select_flows = {}\n",
    "\n",
    "for key,value in usecase_flow.items():\n",
    "    if key in filter_element_select_value_flow_list:\n",
    "        select_flows[key] = value\n",
    "\n",
    "print(\"select_flows = \" + str(select_flows))"
   ]
  },
  {
   "cell_type": "code",
   "execution_count": 259,
   "metadata": {},
   "outputs": [],
   "source": [
    "SYSTEM_PROMPT_gen_no_condition_test_scenarios =\"\"\"\n",
    "Given use case specification flows.\n",
    "Your task is to generate one test scenario only to test each given flow.\n",
    "Return the test scenarios generated in json format.\n",
    "The JSON format should follow the following structure:\n",
    "{\n",
    "    \"Test Scenarios\":[ \"name of test scenario\"]\n",
    "  }\n",
    "For example :\n",
    "{\n",
    "  \"Test Scenarios\": [\n",
    "    \"Verify that users can successfully create a new account with valid credentials.\"\n",
    "  ]\n",
    "}\n",
    "\"\"\""
   ]
  },
  {
   "cell_type": "code",
   "execution_count": 260,
   "metadata": {},
   "outputs": [],
   "source": [
    "SYSTEM_PROMPT_gen_test_scenarios_input_element =\"\"\"\n",
    "Given a list of interaction element for input value and their extracted conditions and use case flows that reflect those element.\n",
    "Your task is to generate a comprehensive set of test scenarios that test all given the conditions of given elements.\n",
    "The test scenarios generated must have clear conditions descritions and mention conditions is tested but do not need example data. \n",
    "The positive test scenarios generated must verify the combination of valid elements (the combination follow the description in the use case flow). \n",
    "The negative test scenarios generated must verify only one given invalid condition at a time. If there is no invalid condition, you don't need to write negative test scenario.\n",
    "For cases where the invalid condition does not have a corresponding output description, predict the possible outcome to test.\n",
    "\n",
    "Return the test scenarios generated in json format.\n",
    "The JSON format should follow the following structure:\n",
    "{\n",
    "  \"Positive Test Scenarios\": [{ \"positive test scenario description\": {\"conditions\": conditions tested}}],\n",
    "  \"Negative Test Scenarios\": [{ \"negative test scenario description\": {\"conditions\": conditions tested}}]\n",
    "  }\n",
    "\n",
    "An example of a test scenario: \n",
    "{\n",
    "  \"Positive Test Scenarios\": [{ \"Verify that users can successfully create a new account with valid email and valid passowrd.\": {\"conditions\": login with email}}],\n",
    "  \"Negative Test Scenarios\": [{\"Verify that the system shows a notification for invalid password when the password is missing upper character\": {\"conditions\": password must have at least one upper character }}}]\n",
    "  }\n",
    "\"\"\""
   ]
  },
  {
   "cell_type": "code",
   "execution_count": 261,
   "metadata": {},
   "outputs": [],
   "source": [
    "SYSTEM_PROMPT_gen_test_scenarios_select_element =\"\"\"\n",
    "Given a list of element for selecting value, their value options and use case flows use given element.\n",
    "For each given element:\n",
    "Generate only one test scenario for each element value options. \n",
    "Generate test scenarios for the condition (valid, invalid) if element mentions.\n",
    "\n",
    "Do not generate test scenario to test element that not mention in the given element list.\n",
    "\n",
    "The JSON format should follow the following structure:\n",
    "{\n",
    "    \"Test Scenarios\":[ \"description of scenario 1\"]\n",
    "  }\n",
    "For example :\n",
    "{\n",
    "  \"Test Scenarios\": [\n",
    "    \"Verify that users can successfully create a new account with valid credentials.\"\n",
    "  ]\n",
    "}\n",
    "\"\"\"\n",
    "# Generate test scenarios to test the selection for each element's value.\n"
   ]
  },
  {
   "cell_type": "code",
   "execution_count": 262,
   "metadata": {},
   "outputs": [],
   "source": [
    "all_test_scenario = []"
   ]
  },
  {
   "cell_type": "code",
   "execution_count": 263,
   "metadata": {},
   "outputs": [
    {
     "name": "stdout",
     "output_type": "stream",
     "text": [
      "{\n",
      "  \"Test Scenarios\": [\n",
      "    \"Verify that users can successfully edit a book's details including Title, Author, Genre, Description, and Publication date.\"\n",
      "  ]\n",
      "}\n"
     ]
    }
   ],
   "source": [
    "\n",
    "if( len(click_only_flows)!= 0 ):\n",
    "    promptExtractCondtition = [\n",
    "    { \"role\": \"system\", \"content\": SYSTEM_PROMPT_gen_no_condition_test_scenarios},\n",
    "    { \"role\": \"user\", \"content\": str(click_only_flows) }\n",
    "  ]\n",
    "\n",
    "    gpt_response = ask(promptExtractCondtition, client, model)\n",
    "    print(gpt_response)\n",
    "    temp = json.loads(gpt_response)[\"Test Scenarios\"]\n",
    "    all_test_scenario.extend(temp)\n",
    "\n",
    "    "
   ]
  },
  {
   "cell_type": "code",
   "execution_count": 264,
   "metadata": {},
   "outputs": [
    {
     "name": "stdout",
     "output_type": "stream",
     "text": [
      "Element: {'Title': {'condition': {'valid': 'valid', 'invalid': 'invalid'}, 'value': [], 'type': 'text field'}, 'Author': {'condition': {'valid': 'valid', 'invalid': 'invalid'}, 'value': [], 'type': 'text field'}, 'Genre': {'condition': {'valid': 'valid', 'invalid': 'invalid'}, 'value': [], 'type': 'text field'}, 'Description': {'condition': {'valid': 'valid', 'invalid': 'invalid'}, 'value': [], 'type': 'text field'}, 'Publication date': {'condition': {'valid': 'valid', 'invalid': 'invalid'}, 'value': [], 'type': 'text field'}}\n",
      "Use case:{'Main scenario:': ['User clicks the \"Update\" button (to the right from the book he/she wants to update) on the book list/details page', 'Application displays form to enter book data', 'User enters book data he/she wants to update and presses \"Submit\" button', 'If any data is entered incorrectly, incorrect data messages are displayed', 'If entered data is valid, then the book is updated in the database', 'If an error occurs, then the error message is displayed', 'If a new book record is successfully updated, then the list of the books with updated records is displayed'], 'Cancel operation scenario:': ['User clicks the \"Update\" button (to the right from the book he/she wants to update) on the book list/details page', 'Application displays form to enter book data', 'User may start entering the data into the form fields', 'Before pressing \"Submit\" button user presses “Cancel” button', 'Data doesn’t update in the database, then a list of books records is displayed to the user', 'If the user selects the menu item \"Books”, \"Genres”, \"Authors\", \"Home\" or \"API\", the data will not be update in the database, and the corresponding form with updated data will be opened.']}\n"
     ]
    }
   ],
   "source": [
    "print(\"Element: \"+str(filter_element_enter_value) +\"\\nUse case:\" +str(input_flows) )"
   ]
  },
  {
   "cell_type": "code",
   "execution_count": 265,
   "metadata": {},
   "outputs": [
    {
     "name": "stdout",
     "output_type": "stream",
     "text": [
      "All Test Scenario Names:\n",
      "[\n",
      "  \"Verify that the book record is successfully updated with valid Title, Author, Genre, Description, and Publication date\",\n",
      "  \"Verify that the system shows an error message when the Title is invalid\",\n",
      "  \"Verify that the system shows an error message when the Author is invalid\",\n",
      "  \"Verify that the system shows an error message when the Genre is invalid\",\n",
      "  \"Verify that the system shows an error message when the Description is invalid\",\n",
      "  \"Verify that the system shows an error message when the Publication date is invalid\"\n",
      "]\n"
     ]
    }
   ],
   "source": [
    "\n",
    "if( len(filter_element_enter_value)!= 0 ):\n",
    "    promptExtractCondtition = [\n",
    "    { \"role\": \"system\", \"content\": SYSTEM_PROMPT_gen_test_scenarios_input_element},\n",
    "    { \"role\": \"user\", \"content\": \"Element: \"+str(filter_element_enter_value) +\"\\nUse case:\" +str(input_flows)  }\n",
    "  ]\n",
    "\n",
    "    gpt_response = ask(promptExtractCondtition, client, model)\n",
    "    data = json.loads(gpt_response)\n",
    "\n",
    "    # Extract only the test scenario names\n",
    "    all_scenario_names = []\n",
    "    for scenario_type in data:\n",
    "        for scenario in data[scenario_type]:\n",
    "            scenario_desc = list(scenario.keys())[0]\n",
    "            all_scenario_names.append(scenario_desc)\n",
    "\n",
    "    print(\"All Test Scenario Names:\")\n",
    "    print(json.dumps(all_scenario_names, indent=2))\n",
    "    all_test_scenario.extend(all_scenario_names)\n",
    "    \n"
   ]
  },
  {
   "cell_type": "code",
   "execution_count": 266,
   "metadata": {},
   "outputs": [
    {
     "name": "stdout",
     "output_type": "stream",
     "text": [
      "{\n",
      "  \"Test Scenarios\": [\n",
      "    \"Verify that selecting 'Books' from the menu after starting but canceling an update operation does not update data in the database and opens the books list.\",\n",
      "    \"Verify that selecting 'Genres' from the menu after starting but canceling an update operation does not update data in the database and opens the genres list.\",\n",
      "    \"Verify that selecting 'Authors' from the menu after starting but canceling an update operation does not update data in the database and opens the authors list.\",\n",
      "    \"Verify that selecting 'Home' from the menu after starting but canceling an update operation does not update data in the database and returns the user to the home page.\",\n",
      "    \"Verify that selecting 'API' from the menu after starting but canceling an update operation does not update data in the database and opens the API documentation page.\"\n",
      "  ]\n",
      "}\n"
     ]
    }
   ],
   "source": [
    "if( len(filter_element_select_value)!= 0):\n",
    "    promptExtractCondtition = [\n",
    "    { \"role\": \"system\", \"content\": SYSTEM_PROMPT_gen_test_scenarios_select_element},\n",
    "    { \"role\": \"user\", \"content\": str(select_flows) + \"Element: \"+str(filter_element_select_value) }\n",
    "  ]\n",
    "\n",
    "    gpt_response = ask(promptExtractCondtition, client, model)\n",
    "    print(gpt_response)\n",
    "    select_testscenario = json.loads(gpt_response)[\"Test Scenarios\"]\n",
    "    all_test_scenario.extend(select_testscenario)\n",
    "    "
   ]
  },
  {
   "cell_type": "code",
   "execution_count": 267,
   "metadata": {},
   "outputs": [
    {
     "name": "stdout",
     "output_type": "stream",
     "text": [
      "{'Menu': {'condition': {'valid': '', 'invalid': ''}, 'value': ['Books', 'Genres', 'Authors', 'Home', 'API'], 'type': 'menu'}}\n"
     ]
    }
   ],
   "source": [
    "print(filter_element_select_value)\n"
   ]
  },
  {
   "cell_type": "code",
   "execution_count": 268,
   "metadata": {},
   "outputs": [
    {
     "name": "stdout",
     "output_type": "stream",
     "text": [
      "D:\\GPT-testing\\ResultSet\\4.21 - best version\\Propse 1\\\\Book(Github)\\Edit the book.txt\n"
     ]
    }
   ],
   "source": [
    "test_scenario_file_path = file_path.replace(\"SpecificationData\", \"ResultSet\\\\4.21 - best version\\\\Propse 1\\\\\")\n",
    "print(test_scenario_file_path)"
   ]
  },
  {
   "cell_type": "code",
   "execution_count": 269,
   "metadata": {},
   "outputs": [
    {
     "name": "stdout",
     "output_type": "stream",
     "text": [
      "Verify that users can successfully edit a book's details including Title, Author, Genre, Description, and Publication date.\n",
      "Verify that the book record is successfully updated with valid Title, Author, Genre, Description, and Publication date\n",
      "Verify that the system shows an error message when the Title is invalid\n",
      "Verify that the system shows an error message when the Author is invalid\n",
      "Verify that the system shows an error message when the Genre is invalid\n",
      "Verify that the system shows an error message when the Description is invalid\n",
      "Verify that the system shows an error message when the Publication date is invalid\n",
      "Verify that selecting 'Books' from the menu after starting but canceling an update operation does not update data in the database and opens the books list.\n",
      "Verify that selecting 'Genres' from the menu after starting but canceling an update operation does not update data in the database and opens the genres list.\n",
      "Verify that selecting 'Authors' from the menu after starting but canceling an update operation does not update data in the database and opens the authors list.\n",
      "Verify that selecting 'Home' from the menu after starting but canceling an update operation does not update data in the database and returns the user to the home page.\n",
      "Verify that selecting 'API' from the menu after starting but canceling an update operation does not update data in the database and opens the API documentation page.\n"
     ]
    }
   ],
   "source": [
    "for i in (all_test_scenario):\n",
    "    print(i)"
   ]
  },
  {
   "cell_type": "code",
   "execution_count": 270,
   "metadata": {},
   "outputs": [
    {
     "name": "stdout",
     "output_type": "stream",
     "text": [
      "Content has been written to D:\\GPT-testing\\ResultSet\\4.21 - best version\\Propse 1\\\\Book(Github)\\Edit the book.txt\n"
     ]
    }
   ],
   "source": [
    "write_to_file(test_scenario_file_path,\"\")"
   ]
  }
 ],
 "metadata": {
  "kernelspec": {
   "display_name": "Python 3",
   "language": "python",
   "name": "python3"
  },
  "language_info": {
   "codemirror_mode": {
    "name": "ipython",
    "version": 3
   },
   "file_extension": ".py",
   "mimetype": "text/x-python",
   "name": "python",
   "nbconvert_exporter": "python",
   "pygments_lexer": "ipython3",
   "version": "3.10.9"
  }
 },
 "nbformat": 4,
 "nbformat_minor": 2
}
