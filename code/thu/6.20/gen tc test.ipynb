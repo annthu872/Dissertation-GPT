{
 "cells": [
  {
   "cell_type": "code",
   "execution_count": 13,
   "metadata": {},
   "outputs": [],
   "source": [
    "from openai import OpenAI\n",
    "import json\n",
    "import os\n",
    "\n",
    "GPT_MODEL_4 = \"gpt-4-0125-preview\"\n",
    "OPEN_API_KEY = os.getenv(\"OPENAI_API_KEY\")\n",
    "\n",
    "client = OpenAI()\n",
    "model = GPT_MODEL_4\n",
    "\n",
    "def ask(prompt, client, model, temperature = 0):\n",
    "    response = None\n",
    "    \n",
    "    response = client.chat.completions.create(\n",
    "      model=model,\n",
    "      messages=prompt,\n",
    "      temperature=temperature,\n",
    "    )\n",
    "\n",
    "    return response.choices[0].message.content\n",
    "\n",
    "def askJSON(prompt, client, model, temperature = 0):\n",
    "    response = None\n",
    "    \n",
    "    response = client.chat.completions.create(\n",
    "      model=model,\n",
    "      messages=prompt,\n",
    "      temperature=temperature,\n",
    "      response_format={ \"type\": \"json_object\" },\n",
    "    )\n",
    "\n",
    "    return response.choices[0].message.content"
   ]
  },
  {
   "cell_type": "code",
   "execution_count": 14,
   "metadata": {},
   "outputs": [],
   "source": [
    "def write_string_to_file(filename, content):\n",
    "    try:\n",
    "        with open(filename, 'a') as file:\n",
    "            file.write(content)\n",
    "        print(f\"String has been written to {filename}\")\n",
    "    except IOError as e:\n",
    "        print(f\"An error occurred while writing to the file: {e}\")"
   ]
  },
  {
   "cell_type": "code",
   "execution_count": 15,
   "metadata": {},
   "outputs": [],
   "source": [
    "def read_file_to_list(file_path):\n",
    "    with open(file_path, 'r') as file:\n",
    "        lines = file.readlines()\n",
    "    return [line.strip() for line in lines]"
   ]
  },
  {
   "cell_type": "code",
   "execution_count": 16,
   "metadata": {},
   "outputs": [],
   "source": [
    "import chardet\n",
    "\n",
    "def read_file_content(file_path):\n",
    "    # Detect the encoding\n",
    "    with open(file_path, 'rb') as file:\n",
    "        raw_data = file.read()\n",
    "        result = chardet.detect(raw_data)\n",
    "        encoding = result['encoding']\n",
    "    \n",
    "    # Read the file with the detected encoding\n",
    "    try:\n",
    "        with open(file_path, 'r', encoding=encoding) as file:\n",
    "            content = file.read()\n",
    "        return content\n",
    "    except FileNotFoundError:\n",
    "        return f\"Error: The file at path {file_path} was not found.\"\n",
    "    except UnicodeDecodeError:\n",
    "        return f\"Error: The file at path {file_path} cannot be decoded with the {encoding} encoding.\"\n",
    "    except IOError:\n",
    "        return f\"Error: An I/O error occurred while reading the file at path {file_path}.\"\n"
   ]
  },
  {
   "cell_type": "code",
   "execution_count": 17,
   "metadata": {},
   "outputs": [],
   "source": [
    "def write_json_to_txt_raw(json_data, file_name):\n",
    "    with open(file_name, 'w') as file:\n",
    "        for test_case, details in json_data.items():\n",
    "            file.write(f\"Test Case: {test_case}\\n\")\n",
    "            for key, value in details.items():\n",
    "                if isinstance(value, list):\n",
    "                    file.write(f\"{key}:\\n\")\n",
    "                    for item in value:\n",
    "                        file.write(f\"  - {item}\\n\")\n",
    "                else:\n",
    "                    file.write(f\"{key}: {value}\\n\")\n",
    "            file.write(\"\\n\")"
   ]
  },
  {
   "cell_type": "code",
   "execution_count": 18,
   "metadata": {},
   "outputs": [],
   "source": [
    "scenario =  \"\"\"17. VerifyFieldValidationsWithBoundaryValues\"\"\""
   ]
  },
  {
   "cell_type": "code",
   "execution_count": 19,
   "metadata": {},
   "outputs": [],
   "source": [
    "prompt_uc = \"\"\"\n",
    "Add a new book\n",
    "Description\n",
    "The creation page is designed to create a record of the new book in the database.\n",
    "\n",
    "Main scenario:\n",
    "User clicks the \"Create new\" button in the book list page;\n",
    "Application displays form to enter book data;\n",
    "User enters book data and presses \"Submit\" button;\n",
    "If any data is entered incorrectly, incorrect data messages are displayed;\n",
    "If entered data is valid, then record is adding to database;\n",
    "If error occurs, then error message is displaying;\n",
    "If new book record is successfully added, then list of books with added records is displaying.\n",
    "\n",
    "Cancel operation scenario:\n",
    "User clicks the \"Create new\" button in the book list page;\n",
    "Application displays form to enter book data;\n",
    "User may start entering the data into the form fields;\n",
    "Before pressing \"Submit\" button user presses “Cancel” button;\n",
    "Data doesn’t save in the database, then a list of books records is displayed to the user;\n",
    "If the user selects the menu item \"Books”, \"Genres”, \"Authors\", \"Home\" or \"API\", the data will not be saved to the database, and the corresponding form with updated data will be opened.\n",
    "\n",
    "When creating a new book, the following details are entered:\n",
    "Title\n",
    "Author\n",
    "Genre\n",
    "Description\n",
    "Publication date\n",
    "\"\"\""
   ]
  },
  {
   "cell_type": "code",
   "execution_count": 20,
   "metadata": {},
   "outputs": [],
   "source": [
    "BASELINE_GENERATE_TC = \"\"\"\n",
    "read the test scenario's name and the corresponding use case specification to base on those information for generateing test steps for test cases and their following expected result.\n",
    "Return the test cases in json format.\n",
    "The JSON format should follow the following structure:\n",
    "{\n",
    "  \"Test Case 1\":{\n",
    "    \"testCaseName\": \"Clear name of the test case so tester know what to test when they first read\",\n",
    "    \"objective\": \"Verify who doing what action or function in the test case and the summary of the final result of the test case\",\n",
    "    \"testSteps\": [\n",
    "      \"Step 1: Describe the step.\",\n",
    "      \"Step 2: Describe the step.\",\n",
    "      \"Step 3: Describe the step.\"\n",
    "    ],\n",
    "    \"expectedResult\": \"You inform the tester what should they see after doing all the steps\",\n",
    "  },\n",
    "}\n",
    "If there are more than one test case for this scenario, continue writing other test case in this form.\"\"\""
   ]
  },
  {
   "cell_type": "code",
   "execution_count": 21,
   "metadata": {},
   "outputs": [],
   "source": [
    "use_case_directory_path = r\"D:\\GPT-testing\\SpecificationData\\MatchaEnglishWebsite\"\n",
    "test_scenario_directory_path = r\"D:\\Dissertation-GPT\\evaluate\\baseline 2\\matcha\\ts\"\n",
    "save_testcase_path = r\"D:\\Dissertation-GPT\\evaluate\\baseline 2\\matcha\\tc 2\""
   ]
  },
  {
   "cell_type": "code",
   "execution_count": 23,
   "metadata": {},
   "outputs": [
    {
     "name": "stdout",
     "output_type": "stream",
     "text": [
      "{\n",
      "  \"Test Case 1\": {\n",
      "    \"testCaseName\": \"Verify field validations for Title with boundary values\",\n",
      "    \"objective\": \"Ensure the Title field correctly handles boundary value inputs during book creation\",\n",
      "    \"testSteps\": [\n",
      "      \"Step 1: Navigate to the book list page and click the 'Create new' button.\",\n",
      "      \"Step 2: Enter valid data in all fields except for the Title.\",\n",
      "      \"Step 3: Enter a Title with just under the minimum character limit (assuming minimum is 1 character, enter none).\",\n",
      "      \"Step 4: Press the 'Submit' button.\",\n",
      "      \"Step 5: Repeat steps 2-4, entering a Title with exactly the minimum character limit (e.g., a single character).\",\n",
      "      \"Step 6: Repeat steps 2-4, entering a Title with exactly the maximum character limit (assuming maximum is 100 characters, enter 100 characters).\",\n",
      "      \"Step 7: Repeat steps 2-4, entering a Title with just over the maximum character limit (e.g., 101 characters).\"\n",
      "    ],\n",
      "    \"expectedResult\": \"Step 4 should show a validation error for the Title field. Steps 5 and 6 should successfully add the book record to the database without errors. Step 7 should show a validation error for the Title field.\"\n",
      "  },\n",
      "  \"Test Case 2\": {\n",
      "    \"testCaseName\": \"Verify field validations for Publication Date with boundary values\",\n",
      "    \"objective\": \"Ensure the Publication Date field correctly handles boundary value inputs during book creation\",\n",
      "    \"testSteps\": [\n",
      "      \"Step 1: Navigate to the book list page and click the 'Create new' button.\",\n",
      "      \"Step 2: Enter valid data in all fields except for the Publication Date.\",\n",
      "      \"Step 3: Enter a Publication Date that is one day before the earliest allowed date (if the earliest date is 01/01/1900, enter 12/31/1899).\",\n",
      "      \"Step 4: Press the 'Submit' button.\",\n",
      "      \"Step 5: Repeat steps 2-4, entering the earliest allowed Publication Date (e.g., 01/01/1900).\",\n",
      "      \"Step 6: Repeat steps 2-4, entering today's date as the Publication Date.\",\n",
      "      \"Step 7: Repeat steps 2-4, entering a future date as the Publication Date.\"\n",
      "    ],\n",
      "    \"expectedResult\": \"Step 4 should show a validation error for the Publication Date field. Steps 5 and 6 should successfully add the book record to the database without errors. Step 7 should show a validation error for the Publication Date field.\"\n",
      "  },\n",
      "  \"Test Case 3\": {\n",
      "    \"testCaseName\": \"Verify cancel operation does not save data\",\n",
      "    \"objective\": \"Ensure that pressing the 'Cancel' button while creating a new book does not save any data to the database\",\n",
      "    \"testSteps\": [\n",
      "      \"Step 1: Navigate to the book list page and click the 'Create new' button.\",\n",
      "      \"Step 2: Start entering valid data into all fields.\",\n",
      "      \"Step 3: Press the 'Cancel' button before pressing 'Submit'.\",\n",
      "      \"Step 4: Navigate back to the book list page.\"\n",
      "    ],\n",
      "    \"expectedResult\": \"The book list should not include the record for the book that was being created when the 'Cancel' button was pressed.\"\n",
      "  }\n",
      "}\n"
     ]
    }
   ],
   "source": [
    "\n",
    "promptTestCase = [\n",
    "{ \"role\": \"system\", \"content\": BASELINE_GENERATE_TC},\n",
    "{ \"role\": \"user\", \"content\": scenario + \"\\n\" + prompt_uc}\n",
    "]\n",
    "gpt_response = askJSON(promptTestCase, client, model)\n",
    "print(gpt_response)\n"
   ]
  }
 ],
 "metadata": {
  "kernelspec": {
   "display_name": "Python 3",
   "language": "python",
   "name": "python3"
  },
  "language_info": {
   "codemirror_mode": {
    "name": "ipython",
    "version": 3
   },
   "file_extension": ".py",
   "mimetype": "text/x-python",
   "name": "python",
   "nbconvert_exporter": "python",
   "pygments_lexer": "ipython3",
   "version": "3.10.9"
  }
 },
 "nbformat": 4,
 "nbformat_minor": 2
}
