{
 "cells": [
  {
   "cell_type": "code",
   "execution_count": 1,
   "metadata": {},
   "outputs": [],
   "source": [
    "from openai import OpenAI\n",
    "import json\n",
    "import os\n",
    "\n",
    "GPT_MODEL_4 = \"gpt-4-0125-preview\"\n",
    "OPEN_API_KEY = os.getenv(\"OPENAI_API_KEY\")\n",
    "\n",
    "client = OpenAI()\n",
    "model = GPT_MODEL_4\n",
    "\n",
    "def ask(prompt, client, model, temperature = 0):\n",
    "    response = None\n",
    "    \n",
    "    response = client.chat.completions.create(\n",
    "      model=model,\n",
    "      messages=prompt,\n",
    "      temperature=temperature,\n",
    "    )\n",
    "\n",
    "    return response.choices[0].message.content\n",
    "\n",
    "def askJSON(prompt, client, model, temperature = 0):\n",
    "    response = None\n",
    "    \n",
    "    response = client.chat.completions.create(\n",
    "      model=model,\n",
    "      messages=prompt,\n",
    "      temperature=temperature,\n",
    "      response_format={ \"type\": \"json_object\" },\n",
    "    )\n",
    "\n",
    "    return response.choices[0].message.content"
   ]
  },
  {
   "cell_type": "code",
   "execution_count": 2,
   "metadata": {},
   "outputs": [],
   "source": [
    "def write_string_to_file(filename, content):\n",
    "    try:\n",
    "        with open(filename, 'a') as file:\n",
    "            file.write(content)\n",
    "        print(f\"String has been written to {filename}\")\n",
    "    except IOError as e:\n",
    "        print(f\"An error occurred while writing to the file: {e}\")"
   ]
  },
  {
   "cell_type": "code",
   "execution_count": 3,
   "metadata": {},
   "outputs": [],
   "source": [
    "def read_file_to_list(file_path):\n",
    "    with open(file_path, 'r') as file:\n",
    "        lines = file.readlines()\n",
    "    return [line.strip() for line in lines]"
   ]
  },
  {
   "cell_type": "code",
   "execution_count": 4,
   "metadata": {},
   "outputs": [],
   "source": [
    "import chardet\n",
    "\n",
    "def read_file_content(file_path):\n",
    "    # Detect the encoding\n",
    "    with open(file_path, 'rb') as file:\n",
    "        raw_data = file.read()\n",
    "        result = chardet.detect(raw_data)\n",
    "        encoding = result['encoding']\n",
    "    \n",
    "    # Read the file with the detected encoding\n",
    "    try:\n",
    "        with open(file_path, 'r', encoding=encoding) as file:\n",
    "            content = file.read()\n",
    "        return content\n",
    "    except FileNotFoundError:\n",
    "        return f\"Error: The file at path {file_path} was not found.\"\n",
    "    except UnicodeDecodeError:\n",
    "        return f\"Error: The file at path {file_path} cannot be decoded with the {encoding} encoding.\"\n",
    "    except IOError:\n",
    "        return f\"Error: An I/O error occurred while reading the file at path {file_path}.\"\n"
   ]
  },
  {
   "cell_type": "code",
   "execution_count": 5,
   "metadata": {},
   "outputs": [],
   "source": [
    "def write_json_to_txt_raw(json_data, file_name):\n",
    "    with open(file_name, 'w') as file:\n",
    "        for test_case, details in json_data.items():\n",
    "            file.write(f\"Test Case: {test_case}\\n\")\n",
    "            for key, value in details.items():\n",
    "                if isinstance(value, list):\n",
    "                    file.write(f\"{key}:\\n\")\n",
    "                    for item in value:\n",
    "                        file.write(f\"  - {item}\\n\")\n",
    "                else:\n",
    "                    file.write(f\"{key}: {value}\\n\")\n",
    "            file.write(\"\\n\")"
   ]
  },
  {
   "cell_type": "code",
   "execution_count": 6,
   "metadata": {},
   "outputs": [],
   "source": [
    "scenario =  \"\"\"14. VerifyDescriptionFieldValidation\"\"\""
   ]
  },
  {
   "cell_type": "code",
   "execution_count": 7,
   "metadata": {},
   "outputs": [],
   "source": [
    "prompt_uc = \"\"\"\n",
    "Add a new book\n",
    "Description\n",
    "The creation page is designed to create a record of the new book in the database.\n",
    "\n",
    "Main scenario:\n",
    "User clicks the \"Create new\" button in the book list page;\n",
    "Application displays form to enter book data;\n",
    "User enters book data and presses \"Submit\" button;\n",
    "If any data is entered incorrectly, incorrect data messages are displayed;\n",
    "If entered data is valid, then record is adding to database;\n",
    "If error occurs, then error message is displaying;\n",
    "If new book record is successfully added, then list of books with added records is displaying.\n",
    "\n",
    "Cancel operation scenario:\n",
    "User clicks the \"Create new\" button in the book list page;\n",
    "Application displays form to enter book data;\n",
    "User may start entering the data into the form fields;\n",
    "Before pressing \"Submit\" button user presses “Cancel” button;\n",
    "Data doesn’t save in the database, then a list of books records is displayed to the user;\n",
    "If the user selects the menu item \"Books”, \"Genres”, \"Authors\", \"Home\" or \"API\", the data will not be saved to the database, and the corresponding form with updated data will be opened.\n",
    "\n",
    "When creating a new book, the following details are entered:\n",
    "Title\n",
    "Author\n",
    "Genre\n",
    "Description\n",
    "Publication date\n",
    "\"\"\""
   ]
  },
  {
   "cell_type": "code",
   "execution_count": 8,
   "metadata": {},
   "outputs": [],
   "source": [
    "BASELINE_GENERATE_TC = \"\"\"\n",
    "read the test scenario's name and the corresponding use case specification to base on those information for generateing test steps for test cases and their following expected result.\n",
    "Return the test cases in json format.\n",
    "The JSON format should follow the following structure:\n",
    "{\n",
    "  \"Test Case 1\":{\n",
    "    \"testCaseName\": \"Clear name of the test case so tester know what to test when they first read\",\n",
    "    \"objective\": \"Verify who doing what action or function in the test case and the summary of the final result of the test case\",\n",
    "    \"testSteps\": [\n",
    "      \"Step 1: Describe the step.\",\n",
    "      \"Step 2: Describe the step.\",\n",
    "      \"Step 3: Describe the step.\"\n",
    "    ],\n",
    "    \"expectedResult\": \"You inform the tester what should they see after doing all the steps\",\n",
    "  },\n",
    "}\n",
    "If there are more than one test case for this scenario, continue writing other test case in this form.\"\"\""
   ]
  },
  {
   "cell_type": "code",
   "execution_count": 9,
   "metadata": {},
   "outputs": [],
   "source": [
    "use_case_directory_path = r\"D:\\GPT-testing\\SpecificationData\\MatchaEnglishWebsite\"\n",
    "test_scenario_directory_path = r\"D:\\Dissertation-GPT\\evaluate\\baseline 2\\matcha\\ts\"\n",
    "save_testcase_path = r\"D:\\Dissertation-GPT\\evaluate\\baseline 2\\matcha\\tc 2\""
   ]
  },
  {
   "cell_type": "code",
   "execution_count": 10,
   "metadata": {},
   "outputs": [
    {
     "name": "stdout",
     "output_type": "stream",
     "text": [
      "{\n",
      "  \"Test Case 1\": {\n",
      "    \"testCaseName\": \"Verify Description Field Accepts Valid Input\",\n",
      "    \"objective\": \"Ensure that the Description field accepts valid inputs without displaying incorrect data messages and the new book record is successfully added.\",\n",
      "    \"testSteps\": [\n",
      "      \"Step 1: Navigate to the book list page and click the 'Create new' button.\",\n",
      "      \"Step 2: Fill in all the fields with valid data, including a valid description for the book.\",\n",
      "      \"Step 3: Press the 'Submit' button.\"\n",
      "    ],\n",
      "    \"expectedResult\": \"No incorrect data messages are displayed for the Description field, and the new book record is successfully added to the database. The user is redirected to the list of books with the newly added record visible.\"\n",
      "  },\n",
      "  \"Test Case 2\": {\n",
      "    \"testCaseName\": \"Verify Description Field Validation for Empty Input\",\n",
      "    \"objective\": \"To verify that the application prompts the user with an incorrect data message when the Description field is left empty.\",\n",
      "    \"testSteps\": [\n",
      "      \"Step 1: Navigate to the book list page and click the 'Create new' button.\",\n",
      "      \"Step 2: Fill in all the fields except for the Description field.\",\n",
      "      \"Step 3: Press the 'Submit' button.\"\n",
      "    ],\n",
      "    \"expectedResult\": \"An incorrect data message is displayed indicating that the Description field cannot be empty. The record is not added to the database.\"\n",
      "  },\n",
      "  \"Test Case 3\": {\n",
      "    \"testCaseName\": \"Verify Cancel Operation Discards Data Entry\",\n",
      "    \"objective\": \"To ensure that pressing the 'Cancel' button while entering data for a new book discards all entered data and does not save the record in the database.\",\n",
      "    \"testSteps\": [\n",
      "      \"Step 1: Navigate to the book list page and click the 'Create new' button.\",\n",
      "      \"Step 2: Start entering data into the form fields, including the Description field.\",\n",
      "      \"Step 3: Press the 'Cancel' button before pressing 'Submit'.\"\n",
      "    ],\n",
      "    \"expectedResult\": \"All entered data is discarded, and the record is not saved to the database. The user is redirected to the list of book records.\"\n",
      "  },\n",
      "  \"Test Case 4\": {\n",
      "    \"testCaseName\": \"Verify Navigation Away from Page Discards Data\",\n",
      "    \"objective\": \"To verify that navigating away from the book creation page by selecting another menu item discards all entered data and does not save the record in the database.\",\n",
      "    \"testSteps\": [\n",
      "      \"Step 1: Navigate to the book list page and click the 'Create new' button.\",\n",
      "      \"Step 2: Start entering data into the form fields.\",\n",
      "      \"Step 3: Without pressing 'Submit', select another menu item such as 'Genres' or 'Home'.\"\n",
      "    ],\n",
      "    \"expectedResult\": \"All entered data is discarded, and the record is not saved to the database. The user is redirected to the selected page with updated data.\"\n",
      "  }\n",
      "}\n"
     ]
    }
   ],
   "source": [
    "\n",
    "promptTestCase = [\n",
    "{ \"role\": \"system\", \"content\": BASELINE_GENERATE_TC},\n",
    "{ \"role\": \"user\", \"content\": scenario + \"\\n\" + prompt_uc}\n",
    "]\n",
    "gpt_response = askJSON(promptTestCase, client, model)\n",
    "print(gpt_response)\n"
   ]
  }
 ],
 "metadata": {
  "kernelspec": {
   "display_name": "Python 3",
   "language": "python",
   "name": "python3"
  },
  "language_info": {
   "codemirror_mode": {
    "name": "ipython",
    "version": 3
   },
   "file_extension": ".py",
   "mimetype": "text/x-python",
   "name": "python",
   "nbconvert_exporter": "python",
   "pygments_lexer": "ipython3",
   "version": "3.10.9"
  }
 },
 "nbformat": 4,
 "nbformat_minor": 2
}
