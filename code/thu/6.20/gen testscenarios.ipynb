{
 "cells": [
  {
   "cell_type": "code",
   "execution_count": 35,
   "metadata": {},
   "outputs": [],
   "source": [
    "from openai import OpenAI\n",
    "import json\n",
    "import os\n",
    "\n",
    "GPT_MODEL_4 = \"gpt-4-0125-preview\"\n",
    "OPEN_API_KEY = os.getenv(\"OPENAI_API_KEY\")\n",
    "\n",
    "client = OpenAI()\n",
    "model = GPT_MODEL_4\n",
    "\n",
    "def ask(prompt, client, model, temperature = 0):\n",
    "    response = None\n",
    "    \n",
    "    response = client.chat.completions.create(\n",
    "      model=model,\n",
    "      messages=prompt,\n",
    "      temperature=temperature,\n",
    "    )\n",
    "\n",
    "    return response.choices[0].message.content\n",
    "\n",
    "def askJSON(prompt, client, model, temperature = 0):\n",
    "    response = None\n",
    "    \n",
    "    response = client.chat.completions.create(\n",
    "      model=model,\n",
    "      messages=prompt,\n",
    "      temperature=temperature,\n",
    "      response_format={ \"type\": \"json_object\" },\n",
    "    )\n",
    "\n",
    "    return response.choices[0].message.content"
   ]
  },
  {
   "cell_type": "code",
   "execution_count": 36,
   "metadata": {},
   "outputs": [],
   "source": [
    "def write_string_to_file(filename, content):\n",
    "    try:\n",
    "        with open(filename, 'w') as file:\n",
    "            file.write(content)\n",
    "        print(f\"String has been written to {filename}\")\n",
    "    except IOError as e:\n",
    "        print(f\"An error occurred while writing to the file: {e}\")"
   ]
  },
  {
   "cell_type": "code",
   "execution_count": 37,
   "metadata": {},
   "outputs": [],
   "source": [
    "def read_file_into_string(file_path):\n",
    "    encodings = ['utf-8', 'latin-1', 'utf-16', 'cp1252']\n",
    "    \n",
    "    for encoding in encodings:\n",
    "        try:\n",
    "            with open(file_path, 'r', encoding=encoding) as file:\n",
    "                file_content = file.read()\n",
    "            return file_content\n",
    "        except UnicodeDecodeError:\n",
    "            print(f\"Failed to decode using {encoding} encoding.\")\n",
    "            continue\n",
    "        except FileNotFoundError:\n",
    "            print(f\"File '{file_path}' not found.\")\n",
    "            return None\n",
    "        except Exception as e:\n",
    "            print(f\"Error reading file: {e}\")\n",
    "            return None\n",
    "    \n",
    "    print(\"All tried encodings failed. Unable to read the file.\")\n",
    "    return None"
   ]
  },
  {
   "cell_type": "code",
   "execution_count": 38,
   "metadata": {},
   "outputs": [],
   "source": [
    "use_case_list = [\n",
    "    \"D:\\GPT-testing\\SpecificationData\\MatchaEnglishWebsite\\Add new topic.txt\",\n",
    "\"D:\\GPT-testing\\SpecificationData\\MatchaEnglishWebsite\\AddLesson.txt\",\n",
    "\"D:\\GPT-testing\\SpecificationData\\MatchaEnglishWebsite\\AddQuestion .txt\",\n",
    "\"D:\\GPT-testing\\SpecificationData\\MatchaEnglishWebsite\\EditTest.txt\",\n",
    "\"D:\\GPT-testing\\SpecificationData\\MatchaEnglishWebsite\\Handbook.txt\",\n",
    "\"D:\\GPT-testing\\SpecificationData\\MatchaEnglishWebsite\\Learning days history.txt\",\n",
    "\"D:\\GPT-testing\\SpecificationData\\MatchaEnglishWebsite\\ListenToPronunciation.txt\",\n",
    "\"D:\\GPT-testing\\SpecificationData\\MatchaEnglishWebsite\\Review test.txt\",\n",
    "\"D:\\GPT-testing\\SpecificationData\\MatchaEnglishWebsite\\WordSortingTest.txt\",\n",
    "\"D:\\GPT-testing\\SpecificationData\\MatchaEnglishWebsite\\Flashcard.txt\",\n",
    "\"D:\\GPT-testing\\SpecificationData\\MatchaEnglishWebsite\\Login.txt\",\n",
    "\"D:\\GPT-testing\\SpecificationData\\MatchaEnglishWebsite\\Registry.txt\"\n",
    "]"
   ]
  },
  {
   "cell_type": "code",
   "execution_count": 39,
   "metadata": {},
   "outputs": [],
   "source": [
    "BASELINE_GENERATE_SCENARIO = \"\"\"\n",
    "Generate test scenarios for me based on this use case description.\n",
    "Give me only name of test scenarios.\n",
    "\"\"\""
   ]
  },
  {
   "cell_type": "code",
   "execution_count": 40,
   "metadata": {},
   "outputs": [
    {
     "name": "stdout",
     "output_type": "stream",
     "text": [
      "D:\\GPT-testing\\SpecificationData\\MatchaEnglishWebsite\\Add new topic.txt\n",
      "Add new topic\n",
      "D:\\GPT-testing\\SpecificationData\\MatchaEnglishWebsite\\AddLesson.txt\n",
      "AddLesson\n",
      "D:\\GPT-testing\\SpecificationData\\MatchaEnglishWebsite\\AddQuestion .txt\n",
      "AddQuestion \n",
      "D:\\GPT-testing\\SpecificationData\\MatchaEnglishWebsite\\EditTest.txt\n"
     ]
    },
    {
     "ename": "UnicodeDecodeError",
     "evalue": "'utf-8' codec can't decode byte 0x92 in position 117: invalid start byte",
     "output_type": "error",
     "traceback": [
      "\u001b[1;31m---------------------------------------------------------------------------\u001b[0m",
      "\u001b[1;31mUnicodeDecodeError\u001b[0m                        Traceback (most recent call last)",
      "Cell \u001b[1;32mIn[40], line 4\u001b[0m\n\u001b[0;32m      2\u001b[0m file_path \u001b[38;5;241m=\u001b[39m i\n\u001b[0;32m      3\u001b[0m \u001b[38;5;28mprint\u001b[39m(file_path)\n\u001b[1;32m----> 4\u001b[0m file_content \u001b[38;5;241m=\u001b[39m \u001b[43mread_file_content\u001b[49m\u001b[43m(\u001b[49m\u001b[43mfile_path\u001b[49m\u001b[43m)\u001b[49m\n\u001b[0;32m      5\u001b[0m \u001b[38;5;28;01mif\u001b[39;00m( file_content \u001b[38;5;129;01min\u001b[39;00m \u001b[38;5;124m\"\u001b[39m\u001b[38;5;124mNone\u001b[39m\u001b[38;5;124m\"\u001b[39m):\n\u001b[0;32m      6\u001b[0m     \u001b[38;5;28;01mcontinue\u001b[39;00m\n",
      "Cell \u001b[1;32mIn[37], line 3\u001b[0m, in \u001b[0;36mread_file_content\u001b[1;34m(file_path)\u001b[0m\n\u001b[0;32m      1\u001b[0m \u001b[38;5;28;01mdef\u001b[39;00m \u001b[38;5;21mread_file_content\u001b[39m(file_path):\n\u001b[0;32m      2\u001b[0m     \u001b[38;5;28;01mwith\u001b[39;00m \u001b[38;5;28mopen\u001b[39m(file_path, \u001b[38;5;124m'\u001b[39m\u001b[38;5;124mr\u001b[39m\u001b[38;5;124m'\u001b[39m) \u001b[38;5;28;01mas\u001b[39;00m file:\n\u001b[1;32m----> 3\u001b[0m         content \u001b[38;5;241m=\u001b[39m \u001b[43mfile\u001b[49m\u001b[38;5;241;43m.\u001b[39;49m\u001b[43mread\u001b[49m\u001b[43m(\u001b[49m\u001b[43m)\u001b[49m\n\u001b[0;32m      4\u001b[0m     \u001b[38;5;28;01mreturn\u001b[39;00m content\n",
      "File \u001b[1;32me:\\ProgramData\\anaconda3\\lib\\codecs.py:322\u001b[0m, in \u001b[0;36mBufferedIncrementalDecoder.decode\u001b[1;34m(self, input, final)\u001b[0m\n\u001b[0;32m    319\u001b[0m \u001b[38;5;28;01mdef\u001b[39;00m \u001b[38;5;21mdecode\u001b[39m(\u001b[38;5;28mself\u001b[39m, \u001b[38;5;28minput\u001b[39m, final\u001b[38;5;241m=\u001b[39m\u001b[38;5;28;01mFalse\u001b[39;00m):\n\u001b[0;32m    320\u001b[0m     \u001b[38;5;66;03m# decode input (taking the buffer into account)\u001b[39;00m\n\u001b[0;32m    321\u001b[0m     data \u001b[38;5;241m=\u001b[39m \u001b[38;5;28mself\u001b[39m\u001b[38;5;241m.\u001b[39mbuffer \u001b[38;5;241m+\u001b[39m \u001b[38;5;28minput\u001b[39m\n\u001b[1;32m--> 322\u001b[0m     (result, consumed) \u001b[38;5;241m=\u001b[39m \u001b[38;5;28;43mself\u001b[39;49m\u001b[38;5;241;43m.\u001b[39;49m\u001b[43m_buffer_decode\u001b[49m\u001b[43m(\u001b[49m\u001b[43mdata\u001b[49m\u001b[43m,\u001b[49m\u001b[43m \u001b[49m\u001b[38;5;28;43mself\u001b[39;49m\u001b[38;5;241;43m.\u001b[39;49m\u001b[43merrors\u001b[49m\u001b[43m,\u001b[49m\u001b[43m \u001b[49m\u001b[43mfinal\u001b[49m\u001b[43m)\u001b[49m\n\u001b[0;32m    323\u001b[0m     \u001b[38;5;66;03m# keep undecoded input until the next call\u001b[39;00m\n\u001b[0;32m    324\u001b[0m     \u001b[38;5;28mself\u001b[39m\u001b[38;5;241m.\u001b[39mbuffer \u001b[38;5;241m=\u001b[39m data[consumed:]\n",
      "\u001b[1;31mUnicodeDecodeError\u001b[0m: 'utf-8' codec can't decode byte 0x92 in position 117: invalid start byte"
     ]
    }
   ],
   "source": [
    "for i in use_case_list:\n",
    "    file_path = i\n",
    "    print(file_path)\n",
    "    file_content = read_file_content(file_path)\n",
    "    if( file_content in \"None\"):\n",
    "        continue\n",
    "\n",
    "    base_name = os.path.basename(file_path)\n",
    "    usecase_name = os.path.splitext(base_name)[0]\n",
    "    print(usecase_name)\n",
    "    usecase = \"Use case: \"+ read_file_content(file_path)"
   ]
  },
  {
   "cell_type": "code",
   "execution_count": null,
   "metadata": {},
   "outputs": [],
   "source": [
    "# file_content = read_file_into_string(use_case_list[0])\n",
    "# if( file_content not in \"None\"):\n",
    "#   promptExtractCondition = [\n",
    "#       { \"role\": \"system\", \"content\": BASELINE_GENERATE_SCENARIO},\n",
    "#       { \"role\": \"user\", \"content\": file_content}\n",
    "#     ]\n",
    "#   gpt_response = ask(promptExtractCondition, client, model)\n",
    "#   print(gpt_response)"
   ]
  },
  {
   "cell_type": "code",
   "execution_count": null,
   "metadata": {},
   "outputs": [
    {
     "name": "stdout",
     "output_type": "stream",
     "text": [
      "1. Test Scenario: Verify navigation to \"Add new topic\" tab\n",
      "2. Test Scenario: Verify redirection to adding topic viewing page\n",
      "3. Test Scenario: Verify input functionality in the name field\n",
      "4. Test Scenario: Verify input functionality in the description field\n",
      "5. Test Scenario: Verify saving a new topic\n",
      "6. Test Scenario: Verify adding a topic with an already used name\n",
      "7. Test Scenario: Verify system notification for used topic name\n",
      "8. Test Scenario: Verify adding a unique name after notification\n",
      "9. Test Scenario: Verify cancel functionality during topic addition\n",
      "10. Test Scenario: Verify preconditions - Administrator login\n",
      "11. Test Scenario: Verify preconditions - Administrator permissions\n",
      "12. Test Scenario: Verify postconditions - Redirection to adding vocabulary section\n",
      "13. Test Scenario: Verify new topic appears in topic list\n",
      "14. Test Scenario: Verify input validation for empty name field\n",
      "15. Test Scenario: Verify input validation for empty description field\n",
      "16. Test Scenario: Verify system behavior with excessively long names\n",
      "17. Test Scenario: Verify system behavior with excessively long descriptions\n",
      "18. Test Scenario: Verify adding a topic with special characters in the name\n",
      "19. Test Scenario: Verify adding a topic with HTML tags in the description\n",
      "20. Test Scenario: Verify session timeout during topic addition process\n"
     ]
    }
   ],
   "source": [
    "file_content = read_file_content(use_case_list[0])\n",
    "if( file_content not in \"None\"):\n",
    "  promptExtractCondition = [\n",
    "      { \"role\": \"system\", \"content\": BASELINE_GENERATE_SCENARIO},\n",
    "      { \"role\": \"user\", \"content\": file_content}\n",
    "    ]\n",
    "  gpt_response = ask(promptExtractCondition, client, model)\n",
    "  print(gpt_response)"
   ]
  }
 ],
 "metadata": {
  "kernelspec": {
   "display_name": "Python 3",
   "language": "python",
   "name": "python3"
  },
  "language_info": {
   "codemirror_mode": {
    "name": "ipython",
    "version": 3
   },
   "file_extension": ".py",
   "mimetype": "text/x-python",
   "name": "python",
   "nbconvert_exporter": "python",
   "pygments_lexer": "ipython3",
   "version": "3.10.9"
  }
 },
 "nbformat": 4,
 "nbformat_minor": 2
}
