{
 "cells": [
  {
   "cell_type": "code",
   "execution_count": 39,
   "metadata": {},
   "outputs": [],
   "source": [
    "from openai import OpenAI\n",
    "import json\n",
    "import os\n",
    "\n",
    "GPT_MODEL_4 = \"gpt-4-0125-preview\"\n",
    "OPEN_API_KEY = os.getenv(\"OPENAI_API_KEY\")\n",
    "\n",
    "client = OpenAI()\n",
    "model = GPT_MODEL_4\n",
    "\n",
    "def ask(prompt, client, model, temperature = 0):\n",
    "    response = None\n",
    "    \n",
    "    response = client.chat.completions.create(\n",
    "      model=model,\n",
    "      messages=prompt,\n",
    "      temperature=temperature,\n",
    "    )\n",
    "\n",
    "    return response.choices[0].message.content\n",
    "\n",
    "def askJSON(prompt, client, model, temperature = 0):\n",
    "    response = None\n",
    "    \n",
    "    response = client.chat.completions.create(\n",
    "      model=model,\n",
    "      messages=prompt,\n",
    "      temperature=temperature,\n",
    "      response_format={ \"type\": \"json_object\" },\n",
    "    )\n",
    "\n",
    "    return response.choices[0].message.content"
   ]
  },
  {
   "cell_type": "code",
   "execution_count": 40,
   "metadata": {},
   "outputs": [],
   "source": [
    "def write_string_to_file(filename, content):\n",
    "    try:\n",
    "        with open(filename, 'w') as file:\n",
    "            file.write(content)\n",
    "        print(f\"String has been written to {filename}\")\n",
    "    except IOError as e:\n",
    "        print(f\"An error occurred while writing to the file: {e}\")"
   ]
  },
  {
   "cell_type": "code",
   "execution_count": 41,
   "metadata": {},
   "outputs": [],
   "source": [
    "import chardet\n",
    "\n",
    "def read_file_content(file_path):\n",
    "    # Detect the encoding\n",
    "    with open(file_path, 'rb') as file:\n",
    "        raw_data = file.read()\n",
    "        result = chardet.detect(raw_data)\n",
    "        encoding = result['encoding']\n",
    "    \n",
    "    # Read the file with the detected encoding\n",
    "    try:\n",
    "        with open(file_path, 'r', encoding=encoding) as file:\n",
    "            content = file.read()\n",
    "        return content\n",
    "    except FileNotFoundError:\n",
    "        return f\"Error: The file at path {file_path} was not found.\"\n",
    "    except UnicodeDecodeError:\n",
    "        return f\"Error: The file at path {file_path} cannot be decoded with the {encoding} encoding.\"\n",
    "    except IOError:\n",
    "        return f\"Error: An I/O error occurred while reading the file at path {file_path}.\"\n"
   ]
  },
  {
   "cell_type": "code",
   "execution_count": 42,
   "metadata": {},
   "outputs": [],
   "source": [
    "usecase_path = r\"D:\\Dissertation-GPT\\dataset\\SpecificationData\\Shopee(new)\"\n",
    "save_path = r\"D:\\Dissertation-GPT\\evaluate\\ResultSet\\6.24\\shopee (baseline)\""
   ]
  },
  {
   "cell_type": "code",
   "execution_count": 43,
   "metadata": {},
   "outputs": [],
   "source": [
    "usecase_name_list = []\n",
    "project_name = os.path.basename(usecase_path)\n"
   ]
  },
  {
   "cell_type": "code",
   "execution_count": 44,
   "metadata": {},
   "outputs": [
    {
     "name": "stdout",
     "output_type": "stream",
     "text": [
      "['add to cart', 'checkout', 'product information display', 'purchase', 'search']\n"
     ]
    }
   ],
   "source": [
    "for filename in os.listdir(usecase_path):\n",
    "    usecase_name_list.append (filename.split(\".txt\")[0])\n",
    "print(usecase_name_list)"
   ]
  },
  {
   "cell_type": "code",
   "execution_count": 45,
   "metadata": {},
   "outputs": [],
   "source": [
    "# use_case_directory_path = r\"D:\\GPT-testing\\SpecificationData\\Book(Github)\"\n",
    "# save_testscenario_path = r\"D:\\Dissertation-GPT\\evaluate\\baseline 2\\book\\ts\""
   ]
  },
  {
   "cell_type": "code",
   "execution_count": 46,
   "metadata": {},
   "outputs": [],
   "source": [
    "BASELINE_GENERATE_SCENARIO = \"\"\"\n",
    "Generate test scenarios for me based on this use case description.\n",
    "Give me only name of test scenarios.\n",
    "\"\"\""
   ]
  },
  {
   "cell_type": "code",
   "execution_count": 47,
   "metadata": {},
   "outputs": [
    {
     "name": "stdout",
     "output_type": "stream",
     "text": [
      "String has been written to D:\\Dissertation-GPT\\evaluate\\ResultSet\\6.24\\shopee (baseline)\\add to cart.txt\n",
      "String has been written to D:\\Dissertation-GPT\\evaluate\\ResultSet\\6.24\\shopee (baseline)\\checkout.txt\n",
      "String has been written to D:\\Dissertation-GPT\\evaluate\\ResultSet\\6.24\\shopee (baseline)\\product information display.txt\n",
      "String has been written to D:\\Dissertation-GPT\\evaluate\\ResultSet\\6.24\\shopee (baseline)\\purchase.txt\n",
      "String has been written to D:\\Dissertation-GPT\\evaluate\\ResultSet\\6.24\\shopee (baseline)\\search.txt\n"
     ]
    }
   ],
   "source": [
    "for usecase in usecase_name_list:\n",
    "    base_name = os.path.basename(usecase)\n",
    "    usecase_name = usecase\n",
    "    usecasepath = os.path.join (usecase_path,f\"{usecase_name}.txt\" )\n",
    "    file_content = read_file_content(usecasepath)\n",
    "\n",
    "    promptExtractCondition = [\n",
    "      { \"role\": \"system\", \"content\": BASELINE_GENERATE_SCENARIO},\n",
    "      { \"role\": \"user\", \"content\": file_content}\n",
    "    ]\n",
    "    gpt_response = ask(promptExtractCondition, client, model)\n",
    "\n",
    "    testscenario_path = os.path.join (save_path,f\"{usecase_name}.txt\" )\n",
    "    write_string_to_file(testscenario_path,gpt_response)\n"
   ]
  }
 ],
 "metadata": {
  "kernelspec": {
   "display_name": "Python 3",
   "language": "python",
   "name": "python3"
  },
  "language_info": {
   "codemirror_mode": {
    "name": "ipython",
    "version": 3
   },
   "file_extension": ".py",
   "mimetype": "text/x-python",
   "name": "python",
   "nbconvert_exporter": "python",
   "pygments_lexer": "ipython3",
   "version": "3.10.9"
  }
 },
 "nbformat": 4,
 "nbformat_minor": 2
}
