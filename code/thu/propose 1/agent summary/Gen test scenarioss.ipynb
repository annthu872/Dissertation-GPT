{
 "cells": [
  {
   "cell_type": "code",
   "execution_count": 1,
   "metadata": {},
   "outputs": [],
   "source": [
    "from openai import OpenAI\n",
    "import json\n",
    "import os\n",
    "\n",
    "GPT_MODEL_3_5 = \"gpt-3.5-turbo-1106\"\n",
    "GPT_MODEL_4 = \"gpt-4-0125-preview\"\n",
    "\n",
    "OPEN_API_KEY = os.getenv(\"OPENAI_API_KEY\")\n",
    "\n",
    "client = OpenAI()\n",
    "model = GPT_MODEL_4\n",
    "\n",
    "def ask(prompt, client, model, temperature = 0):\n",
    "    response = None\n",
    "    \n",
    "    response = client.chat.completions.create(\n",
    "      model=model,\n",
    "      messages=prompt,\n",
    "      temperature=temperature,\n",
    "      # response_format={ \"type\": \"json_object\" },\n",
    "    )\n",
    "\n",
    "    return (response.choices[0].message.content)"
   ]
  },
  {
   "cell_type": "code",
   "execution_count": 2,
   "metadata": {},
   "outputs": [],
   "source": [
    "usecase_flow_conditions = \"\"\"\n",
    "\n",
    "\"\"\""
   ]
  },
  {
   "cell_type": "code",
   "execution_count": 4,
   "metadata": {},
   "outputs": [],
   "source": [
    "extracted_elements = \"\"\"Elements and their condition: \n",
    "\"\"\""
   ]
  },
  {
   "cell_type": "code",
   "execution_count": 3,
   "metadata": {},
   "outputs": [],
   "source": [
    "SYSTEM_PROMPT_gen_test_scenarios =\"\"\"\n",
    "Given the provided use case specification and a list of element and their extracted conditions, \n",
    "your task is to generate a comprehensive set of test scenarios that effectively test each the conditions of elements.\n",
    "The test scenarios generated must have clear conditions descritions but do not need example data. \n",
    "The positive test scenarios generated must verify the combination of valid conditions. \n",
    "The negative test scenarios generated must verify only one condition at a time.\n",
    "For cases where the invalid condition does not have a corresponding output description, predict the possible outcome to test.\n",
    "Do not arbitrarily create test cases for invalid conditions that are not listed in the input.\n",
    "\n",
    "Return the test scenarios generated in json format.\n",
    "The JSON format should follow the following structure:\n",
    "{\n",
    "  \"Positive Test Scenarios\": [ \"Verify positive case 1\", \"Verify positive case 2\"],\n",
    "  \"Negative Test Scenarios\": [\"Verify negative case 1\", \"Verify negative case 2\"]\n",
    "  }\n",
    "An example of a test scenario: \"Verify that users can successfully create a new account with valid credentials.\"\n",
    "\"\"\"\n",
    "#  For example: The condition 'The system should display a list of available items' or 'User can select the available items' or 'Item must display item's informaiton' must be skipped."
   ]
  },
  {
   "cell_type": "code",
   "execution_count": 6,
   "metadata": {},
   "outputs": [
    {
     "name": "stdout",
     "output_type": "stream",
     "text": [
      "```json\n",
      "{\n",
      "  \"Positive Test Scenarios\": [\n",
      "    \"Admin fills the 'sentence' field with a valid sentence below 250 characters, not containing any special character, and includes the symbol '...', 'correct answer' field with a valid word, and 'other option 1', 'other option 2', 'other option 3' fields with three different wrong answer words, then presses 'Save'.\"\n",
      "  ],\n",
      "  \"Negative Test Scenarios\": [\n",
      "    \"Admin leaves the 'sentence' field empty and fills all other fields correctly, then presses 'Save'.\",\n",
      "    \"Admin fills the 'sentence' field with a sentence over 250 characters and fills all other fields correctly, then presses 'Save'.\",\n",
      "    \"Admin fills the 'sentence' field with a sentence containing special characters and fills all other fields correctly, then presses 'Save'.\",\n",
      "    \"Admin fills the 'sentence' field without including the symbol '...' and fills all other fields correctly, then presses 'Save'.\",\n",
      "    \"Admin leaves the 'correct answer' field empty and fills all other fields correctly, then presses 'Save'.\",\n",
      "    \"Admin leaves the 'other option 1' field empty and fills all other fields correctly, then presses 'Save'.\",\n",
      "    \"Admin leaves the 'other option 2' field empty and fills all other fields correctly, then presses 'Save'.\",\n",
      "    \"Admin leaves the 'other option 3' field empty and fills all other fields correctly, then presses 'Save'.\"\n",
      "  ]\n",
      "}\n",
      "```\n"
     ]
    }
   ],
   "source": [
    "promptExtractCondtition = [\n",
    "    { \"role\": \"system\", \"content\": SYSTEM_PROMPT_gen_test_scenarios},\n",
    "    { \"role\": \"user\", \"content\":usecase_flow_conditions +  extracted_elements }\n",
    "  ]\n",
    "\n",
    "gpt_response = ask(promptExtractCondtition, client, model)\n",
    "print(gpt_response)"
   ]
  }
 ],
 "metadata": {
  "kernelspec": {
   "display_name": "Python 3",
   "language": "python",
   "name": "python3"
  },
  "language_info": {
   "codemirror_mode": {
    "name": "ipython",
    "version": 3
   },
   "file_extension": ".py",
   "mimetype": "text/x-python",
   "name": "python",
   "nbconvert_exporter": "python",
   "pygments_lexer": "ipython3",
   "version": "3.10.9"
  }
 },
 "nbformat": 4,
 "nbformat_minor": 2
}
