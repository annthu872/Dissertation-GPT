{
 "cells": [
  {
   "cell_type": "code",
   "execution_count": 1,
   "metadata": {},
   "outputs": [],
   "source": [
    "from openai import OpenAI\n",
    "import json\n",
    "import os\n",
    "\n",
    "GPT_MODEL_3_5 = \"gpt-3.5-turbo-1106\"\n",
    "GPT_MODEL_4 = \"gpt-4-0125-preview\"\n",
    "\n",
    "OPEN_API_KEY = os.getenv(\"OPENAI_API_KEY\")\n",
    "\n",
    "client = OpenAI()\n",
    "model = GPT_MODEL_4\n",
    "\n",
    "def ask(prompt, client, model, temperature = 0):\n",
    "    response = None\n",
    "    \n",
    "    response = client.chat.completions.create(\n",
    "      model=model,\n",
    "      messages=prompt,\n",
    "      temperature=temperature,\n",
    "      # response_format={ \"type\": \"json_object\" },\n",
    "    )\n",
    "\n",
    "    return (response.choices[0].message.content)"
   ]
  },
  {
   "cell_type": "code",
   "execution_count": 2,
   "metadata": {},
   "outputs": [],
   "source": [
    "usecase_flow=\"\"\"\n",
    "\n",
    "\"\"\""
   ]
  },
  {
   "cell_type": "code",
   "execution_count": 4,
   "metadata": {},
   "outputs": [],
   "source": [
    "flows_name = \"\"\" Flow name: \n",
    "\n",
    "    \"\"\""
   ]
  },
  {
   "cell_type": "code",
   "execution_count": 3,
   "metadata": {},
   "outputs": [],
   "source": [
    "SYSTEM_PROMPT_print_no_condition_flow =\"\"\"\n",
    "I want you to work as a software engineering who has profound knowledge about software design and software testing.\n",
    "You will be provided with a use case specification flow and a list of flow names.\n",
    "Extract all the contents of flows which flow names are in the given list of flow names and all the contents of flows which flow names are not in the given list of flow names. \n",
    "Return the flows in json format.\n",
    "{\n",
    "  \"In\":{ \n",
    "  Name of flow 1:   {content of flow 1},\n",
    "  Name of flow 2:   {content of flow 2 }\n",
    " }\n",
    " \"Not in\":{ \n",
    "  Name of flow 1:   {content of flow 1},\n",
    "  Name of flow 2:   {content of flow 2 }\n",
    " }\n",
    "}\n",
    "\"\"\"\n",
    "#  For example: The condition 'The system should display a list of available items' or 'User can select the available items' or 'Item must display item's informaiton' must be skipped."
   ]
  },
  {
   "cell_type": "code",
   "execution_count": 5,
   "metadata": {},
   "outputs": [
    {
     "name": "stdout",
     "output_type": "stream",
     "text": [
      "To clarify your request, it seems you're asking for a JSON representation of the provided use case specification flows, categorized into two groups based on whether their names are in a given list or not. However, you haven't provided a specific list of flow names to include or exclude. \n",
      "\n",
      "Given the context, I'll assume you want all the flows categorized under \"In\" since you've listed all the flow names afterward. If you had a specific subset in mind, please adjust the \"In\" and \"Not in\" categories accordingly.\n",
      "\n",
      "Here's how the JSON representation would look based on the assumption:\n",
      "\n",
      "```json\n",
      "{\n",
      "  \"In\": {\n",
      "    \"Main flow\": {\n",
      "      \"Step 1\": \"Learner fills in the username field by a valid username that has been registered\",\n",
      "      \"Step 2\": \"Learner fills in the password field by the correct password for the corresponding username\",\n",
      "      \"Step 3\": \"Learner press \\\"Login\\\" button\",\n",
      "      \"Step 4\": \"System redirects learner to Home page\"\n",
      "    },\n",
      "    \"Alternative flow 1: Login by email\": {\n",
      "      \"At step 1 of the basic flow\": \"Learner fills in the username field by a valid email that has been registered\",\n",
      "      \"Step 2\": \"Learner fills in the password field by the correct password for the corresponding email\",\n",
      "      \"Go back to step 3 in the basic flow and continue\": \"with the steps from step 3.\"\n",
      "    },\n",
      "    \"Exception flow 1: Wrong password\": {\n",
      "      \"At step 2 of the basic flow\": \"Learner fills in the password field by a wrong password\",\n",
      "      \"Go back to step 3 in the basic flow and continue\": \"with the steps from step 3.\",\n",
      "      \"At step 4 of the basic flow\": \"System shows a notification that the password is wrong\"\n",
      "    },\n",
      "    \"Exception flow 2: Unregistered username\": {\n",
      "      \"At step 1 of the basic flow\": \"Learner fills in the username field by a valid username that has not been registered\",\n",
      "      \"Go back to step 2 in the basic flow and continue\": \"with the steps from step 2.\",\n",
      "      \"At step 4 of the basic flow\": \"System shows a notification that this username is not registered yet\"\n",
      "    },\n",
      "    \"Exception flow 3: Blank username fields\": {\n",
      "      \"At step 1 of the basic flow\": \"Learner does not fill in the username field\",\n",
      "      \"Go back to step 2 in the basic flow and continue\": \"with the steps from step 2.\",\n",
      "      \"At step 4 of the basic flow\": \"System shows a notification that the username field needs to be filled.\"\n",
      "    },\n",
      "    \"Exception flow 3: Blank password fields\": {\n",
      "      \"At step 2 of the basic flow\": \"Learner does not fill in the password field\",\n",
      "      \"Go back to step 3 in the basic flow and take only step 3.\": \"\",\n",
      "      \"At step 4 of the basic flow\": \"System shows a notification that the password field needs to be filled.\"\n",
      "    }\n",
      "  },\n",
      "  \"Not in\": {}\n",
      "}\n",
      "```\n",
      "\n",
      "This JSON structure categorizes all provided flows under \"In\", as per the assumption. If you need a different categorization or additional details, please provide further instructions.\n"
     ]
    }
   ],
   "source": [
    "promptExtractCondtition = [\n",
    "    { \"role\": \"system\", \"content\": SYSTEM_PROMPT_print_no_condition_flow},\n",
    "    { \"role\": \"user\", \"content\": usecase_flow + flows_name }\n",
    "  ]\n",
    "\n",
    "gpt_response = ask(promptExtractCondtition, client, model)\n",
    "print(gpt_response)"
   ]
  }
 ],
 "metadata": {
  "kernelspec": {
   "display_name": "Python 3",
   "language": "python",
   "name": "python3"
  },
  "language_info": {
   "codemirror_mode": {
    "name": "ipython",
    "version": 3
   },
   "file_extension": ".py",
   "mimetype": "text/x-python",
   "name": "python",
   "nbconvert_exporter": "python",
   "pygments_lexer": "ipython3",
   "version": "3.10.9"
  }
 },
 "nbformat": 4,
 "nbformat_minor": 2
}
