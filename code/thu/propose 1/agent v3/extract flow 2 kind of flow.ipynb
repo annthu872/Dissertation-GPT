{
 "cells": [
  {
   "cell_type": "code",
   "execution_count": 12,
   "metadata": {},
   "outputs": [],
   "source": [
    "from openai import OpenAI\n",
    "import json\n",
    "import os\n",
    "\n",
    "GPT_MODEL_3_5 = \"gpt-3.5-turbo-1106\"\n",
    "GPT_MODEL_4 = \"gpt-4-0125-preview\"\n",
    "\n",
    "OPEN_API_KEY = os.getenv(\"OPENAI_API_KEY\")\n",
    "\n",
    "client = OpenAI()\n",
    "model = GPT_MODEL_4\n",
    "\n",
    "def ask(prompt, client, model, temperature = 0):\n",
    "    response = None\n",
    "    \n",
    "    response = client.chat.completions.create(\n",
    "      model=model,\n",
    "      messages=prompt,\n",
    "      temperature=temperature,\n",
    "      response_format={ \"type\": \"json_object\" },\n",
    "    )\n",
    "\n",
    "    return json.loads(response.choices[0].message.content)"
   ]
  },
  {
   "cell_type": "code",
   "execution_count": 13,
   "metadata": {},
   "outputs": [],
   "source": [
    "usecase_flow=\"\"\"\n",
    "\"\"\""
   ]
  },
  {
   "cell_type": "code",
   "execution_count": 14,
   "metadata": {},
   "outputs": [],
   "source": [
    "flows_name = \"\"\" Flow name:\n",
    "['Main flow', 'Alternative flow 1: Login by email', 'Exception flow 1: Wrong password', 'Exception flow 2: Unregistered username', 'Exception flow 3: Blank username fields', 'Exception flow 3: Blank password fields']\n",
    "    \"\"\""
   ]
  },
  {
   "cell_type": "code",
   "execution_count": 15,
   "metadata": {},
   "outputs": [],
   "source": [
    "SYSTEM_PROMPT_print_no_condition_flow =\"\"\"\n",
    "I want you to work as a software engineering who has profound knowledge about software design and software testing.\n",
    "You will be provided with a use case specification flow and a list of flow names.\n",
    "Extract all the contents of flows which flow names are in the given list of flow names and all the contents of flows which flow names are not in the given list of flow names. \n",
    "Return the flows in json format.\n",
    "{\n",
    "  \"In\":{ \n",
    "  Name of flow:   {contents of flow},\n",
    " }\n",
    " \"Not in\":{ \n",
    "  Name of flow:   {contents of flow},\n",
    "  }\n",
    "}\n",
    "\"\"\""
   ]
  },
  {
   "cell_type": "code",
   "execution_count": 16,
   "metadata": {},
   "outputs": [
    {
     "name": "stdout",
     "output_type": "stream",
     "text": [
      "{'In': {'Main flow': {'Step 1': 'Learner fills in the username field by a valid username that has been registered', 'Step 2': 'Learner fills in the password field by the correct password for the corresponding username', 'Step 3': 'Learner press \"Login\" button', 'Step 4': 'System redirects learner to Home page'}, 'Alternative flow 1: Login by email': {'At step 1 of the basic flow': 'Learner fills in the username field by a valid email that has been registered', 'Step 2': 'Learner fills in the password field by the correct password for the corresponding email', 'Go back to step 3 in the basic flow and continue with the steps from step 3': ''}, 'Exception flow 1: Wrong password': {'At step 2 of the basic flow': 'Learner fills in the password field by a wrong password', 'Go back to step 3 in the basic flow and continue with the steps from step 3': '', 'At step 4 of the basic flow': 'System shows a notification that the password is wrong'}, 'Exception flow 2: Unregistered username': {'At step 1 of the basic flow': 'Learner fills in the username field by a valid username that has not been registered', 'Go back to step 2 in the basic flow and continue with the steps from step 2': '', 'At step 4 of the basic flow': 'System shows a notification that this username is not registered yet'}, 'Exception flow 3: Blank username fields': {'At step 1 of the basic flow': 'Learner does not fill in the username field', 'Go back to step 2 in the basic flow and continue with the steps from step 2': '', 'At step 4 of the basic flow': 'System shows a notification that the username field needs to be filled.'}, 'Exception flow 3: Blank password fields': {'At step 2 of the basic flow': 'Learner does not fill in the password field', 'Go back to step 3 in the basic flow and take only step 3': '', 'At step 4 of the basic flow': 'System shows a notification that the password field needs to be filled.'}}, 'Not in': {}}\n"
     ]
    }
   ],
   "source": [
    "promptExtractCondtition = [\n",
    "    { \"role\": \"system\", \"content\": SYSTEM_PROMPT_print_no_condition_flow},\n",
    "    { \"role\": \"user\", \"content\": usecase_flow + flows_name }\n",
    "  ]\n",
    "\n",
    "gpt_response = ask(promptExtractCondtition, client, model)\n",
    "print(gpt_response)"
   ]
  },
  {
   "cell_type": "code",
   "execution_count": 17,
   "metadata": {},
   "outputs": [],
   "source": [
    "flow_condition = gpt_response[\"In\"]\n",
    "flow_no_condition = gpt_response[\"Not in\"]"
   ]
  },
  {
   "cell_type": "code",
   "execution_count": 18,
   "metadata": {},
   "outputs": [
    {
     "name": "stdout",
     "output_type": "stream",
     "text": [
      "{'Main flow': {'Step 1': 'Learner fills in the username field by a valid username that has been registered', 'Step 2': 'Learner fills in the password field by the correct password for the corresponding username', 'Step 3': 'Learner press \"Login\" button', 'Step 4': 'System redirects learner to Home page'}, 'Alternative flow 1: Login by email': {'At step 1 of the basic flow': 'Learner fills in the username field by a valid email that has been registered', 'Step 2': 'Learner fills in the password field by the correct password for the corresponding email', 'Go back to step 3 in the basic flow and continue with the steps from step 3': ''}, 'Exception flow 1: Wrong password': {'At step 2 of the basic flow': 'Learner fills in the password field by a wrong password', 'Go back to step 3 in the basic flow and continue with the steps from step 3': '', 'At step 4 of the basic flow': 'System shows a notification that the password is wrong'}, 'Exception flow 2: Unregistered username': {'At step 1 of the basic flow': 'Learner fills in the username field by a valid username that has not been registered', 'Go back to step 2 in the basic flow and continue with the steps from step 2': '', 'At step 4 of the basic flow': 'System shows a notification that this username is not registered yet'}, 'Exception flow 3: Blank username fields': {'At step 1 of the basic flow': 'Learner does not fill in the username field', 'Go back to step 2 in the basic flow and continue with the steps from step 2': '', 'At step 4 of the basic flow': 'System shows a notification that the username field needs to be filled.'}, 'Exception flow 3: Blank password fields': {'At step 2 of the basic flow': 'Learner does not fill in the password field', 'Go back to step 3 in the basic flow and take only step 3': '', 'At step 4 of the basic flow': 'System shows a notification that the password field needs to be filled.'}}\n"
     ]
    }
   ],
   "source": [
    "print(flow_condition)"
   ]
  },
  {
   "cell_type": "code",
   "execution_count": 23,
   "metadata": {},
   "outputs": [
    {
     "name": "stdout",
     "output_type": "stream",
     "text": [
      "Main flow\n",
      "Step 1 Learner fills in the username field by a valid username that has been registered\n",
      "Step 2 Learner fills in the password field by the correct password for the corresponding username\n",
      "Step 3 Learner press \"Login\" button\n",
      "Step 4 System redirects learner to Home page\n",
      "Alternative flow 1: Login by email\n",
      "At step 1 of the basic flow Learner fills in the username field by a valid email that has been registered\n",
      "Step 2 Learner fills in the password field by the correct password for the corresponding email\n",
      "Go back to step 3 in the basic flow and continue with the steps from step 3 \n",
      "Exception flow 1: Wrong password\n",
      "At step 2 of the basic flow Learner fills in the password field by a wrong password\n",
      "Go back to step 3 in the basic flow and continue with the steps from step 3 \n",
      "At step 4 of the basic flow System shows a notification that the password is wrong\n",
      "Exception flow 2: Unregistered username\n",
      "At step 1 of the basic flow Learner fills in the username field by a valid username that has not been registered\n",
      "Go back to step 2 in the basic flow and continue with the steps from step 2 \n",
      "At step 4 of the basic flow System shows a notification that this username is not registered yet\n",
      "Exception flow 3: Blank username fields\n",
      "At step 1 of the basic flow Learner does not fill in the username field\n",
      "Go back to step 2 in the basic flow and continue with the steps from step 2 \n",
      "At step 4 of the basic flow System shows a notification that the username field needs to be filled.\n",
      "Exception flow 3: Blank password fields\n",
      "At step 2 of the basic flow Learner does not fill in the password field\n",
      "Go back to step 3 in the basic flow and take only step 3 \n",
      "At step 4 of the basic flow System shows a notification that the password field needs to be filled.\n"
     ]
    }
   ],
   "source": [
    "for key,value in flow_condition.items():\n",
    "    print (key)\n",
    "    for k, v in value.items():\n",
    "        print(k,v)\n"
   ]
  },
  {
   "cell_type": "code",
   "execution_count": 19,
   "metadata": {},
   "outputs": [
    {
     "name": "stdout",
     "output_type": "stream",
     "text": [
      "{}\n"
     ]
    }
   ],
   "source": [
    "print(flow_no_condition)"
   ]
  },
  {
   "cell_type": "code",
   "execution_count": null,
   "metadata": {},
   "outputs": [],
   "source": [
    "for key,value in flow_condition.items():\n",
    "    print (key)\n",
    "    for k, v in value.items():\n",
    "        print(k,v)\n"
   ]
  }
 ],
 "metadata": {
  "kernelspec": {
   "display_name": "Python 3",
   "language": "python",
   "name": "python3"
  },
  "language_info": {
   "codemirror_mode": {
    "name": "ipython",
    "version": 3
   },
   "file_extension": ".py",
   "mimetype": "text/x-python",
   "name": "python",
   "nbconvert_exporter": "python",
   "pygments_lexer": "ipython3",
   "version": "3.10.9"
  }
 },
 "nbformat": 4,
 "nbformat_minor": 2
}
