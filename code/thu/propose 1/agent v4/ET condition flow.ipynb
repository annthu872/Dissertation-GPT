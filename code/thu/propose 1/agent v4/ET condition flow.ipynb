{
 "cells": [
  {
   "cell_type": "code",
   "execution_count": 28,
   "metadata": {},
   "outputs": [],
   "source": [
    "from openai import OpenAI\n",
    "import json\n",
    "import os\n",
    "\n",
    "GPT_MODEL_3_5 = \"gpt-3.5-turbo-1106\"\n",
    "GPT_MODEL_4 = \"gpt-4-0125-preview\"\n",
    "\n",
    "OPEN_API_KEY = os.getenv(\"OPENAI_API_KEY\")\n",
    "\n",
    "client = OpenAI()\n",
    "model = GPT_MODEL_4\n",
    "\n",
    "def ask(prompt, client, model, temperature = 0):\n",
    "    response = None\n",
    "    \n",
    "    response = client.chat.completions.create(\n",
    "      model=model,\n",
    "      messages=prompt,\n",
    "      temperature=temperature,\n",
    "      response_format={ \"type\": \"json_object\" },\n",
    "    )\n",
    "\n",
    "    return json.loads(response.choices[0].message.content)"
   ]
  },
  {
   "cell_type": "code",
   "execution_count": 29,
   "metadata": {},
   "outputs": [],
   "source": [
    "usecase_flow=\"\"\"\n",
    "\n",
    "\"\"\""
   ]
  },
  {
   "cell_type": "code",
   "execution_count": 30,
   "metadata": {},
   "outputs": [],
   "source": [
    "extracted_elements = \"\"\"Elements: \n",
    "\n",
    "\"\"\""
   ]
  },
  {
   "cell_type": "code",
   "execution_count": 31,
   "metadata": {},
   "outputs": [],
   "source": [
    "SYSTEM_PROMPT_gen_test_scenarios =\"\"\"\n",
    "I want you to work as a software engineering who has profound knowledge about software design and software testing.\n",
    "You will be given a use case specification flow and a list of elements extracted from that use case specification flow.\n",
    "Your task is to identify flows that at least one given element is used and mention the sentences where given element is used by user (not system display) in that flow.\n",
    "Return the flows in json format.\n",
    "The JSON format should follow the following structure:\n",
    "{ \"Flow name\":   [\"sentence mention given element in flow\", \"sentence mention given element in flow\"]\n",
    "  }\n",
    "For example: {'Main flow': ['Step 1: Learner fills in the username field by a valid username that has been registered', 'Step 2: Learner fills in the password field by the correct password for the corresponding username'], \n",
    "              'Alternative flow 1: Login by email': ['At step 1 of the basic flow: Learner fills in the username field by a valid email that has been registered', 'Step 2: Learner fills in the password field by the correct password for the corresponding email'], \n",
    "              'Exception flow 1: Wrong password': ['At step 2 of the basic flow: Learner fills in the password field by a wrong password']}\n",
    "\"\"\""
   ]
  },
  {
   "cell_type": "code",
   "execution_count": 32,
   "metadata": {},
   "outputs": [
    {
     "name": "stdout",
     "output_type": "stream",
     "text": [
      "{'Main flow': ['Main flow: Step 1: Learner fills in the username field by a valid username that has been registered', 'Main flow: Step 2: Learner fills in the password field by the correct password for the corresponding username'], 'Alternative flow 1: Login by email': ['Alternative flow 1: Login by email: At step 1 of the basic flow: Learner fills in the username field by a valid email that has been registered', 'Alternative flow 1: Login by email: Step 2: Learner fills in the password field by the correct password for the corresponding email'], 'Exception flow 1: Wrong password': ['Exception flow 1: Wrong password: At step 2 of the basic flow: Learner fills in the password field by a wrong password'], 'Exception flow 2: Unregistered username': ['Exception flow 2: Unregistered username: At step 1 of the basic flow: Learner fills in the username field by a valid username that has not been registered'], 'Exception flow 3: Blank username fields': ['Exception flow 3: Blank username fields: At step 1 of the basic flow: Learner does not fill in the username field'], 'Exception flow 3: Blank password fields': ['Exception flow 3: Blank password fields: At step 2 of the basic flow: Learner does not fill in the password field']}\n"
     ]
    }
   ],
   "source": [
    "promptExtractCondtition = [\n",
    "    { \"role\": \"system\", \"content\": SYSTEM_PROMPT_gen_test_scenarios},\n",
    "    { \"role\": \"user\", \"content\": usecase_flow + extracted_elements }\n",
    "  ]\n",
    "\n",
    "gpt_response = ask(promptExtractCondtition, client, model)\n",
    "print(gpt_response)"
   ]
  },
  {
   "cell_type": "code",
   "execution_count": 35,
   "metadata": {},
   "outputs": [
    {
     "name": "stdout",
     "output_type": "stream",
     "text": [
      "  Main flow\n",
      "Value: ['Main flow: Step 1: Learner fills in the username field by a valid username that has been registered', 'Main flow: Step 2: Learner fills in the password field by the correct password for the corresponding username']\n",
      "  Alternative flow 1: Login by email\n",
      "Value: ['Alternative flow 1: Login by email: At step 1 of the basic flow: Learner fills in the username field by a valid email that has been registered', 'Alternative flow 1: Login by email: Step 2: Learner fills in the password field by the correct password for the corresponding email']\n",
      "  Exception flow 1: Wrong password\n",
      "Value: ['Exception flow 1: Wrong password: At step 2 of the basic flow: Learner fills in the password field by a wrong password']\n",
      "  Exception flow 2: Unregistered username\n",
      "Value: ['Exception flow 2: Unregistered username: At step 1 of the basic flow: Learner fills in the username field by a valid username that has not been registered']\n",
      "  Exception flow 3: Blank username fields\n",
      "Value: ['Exception flow 3: Blank username fields: At step 1 of the basic flow: Learner does not fill in the username field']\n",
      "  Exception flow 3: Blank password fields\n",
      "Value: ['Exception flow 3: Blank password fields: At step 2 of the basic flow: Learner does not fill in the password field']\n"
     ]
    }
   ],
   "source": [
    "filter_flow = []\n",
    "\n",
    "for key, value in gpt_response.items():\n",
    "    print(\" \", key)\n",
    "    print(\"Value:\", value)\n",
    "\n",
    "    if(value != [] ):\n",
    "        filter_flow.append(key)\n",
    "\n"
   ]
  },
  {
   "cell_type": "code",
   "execution_count": 36,
   "metadata": {},
   "outputs": [
    {
     "name": "stdout",
     "output_type": "stream",
     "text": [
      "['Main flow', 'Alternative flow 1: Login by email', 'Exception flow 1: Wrong password', 'Exception flow 2: Unregistered username', 'Exception flow 3: Blank username fields', 'Exception flow 3: Blank password fields']\n"
     ]
    }
   ],
   "source": [
    "print(filter_flow)"
   ]
  }
 ],
 "metadata": {
  "kernelspec": {
   "display_name": "Python 3",
   "language": "python",
   "name": "python3"
  },
  "language_info": {
   "codemirror_mode": {
    "name": "ipython",
    "version": 3
   },
   "file_extension": ".py",
   "mimetype": "text/x-python",
   "name": "python",
   "nbconvert_exporter": "python",
   "pygments_lexer": "ipython3",
   "version": "3.10.9"
  }
 },
 "nbformat": 4,
 "nbformat_minor": 2
}
