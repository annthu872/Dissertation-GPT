{
 "cells": [
  {
   "cell_type": "code",
   "execution_count": 177,
   "metadata": {},
   "outputs": [],
   "source": [
    "from openai import OpenAI\n",
    "import json\n",
    "import os\n",
    "\n",
    "GPT_MODEL_3_5 = \"gpt-3.5-turbo-1106\"\n",
    "GPT_MODEL_4 = \"gpt-4-0125-preview\"\n",
    "\n",
    "OPEN_API_KEY = os.getenv(\"OPENAI_API_KEY\")\n",
    "\n",
    "client = OpenAI()\n",
    "model = GPT_MODEL_4\n",
    "\n",
    "def ask(prompt, client, model, temperature = 0):\n",
    "    response = None\n",
    "    \n",
    "    response = client.chat.completions.create(\n",
    "      model=model,\n",
    "      messages=prompt,\n",
    "      temperature=temperature,\n",
    "      response_format={ \"type\": \"json_object\" },\n",
    "    )\n",
    "\n",
    "    return (response.choices[0].message.content)"
   ]
  },
  {
   "cell_type": "code",
   "execution_count": 178,
   "metadata": {},
   "outputs": [],
   "source": [
    "usecase_flow_conditions=\"\"\"\n",
    "Main flow\n",
    "Step 1 Admin presses the tab \"Lesson Management\" on the navbar.\n",
    "Step 2 The system redirects Admin to the Lesson Management page which show lesson list which admins created.\n",
    "Step 3 Admin presses one Lesson on the Lesson list.\n",
    "Step 4 The system redirects Admin to the \"Lesson Information\" page of selected lesson which show the information of that Lesson and Topic list included in that Lesson.\n",
    "Step 5 Admin presses one Topic on the Topic list of selected Lesson.\n",
    "Step 6 The system redirects Admin to the \"Topic Information\" page of selected topic which show the information of that selected topic and vocabulary word list included in that Topic.\n",
    "Step 7 Admin presses one word on vocabulary word list.\n",
    "Step 8 The system redirects Admin to the \"Word Information\" page of selected word which show the information of that selected word and button \"Add new question\".\n",
    "Step 9 Admin presses button \"Add new question\".\n",
    "Step 10 The system pop up dialog to choose type of question Admin want to create.\n",
    "Step 11 Admin presses option add \"Create questions for the selection test\".\n",
    "Step 12 The system redirects Admin to the \"Add new question for selection test\" page of selected word which show all the fields that admin need to input to create a selection test and button 'Save' and 'Cancel'. These complusary fields are: one textfield \"sentence\" for Admins to input sentence that learner need to fill in blank and the position that the word learner need to fill must present by symbol '...',  a valid sentence must be below 250 characters and not contains any specical character. one textfield 'correct answer' for Admins to input the correct answer word, three textfield 'other option 1', 'other option 2', 'other option 3' for Admins to input the 3 different wrong answer word.\n",
    "Step 13 Admin fills the field \"sentence\" with a complete sentense has a symbol '...', 'correct answer' with the correct word form of the blank in the sentence, 'other option 1', 'other option 2', 'other option 3' with 3 different wrong answer word.\n",
    "Step 14 Admin presses button 'Save' to save the question information.\n",
    "Step 15 System save the question and redirect Admin to the \"Word Information\" page of selected word.\n",
    "Alternative flow 2\n",
    "At step 13 of the basic flow Admin field all the complusary field except field \"sentence\".\n",
    "Step 14 Admin presses button 'Save'.\n",
    "Step 15 System show notification that 'Admin did not fill all the fields', prompt Admin to fill the missing \"sentence\" field.\n",
    "Step 16 Admin re-fill the missing field.\n",
    "Step 17 Admin presses button 'Save'.\n",
    "Alternative flow 3\n",
    "At step 13 of the basic flow Admin field all the complusary field except field 'correct answer'.\n",
    "Step 14 Admin presses button 'Save'.\n",
    "Step 15 System show notification that 'Admin did not fill all the fields', prompt Admin to fill the missing 'correct answer' field.\n",
    "Step 16 Admin re-fill the missing field.\n",
    "Step 17 Admin presses button 'Save'.\n",
    "Alternative flow 4\n",
    "At step 13 of the basic flow Admin field all the complusary field except field 'other option 1'.\n",
    "Step 14 Admin presses button 'Save'.\n",
    "Step 15 System show notification that 'Admin did not fill all the fields', prompt Admin to fill the missing 'other option 1' field.\n",
    "Step 16 Admin re-fill the missing field.\n",
    "Step 17 Admin presses button 'Save'.\n",
    "Alternative flow 5\n",
    "At step 13 of the basic flow Admin field all the complusary field except field 'other option 2'.\n",
    "Step 14 Admin presses button 'Save'.\n",
    "Step 15 System show notification that 'Admin did not fill all the fields', prompt Admin to fill the missing 'other option 2' field.\n",
    "Step 16 Admin re-fill the missing field.\n",
    "Step 17 Admin presses button 'Save'.\n",
    "Alternative flow 6\n",
    "At step 13 of the basic flow Admin field all the complusary field except field 'other option 3'.\n",
    "Step 14 Admin presses button 'Save'.\n",
    "Step 15 System show notification that 'Admin did not fill all the fields', prompt Admin to fill the missing 'other option 3'field.\n",
    "Step 16 Admin re-fill the missing field.\n",
    "Step 17 Admin presses button 'Save'.\n",
    "Alternative flow 8\n",
    "At step 13 of the basic flow Admin fills all the complusary field and Admin fills in the 'sentence' field by an invalid sentence.\n",
    "Step 14 System show notification that 'Sentence is invalid', prompt Admin to re-enter the \"sentence\" field.\n",
    "Step 16 Admin re-enter the missing field.\n",
    "Step 17 Admin presses button 'Save'.\n",
    "\n",
    "\"\"\""
   ]
  },
  {
   "cell_type": "code",
   "execution_count": 179,
   "metadata": {},
   "outputs": [],
   "source": [
    "extracted_elements = \"\"\"Elements and their condition: \n",
    "\n",
    "{'Sentence field': {'valid': \"Complete sentence with a symbol '...', below 250 characters and does not contain any special character\", 'invalid': 'Not a complete sentence, more than 250 characters, contains special characters, or missing', 'type': 'text field'}, 'Correct answer field': {'valid': 'Filled with the correct word form of the blank in the sentence', 'invalid': 'Not filled', 'type': 'text field'}, 'Other option 1 field': {'valid': 'Filled with a different wrong answer word', 'invalid': 'Not filled', 'type': 'text field'}, 'Other option 2 field': {'valid': 'Filled with a different wrong answer word', 'invalid': 'Not filled', 'type': 'text field'}, 'Other option 3 field': {'valid': 'Filled with a different wrong answer word', 'invalid': 'Not filled', 'type': 'text field'}}\n",
    "\n",
    "\"\"\""
   ]
  },
  {
   "cell_type": "code",
   "execution_count": 180,
   "metadata": {},
   "outputs": [],
   "source": [
    "SYSTEM_PROMPT_gen_test_scenarios =\"\"\"\n",
    "Given the provided use case specification and a list of element and their extracted conditions.\n",
    "your task is to generate a comprehensive set of test scenarios that test all the conditions of given elements.\n",
    "The test scenarios generated must have clear conditions descritions and mention conditions is tested but do not need example data. \n",
    "The positive test scenarios generated must verify the combination of valid elements using a minimum number of test scenarios. \n",
    "The negative test scenarios generated must verify only one given invalid condition at a time. If there is no invalid condition, you don't need to write negative test scenario.\n",
    "For cases where the invalid condition does not have a corresponding output description, predict the possible outcome to test.\n",
    "\n",
    "Return the test scenarios generated in json format.\n",
    "The JSON format should follow the following structure:\n",
    "{\n",
    "  \"Positive Test Scenarios\": [{ \"positive test scenario description\": {\"conditions\": conditions tested}}],\n",
    "  \"Negative Test Scenarios\": [{ \"negative test scenario description\": {\"conditions\": conditions tested}}],\n",
    "  }\n",
    "An example of a test scenario: \n",
    "{\n",
    "  \"Positive Test Scenarios\": [{ \"Verify that users can successfully create a new account with valid username and valid passowrd.\": {\"conditions\":  username valid and password valid}}],\n",
    "  \"Negative Test Scenarios\": []\n",
    "  }\n",
    "\"\"\"\n"
   ]
  },
  {
   "cell_type": "code",
   "execution_count": 181,
   "metadata": {},
   "outputs": [],
   "source": [
    "promptExtractCondtition = [\n",
    "    { \"role\": \"system\", \"content\": SYSTEM_PROMPT_gen_test_scenarios},\n",
    "    { \"role\": \"user\", \"content\":usecase_flow_conditions +  extracted_elements }\n",
    "  ]\n",
    "\n",
    "gpt_response = ask(promptExtractCondtition, client, model)\n",
    "print(gpt_response)"
   ]
  },
  {
   "cell_type": "code",
   "execution_count": null,
   "metadata": {},
   "outputs": [],
   "source": [
    "test_scenario = json.loads(gpt_response)"
   ]
  },
  {
   "cell_type": "code",
   "execution_count": null,
   "metadata": {},
   "outputs": [
    {
     "name": "stdout",
     "output_type": "stream",
     "text": [
      "Verify that Admin can successfully create a new question for the selection test with all valid fields\n"
     ]
    }
   ],
   "source": [
    "filter_testscenario = []\n",
    "\n",
    "for key in test_scenario[\"Positive Test Scenarios\"]:\n",
    "    # print(\" \", key)\n",
    "    for k in key:\n",
    "        print(k)\n",
    "        filter_testscenario.append(k)\n"
   ]
  },
  {
   "cell_type": "code",
   "execution_count": null,
   "metadata": {},
   "outputs": [
    {
     "name": "stdout",
     "output_type": "stream",
     "text": [
      "Verify that the system shows a notification when the 'Sentence' field is not filled\n",
      "Verify that the system shows a notification when the 'Sentence' field contains more than 250 characters\n",
      "Verify that the system shows a notification when the 'Sentence' field contains special characters\n",
      "Verify that the system shows a notification when the 'Sentence' field is not a complete sentence\n",
      "Verify that the system shows a notification when the 'Correct answer' field is not filled\n",
      "Verify that the system shows a notification when the 'Other option 1' field is not filled\n",
      "Verify that the system shows a notification when the 'Other option 2' field is not filled\n",
      "Verify that the system shows a notification when the 'Other option 3' field is not filled\n"
     ]
    }
   ],
   "source": [
    "\n",
    "for key in test_scenario[\"Negative Test Scenarios\"]:\n",
    "    # print(\" \", key)\n",
    "    for k in key:\n",
    "        print(k)\n",
    "        filter_testscenario.append(k)\n"
   ]
  },
  {
   "cell_type": "code",
   "execution_count": null,
   "metadata": {},
   "outputs": [
    {
     "name": "stdout",
     "output_type": "stream",
     "text": [
      "Verify that Admin can successfully create a new question for the selection test with all valid fields\n",
      "Verify that the system shows a notification when the 'Sentence' field is not filled\n",
      "Verify that the system shows a notification when the 'Sentence' field contains more than 250 characters\n",
      "Verify that the system shows a notification when the 'Sentence' field contains special characters\n",
      "Verify that the system shows a notification when the 'Sentence' field is not a complete sentence\n",
      "Verify that the system shows a notification when the 'Correct answer' field is not filled\n",
      "Verify that the system shows a notification when the 'Other option 1' field is not filled\n",
      "Verify that the system shows a notification when the 'Other option 2' field is not filled\n",
      "Verify that the system shows a notification when the 'Other option 3' field is not filled\n"
     ]
    }
   ],
   "source": [
    "for i in filter_testscenario:\n",
    "    print(i)"
   ]
  }
 ],
 "metadata": {
  "kernelspec": {
   "display_name": "Python 3",
   "language": "python",
   "name": "python3"
  },
  "language_info": {
   "codemirror_mode": {
    "name": "ipython",
    "version": 3
   },
   "file_extension": ".py",
   "mimetype": "text/x-python",
   "name": "python",
   "nbconvert_exporter": "python",
   "pygments_lexer": "ipython3",
   "version": "3.10.9"
  }
 },
 "nbformat": 4,
 "nbformat_minor": 2
}
